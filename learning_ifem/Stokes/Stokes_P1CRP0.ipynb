{
 "cells": [
  {
   "cell_type": "markdown",
   "metadata": {},
   "source": [
    "# Solving Stokes equation with $(P_{1}^{CR}, P_{0})$"
   ]
  },
  {
   "cell_type": "code",
   "execution_count": 1,
   "metadata": {},
   "outputs": [],
   "source": [
    "from skfem import *\n",
    "import numpy as np\n",
    "from skfem.visuals.matplotlib import draw, plot\n",
    "from skfem.utils import solver_iter_krylov, solver_eigen_scipy, solver_iter_pcg\n",
    "from skfem.helpers import dd, ddot, div, grad\n",
    "from scipy.sparse.linalg import LinearOperator, minres\n",
    "import matplotlib.pyplot as plt\n",
    "from mpl_toolkits.mplot3d import Axes3D\n",
    "from scipy.sparse import bmat\n",
    "import dmsh\n",
    "from skfem.assembly import BilinearForm, LinearForm\n",
    "import scipy.sparse.linalg as spl"
   ]
  },
  {
   "cell_type": "markdown",
   "metadata": {},
   "source": [
    "## Problem description"
   ]
  },
  {
   "cell_type": "markdown",
   "metadata": {},
   "source": [
    "$$\n",
    "\\left\\{\\begin{array}{l}\n",
    "- \\Delta\\boldsymbol{u} + \\nabla p = \\boldsymbol{f} \\ in \\  \\Omega \\\\\n",
    "\\nabla\\cdot\\boldsymbol{u} = 0 \\ in \\  \\Omega \\\\\n",
    "u = 0 \\ on \\ \\partial \\Omega\n",
    "\\end{array}\\right.\n",
    "$$\n",
    "\n",
    "where \n",
    "\n",
    "$$\n",
    "\\left\\{\\begin{array}{l}\n",
    "\\Delta \\mathbf{u}=\\sum_{i=1}^{N} \\frac{\\partial^{2} \\mathbf{u}}{\\partial x_{i} \\partial x_{i}} \\\\\n",
    "\\nabla p=\\left(\\frac{\\partial p}{\\partial x_{1}}, \\frac{\\partial p}{\\partial x_{2}}, \\ldots, \\frac{\\partial p}{\\partial x_{N}}\\right) \\\\\n",
    "\\nabla \\cdot \\mathbf{u}=\\sum_{1}^{N} \\frac{\\partial u_{i}}{\\partial x_{i}}\n",
    "\\end{array}\\right.\n",
    "$$\n",
    "\n",
    "`u` is the velocity vector and `p` is the pressure"
   ]
  },
  {
   "cell_type": "markdown",
   "metadata": {},
   "source": [
    "Testing case in $\\Omega=[0,1] \\times [0,1]$:\n",
    "$$\n",
    "\\left\\{\\begin{array}{l}\n",
    "u1 = 10x^{2}(x - 1)^{2}y(y - 1)(2y - 1) \\\\\n",
    "u2 = -10y^{2}(y - 1)^{2}x(x - 1)(2x - 1) \\\\\n",
    "p = x^{2} - y^{2}\n",
    "\\end{array}\\right.\n",
    "$$"
   ]
  },
  {
   "cell_type": "markdown",
   "metadata": {},
   "source": [
    "$$\n",
    "\\left(\\begin{array}{cc}\n",
    "A & -B \\\\\n",
    "B^{T} & 0\n",
    "\\end{array}\\right)\\left(\\begin{array}{l}\n",
    "U \\\\\n",
    "P\n",
    "\\end{array}\\right)=\\left(\\begin{array}{l}\n",
    "F_{1} \\\\\n",
    "0\n",
    "\\end{array}\\right)\n",
    "$$"
   ]
  },
  {
   "cell_type": "markdown",
   "metadata": {},
   "source": [
    "## Adding $P_{1}^{CR}$ element"
   ]
  },
  {
   "cell_type": "code",
   "execution_count": 2,
   "metadata": {},
   "outputs": [],
   "source": [
    "class ElementTriP1CR(ElementH1):\n",
    "    \n",
    "    facet_dofs = 1\n",
    "    dim = 2\n",
    "    maxdeg = 1\n",
    "    dofnames = ['u']\n",
    "    doflocs = np.array([[.5, 0.], [.5, .5], [0., .5]])\n",
    "    mesh_type = MeshTri\n",
    "\n",
    "    def lbasis(self, X, i):\n",
    "        x, y = X\n",
    "\n",
    "        if i == 0:\n",
    "            phi = 1. - 2. * y\n",
    "            dphi = np.array([0. * x, -2. + 0. * y])\n",
    "            dphi = np.array([0. * x, -2. + 0. * y])\n",
    "        elif i == 1:\n",
    "            phi = 2. * x + 2. * y - 1.\n",
    "            dphi = np.array([2. + 0. * x, 2. + 0. * y])\n",
    "        elif i == 2:\n",
    "            phi = 1. - 2. * x\n",
    "            dphi = np.array([-2. + 0. * x, 0. * x])\n",
    "        else:\n",
    "            self._index_error()\n",
    "        return phi, dphi"
   ]
  },
  {
   "cell_type": "markdown",
   "metadata": {},
   "source": [
    "## Defining forms"
   ]
  },
  {
   "cell_type": "code",
   "execution_count": 57,
   "metadata": {},
   "outputs": [],
   "source": [
    "@BilinearForm\n",
    "def vector_laplace(u, v, w):\n",
    "    '''\n",
    "    a\n",
    "    '''\n",
    "    return ddot(grad(u), grad(v))\n",
    "\n",
    "\n",
    "@BilinearForm\n",
    "def divergence(u, v, w):\n",
    "    '''\n",
    "    b\n",
    "    '''\n",
    "    return div(u) * v\n",
    "\n",
    "\n",
    "@LinearForm\n",
    "def body_force(v, w):\n",
    "    '''\n",
    "    for f.*v\n",
    "    '''\n",
    "    x, y = w.x\n",
    "    f1 = 10 * (12 * x**2 - 12 * x + 2) * y * (y - 1) * (2 * y - 1) + 10 * (\n",
    "        x**2) * ((x - 1)**2) * (12 * y - 6) + 2 * x\n",
    "    f2 = -(10 * (12 * y**2 - 12 * y + 2) * x * (x - 1) * (2 * x - 1) + 10 *\n",
    "           (y**2) * ((y - 1)**2) * (12 * x - 6)) - 2 * y\n",
    "    return f1 * v.value[0] + f2 * v.value[1]\n",
    "\n",
    "\n",
    "@BilinearForm\n",
    "def mass(u, v, w):\n",
    "    '''\n",
    "    c \n",
    "    '''\n",
    "    return u * v * 0"
   ]
  },
  {
   "cell_type": "markdown",
   "metadata": {},
   "source": [
    "## Defining exact value and $L_{2}$ error"
   ]
  },
  {
   "cell_type": "code",
   "execution_count": 58,
   "metadata": {
    "scrolled": true
   },
   "outputs": [],
   "source": [
    "def exactu(x, y):\n",
    "    u1 = 10 * (x**2) * ((x - 1)**2) * y * (y - 1) * (2 * y - 1)\n",
    "    u2 = -10 * (y**2) * ((y - 1)**2) * x * (x - 1) * (2 * x - 1)\n",
    "    return -u1, -u2\n",
    "\n",
    "\n",
    "@Functional\n",
    "def L2Error_u(w):\n",
    "    x, y = w.x\n",
    "    u1, u2 = exactu(x, y)\n",
    "    #     print((w.w[0] - u1)**2)\n",
    "    #     print((w.w[1] - u2)**2)\n",
    "    return (w.w[0] - u1)**2 + (w.w[1] - u2)**2\n",
    "\n",
    "\n",
    "def exactp(x, y):\n",
    "    return x**2 - y**2\n",
    "\n",
    "\n",
    "@Functional\n",
    "def L2Error_p(w):\n",
    "    x, y = w.x\n",
    "    return (w.w - exactp(x, y))**2"
   ]
  },
  {
   "cell_type": "markdown",
   "metadata": {},
   "source": [
    "## Caculating error and convergence rate\n",
    "> result: $h^{2}$ for `L2u` and $h^{1}$ for `L2p`"
   ]
  },
  {
   "cell_type": "markdown",
   "metadata": {},
   "source": [
    "### CG (default)"
   ]
  },
  {
   "cell_type": "code",
   "execution_count": 59,
   "metadata": {},
   "outputs": [
    {
     "name": "stdout",
     "output_type": "stream",
     "text": [
      "no M\n",
      "no M\n",
      "2^-2 case\n",
      "L2u Error: 0.04205702226255656\n",
      "L2p Error 0.25871442184719207\n",
      "L2u rate 0.18787310551496966\n",
      "L2p rate 0.7046410684729818\n",
      "no M\n",
      "2^-3 case\n",
      "L2u Error: 0.015225982755278438\n",
      "L2p Error 0.1361463360074846\n",
      "L2u rate 1.465811358096462\n",
      "L2p rate 0.9262023213908652\n",
      "no M\n",
      "2^-4 case\n",
      "L2u Error: 0.0045602098827806775\n",
      "L2p Error 0.06566564337217475\n",
      "L2u rate 1.7393632185489305\n",
      "L2p rate 1.051947509828008\n",
      "no M\n",
      "2^-5 case\n",
      "L2u Error: 0.0012231937630544439\n",
      "L2p Error 0.03132144722358981\n",
      "L2u rate 1.8984472700102257\n",
      "L2p rate 1.0679878672820877\n"
     ]
    }
   ],
   "source": [
    "formerL2p = 1\n",
    "currentL2p = 1\n",
    "formerL2u = 1\n",
    "currentL2u = 1\n",
    "for i in range(5):\n",
    "    mesh = MeshTri()\n",
    "    mesh.refine(i)\n",
    "    element = {'u': ElementVectorH1(ElementTriP1CR()), 'p': ElementTriP0()}\n",
    "    basis = {\n",
    "        variable: InteriorBasis(mesh, e, intorder=4)\n",
    "        for variable, e in element.items()\n",
    "    }  # intorder: integration order for quadrature\n",
    "\n",
    "    A = asm(vector_laplace, basis['u'])\n",
    "    B = asm(divergence, basis['u'], basis['p'])\n",
    "    C = asm(mass, basis['p'])\n",
    "\n",
    "    K = bmat([[A, -B.T], [-B, 1e-6 * C]],\n",
    "             'csr')  # get the sparse format of the result by 'csr'\n",
    "    f = np.concatenate([asm(body_force, basis['u']), np.zeros(B.shape[0])])\n",
    "\n",
    "    up = solve(*condense(K, f, D=basis['u'].find_dofs()), solver=solver_iter_krylov(spl.cg))\n",
    "\n",
    "    uh, ph = np.split(up, [A.shape[0]])\n",
    "    # p = exactp(basis['p'].doflocs[0], basis['p'].doflocs[1])\n",
    "    # print((np.sqrt(np.sum((p-ph)**2)))/len(ph))\n",
    "    P = basis['p'].interpolate(ph).value\n",
    "    L2p = np.sqrt(L2Error_p.assemble(basis['p'], w=P))\n",
    "    U = basis['u'].interpolate(uh).value\n",
    "    L2u = np.sqrt(L2Error_u.assemble(basis['u'], w=U))\n",
    "    currentL2p = L2p\n",
    "    currentL2u = L2u\n",
    "    if i != 0:\n",
    "        print('2^-' + str(i + 1) + ' case')\n",
    "        print('L2u Error:', L2u)\n",
    "        print('L2p Error', L2p)\n",
    "        print('L2u rate', -np.log2(currentL2u / formerL2u))\n",
    "        print('L2p rate', -np.log2(currentL2p / formerL2p))\n",
    "    formerL2p = L2p\n",
    "    formerL2u = L2u"
   ]
  },
  {
   "cell_type": "code",
   "execution_count": 71,
   "metadata": {},
   "outputs": [
    {
     "data": {
      "text/plain": [
       "<matplotlib.axes._subplots.AxesSubplot at 0x1da0b6fad48>"
      ]
     },
     "execution_count": 71,
     "metadata": {},
     "output_type": "execute_result"
    },
    {
     "data": {
      "image/png": "[encoded data removed]",
      "text/plain": [
       "<Figure size 432x288 with 1 Axes>"
      ]
     },
     "metadata": {
      "needs_background": "light"
     },
     "output_type": "display_data"
    }
   ],
   "source": [
    "mesh = MeshTri.init_symmetric()\n",
    "mesh.refine(2)\n",
    "draw(mesh)"
   ]
  },
  {
   "cell_type": "code",
   "execution_count": 60,
   "metadata": {},
   "outputs": [],
   "source": [
    "from scipy import sparse\n",
    "from scipy.sparse import csr_matrix"
   ]
  },
  {
   "cell_type": "code",
   "execution_count": 61,
   "metadata": {},
   "outputs": [
    {
     "data": {
      "text/plain": [
       "matrix([[0., 0., 0., ..., 0., 0., 0.],\n",
       "        [0., 0., 0., ..., 0., 0., 0.],\n",
       "        [0., 0., 0., ..., 0., 0., 0.],\n",
       "        ...,\n",
       "        [0., 0., 0., ..., 0., 0., 0.],\n",
       "        [0., 0., 0., ..., 0., 0., 0.],\n",
       "        [0., 0., 0., ..., 0., 0., 0.]])"
      ]
     },
     "execution_count": 61,
     "metadata": {},
     "output_type": "execute_result"
    }
   ],
   "source": [
    "C.todense()"
   ]
  },
  {
   "cell_type": "markdown",
   "metadata": {},
   "source": [
    "## MINRES"
   ]
  },
  {
   "cell_type": "code",
   "execution_count": 73,
   "metadata": {},
   "outputs": [
    {
     "name": "stdout",
     "output_type": "stream",
     "text": [
      "no M\n",
      "no M\n",
      "2^-2 case\n",
      "L2u Error: 0.022877238702708122\n",
      "L2p Error 0.19105843730891744\n",
      "L2u rate 0.9693896033643069\n",
      "L2p rate 0.6306275386862156\n",
      "no M\n",
      "2^-3 case\n",
      "L2u Error: 0.0068406344389789\n",
      "L2p Error 0.08433594487021008\n",
      "L2u rate 1.7417108883181247\n",
      "L2p rate 1.1797944105724318\n",
      "no M\n",
      "2^-4 case\n",
      "L2u Error: 0.0019121036322098553\n",
      "L2p Error 0.039873995166882906\n",
      "L2u rate 1.8389694183463914\n",
      "L2p rate 1.080699490985971\n",
      "no M\n",
      "2^-5 case\n",
      "L2u Error: 0.0004969349046194078\n",
      "L2p Error 0.019221545698984818\n",
      "L2u rate 1.94403193143341\n",
      "L2p rate 1.0527238081380013\n"
     ]
    }
   ],
   "source": [
    "formerL2p = 1\n",
    "currentL2p = 1\n",
    "formerL2u = 1\n",
    "currentL2u = 1\n",
    "for i in range(5):\n",
    "    # mesh = MeshTri()\n",
    "    mesh = MeshTri.init_symmetric()\n",
    "    mesh.refine(i)\n",
    "    element = {'u': ElementVectorH1(ElementTriP1CR()), 'p': ElementTriP0()}\n",
    "    basis = {\n",
    "        variable: InteriorBasis(mesh, e, intorder=4)\n",
    "        for variable, e in element.items()\n",
    "    }  # intorder: integration order for quadrature\n",
    "\n",
    "    A = asm(vector_laplace, basis['u'])\n",
    "    B = asm(divergence, basis['u'], basis['p'])\n",
    "    C = asm(mass, basis['p'])\n",
    "\n",
    "    K = bmat([[A, -B.T], [-B, 1e-6 * C]],\n",
    "             'csr')  # get the sparse format of the result by 'csr'\n",
    "    f = np.concatenate([asm(body_force, basis['u']), np.zeros(B.shape[0])])\n",
    "\n",
    "    up = solve(*condense(K, f, D=basis['u'].find_dofs()), solver=solver_iter_krylov(spl.minres, tol=1e-11, show=False))\n",
    "\n",
    "    uh, ph = np.split(up, [A.shape[0]])\n",
    "    # p = exactp(basis['p'].doflocs[0], basis['p'].doflocs[1])\n",
    "    # print((np.sqrt(np.sum((p-ph)**2)))/len(ph))\n",
    "    P = basis['p'].interpolate(ph).value\n",
    "    L2p = np.sqrt(L2Error_p.assemble(basis['p'], w=P))\n",
    "    U = basis['u'].interpolate(uh).value\n",
    "    L2u = np.sqrt(L2Error_u.assemble(basis['u'], w=U))\n",
    "    currentL2p = L2p\n",
    "    currentL2u = L2u\n",
    "    if i != 0:\n",
    "        print('2^-' + str(i + 1) + ' case')\n",
    "        print('L2u Error:', L2u)\n",
    "        print('L2p Error', L2p)\n",
    "        print('L2u rate', -np.log2(currentL2u / formerL2u))\n",
    "        print('L2p rate', -np.log2(currentL2p / formerL2p))\n",
    "    formerL2p = L2p\n",
    "    formerL2u = L2u"
   ]
  },
  {
   "cell_type": "markdown",
   "metadata": {},
   "source": [
    "doesn't converge after swiching to minres"
   ]
  }
 ],
 "metadata": {
  "kernelspec": {
   "display_name": "Python 3",
   "language": "python",
   "name": "python3"
  },
  "language_info": {
   "codemirror_mode": {
    "name": "ipython",
    "version": 3
   },
   "file_extension": ".py",
   "mimetype": "text/x-python",
   "name": "python",
   "nbconvert_exporter": "python",
   "pygments_lexer": "ipython3",
   "version": "3.7.4"
  },
  "toc": {
   "base_numbering": 1,
   "nav_menu": {},
   "number_sections": true,
   "sideBar": true,
   "skip_h1_title": false,
   "title_cell": "Table of Contents",
   "title_sidebar": "Contents",
   "toc_cell": false,
   "toc_position": {
    "height": "calc(100% - 180px)",
    "left": "10px",
    "top": "150px",
    "width": "249.389px"
   },
   "toc_section_display": true,
   "toc_window_display": false
  },
  "varInspector": {
   "cols": {
    "lenName": 16,
    "lenType": 16,
    "lenVar": 40
   },
   "kernels_config": {
    "python": {
     "delete_cmd_postfix": "",
     "delete_cmd_prefix": "del ",
     "library": "var_list.py",
     "varRefreshCmd": "print(var_dic_list())"
    },
    "r": {
     "delete_cmd_postfix": ") ",
     "delete_cmd_prefix": "rm(",
     "library": "var_list.r",
     "varRefreshCmd": "cat(var_dic_list()) "
    }
   },
   "types_to_exclude": [
    "module",
    "function",
    "builtin_function_or_method",
    "instance",
    "_Feature"
   ],
   "window_display": false
  }
 },
 "nbformat": 4,
 "nbformat_minor": 2
}
