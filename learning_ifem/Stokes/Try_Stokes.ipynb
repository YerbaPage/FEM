{
 "cells": [
  {
   "cell_type": "code",
   "execution_count": 1,
   "metadata": {},
   "outputs": [],
   "source": [
    "from skfem import *\n",
    "import numpy as np\n",
    "from skfem.visuals.matplotlib import draw, plot\n",
    "from skfem.utils import solver_iter_krylov, solver_eigen_scipy, solver_iter_pcg\n",
    "from skfem.helpers import dd, ddot, div, grad\n",
    "from scipy.sparse.linalg import LinearOperator, minres\n",
    "import matplotlib.pyplot as plt\n",
    "from mpl_toolkits.mplot3d import Axes3D\n",
    "from scipy.sparse import bmat\n",
    "import dmsh\n",
    "from skfem.assembly import BilinearForm, LinearForm\n",
    "plt.rcParams['figure.dpi'] = 100"
   ]
  },
  {
   "cell_type": "markdown",
   "metadata": {},
   "source": [
    "## Begin equation"
   ]
  },
  {
   "cell_type": "markdown",
   "metadata": {},
   "source": [
    "$$\n",
    "- \\Delta\\boldsymbol{u} + \\nabla p = \\boldsymbol{f} \\ in \\  \\Omega\n",
    "$$\n",
    "\n",
    "$$\n",
    "\\nabla\\cdot\\boldsymbol{u} = 0 \\ in \\  \\Omega\n",
    "$$\n",
    "\n",
    "$$\n",
    "u = 0 \\ on \\ \\partial \\Omega\n",
    "$$\n",
    "where \n",
    "\n",
    "$$\n",
    "\\left\\{\\begin{array}{l}\n",
    "\\Delta \\mathbf{u}=\\sum_{i=1}^{N} \\frac{\\partial^{2} \\mathbf{u}}{\\partial x_{i} \\partial x_{i}} \\\\\n",
    "\\nabla p=\\left(\\frac{\\partial p}{\\partial x_{1}}, \\frac{\\partial p}{\\partial x_{2}}, \\ldots, \\frac{\\partial p}{\\partial x_{N}}\\right) \\\\\n",
    "\\nabla \\cdot \\mathbf{u}=\\sum_{1}^{N} \\frac{\\partial u_{i}}{\\partial x_{i}}\n",
    "\\end{array}\\right.\n",
    "$$\n",
    "\n",
    "`u` is the velocity vector and `p` is the pressure"
   ]
  },
  {
   "cell_type": "markdown",
   "metadata": {},
   "source": [
    "`basis.find_dofs()` almost equals to `m.boundary_nodes()`"
   ]
  },
  {
   "cell_type": "markdown",
   "metadata": {},
   "source": [
    "$$\n",
    "\\left(\\begin{array}{cc}\n",
    "A & -B \\\\\n",
    "B^{T} & 0\n",
    "\\end{array}\\right)\\left(\\begin{array}{l}\n",
    "U \\\\\n",
    "P\n",
    "\\end{array}\\right)=\\left(\\begin{array}{l}\n",
    "F_{1} \\\\\n",
    "0\n",
    "\\end{array}\\right)\n",
    "$$"
   ]
  },
  {
   "cell_type": "markdown",
   "metadata": {},
   "source": [
    "## $(P_2,P_1)$ Taylor-Hood element: Optimal convergent rate"
   ]
  },
  {
   "cell_type": "code",
   "execution_count": 21,
   "metadata": {},
   "outputs": [
    {
     "data": {
      "text/plain": [
       "<matplotlib.axes._subplots.AxesSubplot at 0x1685a280d08>"
      ]
     },
     "execution_count": 21,
     "metadata": {},
     "output_type": "execute_result"
    },
    {
     "data": {
      "image/png": "[encoded data removed]",
      "text/plain": [
       "<Figure size 600x400 with 1 Axes>"
      ]
     },
     "metadata": {
      "needs_background": "light"
     },
     "output_type": "display_data"
    }
   ],
   "source": [
    "# mesh = MeshTri(*map(np.transpose, dmsh.generate(dmsh.Circle([0., 0.], 1.), .7))) \n",
    "\n",
    "mesh = MeshTri()\n",
    "mesh.refine(2)\n",
    "\n",
    "element = {'u': ElementVectorH1(ElementTriP2()),\n",
    "           'p': ElementTriP0()}\n",
    "basis = {variable: InteriorBasis(mesh, e, intorder=4) \n",
    "         for variable, e in element.items()} # intorder: integration order for quadrature\n",
    "\n",
    "draw(mesh)"
   ]
  },
  {
   "cell_type": "code",
   "execution_count": 2,
   "metadata": {},
   "outputs": [],
   "source": [
    "@BilinearForm\n",
    "def vector_laplace(u, v, w):\n",
    "    '''\n",
    "    a\n",
    "    '''\n",
    "    return ddot(grad(u), grad(v))\n",
    "\n",
    "\n",
    "@BilinearForm\n",
    "def divergence(u, v, w):\n",
    "    '''\n",
    "    b\n",
    "    '''\n",
    "    return div(u) * v\n",
    "\n",
    "\n",
    "@LinearForm\n",
    "def body_force(v, w):\n",
    "    '''\n",
    "    for f.*v\n",
    "    '''\n",
    "    x, y = w.x\n",
    "    # print(x==w.x[0])\n",
    "    # print(y==w.x[1])\n",
    "\n",
    "    f1 = 10 * (12 * x**2 - 12 * x + 2) * y * (y - 1) * (2 * y - 1) + 10 * (x**2) * ((x - 1)**2) * (12 * y - 6) + 2 * x\n",
    "    f2 = -(10 * (12 * y**2 - 12 * y + 2) * x * (x - 1) * (2 * x - 1) + 10 * (y**2) * ((y - 1)**2) * (12 * x - 6)) - 2 * y\n",
    "    # print(f1.shape)\n",
    "    # print(v.value[1].shape)\n",
    "    # return np.array([[f1 * v.value[0]], [f2 * v.value[1]]])\n",
    "    return f1 * v.value[0] + f2 * v.value[1]\n",
    "\n",
    "\n",
    "@BilinearForm\n",
    "def mass(u, v, w):\n",
    "    return u * v"
   ]
  },
  {
   "cell_type": "code",
   "execution_count": 23,
   "metadata": {},
   "outputs": [],
   "source": [
    "A = asm(vector_laplace, basis['u'])\n",
    "B = asm(divergence, basis['u'], basis['p'])\n",
    "C = asm(mass, basis['p'])\n",
    "\n",
    "K = bmat([[A, -B.T],\n",
    "          [-B, 1e-6 * C]], 'csr') # get the sparse format of the result by 'csr'\n",
    "f = np.concatenate([asm(body_force, basis['u']),\n",
    "                    np.zeros(B.shape[0])])"
   ]
  },
  {
   "cell_type": "code",
   "execution_count": 24,
   "metadata": {},
   "outputs": [
    {
     "data": {
      "text/plain": [
       "(162, 162)"
      ]
     },
     "execution_count": 24,
     "metadata": {},
     "output_type": "execute_result"
    }
   ],
   "source": [
    "A.shape"
   ]
  },
  {
   "cell_type": "code",
   "execution_count": 25,
   "metadata": {},
   "outputs": [
    {
     "data": {
      "text/plain": [
       "(25, 162)"
      ]
     },
     "execution_count": 25,
     "metadata": {},
     "output_type": "execute_result"
    }
   ],
   "source": [
    "B.shape"
   ]
  },
  {
   "cell_type": "code",
   "execution_count": 26,
   "metadata": {},
   "outputs": [
    {
     "name": "stdout",
     "output_type": "stream",
     "text": [
      "Wall time: 9.78 ms\n"
     ]
    }
   ],
   "source": [
    "%%time\n",
    "up = solve(*condense(K, f, D=basis['u'].find_dofs()), solver=solver_iter_pcg())"
   ]
  },
  {
   "cell_type": "code",
   "execution_count": 27,
   "metadata": {},
   "outputs": [],
   "source": [
    "u, p = np.split(up, [A.shape[0]])\n",
    "U = basis['u'].interpolate(u)\n",
    "\n",
    "# uh = U.value\n",
    "# uh.shape\n",
    "# x = basis['u'].global_coordinates().value\n",
    "# x.shape"
   ]
  },
  {
   "cell_type": "code",
   "execution_count": 28,
   "metadata": {},
   "outputs": [
    {
     "data": {
      "text/plain": [
       "(162,)"
      ]
     },
     "execution_count": 28,
     "metadata": {},
     "output_type": "execute_result"
    }
   ],
   "source": [
    "u.shape"
   ]
  },
  {
   "cell_type": "code",
   "execution_count": 29,
   "metadata": {},
   "outputs": [
    {
     "data": {
      "text/plain": [
       "(25,)"
      ]
     },
     "execution_count": 29,
     "metadata": {},
     "output_type": "execute_result"
    }
   ],
   "source": [
    "p.shape"
   ]
  },
  {
   "cell_type": "markdown",
   "metadata": {},
   "source": [
    "## Error estimating"
   ]
  },
  {
   "cell_type": "markdown",
   "metadata": {},
   "source": [
    "### $L2$ error of $p$"
   ]
  },
  {
   "cell_type": "code",
   "execution_count": 3,
   "metadata": {},
   "outputs": [],
   "source": [
    "def exactp(x, y):\n",
    "    return x**2 - y**2\n",
    "\n",
    "@Functional\n",
    "def L2Error_p(w):\n",
    "    x, y = w.x\n",
    "    return (w.w - exactp(x,y))**2"
   ]
  },
  {
   "cell_type": "code",
   "execution_count": 15,
   "metadata": {},
   "outputs": [],
   "source": [
    "# basis['p'].doflocs\n",
    "\n",
    "# ph.shape\n",
    "# p.shape\n",
    "\n",
    "# (np.sqrt(np.sum((p-ph)**2)))/len(ph)"
   ]
  },
  {
   "cell_type": "code",
   "execution_count": 34,
   "metadata": {
    "collapsed": true
   },
   "outputs": [
    {
     "data": {
      "text/plain": [
       "DiscreteField(value=array([[ 3.03443924e-07,  3.03443924e-07,  3.03443924e-07,\n",
       "         3.03443924e-07,  3.03443924e-07,  3.03443924e-07],\n",
       "       [ 9.67285536e-01,  9.67285536e-01,  9.67285536e-01,\n",
       "         9.67285536e-01,  9.67285536e-01,  9.67285536e-01],\n",
       "       [ 9.49884352e-01,  9.49884352e-01,  9.49884352e-01,\n",
       "         9.49884352e-01,  9.49884352e-01,  9.49884352e-01],\n",
       "       ...,\n",
       "       [-8.45322458e-07, -8.45322458e-07, -8.45322458e-07,\n",
       "        -8.45322458e-07, -8.45322458e-07, -8.45322458e-07],\n",
       "       [-1.00085249e-06, -1.00085249e-06, -1.00085249e-06,\n",
       "        -1.00085249e-06, -1.00085249e-06, -1.00085249e-06],\n",
       "       [ 6.07224334e-07,  6.07224334e-07,  6.07224334e-07,\n",
       "         6.07224334e-07,  6.07224334e-07,  6.07224334e-07]]), grad=array([[[0., 0., 0., 0., 0., 0.],\n",
       "        [0., 0., 0., 0., 0., 0.],\n",
       "        [0., 0., 0., 0., 0., 0.],\n",
       "        ...,\n",
       "        [0., 0., 0., 0., 0., 0.],\n",
       "        [0., 0., 0., 0., 0., 0.],\n",
       "        [0., 0., 0., 0., 0., 0.]],\n",
       "\n",
       "       [[0., 0., 0., 0., 0., 0.],\n",
       "        [0., 0., 0., 0., 0., 0.],\n",
       "        [0., 0., 0., 0., 0., 0.],\n",
       "        ...,\n",
       "        [0., 0., 0., 0., 0., 0.],\n",
       "        [0., 0., 0., 0., 0., 0.],\n",
       "        [0., 0., 0., 0., 0., 0.]]]), div=None, curl=None, hess=None, hod=[])"
      ]
     },
     "execution_count": 34,
     "metadata": {},
     "output_type": "execute_result"
    }
   ],
   "source": [
    "basis['p'].interpolate(ph)"
   ]
  },
  {
   "cell_type": "code",
   "execution_count": 33,
   "metadata": {
    "code_folding": []
   },
   "outputs": [
    {
     "name": "stdout",
     "output_type": "stream",
     "text": [
      "2^-1 case\n",
      "L2p 0.4216370213557847\n",
      "2^-2 case\n",
      "L2p 0.2280234998836702\n",
      "rate 0.8868190319002364\n",
      "2^-3 case\n",
      "L2p 0.11518309477442656\n",
      "rate 0.9852535243856813\n",
      "2^-4 case\n",
      "L2p 0.05713921961991817\n",
      "rate 1.011375752552701\n",
      "2^-5 case\n",
      "L2p 0.028372735239650754\n",
      "rate 1.0099760941624065\n",
      "2^-6 case\n",
      "L2p 0.014136382988075671\n",
      "rate 1.0050922070537345\n"
     ]
    }
   ],
   "source": [
    "formerL2p = 1\n",
    "currentL2p = 1\n",
    "for i in range(6):\n",
    "    mesh = MeshTri()\n",
    "    mesh.refine(i)\n",
    "    element = {'u': ElementVectorH1(ElementTriP2()),\n",
    "               'p': ElementTriP0()}\n",
    "    basis = {variable: InteriorBasis(mesh, e, intorder=4) \n",
    "             for variable, e in element.items()} # intorder: integration order for quadrature\n",
    "\n",
    "    A = asm(vector_laplace, basis['u'])\n",
    "    B = asm(divergence, basis['u'], basis['p'])\n",
    "    C = asm(mass, basis['p'])\n",
    "\n",
    "    K = bmat([[A, -B.T],\n",
    "              [-B, 1e-6 * C]], 'csr') # get the sparse format of the result by 'csr'\n",
    "    f = np.concatenate([asm(body_force, basis['u']),\n",
    "                        np.zeros(B.shape[0])])\n",
    "\n",
    "    up = solve(*condense(K, f, D=basis['u'].find_dofs()), solver=solver_iter_pcg())\n",
    "\n",
    "    uh, ph = np.split(up, [A.shape[0]])\n",
    "#     p = exactp(basis['p'].doflocs[0], basis['p'].doflocs[1])\n",
    "#     print((np.sqrt(np.sum((p-ph)**2)))/len(ph))\n",
    "    P = basis['p'].interpolate(ph).value\n",
    "    L2p = np.sqrt(L2Error_p.assemble(basis['p'], w=P))\n",
    "    print('2^-'+str(i+1)+' case')\n",
    "    print('L2p', L2p)\n",
    "    currentL2p = L2p\n",
    "    if i!= 0:\n",
    "        print('rate', -np.log2(currentL2p/formerL2p))\n",
    "    formerL2p = L2p"
   ]
  },
  {
   "cell_type": "markdown",
   "metadata": {},
   "source": [
    "### Visualizing $p$ and $ph$"
   ]
  },
  {
   "cell_type": "markdown",
   "metadata": {},
   "source": [
    "### Trying `P1CR`"
   ]
  },
  {
   "cell_type": "code",
   "execution_count": 22,
   "metadata": {},
   "outputs": [],
   "source": [
    "class ElementTriP1CR(ElementHdiv):\n",
    "\n",
    "    nodal_dofs = 1\n",
    "    dim = 2\n",
    "    maxdeg = 1\n",
    "    dofnames = ['u']\n",
    "    doflocs = np.array([[0., 0.5],\n",
    "                        [0.5, 0.],\n",
    "                        [0.5, 0.5]])\n",
    "    mesh_type = MeshTri\n",
    "\n",
    "    def lbasis(self, X, i):\n",
    "        x, y = X\n",
    "\n",
    "        if i == 0:\n",
    "            phi = 1. - 2. * x\n",
    "            dphi = np.array([-2. + 0. * x, 0. * x])\n",
    "        elif i == 1:\n",
    "            phi = 1. - 2. * y\n",
    "            dphi = np.array([ 0. * x, -2. + 0. * y])\n",
    "        elif i == 2:\n",
    "            phi = 2. * x + 2. * y - 1.\n",
    "            dphi = np.array([2. + 0. * x, 2. + 0. * y])\n",
    "        else:\n",
    "            self._index_error()\n",
    "\n",
    "        return phi, dphi"
   ]
  },
  {
   "cell_type": "code",
   "execution_count": 24,
   "metadata": {},
   "outputs": [
    {
     "name": "stdout",
     "output_type": "stream",
     "text": [
      "L2p 0.014136382988075671\n"
     ]
    }
   ],
   "source": [
    "mesh = MeshTri()\n",
    "mesh.refine(5)\n",
    "element = {'u': ElementVectorH1(ElementTriP2()),\n",
    "           'p': ElementTriP0()}\n",
    "basis = {variable: InteriorBasis(mesh, e, intorder=4) \n",
    "         for variable, e in element.items()} # intorder: integration order for quadrature\n",
    "\n",
    "A = asm(vector_laplace, basis['u'])\n",
    "B = asm(divergence, basis['u'], basis['p'])\n",
    "C = asm(mass, basis['p'])\n",
    "\n",
    "K = bmat([[A, -B.T],\n",
    "          [-B, 1e-6 * C]], 'csr') # get the sparse format of the result by 'csr'\n",
    "f = np.concatenate([asm(body_force, basis['u']),\n",
    "                    np.zeros(B.shape[0])])\n",
    "\n",
    "up = solve(*condense(K, f, D=basis['u'].find_dofs()), solver=solver_iter_pcg())\n",
    "\n",
    "uh, ph = np.split(up, [A.shape[0]])\n",
    "P = basis['p'].interpolate(ph).value\n",
    "L2p = np.sqrt(L2Error_p.assemble(basis['p'], w=P))\n",
    "print('L2p', L2p)"
   ]
  },
  {
   "cell_type": "code",
   "execution_count": 25,
   "metadata": {
    "scrolled": false
   },
   "outputs": [
    {
     "data": {
      "text/plain": [
       "<matplotlib.axes._subplots.AxesSubplot at 0x2b209aff948>"
      ]
     },
     "execution_count": 25,
     "metadata": {},
     "output_type": "execute_result"
    },
    {
     "data": {
      "image/png": "[encoded data removed]",
      "text/plain": [
       "<Figure size 432x288 with 2 Axes>"
      ]
     },
     "metadata": {
      "needs_background": "light"
     },
     "output_type": "display_data"
    }
   ],
   "source": [
    "plot(basis['p'], ph, colorbar=True)"
   ]
  },
  {
   "cell_type": "code",
   "execution_count": 26,
   "metadata": {},
   "outputs": [
    {
     "data": {
      "text/plain": [
       "<matplotlib.axes._subplots.AxesSubplot at 0x2b213976148>"
      ]
     },
     "execution_count": 26,
     "metadata": {},
     "output_type": "execute_result"
    },
    {
     "data": {
      "image/png": "[encoded data removed]",
      "text/plain": [
       "<Figure size 432x288 with 2 Axes>"
      ]
     },
     "metadata": {
      "needs_background": "light"
     },
     "output_type": "display_data"
    }
   ],
   "source": [
    "p = exactp(basis['p'].doflocs[0], basis['p'].doflocs[1])\n",
    "plot(basis['p'], p, colorbar=True)"
   ]
  },
  {
   "cell_type": "code",
   "execution_count": 27,
   "metadata": {},
   "outputs": [
    {
     "data": {
      "text/plain": [
       "<matplotlib.axes._subplots.AxesSubplot at 0x2b213f8b7c8>"
      ]
     },
     "execution_count": 27,
     "metadata": {},
     "output_type": "execute_result"
    },
    {
     "data": {
      "image/png": "[encoded data removed]",
      "text/plain": [
       "<Figure size 432x288 with 1 Axes>"
      ]
     },
     "metadata": {
      "needs_background": "light"
     },
     "output_type": "display_data"
    },
    {
     "data": {
      "image/png": "[encoded data removed]",
      "text/plain": [
       "<Figure size 432x288 with 2 Axes>"
      ]
     },
     "metadata": {
      "needs_background": "light"
     },
     "output_type": "display_data"
    }
   ],
   "source": [
    "draw(mesh)\n",
    "plot(basis['p'], p-ph, colorbar=True)"
   ]
  },
  {
   "cell_type": "markdown",
   "metadata": {},
   "source": [
    "### u"
   ]
  },
  {
   "cell_type": "code",
   "execution_count": 52,
   "metadata": {
    "scrolled": true
   },
   "outputs": [],
   "source": [
    "def exactu(x, y):\n",
    "    u1 = 10*(x**2)*((x-1)**2)*y*(y-1)*(2*y-1)\n",
    "    u2 = -10*(y**2)*((y-1)**2)*x*(x-1)*(2*x-1)\n",
    "    return u1, u2\n",
    "\n",
    "@Functional\n",
    "def L2Error_u(w):\n",
    "    x, y = w.x\n",
    "    u1, u2 = exactu(x, y)\n",
    "#     print((w.w[0] - u1)**2)\n",
    "#     print((w.w[1] - u2)**2)\n",
    "    return (w.w[0] - u1)**2 + (w.w[1] - u2)**2"
   ]
  },
  {
   "cell_type": "code",
   "execution_count": 59,
   "metadata": {},
   "outputs": [
    {
     "name": "stdout",
     "output_type": "stream",
     "text": [
      "L2 Error: 0.07074346366960212\n"
     ]
    },
    {
     "data": {
      "text/plain": [
       "<matplotlib.axes._subplots.AxesSubplot at 0x23acb3be1c8>"
      ]
     },
     "execution_count": 59,
     "metadata": {},
     "output_type": "execute_result"
    },
    {
     "data": {
      "image/png": "[encoded data removed]",
      "text/plain": [
       "<Figure size 432x288 with 1 Axes>"
      ]
     },
     "metadata": {
      "needs_background": "light"
     },
     "output_type": "display_data"
    }
   ],
   "source": [
    "mesh = MeshTri()\n",
    "mesh.refine(1)\n",
    "\n",
    "element = {'u': ElementVectorH1(ElementTriP2()),\n",
    "           'p': ElementTriP1()}\n",
    "basis = {variable: InteriorBasis(mesh, e, intorder=4) \n",
    "         for variable, e in element.items()} # intorder: integration order for quadrature\n",
    "\n",
    "A = asm(vector_laplace, basis['u'])\n",
    "B = asm(divergence, basis['u'], basis['p'])\n",
    "C = asm(mass, basis['p'])\n",
    "\n",
    "K = bmat([[A, -B.T],\n",
    "          [-B, 1e-6 * C]], 'csr') # get the sparse format of the result by 'csr'\n",
    "f = np.concatenate([asm(body_force, basis['u']),\n",
    "                    np.zeros(B.shape[0])])\n",
    "\n",
    "up = solve(*condense(K, f, D=basis['u'].find_dofs()), solver=solver_iter_pcg())\n",
    "\n",
    "u, p = np.split(up, [A.shape[0]])\n",
    "\n",
    "U = basis['u'].interpolate(u)\n",
    "L2u = np.sqrt(L2Error_u.assemble(basis['u'], w=U))\n",
    "\n",
    "print('L2 Error:', L2u)\n",
    "\n",
    "draw(mesh)"
   ]
  },
  {
   "cell_type": "markdown",
   "metadata": {},
   "source": [
    "## Direct error"
   ]
  },
  {
   "cell_type": "code",
   "execution_count": 66,
   "metadata": {},
   "outputs": [],
   "source": [
    "mesh = MeshTri()\n",
    "mesh.refine(1)\n",
    "element = {'u': ElementVectorH1(ElementTriP2()),\n",
    "           'p': ElementTriP1()}\n",
    "basis = {variable: InteriorBasis(mesh, e, intorder=4) \n",
    "         for variable, e in element.items()} # intorder: integration order for quadrature\n",
    "\n",
    "A = asm(vector_laplace, basis['u'])\n",
    "B = asm(divergence, basis['u'], basis['p'])\n",
    "C = asm(mass, basis['p'])\n",
    "\n",
    "K = bmat([[A, -B.T],\n",
    "          [-B, 1e-6 * C]], 'csr') # get the sparse format of the result by 'csr'\n",
    "f = np.concatenate([asm(body_force, basis['u']),\n",
    "                    np.zeros(B.shape[0])])\n",
    "\n",
    "up = solve(*condense(K, f, D=basis['u'].find_dofs()), solver=solver_iter_pcg())\n",
    "\n",
    "u, p = np.split(up, [A.shape[0]])"
   ]
  },
  {
   "cell_type": "code",
   "execution_count": 67,
   "metadata": {},
   "outputs": [
    {
     "data": {
      "text/plain": [
       "0.0009310298622520477"
      ]
     },
     "execution_count": 67,
     "metadata": {},
     "output_type": "execute_result"
    }
   ],
   "source": [
    "u1, u2 = exactu(basis['u'].doflocs[0][::2], basis['u'].doflocs[1][::2]) \n",
    "\n",
    "uh1 = u[::2]\n",
    "uh2 = u[1::2]\n",
    "\n",
    "# np.sum((u2 - uh2/2)**2 + (u1 - uh1/2)**2)/u2.shape[0]\n",
    "np.sum((u2 - uh2/2)**2)/u2.shape[0]"
   ]
  },
  {
   "cell_type": "code",
   "execution_count": 68,
   "metadata": {},
   "outputs": [
    {
     "data": {
      "text/plain": [
       "0.0009310298622325233"
      ]
     },
     "execution_count": 68,
     "metadata": {},
     "output_type": "execute_result"
    }
   ],
   "source": [
    "np.sum((u1 - uh1/2)**2)/u2.shape[0]"
   ]
  },
  {
   "cell_type": "code",
   "execution_count": null,
   "metadata": {},
   "outputs": [],
   "source": []
  },
  {
   "cell_type": "code",
   "execution_count": 354,
   "metadata": {},
   "outputs": [
    {
     "data": {
      "text/plain": [
       "array([ 0.00000000e+00,  0.00000000e+00,  0.00000000e+00,  0.00000000e+00,\n",
       "        0.00000000e+00,  0.00000000e+00,  0.00000000e+00,  0.00000000e+00,\n",
       "        0.00000000e+00,  0.00000000e+00,  0.00000000e+00,  0.00000000e+00,\n",
       "       -1.87748586e-07,  1.87748616e-07,  0.00000000e+00,  0.00000000e+00,\n",
       "        0.00000000e+00,  0.00000000e+00,  0.00000000e+00,  0.00000000e+00,\n",
       "        0.00000000e+00,  0.00000000e+00,  0.00000000e+00,  0.00000000e+00,\n",
       "       -4.77562201e-02, -4.77559413e-02,  0.00000000e+00,  0.00000000e+00,\n",
       "        0.00000000e+00,  0.00000000e+00,  4.77559413e-02,  4.77562201e-02,\n",
       "        0.00000000e+00,  0.00000000e+00,  0.00000000e+00,  0.00000000e+00,\n",
       "        0.00000000e+00,  0.00000000e+00, -4.57075232e-02,  4.57075232e-02,\n",
       "       -7.06763778e-02,  2.04865964e-03, -2.04865965e-03,  7.06763778e-02,\n",
       "        2.04843848e-03, -7.06760316e-02,  7.06760316e-02, -2.04843847e-03,\n",
       "        4.57073693e-02, -4.57073693e-02])"
      ]
     },
     "execution_count": 354,
     "metadata": {},
     "output_type": "execute_result"
    }
   ],
   "source": [
    "u"
   ]
  },
  {
   "cell_type": "code",
   "execution_count": 353,
   "metadata": {},
   "outputs": [],
   "source": [
    "# for i in range(len(u)):\n",
    "#     print(u[i])\n"
   ]
  },
  {
   "cell_type": "code",
   "execution_count": 350,
   "metadata": {},
   "outputs": [
    {
     "data": {
      "text/plain": [
       "array([ 0.        ,  0.        ,  0.        ,  0.        ,  0.        ,\n",
       "       -0.        , -0.        , -0.        ,  0.        ,  0.        ,\n",
       "        0.        ,  0.        ,  0.03295898,  0.        , -0.        ,\n",
       "       -0.03295898,  0.        , -0.        ,  0.        ,  0.03295898,\n",
       "        0.05859375, -0.        , -0.        , -0.05859375, -0.03295898])"
      ]
     },
     "execution_count": 350,
     "metadata": {},
     "output_type": "execute_result"
    }
   ],
   "source": [
    "u1"
   ]
  },
  {
   "cell_type": "code",
   "execution_count": 351,
   "metadata": {},
   "outputs": [],
   "source": [
    "# uh1"
   ]
  },
  {
   "cell_type": "code",
   "execution_count": 352,
   "metadata": {},
   "outputs": [
    {
     "data": {
      "text/plain": [
       "array([-0.        , -0.        , -0.        , -0.        ,  0.        ,\n",
       "       -0.        ,  0.        , -0.        ,  0.        , -0.        ,\n",
       "       -0.        ,  0.        ,  0.03295898, -0.        , -0.        ,\n",
       "       -0.03295898, -0.        , -0.        ,  0.        , -0.03295898,\n",
       "        0.        , -0.05859375,  0.05859375,  0.        ,  0.03295898])"
      ]
     },
     "execution_count": 352,
     "metadata": {},
     "output_type": "execute_result"
    }
   ],
   "source": [
    "u2"
   ]
  },
  {
   "cell_type": "code",
   "execution_count": 331,
   "metadata": {},
   "outputs": [],
   "source": [
    "# uh2"
   ]
  },
  {
   "cell_type": "markdown",
   "metadata": {},
   "source": [
    "### Analysising"
   ]
  },
  {
   "cell_type": "code",
   "execution_count": null,
   "metadata": {},
   "outputs": [],
   "source": [
    "A.shape"
   ]
  },
  {
   "cell_type": "code",
   "execution_count": null,
   "metadata": {},
   "outputs": [],
   "source": [
    "B.shape"
   ]
  },
  {
   "cell_type": "code",
   "execution_count": null,
   "metadata": {},
   "outputs": [],
   "source": [
    "C.todense() # sparse to dense"
   ]
  },
  {
   "cell_type": "markdown",
   "metadata": {},
   "source": [
    "## Solving the stream function $\\psi$\n",
    "from $$-\\Delta \\psi=\\operatorname{rot} \\boldsymbol{u}$$"
   ]
  },
  {
   "cell_type": "code",
   "execution_count": null,
   "metadata": {},
   "outputs": [],
   "source": [
    "# @LinearForm\n",
    "# def rot(v, w):\n",
    "#     return np.einsum('i...,ij...,j...',\n",
    "#                      w.w, np.array([[0, 1], [-1, 0]]), grad(v)"
   ]
  },
  {
   "cell_type": "code",
   "execution_count": null,
   "metadata": {},
   "outputs": [],
   "source": [
    "# basis['psi'] = InteriorBasis(mesh, ElementTriP2())\n",
    "# A = asm(laplace, basis['psi'])\n",
    "\n",
    "# vorticity = asm(rot, basis['psi'], w=[basis['psi'].interpolate(velocity[i::2]) for i in range(2)])\n",
    "# psi = solve(*condense(A, vorticity, D=basis['psi'].find_dofs()), solver=solver_iter_pcg())"
   ]
  },
  {
   "cell_type": "markdown",
   "metadata": {},
   "source": [
    "## Visualization"
   ]
  },
  {
   "cell_type": "code",
   "execution_count": null,
   "metadata": {},
   "outputs": [],
   "source": [
    "# from matplotlib.tri import Triangulation\n",
    "# from skfem.visuals.matplotlib import plot, draw\n",
    "\n",
    "# print(basis['psi'].interpolator(psi)(np.zeros((2, 1)))[0],\n",
    "#       '(cf. exact 1/64)')\n",
    "\n",
    "# print(basis['p'].interpolator(pressure)(np.array([[-0.5, 0.5],\n",
    "#                                                   [0.5, 0.5]])),\n",
    "#       '(cf. exact -/+ 1/8)')\n",
    "\n",
    "# ax = draw(mesh)\n",
    "# plot(basis['p'], pressure, ax=ax, colarbar = True)\n",
    "\n",
    "# ax = draw(mesh)\n",
    "# velocity1 = velocity[basis['u'].nodal_dofs]\n",
    "# ax.quiver(*mesh.p, *velocity1, mesh.p[0, :])  # colour by buoyancy\n",
    "\n",
    "# ax = draw(mesh)\n",
    "# ax.tricontour(Triangulation(*mesh.p, mesh.t.T),\n",
    "#               psi[basis['psi'].nodal_dofs.flatten()])"
   ]
  },
  {
   "cell_type": "markdown",
   "metadata": {},
   "source": [
    "## Trying $(P_1,P_0)$ "
   ]
  },
  {
   "cell_type": "code",
   "execution_count": 154,
   "metadata": {},
   "outputs": [
    {
     "name": "stdout",
     "output_type": "stream",
     "text": [
      "2^-1 case \n",
      "\n",
      "L2p 0.4216370213557847\n",
      "2^-2 case \n",
      "\n",
      "L2p 0.2280234998836702\n",
      "rate 0.8868190319002364\n",
      "2^-3 case \n",
      "\n",
      "L2p 0.11518309477442656\n",
      "rate 0.9852535243856813\n",
      "2^-4 case \n",
      "\n",
      "L2p 0.05713921961991817\n",
      "rate 1.011375752552701\n",
      "2^-5 case \n",
      "\n",
      "L2p 0.028372735239650754\n",
      "rate 1.0099760941624065\n"
     ]
    }
   ],
   "source": [
    "formerL2p = 1\n",
    "currentL2p = 1\n",
    "for i in range(5):\n",
    "    mesh = MeshTri()\n",
    "    mesh.refine(i)\n",
    "    element = {'u': ElementVectorH1(ElementTriP2()),\n",
    "               'p': ElementTriP0()}\n",
    "    basis = {variable: InteriorBasis(mesh, e, intorder=4) \n",
    "             for variable, e in element.items()} # intorder: integration order for quadrature\n",
    "\n",
    "    A = asm(vector_laplace, basis['u'])\n",
    "    B = asm(divergence, basis['u'], basis['p'])\n",
    "    C = asm(mass, basis['p'])\n",
    "\n",
    "    K = bmat([[A, -B.T],\n",
    "              [-B, 1e-6 * C]], 'csr') # get the sparse format of the result by 'csr'\n",
    "    f = np.concatenate([asm(body_force, basis['u']),\n",
    "                        np.zeros(B.shape[0])])\n",
    "\n",
    "    up = solve(*condense(K, f, D=basis['u'].find_dofs()), solver=solver_iter_pcg())\n",
    "\n",
    "    uh, ph = np.split(up, [A.shape[0]])\n",
    "#     p = exactp(basis['p'].doflocs[0], basis['p'].doflocs[1])\n",
    "#     print((np.sqrt(np.sum((p-ph)**2)))/len(ph))\n",
    "    P = basis['p'].interpolate(ph).value\n",
    "    L2p = np.sqrt(L2Error_p.assemble(basis['p'], w=P))\n",
    "    print('2^-'+str(i+1)+' case \\n')\n",
    "    print('L2p', L2p)\n",
    "    currentL2p = L2p\n",
    "    if i!= 0:\n",
    "        print('rate', -np.log2(currentL2p/formerL2p))\n",
    "    formerL2p = L2p"
   ]
  },
  {
   "cell_type": "code",
   "execution_count": 155,
   "metadata": {
    "scrolled": false
   },
   "outputs": [
    {
     "data": {
      "text/plain": [
       "<matplotlib.axes._subplots.AxesSubplot at 0x23ad9763608>"
      ]
     },
     "execution_count": 155,
     "metadata": {},
     "output_type": "execute_result"
    },
    {
     "data": {
      "image/png": "[encoded data removed]",
      "text/plain": [
       "<Figure size 600x400 with 2 Axes>"
      ]
     },
     "metadata": {
      "needs_background": "light"
     },
     "output_type": "display_data"
    }
   ],
   "source": [
    "plot(basis['p'], ph, colorbar=True)"
   ]
  },
  {
   "cell_type": "code",
   "execution_count": 156,
   "metadata": {},
   "outputs": [
    {
     "data": {
      "text/plain": [
       "<matplotlib.axes._subplots.AxesSubplot at 0x23ad90af5c8>"
      ]
     },
     "execution_count": 156,
     "metadata": {},
     "output_type": "execute_result"
    },
    {
     "data": {
      "image/png": "[encoded data removed]",
      "text/plain": [
       "<Figure size 600x400 with 2 Axes>"
      ]
     },
     "metadata": {
      "needs_background": "light"
     },
     "output_type": "display_data"
    }
   ],
   "source": [
    "p = exactp(basis['p'].doflocs[0], basis['p'].doflocs[1])\n",
    "plot(basis['p'], p, colorbar=True)"
   ]
  },
  {
   "cell_type": "code",
   "execution_count": 157,
   "metadata": {},
   "outputs": [
    {
     "data": {
      "text/plain": [
       "<matplotlib.axes._subplots.AxesSubplot at 0x23ad98c5348>"
      ]
     },
     "execution_count": 157,
     "metadata": {},
     "output_type": "execute_result"
    },
    {
     "data": {
      "image/png": "[encoded data removed]",
      "text/plain": [
       "<Figure size 600x400 with 1 Axes>"
      ]
     },
     "metadata": {
      "needs_background": "light"
     },
     "output_type": "display_data"
    },
    {
     "data": {
      "image/png": "[encoded data removed]",
      "text/plain": [
       "<Figure size 600x400 with 2 Axes>"
      ]
     },
     "metadata": {
      "needs_background": "light"
     },
     "output_type": "display_data"
    }
   ],
   "source": [
    "draw(mesh)\n",
    "plot(basis['p'], p - ph, colorbar=True)"
   ]
  },
  {
   "cell_type": "code",
   "execution_count": null,
   "metadata": {},
   "outputs": [],
   "source": []
  }
 ],
 "metadata": {
  "kernelspec": {
   "display_name": "Python 3",
   "language": "python",
   "name": "python3"
  },
  "language_info": {
   "codemirror_mode": {
    "name": "ipython",
    "version": 3
   },
   "file_extension": ".py",
   "mimetype": "text/x-python",
   "name": "python",
   "nbconvert_exporter": "python",
   "pygments_lexer": "ipython3",
   "version": "3.7.4"
  },
  "toc": {
   "base_numbering": 1,
   "nav_menu": {},
   "number_sections": true,
   "sideBar": true,
   "skip_h1_title": false,
   "title_cell": "Table of Contents",
   "title_sidebar": "Contents",
   "toc_cell": false,
   "toc_position": {
    "height": "calc(100% - 180px)",
    "left": "10px",
    "top": "150px",
    "width": "249.389px"
   },
   "toc_section_display": true,
   "toc_window_display": false
  },
  "varInspector": {
   "cols": {
    "lenName": 16,
    "lenType": 16,
    "lenVar": 40
   },
   "kernels_config": {
    "python": {
     "delete_cmd_postfix": "",
     "delete_cmd_prefix": "del ",
     "library": "var_list.py",
     "varRefreshCmd": "print(var_dic_list())"
    },
    "r": {
     "delete_cmd_postfix": ") ",
     "delete_cmd_prefix": "rm(",
     "library": "var_list.r",
     "varRefreshCmd": "cat(var_dic_list()) "
    }
   },
   "types_to_exclude": [
    "module",
    "function",
    "builtin_function_or_method",
    "instance",
    "_Feature"
   ],
   "window_display": false
  }
 },
 "nbformat": 4,
 "nbformat_minor": 2
}
