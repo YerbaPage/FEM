{
 "cells": [
  {
   "cell_type": "code",
   "execution_count": 1,
   "metadata": {},
   "outputs": [],
   "source": [
    "from skfem import *\n",
    "import numpy as np\n",
    "from skfem.visuals.matplotlib import draw, plot\n",
    "from skfem.utils import solver_iter_krylov, solver_eigen_scipy, solver_iter_pcg\n",
    "from skfem.helpers import dd, ddot, div, grad\n",
    "from scipy.sparse.linalg import LinearOperator, minres\n",
    "import matplotlib.pyplot as plt\n",
    "from mpl_toolkits.mplot3d import Axes3D\n",
    "from scipy.sparse import bmat\n",
    "import dmsh\n",
    "from skfem.assembly import BilinearForm, LinearForm\n",
    "plt.rcParams['figure.dpi'] = 100"
   ]
  },
  {
   "cell_type": "markdown",
   "metadata": {},
   "source": [
    "## Begin equation"
   ]
  },
  {
   "cell_type": "markdown",
   "metadata": {},
   "source": [
    "$$\n",
    "- \\nu\\Delta\\boldsymbol{u} + \\rho^{-1}\\nabla p = \\boldsymbol{f} \\ in \\  \\Omega\n",
    "$$\n",
    "\n",
    "$$\n",
    "\\nabla\\cdot\\boldsymbol{u} = 0 \\ in \\  \\Omega\n",
    "$$\n",
    "\n",
    "$$\n",
    "u = 0 \\ on \\ \\partial \\Omega\n",
    "$$\n",
    "\n",
    "`u` is the velocity vector and `p` is the pressure"
   ]
  },
  {
   "cell_type": "markdown",
   "metadata": {},
   "source": [
    "`basis.find_dofs()` almost equals to `m.boundary_nodes()`"
   ]
  },
  {
   "cell_type": "markdown",
   "metadata": {},
   "source": [
    "$$\n",
    "\\left(\\begin{array}{cc}\n",
    "A & -B \\\\\n",
    "B^{T} & 0\n",
    "\\end{array}\\right)\\left(\\begin{array}{l}\n",
    "U \\\\\n",
    "P\n",
    "\\end{array}\\right)=\\left(\\begin{array}{l}\n",
    "F_{1} \\\\\n",
    "0\n",
    "\\end{array}\\right)\n",
    "$$"
   ]
  },
  {
   "cell_type": "markdown",
   "metadata": {},
   "source": [
    "## $(P_2,P_1)$ Taylor-Hood element: Optimal convergent rate"
   ]
  },
  {
   "cell_type": "code",
   "execution_count": 116,
   "metadata": {},
   "outputs": [
    {
     "data": {
      "text/plain": [
       "<matplotlib.axes._subplots.AxesSubplot at 0x157b3bfea08>"
      ]
     },
     "execution_count": 116,
     "metadata": {},
     "output_type": "execute_result"
    },
    {
     "data": {
      "image/png": "[encoded data removed]",
      "text/plain": [
       "<Figure size 432x288 with 1 Axes>"
      ]
     },
     "metadata": {
      "needs_background": "light"
     },
     "output_type": "display_data"
    }
   ],
   "source": [
    "# mesh = MeshTri(*map(np.transpose, dmsh.generate(dmsh.Circle([0., 0.], 1.), .7))) \n",
    "\n",
    "mesh = MeshTri()\n",
    "mesh.refine(2)\n",
    "\n",
    "element = {'u': ElementVectorH1(ElementTriP2()),\n",
    "           'p': ElementTriP1()}\n",
    "basis = {variable: InteriorBasis(mesh, e, intorder=4) \n",
    "         for variable, e in element.items()} # intorder: integration order for quadrature\n",
    "\n",
    "draw(mesh)"
   ]
  },
  {
   "cell_type": "code",
   "execution_count": 117,
   "metadata": {},
   "outputs": [],
   "source": [
    "@BilinearForm\n",
    "def vector_laplace(u, v, w):\n",
    "    '''\n",
    "    a\n",
    "    '''\n",
    "    return ddot(grad(u), grad(v))\n",
    "\n",
    "\n",
    "@BilinearForm\n",
    "def divergence(u, v, w):\n",
    "    '''\n",
    "    b\n",
    "    '''\n",
    "    return div(u) * v\n",
    "\n",
    "\n",
    "@LinearForm\n",
    "def body_force(v, w):\n",
    "    '''\n",
    "    for f\n",
    "    '''\n",
    "    x, y = w.x\n",
    "    f1 = 120*(x**2-x)*y*(y-1)*(2*y-1)+10*x**2*(x-1)**2*(12*y-6)+2*x\n",
    "    f2 = -(120*(y**2-y)*x*(x-1)*(2*x-1)+10*y**2*(y-1)**2*(12*x-6))-2*y\n",
    "    \n",
    "    return f1 * v.value[0] + f2*v.value[1]\n",
    "\n",
    "\n",
    "@BilinearForm\n",
    "def mass(u, v, w):\n",
    "    return u * v"
   ]
  },
  {
   "cell_type": "code",
   "execution_count": 134,
   "metadata": {},
   "outputs": [],
   "source": [
    "A = asm(vector_laplace, basis['u'])\n",
    "B = asm(divergence, basis['u'], basis['p'])\n",
    "C = asm(mass, basis['p'])\n",
    "\n",
    "K = bmat([[A, -B.T],\n",
    "          [-B, 1e-7 * C]], 'csr') # get the sparse format of the result by 'csr'\n",
    "f = np.concatenate([asm(body_force, basis['u']),\n",
    "                    np.zeros(B.shape[0])])"
   ]
  },
  {
   "cell_type": "code",
   "execution_count": 135,
   "metadata": {},
   "outputs": [
    {
     "name": "stdout",
     "output_type": "stream",
     "text": [
      "Wall time: 4.71 ms\n"
     ]
    }
   ],
   "source": [
    "%%time\n",
    "up = solve(*condense(K, f, D=basis['u'].find_dofs()), solver=solver_iter_pcg())"
   ]
  },
  {
   "cell_type": "code",
   "execution_count": 136,
   "metadata": {},
   "outputs": [],
   "source": [
    "u, p = np.split(up, [A.shape[0]])\n",
    "U = basis['u'].interpolate(u)\n",
    "\n",
    "# uh = U.value\n",
    "# uh.shape\n",
    "# x = basis['u'].global_coordinates().value\n",
    "# x.shape"
   ]
  },
  {
   "cell_type": "markdown",
   "metadata": {},
   "source": [
    "## Error estimating"
   ]
  },
  {
   "cell_type": "code",
   "execution_count": 140,
   "metadata": {
    "scrolled": true
   },
   "outputs": [],
   "source": [
    "def exactu(x, y):\n",
    "    u1 = 10*x**2*(x-1)**2*y*(y-1)*(2*y-1)\n",
    "    u2 = -10*y**2*(y-1)**2*x*(x-1)*(2*x-1)\n",
    "    return u1, u2\n",
    "\n",
    "@Functional\n",
    "def L2Error_u(w):\n",
    "    x, y = w.x\n",
    "    u1, u2 = exactu(x, y)\n",
    "#     print((w.w[0] - u1)**2)\n",
    "#     print((w.w[1] - u2)**2)\n",
    "    return (w.w[0] - u1)**2 + (w.w[1] - u2)**2"
   ]
  },
  {
   "cell_type": "code",
   "execution_count": 141,
   "metadata": {},
   "outputs": [
    {
     "name": "stdout",
     "output_type": "stream",
     "text": [
      "L2 Error: 0.10830642362517717\n"
     ]
    }
   ],
   "source": [
    "mesh = MeshTri()\n",
    "mesh.refine(3)\n",
    "\n",
    "element = {'u': ElementVectorH1(ElementTriP2()),\n",
    "           'p': ElementTriP1()}\n",
    "basis = {variable: InteriorBasis(mesh, e, intorder=4) \n",
    "         for variable, e in element.items()} # intorder: integration order for quadrature\n",
    "\n",
    "A = asm(vector_laplace, basis['u'])\n",
    "B = asm(divergence, basis['u'], basis['p'])\n",
    "C = asm(mass, basis['p'])\n",
    "\n",
    "K = bmat([[A, -B.T],\n",
    "          [-B, 1e-6 * C]], 'csr') # get the sparse format of the result by 'csr'\n",
    "f = np.concatenate([asm(body_force, basis['u']),\n",
    "                    np.zeros(B.shape[0])])\n",
    "\n",
    "up = solve(*condense(K, f, D=basis['u'].find_dofs()), solver=solver_iter_pcg())\n",
    "\n",
    "u, p = np.split(up, [A.shape[0]])\n",
    "\n",
    "U = basis['u'].interpolate(u)\n",
    "L2u = np.sqrt(L2Error_u.assemble(basis['u'], w=U))\n",
    "\n",
    "print('L2 Error:', L2u)"
   ]
  },
  {
   "cell_type": "markdown",
   "metadata": {},
   "source": [
    "### Analysising"
   ]
  },
  {
   "cell_type": "code",
   "execution_count": null,
   "metadata": {},
   "outputs": [],
   "source": [
    "K"
   ]
  },
  {
   "cell_type": "code",
   "execution_count": null,
   "metadata": {},
   "outputs": [],
   "source": [
    "A.shape"
   ]
  },
  {
   "cell_type": "code",
   "execution_count": null,
   "metadata": {},
   "outputs": [],
   "source": [
    "B.shape"
   ]
  },
  {
   "cell_type": "code",
   "execution_count": null,
   "metadata": {},
   "outputs": [],
   "source": [
    "C.todense() # sparse to dense"
   ]
  },
  {
   "cell_type": "markdown",
   "metadata": {},
   "source": [
    "## Solving the stream function $\\psi$\n",
    "from $$-\\Delta \\psi=\\operatorname{rot} \\boldsymbol{u}$$"
   ]
  },
  {
   "cell_type": "code",
   "execution_count": null,
   "metadata": {},
   "outputs": [],
   "source": [
    "# @LinearForm\n",
    "# def rot(v, w):\n",
    "#     return np.einsum('i...,ij...,j...',\n",
    "#                      w.w, np.array([[0, 1], [-1, 0]]), grad(v)"
   ]
  },
  {
   "cell_type": "code",
   "execution_count": null,
   "metadata": {},
   "outputs": [],
   "source": [
    "# basis['psi'] = InteriorBasis(mesh, ElementTriP2())\n",
    "# A = asm(laplace, basis['psi'])\n",
    "\n",
    "# vorticity = asm(rot, basis['psi'], w=[basis['psi'].interpolate(velocity[i::2]) for i in range(2)])\n",
    "# psi = solve(*condense(A, vorticity, D=basis['psi'].find_dofs()), solver=solver_iter_pcg())"
   ]
  },
  {
   "cell_type": "markdown",
   "metadata": {},
   "source": [
    "## Visualization"
   ]
  },
  {
   "cell_type": "code",
   "execution_count": null,
   "metadata": {},
   "outputs": [],
   "source": [
    "# from matplotlib.tri import Triangulation\n",
    "# from skfem.visuals.matplotlib import plot, draw\n",
    "\n",
    "# print(basis['psi'].interpolator(psi)(np.zeros((2, 1)))[0],\n",
    "#       '(cf. exact 1/64)')\n",
    "\n",
    "# print(basis['p'].interpolator(pressure)(np.array([[-0.5, 0.5],\n",
    "#                                                   [0.5, 0.5]])),\n",
    "#       '(cf. exact -/+ 1/8)')\n",
    "\n",
    "# ax = draw(mesh)\n",
    "# plot(basis['p'], pressure, ax=ax, colarbar = True)\n",
    "\n",
    "# ax = draw(mesh)\n",
    "# velocity1 = velocity[basis['u'].nodal_dofs]\n",
    "# ax.quiver(*mesh.p, *velocity1, mesh.p[0, :])  # colour by buoyancy\n",
    "\n",
    "# ax = draw(mesh)\n",
    "# ax.tricontour(Triangulation(*mesh.p, mesh.t.T),\n",
    "#               psi[basis['psi'].nodal_dofs.flatten()])"
   ]
  },
  {
   "cell_type": "markdown",
   "metadata": {},
   "source": [
    "## Trying $(P_1,P_0)$ "
   ]
  },
  {
   "cell_type": "code",
   "execution_count": 2,
   "metadata": {},
   "outputs": [],
   "source": [
    "# mesh = MeshTri.init_circle(1)\n",
    "\n",
    "# element = {'u': ElementVectorH1(ElementTriP1()),\n",
    "#            'p': ElementTriP0()}\n",
    "# basis = {variable: InteriorBasis(mesh, e, intorder=3) \n",
    "#          for variable, e in element.items()} # intorder: integration order for quadrature\n",
    "\n",
    "# basis['psi'] = InteriorBasis(mesh, ElementTriP1())"
   ]
  }
 ],
 "metadata": {
  "kernelspec": {
   "display_name": "Python 3",
   "language": "python",
   "name": "python3"
  },
  "language_info": {
   "codemirror_mode": {
    "name": "ipython",
    "version": 3
   },
   "file_extension": ".py",
   "mimetype": "text/x-python",
   "name": "python",
   "nbconvert_exporter": "python",
   "pygments_lexer": "ipython3",
   "version": "3.7.4"
  },
  "toc": {
   "base_numbering": 1,
   "nav_menu": {},
   "number_sections": true,
   "sideBar": true,
   "skip_h1_title": false,
   "title_cell": "Table of Contents",
   "title_sidebar": "Contents",
   "toc_cell": false,
   "toc_position": {
    "height": "calc(100% - 180px)",
    "left": "10px",
    "top": "150px",
    "width": "249.389px"
   },
   "toc_section_display": true,
   "toc_window_display": false
  },
  "varInspector": {
   "cols": {
    "lenName": 16,
    "lenType": 16,
    "lenVar": 40
   },
   "kernels_config": {
    "python": {
     "delete_cmd_postfix": "",
     "delete_cmd_prefix": "del ",
     "library": "var_list.py",
     "varRefreshCmd": "print(var_dic_list())"
    },
    "r": {
     "delete_cmd_postfix": ") ",
     "delete_cmd_prefix": "rm(",
     "library": "var_list.r",
     "varRefreshCmd": "cat(var_dic_list()) "
    }
   },
   "types_to_exclude": [
    "module",
    "function",
    "builtin_function_or_method",
    "instance",
    "_Feature"
   ],
   "window_display": false
  }
 },
 "nbformat": 4,
 "nbformat_minor": 2
}
