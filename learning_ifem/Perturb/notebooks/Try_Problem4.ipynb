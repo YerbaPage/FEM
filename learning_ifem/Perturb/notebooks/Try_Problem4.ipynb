{
 "cells": [
  {
   "cell_type": "markdown",
   "metadata": {},
   "source": [
    "# Solving a Fourth Order Elliptic Singular Perturbation Problem\n",
    "\n",
    "$$\n",
    "\\left\\{\\begin{array}{lr}\n",
    "\\varepsilon^{2} \\Delta^{2} u-\\Delta u=f & \\text { in } \\Omega \\\\\n",
    "u=\\partial_{n} u=0 & \\text { on } \\partial \\Omega\n",
    "\\end{array}\\right.\n",
    "$$"
   ]
  },
  {
   "cell_type": "markdown",
   "metadata": {},
   "source": [
    "## Problem 4\n",
    "Now let's move to the next stage:\n",
    "$$\n",
    "\\begin{aligned}\n",
    "\\left(\\nabla w_{h}, \\nabla \\chi_{h}\\right)&=\\left(f, \\chi_{h}\\right) \\\\\n",
    "\\left(\\operatorname{curl}_{h} z_{h}, \\operatorname{curl}_{h} v_{h}\\right) &=\\left(\\nabla w_{h}, \\nabla_{h} v_{h}\\right) \\\\\n",
    "\\left(\\phi_{h}, \\psi_{h}\\right)+\\varepsilon^{2}c_{h}\\left(\\nabla_{h} \\phi_{h}, \\nabla_{h} \\psi_{h}\\right)+\\left(\\operatorname{div}_{h} \\psi_{h}, p_{h}\\right) &=\\left(\\operatorname{curl}_{h} z_{h}, \\psi_{h}\\right) \\\\\n",
    "\\left(\\operatorname{div}_{h} \\phi_{h}, q_{h}\\right) &=0 \\\\\n",
    "\\left(\\operatorname{curl}_{h} u_{h 0}, \\operatorname{curl}_{h} \\chi_{h}\\right) &=\\left(\\phi_{h}, \\operatorname{curl}_{h} \\chi_{h}\\right)\n",
    "\\end{aligned}\n",
    "$$\n",
    "where \n",
    "$$\n",
    "c_{h}\\left(\\phi_{h}, \\psi_{h}\\right):=\\left(\\nabla_{h} \\phi_{h}, \\nabla_{h} \\psi_{h}\\right)-\\sum_{F \\in \\mathcal{F}_{h}^{\\partial}}\\left(\\partial_{n}\\left(\\phi_{h} \\cdot t\\right), \\psi_{h} \\cdot t\\right)_{F}-\\sum_{F \\in \\mathcal{F}_{h}^{\\partial}}\\left(\\phi_{h} \\cdot t, \\partial_{n}\\left(\\psi_{h} \\cdot t\\right)\\right)_{F}+\\sum_{F \\in \\mathcal{F}_{h}^{\\partial}} \\frac{\\sigma}{h_{F}}\\left(\\phi_{h} \\cdot t, \\psi_{h} \\cdot t\\right)_{F}\n",
    "$$"
   ]
  },
  {
   "cell_type": "code",
   "execution_count": 1,
   "metadata": {},
   "outputs": [],
   "source": [
    "from skfem import *\n",
    "import numpy as np\n",
    "from utils import solver_iter_krylov, solver_iter_pyamg, solver_iter_mgcg\n",
    "from skfem.helpers import d, dd, ddd, dot, ddot, grad, dddot, prod, div, curl\n",
    "from scipy.sparse.linalg import LinearOperator, minres\n",
    "from skfem.models.poisson import *\n",
    "from skfem.assembly import BilinearForm, LinearForm\n",
    "from skfem.visuals.matplotlib import draw, plot\n",
    "import scipy.sparse.linalg as spl\n",
    "from scipy.sparse import bmat\n",
    "from skfem.visuals.matplotlib import draw, plot\n",
    "import datetime\n",
    "import pandas as pd\n",
    "import sys\n",
    "import time\n",
    "\n",
    "pi = np.pi\n",
    "sin = np.sin\n",
    "cos = np.cos\n",
    "exp = np.exp"
   ]
  },
  {
   "cell_type": "markdown",
   "metadata": {},
   "source": [
    "## Errors"
   ]
  },
  {
   "cell_type": "code",
   "execution_count": 2,
   "metadata": {
    "code_folding": [
     1,
     6,
     14
    ]
   },
   "outputs": [],
   "source": [
    "@Functional\n",
    "def L2uError(w):\n",
    "    x, y = w.x\n",
    "    return (w.w - exact_u(x, y))**2\n",
    "\n",
    "\n",
    "def get_DuError(basis, u):\n",
    "    duh = basis.interpolate(u).grad\n",
    "    x = basis.global_coordinates().value\n",
    "    dx = basis.dx  # quadrature weights\n",
    "    dux, duy = dexact_u(x[0], x[1])\n",
    "    return np.sqrt(np.sum(((duh[0] - dux)**2 + (duh[1] - duy)**2) * dx))\n",
    "\n",
    "\n",
    "def get_D2uError(basis, u):\n",
    "    dduh = basis.interpolate(u).hess\n",
    "    x = basis.global_coordinates(\n",
    "    ).value  # coordinates of quadrature points [x, y]\n",
    "    dx = basis.dx  # quadrature weights\n",
    "    duxx, duxy, duyx, duyy = ddexact(x[0], x[1])\n",
    "    return np.sqrt(\n",
    "        np.sum(((dduh[0][0] - duxx)**2 + (dduh[0][1] - duxy)**2 +\n",
    "                (dduh[1][1] - duyy)**2 + (dduh[1][0] - duyx)**2) * dx))"
   ]
  },
  {
   "cell_type": "markdown",
   "metadata": {},
   "source": [
    "## Element CR"
   ]
  },
  {
   "cell_type": "code",
   "execution_count": 3,
   "metadata": {
    "code_folding": [
     0
    ]
   },
   "outputs": [],
   "source": [
    "class ElementTriCR(ElementH1):\n",
    "    \n",
    "    facet_dofs = 1\n",
    "    dim = 2\n",
    "    maxdeg = 1\n",
    "    dofnames = ['u']\n",
    "    doflocs = np.array([[.5, 0.], [.5, .5], [0., .5]])\n",
    "    mesh_type = MeshTri\n",
    "\n",
    "    def lbasis(self, X, i):\n",
    "        x, y = X\n",
    "\n",
    "        if i == 0:\n",
    "            phi = 1. - 2. * y\n",
    "            dphi = np.array([0. * x, -2. + 0. * y])\n",
    "        elif i == 1:\n",
    "            phi = 2. * x + 2. * y - 1.\n",
    "            dphi = np.array([2. + 0. * x, 2. + 0. * y])\n",
    "        elif i == 2:\n",
    "            phi = 1. - 2. * x\n",
    "            dphi = np.array([-2. + 0. * x, 0. * x])\n",
    "        else:\n",
    "            self._index_error()\n",
    "        return phi, dphi"
   ]
  },
  {
   "cell_type": "markdown",
   "metadata": {},
   "source": [
    "## Forms for decoupled equations"
   ]
  },
  {
   "cell_type": "markdown",
   "metadata": {},
   "source": [
    "### First two Poisson equations"
   ]
  },
  {
   "cell_type": "code",
   "execution_count": 4,
   "metadata": {
    "code_folding": [
     1,
     9
    ]
   },
   "outputs": [],
   "source": [
    "@BilinearForm\n",
    "def laplace(u, v, w):\n",
    "    '''\n",
    "    for $(\\nabla w_{h}, \\nabla \\chi_{h})$\n",
    "    '''\n",
    "    return dot(grad(u), grad(v))\n",
    "\n",
    "\n",
    "@BilinearForm\n",
    "def zv_load(u, v, w):\n",
    "    '''\n",
    "    for 5.7a\n",
    "    '''\n",
    "    return dot(curl(u), curl(v))"
   ]
  },
  {
   "cell_type": "markdown",
   "metadata": {},
   "source": [
    "### Stokes equation"
   ]
  },
  {
   "cell_type": "code",
   "execution_count": 5,
   "metadata": {
    "code_folding": [
     1,
     8,
     15,
     22,
     29,
     36
    ]
   },
   "outputs": [],
   "source": [
    "@BilinearForm\n",
    "def phipsi_load1(u, v, w):\n",
    "    '''\n",
    "    for 5.7b $(phi, psi)$\n",
    "    '''\n",
    "    return dot(u, v)\n",
    "\n",
    "@BilinearForm\n",
    "def phipsi_load2(u, v, w):\n",
    "    '''\n",
    "    for 5.7b $(Laplace_phi, Laplace_psi)$\n",
    "    '''\n",
    "    return ddot(grad(u), grad(v))\n",
    "\n",
    "@BilinearForm\n",
    "def phipsi_load3(u, v, w):\n",
    "    '''\n",
    "    for 5.7b $(div_phi, p)$\n",
    "    '''\n",
    "    return div(u) * v\n",
    "\n",
    "@BilinearForm\n",
    "def zpsi_load(u, v, w):\n",
    "    '''\n",
    "    for 5.7b $(curl_z, psi)$\n",
    "    '''\n",
    "    return dot(curl(u), v)\n",
    "\n",
    "@BilinearForm\n",
    "def phiq_load(u, v, w):\n",
    "    '''\n",
    "    for 5.7c $(div_phi, q)$\n",
    "    '''\n",
    "    return div(u) * v\n",
    "\n",
    "@BilinearForm\n",
    "def mass(u, v, w):\n",
    "    '''\n",
    "    for 5.7c C\n",
    "    '''\n",
    "    return u * v * 1e-6"
   ]
  },
  {
   "cell_type": "markdown",
   "metadata": {},
   "source": [
    "### Imposing penalty"
   ]
  },
  {
   "cell_type": "code",
   "execution_count": 6,
   "metadata": {},
   "outputs": [],
   "source": [
    "@BilinearForm\n",
    "def penalty_1(u, v, w):\n",
    "    w_t = np.array([-w.n[1], w.n[0]])\n",
    "    return -ddot(d(u), prod(w_t, w.n)) * dot(v, w_t)\n",
    "\n",
    "\n",
    "@BilinearForm\n",
    "def penalty_2(u, v, w):\n",
    "    w_t = np.array([-w.n[1], w.n[0]])\n",
    "    return -ddot(d(v), prod(w_t, w.n)) * dot(u, w_t)\n",
    "\n",
    "\n",
    "@BilinearForm\n",
    "def penalty_3(u, v, w):\n",
    "    w_t = np.array([-w.n[1], w.n[0]])\n",
    "    return (sigma / w.h) * dot(u, w_t) * dot(v, w_t)"
   ]
  },
  {
   "cell_type": "markdown",
   "metadata": {},
   "source": [
    "### Setting boundary conditions for\n",
    "$$\\int_{F} v \\cdot n \\mathrm{d} s=0$$"
   ]
  },
  {
   "cell_type": "code",
   "execution_count": 7,
   "metadata": {
    "code_folding": []
   },
   "outputs": [],
   "source": [
    "def normal_boundary(basis):\n",
    "    '''\n",
    "    Input basis\n",
    "    ----------------\n",
    "    Return D for boundary conditions for u^n\n",
    "    ----------------\n",
    "    Note: u^1 here stands for the first component of u and u^2 for the second\n",
    "    '''\n",
    "\n",
    "    dofs = basis.find_dofs({\n",
    "        'left': m.facets_satisfying(lambda x: x[0] == 0),\n",
    "        'right': m.facets_satisfying(lambda x: x[0] == 1),\n",
    "        'top': m.facets_satisfying(lambda x: x[1] == 1),\n",
    "        'buttom': m.facets_satisfying(lambda x: x[1] == 0)\n",
    "    })\n",
    "\n",
    "    D = np.concatenate((dofs['left'].facet['u^1'], dofs['right'].facet['u^1'],\n",
    "                        dofs['top'].facet['u^2'], dofs['buttom'].facet['u^2']))\n",
    "    return D"
   ]
  },
  {
   "cell_type": "code",
   "execution_count": 13,
   "metadata": {},
   "outputs": [],
   "source": [
    "def easy_boundary_penalty(basis):\n",
    "    '''\n",
    "    Input basis\n",
    "    ----------------\n",
    "    Return D for boundary conditions\n",
    "    '''\n",
    "\n",
    "    dofs = basis.find_dofs({\n",
    "        'left': m.facets_satisfying(lambda x: x[0] == 0),\n",
    "        'right': m.facets_satisfying(lambda x: x[0] == 1),\n",
    "        'top': m.facets_satisfying(lambda x: x[1] == 1),\n",
    "        'buttom': m.facets_satisfying(lambda x: x[1] == 0)\n",
    "    })\n",
    "\n",
    "    D = np.concatenate((dofs['left'].nodal['u'], dofs['right'].nodal['u'],\n",
    "                        dofs['top'].nodal['u'], dofs['buttom'].nodal['u']))\n",
    "    return D"
   ]
  },
  {
   "cell_type": "markdown",
   "metadata": {},
   "source": [
    "### The last Poisson equation"
   ]
  },
  {
   "cell_type": "code",
   "execution_count": 14,
   "metadata": {
    "code_folding": [
     1,
     8
    ]
   },
   "outputs": [],
   "source": [
    "@BilinearForm\n",
    "def phichi_load(u, v, w):\n",
    "    '''\n",
    "    for 5.7d $(phi, curl_chi)$\n",
    "    '''\n",
    "    return dot(u, curl(v))\n",
    "\n",
    "@BilinearForm\n",
    "def uchi_load(u, v, w):\n",
    "    '''\n",
    "    for 5.7d $(curl_u, curl_chi)$\n",
    "    '''\n",
    "    return dot(curl(u), curl(v))"
   ]
  },
  {
   "cell_type": "markdown",
   "metadata": {},
   "source": [
    "# Error Estimating"
   ]
  },
  {
   "cell_type": "markdown",
   "metadata": {},
   "source": [
    "## Solver"
   ]
  },
  {
   "cell_type": "code",
   "execution_count": 15,
   "metadata": {},
   "outputs": [],
   "source": [
    "def solve_problem4(m, element_type='P1', solver_type='pcg', tol=1e-8):\n",
    "    '''\n",
    "    solver for decoupled problem2\n",
    "    without modifying solver\n",
    "    only for testing convergence\n",
    "    '''\n",
    "    \n",
    "    # equation 1\n",
    "    \n",
    "    if element_type == 'P1':\n",
    "        element1 = ElementTriP1()\n",
    "    elif element_type == 'P2':\n",
    "        element1 = ElementTriP2()\n",
    "    else:\n",
    "        raise Exception(\"Element not supported\")\n",
    "        \n",
    "    basis1 = InteriorBasis(m, element1, intorder=intorder)\n",
    "\n",
    "    K1 = asm(laplace, basis1)\n",
    "    f1 = asm(f_load, basis1)\n",
    "\n",
    "    wh = solve(*condense(K1, f1, D=basis1.find_dofs()), solver=solver_iter_krylov(Precondition=True, tol=tol))\n",
    "   \n",
    "    # equation 2\n",
    "    \n",
    "    element2 = ElementTriMorley()\n",
    "    basis2 = InteriorBasis(m, element2, intorder=intorder)\n",
    "\n",
    "    K2 = asm(zv_load, basis2)\n",
    "    f2 = asm(laplace, basis1, basis2) * wh\n",
    "\n",
    "    zh = solve(*condense(K2, f2, D=basis2.find_dofs()), solver=solver_iter_krylov(Precondition=True, tol=tol))\n",
    "    \n",
    "    # equation 3\n",
    "    \n",
    "    element3 = {'phi': ElementVectorH1(ElementTriCR()), 'p': ElementTriP0()}\n",
    "    basis3 = {variable: InteriorBasis(m, e, intorder=intorder) for variable, e in element3.items()}  \n",
    "    \n",
    "    fbasis = FacetBasis(m, element3['phi'], intorder=intorder)\n",
    "    \n",
    "    p1 = asm(penalty_1, fbasis)\n",
    "    p2 = asm(penalty_2, fbasis)\n",
    "    p3 = asm(penalty_3, fbasis)\n",
    "    P = p1 + p2 + p3\n",
    "    \n",
    "    A = asm(phipsi_load1, basis3['phi']) + epsilon**2 * (asm(phipsi_load2, basis3['phi']) + P) \n",
    "    B = asm(phiq_load, basis3['phi'], basis3['p'])\n",
    "    C = asm(mass, basis3['p'])\n",
    "    \n",
    "    F1 = asm(zpsi_load, basis2, basis3['phi']) * zh\n",
    "    f3 = np.concatenate([F1, np.zeros(B.shape[0])])\n",
    "    K3 = bmat([[A, -B.T], [-B, C * 0]], 'csr')\n",
    "    \n",
    "    # imposing boundary condition for normal conponent of phi\n",
    "    \n",
    "    phip = solve(*condense(K3, f3, D=normal_boundary(basis3['phi'])), solver=solver_iter_krylov(spl.minres, tol=1e-13))\n",
    "    \n",
    "    # phip = solve(*condense(K3, f3, D=m.boundary_nodes()), solver=solver_iter_krylov(spl.minres, tol=1e-13))\n",
    "    phih, ph = np.split(phip, [A.shape[0]])\n",
    "    # phip = solve(*condense(K3, f3, D=basis3['phi'].find_dofs()), solver=solver_iter_krylov(spl.minres, tol=1e-13))\n",
    "    \n",
    "    # equation 4\n",
    "    \n",
    "    element4 = ElementTriMorley()\n",
    "    basis4 = InteriorBasis(m, element4, intorder=intorder)\n",
    "\n",
    "    K4 = asm(uchi_load, basis4)\n",
    "    f4 = asm(phichi_load, basis3['phi'], basis4) * phih\n",
    "    \n",
    "    uh = solve(*condense(K4, f4, D=basis4.find_dofs()), solver=solver_iter_krylov(Precondition=True, tol=tol))\n",
    "    \n",
    "    return uh, {'u' :basis4}"
   ]
  },
  {
   "cell_type": "code",
   "execution_count": 16,
   "metadata": {
    "code_folding": []
   },
   "outputs": [],
   "source": [
    "def solve_problem4(m, element_type='P1', solver_type='pcg', tol=1e-8):\n",
    "    '''\n",
    "    solver for decoupled problem2\n",
    "    without modifying solver\n",
    "    only for testing convergence\n",
    "    '''\n",
    "    \n",
    "    # equation 1\n",
    "    \n",
    "    if element_type == 'P1':\n",
    "        element1 = ElementTriP1()\n",
    "    elif element_type == 'P2':\n",
    "        element1 = ElementTriP2()\n",
    "    else:\n",
    "        raise Exception(\"Element not supported\")\n",
    "        \n",
    "    basis1 = InteriorBasis(m, element1, intorder=intorder)\n",
    "\n",
    "    K1 = asm(laplace, basis1)\n",
    "    f1 = asm(f_load, basis1)\n",
    "\n",
    "    wh = solve(*condense(K1, f1, D=basis1.find_dofs()), solver=solver_iter_krylov(Precondition=True, tol=tol))\n",
    "   \n",
    "    # equation 2\n",
    "    \n",
    "    element2 = ElementTriMorley()\n",
    "    basis2 = InteriorBasis(m, element2, intorder=intorder)\n",
    "\n",
    "    K2 = asm(zv_load, basis2)\n",
    "    f2 = asm(laplace, basis1, basis2) * wh\n",
    "\n",
    "    zh = solve(*condense(K2, f2, D=easy_boundary_penalty(basis2)), solver=solver_iter_krylov(Precondition=True, tol=tol))\n",
    "    \n",
    "    # equation 3\n",
    "    \n",
    "    element3 = {'phi': ElementVectorH1(ElementTriCR()), 'p': ElementTriP0()}\n",
    "    basis3 = {variable: InteriorBasis(m, e, intorder=intorder) for variable, e in element3.items()}  \n",
    "    \n",
    "    fbasis = FacetBasis(m, element3['phi'], intorder=intorder)\n",
    "    \n",
    "    p1 = asm(penalty_1, fbasis)\n",
    "    p2 = asm(penalty_2, fbasis)\n",
    "    p3 = asm(penalty_3, fbasis)\n",
    "    P = p1 + p2 + p3\n",
    "    \n",
    "    A = asm(phipsi_load1, basis3['phi']) + epsilon**2 * (asm(phipsi_load2, basis3['phi']) + P) \n",
    "    B = asm(phiq_load, basis3['phi'], basis3['p'])\n",
    "    C = asm(mass, basis3['p'])\n",
    "    \n",
    "    F1 = asm(zpsi_load, basis2, basis3['phi']) * zh\n",
    "    f3 = np.concatenate([F1, np.zeros(B.shape[0])])\n",
    "    K3 = bmat([[A, -B.T], [-B, C * 0]], 'csr')\n",
    "    \n",
    "    # imposing boundary condition for normal conponent of phi\n",
    "    \n",
    "    phip = solve(*condense(K3, f3, D=normal_boundary(basis3['phi'])), solver=solver_iter_krylov(spl.minres, tol=1e-13))\n",
    "    phih, ph = np.split(phip, [A.shape[0]])  \n",
    "    # equation 4\n",
    "    \n",
    "    element4 = ElementTriMorley()\n",
    "    basis4 = InteriorBasis(m, element4, intorder=intorder)\n",
    "\n",
    "    K4 = asm(uchi_load, basis4)\n",
    "    f4 = asm(phichi_load, basis3['phi'], basis4) * phih\n",
    "    \n",
    "    uh = solve(*condense(K4, f4, D=easy_boundary_penalty(basis4)), solver=solver_iter_krylov(Precondition=True, tol=tol))\n",
    "    \n",
    "    return uh, {'u' :basis4}"
   ]
  },
  {
   "cell_type": "markdown",
   "metadata": {},
   "source": [
    "## Testing convergence"
   ]
  },
  {
   "cell_type": "code",
   "execution_count": 23,
   "metadata": {},
   "outputs": [],
   "source": [
    "tol = 1e-8\n",
    "intorder = 5\n",
    "solver_type = 'mgcg'\n",
    "refine_time = 6\n",
    "epsilon_range = 5\n",
    "zero_ep = False\n",
    "element_type = 'P1'\n",
    "sigma = 5\n",
    "penalty = True\n",
    "example = 'ex3'"
   ]
  },
  {
   "cell_type": "code",
   "execution_count": 24,
   "metadata": {
    "code_folding": [
     0,
     3,
     36,
     191,
     217
    ]
   },
   "outputs": [],
   "source": [
    "if example == 'ex1':\n",
    "\n",
    "    @LinearForm\n",
    "    def f_load(v, w):\n",
    "        '''\n",
    "        for $(f, x_{h})$\n",
    "        '''\n",
    "        pix = pi * w.x[0]\n",
    "        piy = pi * w.x[1]\n",
    "        lu = 2 * (pi)**2 * (cos(2 * pix) * ((sin(piy))**2) + cos(2 * piy) *\n",
    "                            ((sin(pix))**2))\n",
    "        llu = -8 * (pi)**4 * (cos(2 * pix) * sin(piy)**2 + cos(2 * piy) *\n",
    "                            sin(pix)**2 - cos(2 * pix) * cos(2 * piy))\n",
    "        return (epsilon**2 * llu - lu) * v\n",
    "\n",
    "\n",
    "    def exact_u(x, y):\n",
    "        return (sin(pi * x) * sin(pi * y))**2\n",
    "\n",
    "\n",
    "    def dexact_u(x, y):\n",
    "        dux = 2 * pi * cos(pi * x) * sin(pi * x) * sin(pi * y)**2\n",
    "        duy = 2 * pi * cos(pi * y) * sin(pi * x)**2 * sin(pi * y)\n",
    "        return dux, duy\n",
    "\n",
    "\n",
    "    def ddexact(x, y):\n",
    "        duxx = 2 * pi**2 * cos(pi * x)**2 * sin(pi * y)**2 - 2 * pi**2 * sin(\n",
    "            pi * x)**2 * sin(pi * y)**2\n",
    "        duxy = 2 * pi * cos(pi * x) * sin(pi * x) * 2 * pi * cos(pi * y) * sin(\n",
    "            pi * y)\n",
    "        duyx = duxy\n",
    "        duyy = 2 * pi**2 * cos(pi * y)**2 * sin(pi * x)**2 - 2 * pi**2 * sin(\n",
    "            pi * y)**2 * sin(pi * x)**2\n",
    "        return duxx, duxy, duyx, duyy\n",
    "\n",
    "elif example == 'ex2':\n",
    "\n",
    "    @LinearForm\n",
    "    def f_load(v, w):\n",
    "        '''\n",
    "        for $(f, x_{h})$\n",
    "        '''\n",
    "        x = w.x[0]\n",
    "        y = w.x[1]\n",
    "        return (\n",
    "            (sin(pi * x) / 2 - (ep * pi * (exp(-x / ep) + exp(\n",
    "                (x - 1) / ep) - exp(-1 / ep) - 1)) / (2 * (exp(-1 / ep) - 1))) *\n",
    "            (12 * y + ep *\n",
    "            ((exp(-y / ep) *\n",
    "            (3 / (exp(-1 / ep) - 1) + 1 /\n",
    "                (exp(-1 / ep) + 2 * ep * (exp(-1 / ep) - 1) + 1))) / ep**2 + (exp(\n",
    "                    (y - 1) / ep) * (3 / (exp(-1 / ep) - 1) - 1 /\n",
    "                                    (exp(-1 / ep) + 2 * ep *\n",
    "                                    (exp(-1 / ep) - 1) + 1))) / ep**2)) -\n",
    "            ((pi**2 * sin(pi * x)) / 2 + (ep * pi * (exp(-x / ep) / ep**2 + exp(\n",
    "                (x - 1) / ep) / ep**2)) / (2 * (exp(-1 / ep) - 1))) *\n",
    "            (ep * (exp((y - 1) / ep) * (3 / (exp(-1 / ep) - 1) - 1 /\n",
    "                                        (exp(-1 / ep) + 2 * ep *\n",
    "                                        (exp(-1 / ep) - 1) + 1)) + exp(-y / ep) *\n",
    "                (3 / (exp(-1 / ep) - 1) + 1 /\n",
    "                    (exp(-1 / ep) + 2 * ep *\n",
    "                    (exp(-1 / ep) - 1) + 1)) - (3 * exp(-1 / ep) + 3) /\n",
    "                (exp(-1 / ep) - 1) - ((2 * y - 1) * (exp(-1 / ep) - 1)) /\n",
    "                (exp(-1 / ep) + 2 * ep * (exp(-1 / ep) - 1) + 1)) + 2 * y *\n",
    "            (y**2 - 1)) - ep**2 *\n",
    "            (((pi**4 * sin(pi * x)) / 2 - (ep * pi * (exp(-x / ep) / ep**4 + exp(\n",
    "                (x - 1) / ep) / ep**4)) / (2 * (exp(-1 / ep) - 1))) *\n",
    "            (ep * (exp((y - 1) / ep) * (3 / (exp(-1 / ep) - 1) - 1 /\n",
    "                                        (exp(-1 / ep) + 2 * ep *\n",
    "                                        (exp(-1 / ep) - 1) + 1)) + exp(-y / ep) *\n",
    "                    (3 / (exp(-1 / ep) - 1) + 1 /\n",
    "                    (exp(-1 / ep) + 2 * ep *\n",
    "                    (exp(-1 / ep) - 1) + 1)) - (3 * exp(-1 / ep) + 3) /\n",
    "                    (exp(-1 / ep) - 1) - ((2 * y - 1) * (exp(-1 / ep) - 1)) /\n",
    "                    (exp(-1 / ep) + 2 * ep * (exp(-1 / ep) - 1) + 1)) + 2 * y *\n",
    "            (y**2 - 1)) - 2 *\n",
    "            (12 * y + ep *\n",
    "            ((exp(-y / ep) *\n",
    "                (3 / (exp(-1 / ep) - 1) + 1 /\n",
    "                (exp(-1 / ep) + 2 * ep * (exp(-1 / ep) - 1) + 1))) / ep**2 + (exp(\n",
    "                    (y - 1) / ep) * (3 / (exp(-1 / ep) - 1) - 1 /\n",
    "                                    (exp(-1 / ep) + 2 * ep *\n",
    "                                    (exp(-1 / ep) - 1) + 1))) / ep**2)) *\n",
    "            ((pi**2 * sin(pi * x)) / 2 + (ep * pi * (exp(-x / ep) / ep**2 + exp(\n",
    "                (x - 1) / ep) / ep**2)) / (2 * (exp(-1 / ep) - 1))) + ep *\n",
    "            (sin(pi * x) / 2 - (ep * pi * (exp(-x / ep) + exp(\n",
    "                (x - 1) / ep) - exp(-1 / ep) - 1)) / (2 * (exp(-1 / ep) - 1))) *\n",
    "            ((exp(-y / ep) *\n",
    "            (3 / (exp(-1 / ep) - 1) + 1 /\n",
    "                (exp(-1 / ep) + 2 * ep * (exp(-1 / ep) - 1) + 1))) / ep**4 + (exp(\n",
    "                    (y - 1) / ep) * (3 / (exp(-1 / ep) - 1) - 1 /\n",
    "                                    (exp(-1 / ep) + 2 * ep *\n",
    "                                    (exp(-1 / ep) - 1) + 1))) / ep**4))) * v\n",
    "\n",
    "\n",
    "    def exact_u(x, y):\n",
    "        return -(sin(pi * x) / 2 - (ep * pi * (exp(-x / ep) + exp(\n",
    "            (x - 1) / ep) - exp(-1 / ep) - 1)) /\n",
    "                (2 *\n",
    "                (exp(-1 / ep) - 1))) * (ep * (exp(\n",
    "                    (y - 1) / ep) * (3 / (exp(-1 / ep) - 1) - 1 /\n",
    "                                    (exp(-1 / ep) + 2 * ep *\n",
    "                                        (exp(-1 / ep) - 1) + 1)) + exp(-y / ep) *\n",
    "                                                (3 / (exp(-1 / ep) - 1) + 1 /\n",
    "                                                (exp(-1 / ep) + 2 * ep *\n",
    "                                                (exp(-1 / ep) - 1) + 1)) -\n",
    "                                                (3 * exp(-1 / ep) + 3) /\n",
    "                                                (exp(-1 / ep) - 1) -\n",
    "                                                ((2 * y - 1) *\n",
    "                                                (exp(-1 / ep) - 1)) /\n",
    "                                                (exp(-1 / ep) + 2 * ep *\n",
    "                                                (exp(-1 / ep) - 1) + 1)) + 2 * y *\n",
    "                                        (y**2 - 1))\n",
    "\n",
    "\n",
    "    def dexact_u(x, y):\n",
    "        dux = -((pi * cos(pi * x)) / 2 + (ep * pi * (exp(-x / ep) / ep - exp(\n",
    "            (x - 1) / ep) / ep)) /\n",
    "                (2 *\n",
    "                (exp(-1 / ep) - 1))) * (ep * (exp(\n",
    "                    (y - 1) / ep) * (3 / (exp(-1 / ep) - 1) - 1 /\n",
    "                                    (exp(-1 / ep) + 2 * ep *\n",
    "                                    (exp(-1 / ep) - 1) + 1)) + exp(-y / ep) *\n",
    "                                            (3 / (exp(-1 / ep) - 1) + 1 /\n",
    "                                                (exp(-1 / ep) + 2 * ep *\n",
    "                                                (exp(-1 / ep) - 1) + 1)) -\n",
    "                                            (3 * exp(-1 / ep) + 3) /\n",
    "                                            (exp(-1 / ep) - 1) -\n",
    "                                            ((2 * y - 1) * (exp(-1 / ep) - 1)) /\n",
    "                                            (exp(-1 / ep) + 2 * ep *\n",
    "                                                (exp(-1 / ep) - 1) + 1)) + 2 * y *\n",
    "                                        (y**2 - 1))\n",
    "        duy = (sin(pi * x) / 2 - (ep * pi * (exp(-x / ep) + exp(\n",
    "            (x - 1) / ep) - exp(-1 / ep) - 1)) /\n",
    "            (2 * (exp(-1 / ep) - 1))) * (ep * (\n",
    "                (2 * (exp(-1 / ep) - 1)) / (exp(-1 / ep) + 2 * ep *\n",
    "                                            (exp(-1 / ep) - 1) + 1) +\n",
    "                (exp(-y / ep) * (3 / (exp(-1 / ep) - 1) + 1 /\n",
    "                                    (exp(-1 / ep) + 2 * ep *\n",
    "                                    (exp(-1 / ep) - 1) + 1))) / ep -\n",
    "                (exp((y - 1) / ep) *\n",
    "                    (3 / (exp(-1 / ep) - 1) - 1 /\n",
    "                    (exp(-1 / ep) + 2 * ep *\n",
    "                    (exp(-1 / ep) - 1) + 1))) / ep) - 6 * y**2 + 2)\n",
    "        return dux, duy\n",
    "\n",
    "\n",
    "    def ddexact(x, y):\n",
    "        duxx = ((pi**2 * sin(pi * x)) / 2 + (ep * pi * (exp(-x / ep) / ep**2 + exp(\n",
    "            (x - 1) / ep) / ep**2)) /\n",
    "                (2 *\n",
    "                (exp(-1 / ep) - 1))) * (ep * (exp(\n",
    "                    (y - 1) / ep) * (3 / (exp(-1 / ep) - 1) - 1 /\n",
    "                                    (exp(-1 / ep) + 2 * ep *\n",
    "                                    (exp(-1 / ep) - 1) + 1)) + exp(-y / ep) *\n",
    "                                            (3 / (exp(-1 / ep) - 1) + 1 /\n",
    "                                                (exp(-1 / ep) + 2 * ep *\n",
    "                                                (exp(-1 / ep) - 1) + 1)) -\n",
    "                                            (3 * exp(-1 / ep) + 3) /\n",
    "                                            (exp(-1 / ep) - 1) -\n",
    "                                            ((2 * y - 1) * (exp(-1 / ep) - 1)) /\n",
    "                                            (exp(-1 / ep) + 2 * ep *\n",
    "                                                (exp(-1 / ep) - 1) + 1)) + 2 * y *\n",
    "                                        (y**2 - 1))\n",
    "        duxy = ((pi * cos(pi * x)) / 2 + (ep * pi * (exp(-x / ep) / ep - exp(\n",
    "            (x - 1) / ep) / ep)) / (2 * (exp(-1 / ep) - 1))) * (ep * (\n",
    "                (2 * (exp(-1 / ep) - 1)) / (exp(-1 / ep) + 2 * ep *\n",
    "                                            (exp(-1 / ep) - 1) + 1) +\n",
    "                (exp(-y / ep) * (3 / (exp(-1 / ep) - 1) + 1 /\n",
    "                                (exp(-1 / ep) + 2 * ep *\n",
    "                                (exp(-1 / ep) - 1) + 1))) / ep -\n",
    "                (exp((y - 1) / ep) *\n",
    "                (3 / (exp(-1 / ep) - 1) - 1 /\n",
    "                (exp(-1 / ep) + 2 * ep *\n",
    "                (exp(-1 / ep) - 1) + 1))) / ep) - 6 * y**2 + 2)\n",
    "        duyx = duxy\n",
    "        duyy = -(sin(pi * x) / 2 - (ep * pi * (exp(-x / ep) + exp(\n",
    "            (x - 1) / ep) - exp(-1 / ep) - 1)) /\n",
    "                (2 *\n",
    "                (exp(-1 / ep) - 1))) * (12 * y + ep *\n",
    "                                        ((exp(-y / ep) *\n",
    "                                            (3 / (exp(-1 / ep) - 1) + 1 /\n",
    "                                            (exp(-1 / ep) + 2 * ep *\n",
    "                                            (exp(-1 / ep) - 1) + 1))) / ep**2 +\n",
    "                                        (exp((y - 1) / ep) *\n",
    "                                            (3 / (exp(-1 / ep) - 1) - 1 /\n",
    "                                            (exp(-1 / ep) + 2 * ep *\n",
    "                                            (exp(-1 / ep) - 1) + 1))) / ep**2))\n",
    "        return duxx, duxy, duyx, duyy\n",
    "\n",
    "elif example == 'ex3':\n",
    "\n",
    "    @LinearForm\n",
    "    def f_load(v, w):\n",
    "        pix = pi * w.x[0]\n",
    "        piy = pi * w.x[1]\n",
    "        return (2 * pi**2 * sin(pix) * sin(piy)) * v\n",
    "\n",
    "\n",
    "    def exact_u(x, y):\n",
    "        return sin(pi * x) * sin(pi * y)\n",
    "\n",
    "\n",
    "    def dexact_u(x, y):\n",
    "        dux = pi * cos(pi * x) * sin(pi * y)\n",
    "        duy = pi * cos(pi * y) * sin(pi * x)\n",
    "        return dux, duy\n",
    "\n",
    "\n",
    "    def ddexact(x, y):\n",
    "        duxx = -pi**2 * sin(pi * x) * sin(pi * y)\n",
    "        duxy = pi * cos(pi * x) * pi * cos(pi * y)\n",
    "        duyx = duxy\n",
    "        duyy = -pi**2 * sin(pi * y) * sin(pi * x)\n",
    "        return duxx, duxy, duyx, duyy\n",
    "\n",
    "else:\n",
    "    raise Exception('Example not supported')"
   ]
  },
  {
   "cell_type": "code",
   "execution_count": 25,
   "metadata": {
    "code_folding": [],
    "scrolled": false
   },
   "outputs": [
    {
     "name": "stdout",
     "output_type": "stream",
     "text": [
      "epsilon = 1\n",
      "  h    L2u   H1u   H2u   epu\n",
      "2^-2  0.00  0.00  0.00  0.00\n",
      "2^-3  -0.00  0.00  0.00  0.00\n",
      "2^-4  -0.00  -0.00  0.00  0.00\n",
      "2^-5  -0.00  -0.00  -0.00  -0.00\n",
      "2^-6  -0.00  -0.00  -0.00  -0.00\n",
      "epsilon = 0.01\n",
      "  h    L2u   H1u   H2u   epu\n",
      "2^-2  2.15  1.44  0.54  1.34\n",
      "2^-3  1.90  1.48  0.58  1.42\n",
      "2^-4  0.34  0.18  -0.65  0.10\n",
      "2^-5  -0.48  -0.54  -1.30  -0.71\n",
      "2^-6  -0.42  -0.25  -0.63  -0.39\n",
      "epsilon = 0.0001\n",
      "  h    L2u   H1u   H2u   epu\n",
      "2^-2  2.19  1.46  0.53  1.37\n",
      "2^-3  2.39  1.67  0.63  1.62\n",
      "2^-4  2.26  1.67  0.62  1.65\n",
      "2^-5  2.13  1.63  0.58  1.61\n",
      "2^-6  2.03  1.58  0.55  1.57\n",
      "epsilon = 1e-06\n",
      "  h    L2u   H1u   H2u   epu\n",
      "2^-2  2.19  1.46  0.53  1.37\n",
      "2^-3  2.39  1.67  0.63  1.62\n",
      "2^-4  2.26  1.67  0.62  1.65\n",
      "2^-5  2.13  1.63  0.58  1.61\n",
      "2^-6  2.06  1.58  0.55  1.57\n",
      "epsilon = 1e-08\n",
      "  h    L2u   H1u   H2u   epu\n",
      "2^-2  2.19  1.46  0.53  1.37\n",
      "2^-3  2.39  1.67  0.63  1.62\n",
      "2^-4  2.26  1.67  0.62  1.65\n",
      "2^-5  2.13  1.63  0.58  1.61\n",
      "2^-6  2.06  1.58  0.55  1.57\n"
     ]
    }
   ],
   "source": [
    "df_list = []\n",
    "for j in range(epsilon_range):\n",
    "    epsilon = 1 * 10**(-j*2) * (1 - zero_ep)\n",
    "    ep = epsilon\n",
    "    L2_list = []\n",
    "    Du_list = []\n",
    "    D2u_list = []\n",
    "    h_list = []\n",
    "    epu_list = []\n",
    "    m = MeshTri()\n",
    "    \n",
    "    for i in range(1, refine_time+1):\n",
    "        m.refine()\n",
    "        uh0, basis = solve_problem4(m, element_type, solver_type, tol=tol)\n",
    "\n",
    "        U = basis['u'].interpolate(uh0).value\n",
    "\n",
    "        # compute errors\n",
    "\n",
    "        L2u = np.sqrt(L2uError.assemble(basis['u'], w=U))\n",
    "        Du = get_DuError(basis['u'], uh0)\n",
    "        H1u = Du + L2u\n",
    "        D2u = get_D2uError(basis['u'], uh0)\n",
    "        H2u = Du + L2u + D2u\n",
    "        epu = np.sqrt(epsilon**2 * D2u**2 + Du**2)\n",
    "        h_list.append(m.param())\n",
    "        Du_list.append(Du)\n",
    "        L2_list.append(L2u)\n",
    "        D2u_list.append(D2u)\n",
    "        epu_list.append(epu)\n",
    "        \n",
    "    hs = np.array(h_list)\n",
    "    L2s = np.array(L2_list)\n",
    "    Dus = np.array(Du_list)\n",
    "    D2us = np.array(D2u_list)\n",
    "    epus = np.array(epu_list)\n",
    "    H1s = L2s + Dus\n",
    "    H2s = H1s + D2us\n",
    "    \n",
    "    # store data\n",
    "    data = np.array([L2s, H1s, H2s, epus])\n",
    "    df = pd.DataFrame(data.T, columns=['L2', 'H1', 'H2', 'Energy'])\n",
    "    df_list.append(df)\n",
    "    \n",
    "    print('epsilon =', epsilon)\n",
    "    print('  h    L2u   H1u   H2u   epu')\n",
    "    for i in range(H2s.shape[0] - 1):\n",
    "        print(\n",
    "            '2^-' + str(i + 2), ' {:.2f}  {:.2f}  {:.2f}  {:.2f}'.format(\n",
    "                -np.log2(L2s[i + 1] / L2s[i]), -np.log2(H1s[i + 1] / H1s[i]),\n",
    "                -np.log2(H2s[i + 1] / H2s[i]),\n",
    "                -np.log2(epus[i + 1] / epus[i])))\n",
    "#         print(\n",
    "#             '2^-' + str(i + 2), ' {:.5f}  {:.5f}  {:.5f}  {:.5f}'.format(\n",
    "#                 L2s[i + 1], H1s[i + 1],\n",
    "#                 H2s[i + 1],\n",
    "#                 epus[i + 1]))"
   ]
  },
  {
   "cell_type": "markdown",
   "metadata": {},
   "source": [
    "# Single test"
   ]
  },
  {
   "cell_type": "code",
   "execution_count": 472,
   "metadata": {},
   "outputs": [],
   "source": [
    "epsilon = 0\n",
    "ep = epsilon"
   ]
  },
  {
   "cell_type": "code",
   "execution_count": 523,
   "metadata": {
    "code_folding": []
   },
   "outputs": [
    {
     "name": "stdout",
     "output_type": "stream",
     "text": [
      "Wall time: 18 ms\n"
     ]
    }
   ],
   "source": [
    "%%time\n",
    "\n",
    "m = MeshTri()\n",
    "m.refine(2)\n",
    "\n",
    "# equation 1\n",
    "\n",
    "if element_type == 'P1':\n",
    "    element1 = ElementTriP1()\n",
    "elif element_type == 'P2':\n",
    "    element1 = ElementTriP2()\n",
    "else:\n",
    "    raise Exception(\"Element not supported\")\n",
    "\n",
    "basis1 = InteriorBasis(m, element1, intorder=intorder)\n",
    "\n",
    "K1 = asm(laplace, basis1)\n",
    "f1 = asm(f_load, basis1)\n",
    "\n",
    "wh = solve(*condense(K1, f1, D=basis1.find_dofs()), solver=solver_iter_krylov(Precondition=True, tol=tol))\n",
    "\n",
    "# equation 2\n",
    "\n",
    "element2 = ElementTriMorley()\n",
    "basis2 = InteriorBasis(m, element2, intorder=intorder)\n",
    "\n",
    "K2 = asm(zv_load, basis2)\n",
    "f2 = asm(laplace, basis1, basis2) * wh\n",
    "\n",
    "zh = solve(*condense(K2, f2, D=easy_boundary_penalty(basis2)), solver=solver_iter_krylov(Precondition=True, tol=tol))"
   ]
  },
  {
   "cell_type": "code",
   "execution_count": 524,
   "metadata": {},
   "outputs": [
    {
     "data": {
      "text/plain": [
       "{'all': DofsView(obj=<skfem.assembly.dofs.Dofs object at 0x000001AFA6671548>, nodal_ix=array([ 0,  1,  2,  3,  4,  5,  7,  8,  9, 10, 11, 13, 14, 16, 17, 18],\n",
       "       dtype=int64), facet_ix=array([ 0,  1,  2,  4,  5,  7,  8,  9, 10, 11, 14, 15, 24, 25, 28, 29],\n",
       "       dtype=int64), edge_ix=array([], dtype=int64), interior_ix=array([], dtype=int64), nodal_rows=[0], facet_rows=[0], edge_rows=slice(0, 0, None), interior_rows=slice(0, 0, None))}"
      ]
     },
     "execution_count": 524,
     "metadata": {},
     "output_type": "execute_result"
    }
   ],
   "source": [
    "basis2.find_dofs()"
   ]
  },
  {
   "cell_type": "code",
   "execution_count": 525,
   "metadata": {},
   "outputs": [
    {
     "data": {
      "text/plain": [
       "array([ 0,  2,  5, 10, 14,  1,  3,  7, 13, 17,  2,  3,  8, 16, 18,  0,  1,\n",
       "        4,  9, 11], dtype=int64)"
      ]
     },
     "execution_count": 525,
     "metadata": {},
     "output_type": "execute_result"
    }
   ],
   "source": [
    "easy_boundary_penalty(basis2)"
   ]
  },
  {
   "cell_type": "code",
   "execution_count": 526,
   "metadata": {},
   "outputs": [
    {
     "data": {
      "text/plain": [
       "<matplotlib.axes._subplots.AxesSubplot at 0x1afa6b36bc8>"
      ]
     },
     "execution_count": 526,
     "metadata": {},
     "output_type": "execute_result"
    },
    {
     "data": {
      "image/png": "[encoded data removed]",
      "text/plain": [
       "<Figure size 432x288 with 2 Axes>"
      ]
     },
     "metadata": {
      "needs_background": "light"
     },
     "output_type": "display_data"
    }
   ],
   "source": [
    "plot(basis2, zh, colorbar=True)"
   ]
  },
  {
   "cell_type": "code",
   "execution_count": 527,
   "metadata": {
    "code_folding": []
   },
   "outputs": [],
   "source": [
    "# equation 3\n",
    "\n",
    "element3 = {'phi': ElementVectorH1(ElementTriCR()), 'p': ElementTriP0()}\n",
    "basis3 = {variable: InteriorBasis(m, e, intorder=intorder) for variable, e in element3.items()}  \n",
    "\n",
    "fbasis = FacetBasis(m, element3['phi'], intorder=intorder)\n",
    "\n",
    "p1 = asm(penalty_1, fbasis)\n",
    "p2 = asm(penalty_2, fbasis)\n",
    "p3 = asm(penalty_3, fbasis)\n",
    "P = p1 + p2 + p3\n",
    "\n",
    "A = asm(phipsi_load1, basis3['phi']) + epsilon**2 * asm(phipsi_load2, basis3['phi']) + epsilon**2 * P\n",
    "B = asm(phiq_load, basis3['phi'], basis3['p'])\n",
    "C = asm(mass, basis3['p'])\n",
    "\n",
    "F1 = asm(zpsi_load, basis2, basis3['phi']) * zh\n",
    "f3 = np.concatenate([F1, np.zeros(B.shape[0])])\n",
    "K3 = bmat([[A, -B.T], [-B, C]], 'csr')\n",
    "\n",
    "# imposing boundary condition for normal conponent of phi\n",
    "\n",
    "phip = solve(*condense(K3, f3, np.ones_like(f3)*0, D=normal_boundary(basis3['phi'])), solver=solver_iter_krylov(minres, tol=1e-13))\n",
    "\n",
    "phih, ph = np.split(phip, [A.shape[0]])\n",
    "\n",
    "# phip = solve(*condense(K3, f3, D=basis3['phi'].find_dofs()), solver=solver_iter_krylov(spl.minres, tol=1e-13))\n",
    "# phih, ph = np.split(phip, [A.shape[0]])"
   ]
  },
  {
   "cell_type": "code",
   "execution_count": 528,
   "metadata": {},
   "outputs": [],
   "source": [
    "# phip, _ = minres(K3, f3, tol=1e-13)\n",
    "# phih, ph = np.split(phip, [A.shape[0]])"
   ]
  },
  {
   "cell_type": "code",
   "execution_count": 529,
   "metadata": {},
   "outputs": [
    {
     "data": {
      "text/plain": [
       "array([ 2, 10, 28, 30,  8, 16, 48, 50, 15, 19, 57, 59,  1,  5, 21, 23],\n",
       "      dtype=int64)"
      ]
     },
     "execution_count": 529,
     "metadata": {},
     "output_type": "execute_result"
    }
   ],
   "source": [
    "normal_boundary(basis3['phi'])"
   ]
  },
  {
   "cell_type": "code",
   "execution_count": 530,
   "metadata": {},
   "outputs": [
    {
     "data": {
      "text/plain": [
       "(144,)"
      ]
     },
     "execution_count": 530,
     "metadata": {},
     "output_type": "execute_result"
    }
   ],
   "source": [
    "phip.shape"
   ]
  },
  {
   "cell_type": "code",
   "execution_count": 531,
   "metadata": {},
   "outputs": [
    {
     "data": {
      "text/plain": [
       "48.0"
      ]
     },
     "execution_count": 531,
     "metadata": {},
     "output_type": "execute_result"
    }
   ],
   "source": [
    "144/3"
   ]
  },
  {
   "cell_type": "code",
   "execution_count": 532,
   "metadata": {},
   "outputs": [
    {
     "data": {
      "text/plain": [
       "<128x128 sparse matrix of type '<class 'numpy.float64'>'\n",
       "\twith 672 stored elements in Compressed Sparse Row format>"
      ]
     },
     "execution_count": 532,
     "metadata": {},
     "output_type": "execute_result"
    }
   ],
   "source": [
    "condense(K3, f3, np.ones_like(f3)*100, D=normal_boundary(basis3['phi']))[0]"
   ]
  },
  {
   "cell_type": "code",
   "execution_count": 533,
   "metadata": {},
   "outputs": [],
   "source": [
    "testbasis = InteriorBasis(m, ElementTriCR(), intorder=intorder)"
   ]
  },
  {
   "cell_type": "code",
   "execution_count": 534,
   "metadata": {},
   "outputs": [
    {
     "data": {
      "text/plain": [
       "<matplotlib.axes._subplots.AxesSubplot at 0x1afa658df88>"
      ]
     },
     "execution_count": 534,
     "metadata": {},
     "output_type": "execute_result"
    },
    {
     "data": {
      "image/png": "[encoded data removed]",
      "text/plain": [
       "<Figure size 432x288 with 2 Axes>"
      ]
     },
     "metadata": {
      "needs_background": "light"
     },
     "output_type": "display_data"
    }
   ],
   "source": [
    "plot(testbasis, phih[::2], colorbar=True)"
   ]
  },
  {
   "cell_type": "code",
   "execution_count": 535,
   "metadata": {},
   "outputs": [
    {
     "data": {
      "text/plain": [
       "(112,)"
      ]
     },
     "execution_count": 535,
     "metadata": {},
     "output_type": "execute_result"
    }
   ],
   "source": [
    "phih.shape"
   ]
  },
  {
   "cell_type": "code",
   "execution_count": 536,
   "metadata": {},
   "outputs": [],
   "source": [
    "locx = fbasis.doflocs[0][::2]\n",
    "locy = fbasis.doflocs[1][::2]"
   ]
  },
  {
   "cell_type": "code",
   "execution_count": 537,
   "metadata": {},
   "outputs": [],
   "source": [
    "phih1 = phih[::2]\n",
    "phih2 = phih[1::2]"
   ]
  },
  {
   "cell_type": "code",
   "execution_count": 538,
   "metadata": {},
   "outputs": [
    {
     "data": {
      "text/plain": [
       "4"
      ]
     },
     "execution_count": 538,
     "metadata": {},
     "output_type": "execute_result"
    }
   ],
   "source": [
    "sum(locx == 0)"
   ]
  },
  {
   "cell_type": "markdown",
   "metadata": {},
   "source": [
    "phih1"
   ]
  },
  {
   "cell_type": "code",
   "execution_count": 539,
   "metadata": {
    "scrolled": true
   },
   "outputs": [
    {
     "data": {
      "text/plain": [
       "array([0., 0., 0., 0.])"
      ]
     },
     "execution_count": 539,
     "metadata": {},
     "output_type": "execute_result"
    }
   ],
   "source": [
    "phih1[locx == 0]"
   ]
  },
  {
   "cell_type": "code",
   "execution_count": 540,
   "metadata": {},
   "outputs": [
    {
     "data": {
      "text/plain": [
       "array([0., 0., 0., 0.])"
      ]
     },
     "execution_count": 540,
     "metadata": {},
     "output_type": "execute_result"
    }
   ],
   "source": [
    "phih1[locx == 1]"
   ]
  },
  {
   "cell_type": "code",
   "execution_count": 541,
   "metadata": {},
   "outputs": [
    {
     "data": {
      "text/plain": [
       "array([-3.49143062e-16,  1.92950622e+00,  1.87110771e+00,  2.68743989e+00])"
      ]
     },
     "execution_count": 541,
     "metadata": {},
     "output_type": "execute_result"
    }
   ],
   "source": [
    "phih1[locy == 0]"
   ]
  },
  {
   "cell_type": "code",
   "execution_count": 543,
   "metadata": {},
   "outputs": [
    {
     "data": {
      "text/plain": [
       "array([-1.92950622e+00,  1.31394162e-15, -2.68743989e+00, -1.87110771e+00])"
      ]
     },
     "execution_count": 543,
     "metadata": {},
     "output_type": "execute_result"
    }
   ],
   "source": [
    "phih1[locy == 1]"
   ]
  },
  {
   "cell_type": "markdown",
   "metadata": {},
   "source": [
    "phih2"
   ]
  },
  {
   "cell_type": "code",
   "execution_count": 544,
   "metadata": {},
   "outputs": [
    {
     "data": {
      "text/plain": [
       "array([ 3.49225958e-16, -1.92950622e+00, -1.87110771e+00, -2.68743989e+00])"
      ]
     },
     "execution_count": 544,
     "metadata": {},
     "output_type": "execute_result"
    }
   ],
   "source": [
    "phih2[locx == 0]"
   ]
  },
  {
   "cell_type": "code",
   "execution_count": 545,
   "metadata": {},
   "outputs": [
    {
     "data": {
      "text/plain": [
       "array([ 1.92950622e+00, -8.46059391e-16,  2.68743989e+00,  1.87110771e+00])"
      ]
     },
     "execution_count": 545,
     "metadata": {},
     "output_type": "execute_result"
    }
   ],
   "source": [
    "phih2[locx == 1]"
   ]
  },
  {
   "cell_type": "code",
   "execution_count": 546,
   "metadata": {},
   "outputs": [
    {
     "data": {
      "text/plain": [
       "array([0., 0., 0., 0.])"
      ]
     },
     "execution_count": 546,
     "metadata": {},
     "output_type": "execute_result"
    }
   ],
   "source": [
    "phih2[locy == 0]"
   ]
  },
  {
   "cell_type": "code",
   "execution_count": 518,
   "metadata": {},
   "outputs": [
    {
     "data": {
      "text/plain": [
       "array([0., 0., 0., 0.])"
      ]
     },
     "execution_count": 518,
     "metadata": {},
     "output_type": "execute_result"
    }
   ],
   "source": [
    "phih2[locy == 1]"
   ]
  },
  {
   "cell_type": "code",
   "execution_count": 495,
   "metadata": {},
   "outputs": [],
   "source": [
    "testbasis = InteriorBasis(m, ElementTriCR(), intorder=intorder)"
   ]
  },
  {
   "cell_type": "code",
   "execution_count": 496,
   "metadata": {},
   "outputs": [],
   "source": [
    "# equation 4\n",
    "\n",
    "element4 = ElementTriMorley()\n",
    "basis4 = InteriorBasis(m, element4, intorder=intorder)\n",
    "\n",
    "K4 = asm(uchi_load, basis4)\n",
    "f4 = asm(phichi_load, basis3['phi'], basis4) * phih\n",
    "\n",
    "uh = solve(*condense(K4, f4, D=basis4.find_dofs()), solver=solver_iter_krylov(Precondition=True, tol=tol))"
   ]
  },
  {
   "cell_type": "code",
   "execution_count": 497,
   "metadata": {},
   "outputs": [
    {
     "data": {
      "text/plain": [
       "<bound method Mesh.boundary_nodes of Triangular mesh with 25 vertices and 32 elements.>"
      ]
     },
     "execution_count": 497,
     "metadata": {},
     "output_type": "execute_result"
    }
   ],
   "source": [
    "m.boundary_nodes"
   ]
  },
  {
   "cell_type": "code",
   "execution_count": null,
   "metadata": {},
   "outputs": [],
   "source": []
  }
 ],
 "metadata": {
  "kernelspec": {
   "display_name": "Python 3",
   "language": "python",
   "name": "python3"
  },
  "language_info": {
   "codemirror_mode": {
    "name": "ipython",
    "version": 3
   },
   "file_extension": ".py",
   "mimetype": "text/x-python",
   "name": "python",
   "nbconvert_exporter": "python",
   "pygments_lexer": "ipython3",
   "version": "3.7.4"
  },
  "toc": {
   "base_numbering": 1,
   "nav_menu": {
    "height": "356.983px",
    "width": "288.983px"
   },
   "number_sections": true,
   "sideBar": false,
   "skip_h1_title": false,
   "title_cell": "Table of Contents",
   "title_sidebar": "Contents",
   "toc_cell": false,
   "toc_position": {},
   "toc_section_display": true,
   "toc_window_display": false
  },
  "varInspector": {
   "cols": {
    "lenName": 16,
    "lenType": 16,
    "lenVar": 40
   },
   "kernels_config": {
    "python": {
     "delete_cmd_postfix": "",
     "delete_cmd_prefix": "del ",
     "library": "var_list.py",
     "varRefreshCmd": "print(var_dic_list())"
    },
    "r": {
     "delete_cmd_postfix": ") ",
     "delete_cmd_prefix": "rm(",
     "library": "var_list.r",
     "varRefreshCmd": "cat(var_dic_list()) "
    }
   },
   "position": {
    "height": "734.233px",
    "left": "1264px",
    "right": "20px",
    "top": "120px",
    "width": "681.867px"
   },
   "types_to_exclude": [
    "module",
    "function",
    "builtin_function_or_method",
    "instance",
    "_Feature"
   ],
   "window_display": false
  }
 },
 "nbformat": 4,
 "nbformat_minor": 4
}
