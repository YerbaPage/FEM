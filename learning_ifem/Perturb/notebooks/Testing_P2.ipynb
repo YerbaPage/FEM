{
 "cells": [
  {
   "cell_type": "code",
   "execution_count": 33,
   "metadata": {},
   "outputs": [],
   "source": [
    "from skfem import *\n",
    "import numpy as np\n",
    "from skfem.visuals.matplotlib import draw, plot\n",
    "from skfem.utils import solver_iter_krylov\n",
    "from skfem.helpers import d, dd, ddd, dot, ddot, grad, dddot, prod\n",
    "from scipy.sparse.linalg import LinearOperator, minres\n",
    "from skfem import *\n",
    "from skfem.models.poisson import *\n",
    "from skfem.assembly import BilinearForm, LinearForm\n",
    "import matplotlib.pyplot as plt\n",
    "from mpl_toolkits.mplot3d import Axes3D\n",
    "plt.rcParams['figure.dpi'] = 200\n",
    "\n",
    "pi = np.pi\n",
    "sin = np.sin\n",
    "cos = np.cos\n",
    "exp = np.exp"
   ]
  },
  {
   "cell_type": "markdown",
   "metadata": {},
   "source": [
    "## Problem"
   ]
  },
  {
   "cell_type": "markdown",
   "metadata": {},
   "source": [
    "\n",
    "\\begin{aligned}\n",
    "\\left(\\nabla w_{h}, \\nabla \\chi_{h}\\right) &=\\left(f, \\chi_{h}\\right) & & \\forall \\chi_{h} \\in W_{h}\n",
    "\\end{aligned}"
   ]
  },
  {
   "cell_type": "markdown",
   "metadata": {},
   "source": [
    "## Forms and errors"
   ]
  },
  {
   "cell_type": "code",
   "execution_count": 34,
   "metadata": {
    "code_folding": []
   },
   "outputs": [],
   "source": [
    "def exact_u(x, y):\n",
    "    return sin(pi * x) * sin(pi * y)\n",
    "\n",
    "\n",
    "def dexact_u(x, y):\n",
    "    dux = pi * cos(pi * x) * sin(pi * y)\n",
    "    duy = pi * cos(pi * y) * sin(pi * x)\n",
    "    return dux, duy"
   ]
  },
  {
   "cell_type": "code",
   "execution_count": 35,
   "metadata": {},
   "outputs": [],
   "source": [
    "@Functional\n",
    "def L2uError(w):\n",
    "    x, y = w.x\n",
    "    return (w.w - exact_u(x, y))**2\n",
    "\n",
    "\n",
    "def get_DuError(basis, u):\n",
    "    duh = basis.interpolate(u).grad\n",
    "    x = basis.global_coordinates().value\n",
    "    dx = basis.dx  # quadrature weights\n",
    "    dux, duy = dexact_u(x[0], x[1])\n",
    "    return np.sqrt(np.sum(((duh[0] - dux)**2 + (duh[1] - duy)**2) * dx))\n",
    "\n",
    "\n",
    "@LinearForm\n",
    "def f_load(v, w):\n",
    "    global ww\n",
    "    ww = w\n",
    "    pix = pi * w.x[0]\n",
    "    piy = pi * w.x[1]\n",
    "    return (2 * pi**2 * sin(pix) * sin(piy)) * v\n",
    "\n",
    "\n",
    "@BilinearForm\n",
    "def laplace(u, v, w):\n",
    "    return dot(grad(u), grad(v))"
   ]
  },
  {
   "cell_type": "code",
   "execution_count": 36,
   "metadata": {},
   "outputs": [
    {
     "name": "stdout",
     "output_type": "stream",
     "text": [
      "L2:  1.2515205687725662e-05\n",
      "H1:  0.0013943264128173747\n"
     ]
    }
   ],
   "source": [
    "m = MeshTri()\n",
    "\n",
    "m.refine(5)\n",
    "element = ElementTriP2()\n",
    "basis = InteriorBasis(m, element, intorder=3)\n",
    "\n",
    "K1 = asm(laplace, basis)\n",
    "f1 = asm(f_load, basis)\n",
    "\n",
    "uh = solve(*condense(K1, f1, D=basis.find_dofs()),\n",
    "           solver=solver_iter_krylov(tol=1e-8))\n",
    "\n",
    "U = basis.interpolate(uh).value\n",
    "\n",
    "L2u = np.sqrt(L2uError.assemble(basis, w=U))\n",
    "Du = get_DuError(basis, uh)\n",
    "H1u = Du + L2u\n",
    "print('L2: ', L2u)\n",
    "print('H1: ', H1u)"
   ]
  },
  {
   "cell_type": "code",
   "execution_count": 39,
   "metadata": {},
   "outputs": [
    {
     "name": "stdout",
     "output_type": "stream",
     "text": [
      "L2:  0.04225109196587925\n",
      "H1:  0.38050952746310146\n",
      "L2:  0.005987736383244291\n",
      "H1:  0.09357395999914364\n",
      "L2:  0.0007858901968989981\n",
      "H1:  0.022841770498715858\n",
      "L2:  9.971026877266543e-05\n",
      "H1:  0.005624103978393136\n",
      "L2:  1.2515205687725662e-05\n",
      "H1:  0.0013943264128173747\n",
      "L2:  1.5660987890845767e-06\n",
      "H1:  0.0003470663338913969\n",
      "L2:  1.9581826654013292e-07\n",
      "H1:  8.657394882554599e-05\n",
      "L2:  2.4479213716165906e-08\n",
      "H1:  2.1619207474292677e-05\n",
      "L2:  3.059986007432025e-09\n",
      "H1:  5.4017544061605344e-06\n",
      "L2:  3.828108161424987e-10\n",
      "H1:  1.3500572023548e-06\n"
     ]
    }
   ],
   "source": [
    "m = MeshTri()\n",
    "\n",
    "for i in range(1, 11):\n",
    "    m.refine()\n",
    "    element = ElementTriP2()\n",
    "    basis = InteriorBasis(m, element, intorder=3)\n",
    "\n",
    "    K1 = asm(laplace, basis)\n",
    "    f1 = asm(f_load, basis)\n",
    "\n",
    "    uh = solve(*condense(K1, f1, D=basis.find_dofs()),\n",
    "               solver=solver_iter_krylov(tol=1e-8))\n",
    "    \n",
    "    U = basis.interpolate(uh).value\n",
    "\n",
    "    L2u = np.sqrt(L2uError.assemble(basis, w=U))\n",
    "    Du = get_DuError(basis, uh)\n",
    "    H1u = Du + L2u\n",
    "    print('L2: ', L2u)\n",
    "    print('H1: ', H1u)\n",
    "    "
   ]
  },
  {
   "cell_type": "code",
   "execution_count": 28,
   "metadata": {},
   "outputs": [],
   "source": [
    "element = ElementTriP2()\n",
    "basis = InteriorBasis(m, element, intorder=3)"
   ]
  },
  {
   "cell_type": "code",
   "execution_count": 23,
   "metadata": {},
   "outputs": [
    {
     "data": {
      "text/plain": [
       "(2, 25)"
      ]
     },
     "execution_count": 23,
     "metadata": {},
     "output_type": "execute_result"
    }
   ],
   "source": [
    "basis.doflocs.shape"
   ]
  },
  {
   "cell_type": "code",
   "execution_count": 24,
   "metadata": {},
   "outputs": [
    {
     "data": {
      "text/plain": [
       "DofsView(obj=<skfem.assembly.dofs.Dofs object at 0x00000178283DDD08>, nodal_ix=array([ 0,  1,  2,  3,  4,  5,  7,  8,  9, 10, 11, 13, 14, 16, 17, 18],\n",
       "      dtype=int64), facet_ix=array([ 0,  1,  2,  4,  5,  7,  8,  9, 10, 11, 14, 15, 24, 25, 28, 29],\n",
       "      dtype=int64), edge_ix=array([], dtype=int64), interior_ix=array([], dtype=int64), nodal_rows=[0], facet_rows=slice(0, 0, None), edge_rows=slice(0, 0, None), interior_rows=slice(0, 0, None))"
      ]
     },
     "execution_count": 24,
     "metadata": {},
     "output_type": "execute_result"
    }
   ],
   "source": [
    "basis.get_dofs()"
   ]
  },
  {
   "cell_type": "code",
   "execution_count": 25,
   "metadata": {},
   "outputs": [
    {
     "data": {
      "text/plain": [
       "array([ 0,  1,  2,  3,  4,  5,  7,  8,  9, 10, 11, 13, 14, 16, 17, 18],\n",
       "      dtype=int64)"
      ]
     },
     "execution_count": 25,
     "metadata": {},
     "output_type": "execute_result"
    }
   ],
   "source": [
    "m.boundary_nodes()"
   ]
  },
  {
   "cell_type": "code",
   "execution_count": 26,
   "metadata": {},
   "outputs": [
    {
     "data": {
      "text/plain": [
       "array([ 0,  1,  2,  4,  5,  7,  8,  9, 10, 11, 14, 15, 24, 25, 28, 29],\n",
       "      dtype=int64)"
      ]
     },
     "execution_count": 26,
     "metadata": {},
     "output_type": "execute_result"
    }
   ],
   "source": [
    "m.boundary_facets()"
   ]
  },
  {
   "cell_type": "code",
   "execution_count": 29,
   "metadata": {},
   "outputs": [
    {
     "data": {
      "text/plain": [
       "(2, 81)"
      ]
     },
     "execution_count": 29,
     "metadata": {},
     "output_type": "execute_result"
    }
   ],
   "source": [
    "basis.doflocs.shape"
   ]
  },
  {
   "cell_type": "code",
   "execution_count": 30,
   "metadata": {},
   "outputs": [
    {
     "data": {
      "text/plain": [
       "DofsView(obj=<skfem.assembly.dofs.Dofs object at 0x000001783FD37A88>, nodal_ix=array([ 0,  1,  2,  3,  4,  5,  7,  8,  9, 10, 11, 13, 14, 16, 17, 18],\n",
       "      dtype=int64), facet_ix=array([ 0,  1,  2,  4,  5,  7,  8,  9, 10, 11, 14, 15, 24, 25, 28, 29],\n",
       "      dtype=int64), edge_ix=array([], dtype=int64), interior_ix=array([], dtype=int64), nodal_rows=[0], facet_rows=[0], edge_rows=slice(0, 0, None), interior_rows=slice(0, 0, None))"
      ]
     },
     "execution_count": 30,
     "metadata": {},
     "output_type": "execute_result"
    }
   ],
   "source": [
    "basis.get_dofs()"
   ]
  },
  {
   "cell_type": "code",
   "execution_count": 31,
   "metadata": {},
   "outputs": [
    {
     "data": {
      "text/plain": [
       "array([ 0,  1,  2,  3,  4,  5,  7,  8,  9, 10, 11, 13, 14, 16, 17, 18],\n",
       "      dtype=int64)"
      ]
     },
     "execution_count": 31,
     "metadata": {},
     "output_type": "execute_result"
    }
   ],
   "source": [
    "m.boundary_nodes()"
   ]
  },
  {
   "cell_type": "code",
   "execution_count": 32,
   "metadata": {},
   "outputs": [
    {
     "data": {
      "text/plain": [
       "array([ 0,  1,  2,  4,  5,  7,  8,  9, 10, 11, 14, 15, 24, 25, 28, 29],\n",
       "      dtype=int64)"
      ]
     },
     "execution_count": 32,
     "metadata": {},
     "output_type": "execute_result"
    }
   ],
   "source": [
    "m.boundary_facets()"
   ]
  },
  {
   "cell_type": "code",
   "execution_count": null,
   "metadata": {},
   "outputs": [],
   "source": []
  }
 ],
 "metadata": {
  "kernelspec": {
   "display_name": "Python 3",
   "language": "python",
   "name": "python3"
  },
  "language_info": {
   "codemirror_mode": {
    "name": "ipython",
    "version": 3
   },
   "file_extension": ".py",
   "mimetype": "text/x-python",
   "name": "python",
   "nbconvert_exporter": "python",
   "pygments_lexer": "ipython3",
   "version": "3.7.4"
  },
  "toc": {
   "base_numbering": 1,
   "nav_menu": {},
   "number_sections": true,
   "sideBar": true,
   "skip_h1_title": false,
   "title_cell": "Table of Contents",
   "title_sidebar": "Contents",
   "toc_cell": false,
   "toc_position": {
    "height": "calc(100% - 180px)",
    "left": "10px",
    "top": "150px",
    "width": "367px"
   },
   "toc_section_display": true,
   "toc_window_display": false
  },
  "varInspector": {
   "cols": {
    "lenName": 16,
    "lenType": 16,
    "lenVar": 40
   },
   "kernels_config": {
    "python": {
     "delete_cmd_postfix": "",
     "delete_cmd_prefix": "del ",
     "library": "var_list.py",
     "varRefreshCmd": "print(var_dic_list())"
    },
    "r": {
     "delete_cmd_postfix": ") ",
     "delete_cmd_prefix": "rm(",
     "library": "var_list.r",
     "varRefreshCmd": "cat(var_dic_list()) "
    }
   },
   "types_to_exclude": [
    "module",
    "function",
    "builtin_function_or_method",
    "instance",
    "_Feature"
   ],
   "window_display": false
  }
 },
 "nbformat": 4,
 "nbformat_minor": 4
}
