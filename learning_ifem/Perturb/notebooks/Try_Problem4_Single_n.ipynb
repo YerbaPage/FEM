{
 "cells": [
  {
   "cell_type": "markdown",
   "metadata": {},
   "source": [
    "# Solving a Fourth Order Elliptic Singular Perturbation Problem\n",
    "\n",
    "$$\n",
    "\\left\\{\\begin{array}{lr}\n",
    "\\varepsilon^{2} \\Delta^{2} u-\\Delta u=f & \\text { in } \\Omega \\\\\n",
    "u=\\partial_{n} u=0 & \\text { on } \\partial \\Omega\n",
    "\\end{array}\\right.\n",
    "$$"
   ]
  },
  {
   "cell_type": "markdown",
   "metadata": {},
   "source": [
    "## Problem 3\n",
    "Now let's move to the next stage:\n",
    "$$\n",
    "\\begin{aligned}\n",
    "\\left(\\nabla w_{h}, \\nabla \\chi_{h}\\right)&=\\left(f, \\chi_{h}\\right) \\\\\n",
    "\\left(\\operatorname{curl}_{h} z_{h}, \\operatorname{curl}_{h} v_{h}\\right) &=\\left(\\nabla w_{h}, \\nabla_{h} v_{h}\\right) \\\\\n",
    "\\left(\\phi_{h}, \\psi_{h}\\right)+\\varepsilon^{2}\\left(\\nabla_{h} \\phi_{h}, \\nabla_{h} \\psi_{h}\\right)+\\left(\\operatorname{div}_{h} \\psi_{h}, p_{h}\\right) &=\\left(\\operatorname{curl}_{h} z_{h}, \\psi_{h}\\right) \\\\\n",
    "\\left(\\operatorname{div}_{h} \\phi_{h}, q_{h}\\right) &=0 \\\\\n",
    "\\left(\\operatorname{curl}_{h} u_{h 0}, \\operatorname{curl}_{h} \\chi_{h}\\right) &=\\left(\\phi_{h}, \\operatorname{curl}_{h} \\chi_{h}\\right)\n",
    "\\end{aligned}\n",
    "$$"
   ]
  },
  {
   "cell_type": "code",
   "execution_count": 1,
   "metadata": {},
   "outputs": [],
   "source": [
    "from skfem import *\n",
    "import numpy as np\n",
    "from utils import solver_iter_krylov, solver_iter_pyamg, solver_iter_mgcg\n",
    "from skfem.helpers import d, dd, ddd, dot, ddot, grad, dddot, prod, div, curl\n",
    "from scipy.sparse.linalg import LinearOperator, minres\n",
    "from skfem.models.poisson import *\n",
    "from skfem.assembly import BilinearForm, LinearForm\n",
    "from skfem.visuals.matplotlib import draw, plot\n",
    "import scipy.sparse.linalg as spl\n",
    "from scipy.sparse import bmat\n",
    "from skfem.visuals.matplotlib import draw, plot\n",
    "import datetime\n",
    "import pandas as pd\n",
    "import sys\n",
    "import time\n",
    "\n",
    "pi = np.pi\n",
    "sin = np.sin\n",
    "cos = np.cos\n",
    "exp = np.exp\n",
    "\n",
    "# parameters\n",
    "\n",
    "tol = 1e-5\n",
    "intorder = 4\n",
    "solver_type = 'mgcg'\n",
    "refine_time = 5\n",
    "epsilon_range = 4\n",
    "zero_ep = False\n",
    "element_type = 'P1'\n",
    "sigma = 5\n",
    "penalty = True\n",
    "example = 'ex1'"
   ]
  },
  {
   "cell_type": "markdown",
   "metadata": {},
   "source": [
    "## Forms and errors"
   ]
  },
  {
   "cell_type": "code",
   "execution_count": 43,
   "metadata": {
    "code_folding": [
     22,
     30,
     35,
     43
    ]
   },
   "outputs": [],
   "source": [
    "def easy_boundary(basis):\n",
    "    '''\n",
    "    Input basis\n",
    "    ----------------\n",
    "    Return D for boundary conditions\n",
    "    '''\n",
    "\n",
    "    dofs = basis.find_dofs({\n",
    "        'left': m.facets_satisfying(lambda x: x[0] == 0),\n",
    "        'right': m.facets_satisfying(lambda x: x[0] == 1),\n",
    "        'top': m.facets_satisfying(lambda x: x[1] == 1),\n",
    "        'buttom': m.facets_satisfying(lambda x: x[1] == 0)\n",
    "    })\n",
    "\n",
    "    D = np.concatenate((dofs['left'].nodal['u'], dofs['right'].nodal['u'],\n",
    "                        dofs['top'].nodal['u'], dofs['buttom'].nodal['u'],\n",
    "                        dofs['left'].facet['u_n'], dofs['right'].facet['u_n'],\n",
    "                        dofs['top'].facet['u_n'], dofs['buttom'].facet['u_n']))\n",
    "    return D\n",
    "\n",
    "\n",
    "@BilinearForm\n",
    "def laplace(u, v, w):\n",
    "    '''\n",
    "    for $(\\nabla w_{h}, \\nabla \\chi_{h})$\n",
    "    '''\n",
    "    return dot(grad(u), grad(v))\n",
    "\n",
    "\n",
    "@Functional\n",
    "def L2uError(w):\n",
    "    x, y = w.x\n",
    "    return (w.w - exact_u(x, y))**2\n",
    "\n",
    "\n",
    "def get_DuError(basis, u):\n",
    "    duh = basis.interpolate(u).grad\n",
    "    x = basis.global_coordinates().value\n",
    "    dx = basis.dx  # quadrature weights\n",
    "    dux, duy = dexact_u(x[0], x[1])\n",
    "    return np.sqrt(np.sum(((duh[0] - dux)**2 + (duh[1] - duy)**2) * dx))\n",
    "\n",
    "\n",
    "def get_D2uError(basis, u):\n",
    "    dduh = basis.interpolate(u).hess\n",
    "    x = basis.global_coordinates(\n",
    "    ).value  # coordinates of quadrature points [x, y]\n",
    "    dx = basis.dx  # quadrature weights\n",
    "    duxx, duxy, duyx, duyy = ddexact(x[0], x[1])\n",
    "    return np.sqrt(\n",
    "        np.sum(((dduh[0][0] - duxx)**2 + (dduh[0][1] - duxy)**2 +\n",
    "                (dduh[1][1] - duyy)**2 + (dduh[1][0] - duyx)**2) * dx))"
   ]
  },
  {
   "cell_type": "code",
   "execution_count": 44,
   "metadata": {
    "code_folding": [
     0
    ]
   },
   "outputs": [],
   "source": [
    "def difficult_boundary(basis):\n",
    "    '''\n",
    "    Input basis\n",
    "    ----------------\n",
    "    Return D for boundary conditions for u^n\n",
    "    '''\n",
    "\n",
    "    dofs = basis.find_dofs({\n",
    "        'left': m.facets_satisfying(lambda x: x[0] == 0),\n",
    "        'right': m.facets_satisfying(lambda x: x[0] == 1),\n",
    "        'top': m.facets_satisfying(lambda x: x[1] == 1),\n",
    "        'buttom': m.facets_satisfying(lambda x: x[1] == 0)\n",
    "    })\n",
    "\n",
    "    D = np.concatenate((dofs['left'].facet['u^1'], dofs['right'].facet['u^1'],\n",
    "                        dofs['top'].facet['u^2'], dofs['buttom'].facet['u^2']))\n",
    "    return D"
   ]
  },
  {
   "cell_type": "markdown",
   "metadata": {},
   "source": [
    "## Examples"
   ]
  },
  {
   "cell_type": "code",
   "execution_count": 45,
   "metadata": {
    "code_folding": [
     0,
     36,
     191,
     217
    ]
   },
   "outputs": [],
   "source": [
    "if example == 'ex1':\n",
    "\n",
    "    @LinearForm\n",
    "    def f_load(v, w):\n",
    "        '''\n",
    "        for $(f, x_{h})$\n",
    "        '''\n",
    "        pix = pi * w.x[0]\n",
    "        piy = pi * w.x[1]\n",
    "        lu = 2 * (pi)**2 * (cos(2 * pix) * ((sin(piy))**2) + cos(2 * piy) *\n",
    "                            ((sin(pix))**2))\n",
    "        llu = -8 * (pi)**4 * (cos(2 * pix) * sin(piy)**2 + cos(2 * piy) *\n",
    "                            sin(pix)**2 - cos(2 * pix) * cos(2 * piy))\n",
    "        return (epsilon**2 * llu - lu) * v\n",
    "\n",
    "\n",
    "    def exact_u(x, y):\n",
    "        return (sin(pi * x) * sin(pi * y))**2\n",
    "\n",
    "\n",
    "    def dexact_u(x, y):\n",
    "        dux = 2 * pi * cos(pi * x) * sin(pi * x) * sin(pi * y)**2\n",
    "        duy = 2 * pi * cos(pi * y) * sin(pi * x)**2 * sin(pi * y)\n",
    "        return dux, duy\n",
    "\n",
    "\n",
    "    def ddexact(x, y):\n",
    "        duxx = 2 * pi**2 * cos(pi * x)**2 * sin(pi * y)**2 - 2 * pi**2 * sin(\n",
    "            pi * x)**2 * sin(pi * y)**2\n",
    "        duxy = 2 * pi * cos(pi * x) * sin(pi * x) * 2 * pi * cos(pi * y) * sin(\n",
    "            pi * y)\n",
    "        duyx = duxy\n",
    "        duyy = 2 * pi**2 * cos(pi * y)**2 * sin(pi * x)**2 - 2 * pi**2 * sin(\n",
    "            pi * y)**2 * sin(pi * x)**2\n",
    "        return duxx, duxy, duyx, duyy\n",
    "\n",
    "elif example == 'ex2':\n",
    "\n",
    "    @LinearForm\n",
    "    def f_load(v, w):\n",
    "        '''\n",
    "        for $(f, x_{h})$\n",
    "        '''\n",
    "        x = w.x[0]\n",
    "        y = w.x[1]\n",
    "        return (\n",
    "            (sin(pi * x) / 2 - (ep * pi * (exp(-x / ep) + exp(\n",
    "                (x - 1) / ep) - exp(-1 / ep) - 1)) / (2 * (exp(-1 / ep) - 1))) *\n",
    "            (12 * y + ep *\n",
    "            ((exp(-y / ep) *\n",
    "            (3 / (exp(-1 / ep) - 1) + 1 /\n",
    "                (exp(-1 / ep) + 2 * ep * (exp(-1 / ep) - 1) + 1))) / ep**2 + (exp(\n",
    "                    (y - 1) / ep) * (3 / (exp(-1 / ep) - 1) - 1 /\n",
    "                                    (exp(-1 / ep) + 2 * ep *\n",
    "                                    (exp(-1 / ep) - 1) + 1))) / ep**2)) -\n",
    "            ((pi**2 * sin(pi * x)) / 2 + (ep * pi * (exp(-x / ep) / ep**2 + exp(\n",
    "                (x - 1) / ep) / ep**2)) / (2 * (exp(-1 / ep) - 1))) *\n",
    "            (ep * (exp((y - 1) / ep) * (3 / (exp(-1 / ep) - 1) - 1 /\n",
    "                                        (exp(-1 / ep) + 2 * ep *\n",
    "                                        (exp(-1 / ep) - 1) + 1)) + exp(-y / ep) *\n",
    "                (3 / (exp(-1 / ep) - 1) + 1 /\n",
    "                    (exp(-1 / ep) + 2 * ep *\n",
    "                    (exp(-1 / ep) - 1) + 1)) - (3 * exp(-1 / ep) + 3) /\n",
    "                (exp(-1 / ep) - 1) - ((2 * y - 1) * (exp(-1 / ep) - 1)) /\n",
    "                (exp(-1 / ep) + 2 * ep * (exp(-1 / ep) - 1) + 1)) + 2 * y *\n",
    "            (y**2 - 1)) - ep**2 *\n",
    "            (((pi**4 * sin(pi * x)) / 2 - (ep * pi * (exp(-x / ep) / ep**4 + exp(\n",
    "                (x - 1) / ep) / ep**4)) / (2 * (exp(-1 / ep) - 1))) *\n",
    "            (ep * (exp((y - 1) / ep) * (3 / (exp(-1 / ep) - 1) - 1 /\n",
    "                                        (exp(-1 / ep) + 2 * ep *\n",
    "                                        (exp(-1 / ep) - 1) + 1)) + exp(-y / ep) *\n",
    "                    (3 / (exp(-1 / ep) - 1) + 1 /\n",
    "                    (exp(-1 / ep) + 2 * ep *\n",
    "                    (exp(-1 / ep) - 1) + 1)) - (3 * exp(-1 / ep) + 3) /\n",
    "                    (exp(-1 / ep) - 1) - ((2 * y - 1) * (exp(-1 / ep) - 1)) /\n",
    "                    (exp(-1 / ep) + 2 * ep * (exp(-1 / ep) - 1) + 1)) + 2 * y *\n",
    "            (y**2 - 1)) - 2 *\n",
    "            (12 * y + ep *\n",
    "            ((exp(-y / ep) *\n",
    "                (3 / (exp(-1 / ep) - 1) + 1 /\n",
    "                (exp(-1 / ep) + 2 * ep * (exp(-1 / ep) - 1) + 1))) / ep**2 + (exp(\n",
    "                    (y - 1) / ep) * (3 / (exp(-1 / ep) - 1) - 1 /\n",
    "                                    (exp(-1 / ep) + 2 * ep *\n",
    "                                    (exp(-1 / ep) - 1) + 1))) / ep**2)) *\n",
    "            ((pi**2 * sin(pi * x)) / 2 + (ep * pi * (exp(-x / ep) / ep**2 + exp(\n",
    "                (x - 1) / ep) / ep**2)) / (2 * (exp(-1 / ep) - 1))) + ep *\n",
    "            (sin(pi * x) / 2 - (ep * pi * (exp(-x / ep) + exp(\n",
    "                (x - 1) / ep) - exp(-1 / ep) - 1)) / (2 * (exp(-1 / ep) - 1))) *\n",
    "            ((exp(-y / ep) *\n",
    "            (3 / (exp(-1 / ep) - 1) + 1 /\n",
    "                (exp(-1 / ep) + 2 * ep * (exp(-1 / ep) - 1) + 1))) / ep**4 + (exp(\n",
    "                    (y - 1) / ep) * (3 / (exp(-1 / ep) - 1) - 1 /\n",
    "                                    (exp(-1 / ep) + 2 * ep *\n",
    "                                    (exp(-1 / ep) - 1) + 1))) / ep**4))) * v\n",
    "\n",
    "\n",
    "    def exact_u(x, y):\n",
    "        return -(sin(pi * x) / 2 - (ep * pi * (exp(-x / ep) + exp(\n",
    "            (x - 1) / ep) - exp(-1 / ep) - 1)) /\n",
    "                (2 *\n",
    "                (exp(-1 / ep) - 1))) * (ep * (exp(\n",
    "                    (y - 1) / ep) * (3 / (exp(-1 / ep) - 1) - 1 /\n",
    "                                    (exp(-1 / ep) + 2 * ep *\n",
    "                                        (exp(-1 / ep) - 1) + 1)) + exp(-y / ep) *\n",
    "                                                (3 / (exp(-1 / ep) - 1) + 1 /\n",
    "                                                (exp(-1 / ep) + 2 * ep *\n",
    "                                                (exp(-1 / ep) - 1) + 1)) -\n",
    "                                                (3 * exp(-1 / ep) + 3) /\n",
    "                                                (exp(-1 / ep) - 1) -\n",
    "                                                ((2 * y - 1) *\n",
    "                                                (exp(-1 / ep) - 1)) /\n",
    "                                                (exp(-1 / ep) + 2 * ep *\n",
    "                                                (exp(-1 / ep) - 1) + 1)) + 2 * y *\n",
    "                                        (y**2 - 1))\n",
    "\n",
    "\n",
    "    def dexact_u(x, y):\n",
    "        dux = -((pi * cos(pi * x)) / 2 + (ep * pi * (exp(-x / ep) / ep - exp(\n",
    "            (x - 1) / ep) / ep)) /\n",
    "                (2 *\n",
    "                (exp(-1 / ep) - 1))) * (ep * (exp(\n",
    "                    (y - 1) / ep) * (3 / (exp(-1 / ep) - 1) - 1 /\n",
    "                                    (exp(-1 / ep) + 2 * ep *\n",
    "                                    (exp(-1 / ep) - 1) + 1)) + exp(-y / ep) *\n",
    "                                            (3 / (exp(-1 / ep) - 1) + 1 /\n",
    "                                                (exp(-1 / ep) + 2 * ep *\n",
    "                                                (exp(-1 / ep) - 1) + 1)) -\n",
    "                                            (3 * exp(-1 / ep) + 3) /\n",
    "                                            (exp(-1 / ep) - 1) -\n",
    "                                            ((2 * y - 1) * (exp(-1 / ep) - 1)) /\n",
    "                                            (exp(-1 / ep) + 2 * ep *\n",
    "                                                (exp(-1 / ep) - 1) + 1)) + 2 * y *\n",
    "                                        (y**2 - 1))\n",
    "        duy = (sin(pi * x) / 2 - (ep * pi * (exp(-x / ep) + exp(\n",
    "            (x - 1) / ep) - exp(-1 / ep) - 1)) /\n",
    "            (2 * (exp(-1 / ep) - 1))) * (ep * (\n",
    "                (2 * (exp(-1 / ep) - 1)) / (exp(-1 / ep) + 2 * ep *\n",
    "                                            (exp(-1 / ep) - 1) + 1) +\n",
    "                (exp(-y / ep) * (3 / (exp(-1 / ep) - 1) + 1 /\n",
    "                                    (exp(-1 / ep) + 2 * ep *\n",
    "                                    (exp(-1 / ep) - 1) + 1))) / ep -\n",
    "                (exp((y - 1) / ep) *\n",
    "                    (3 / (exp(-1 / ep) - 1) - 1 /\n",
    "                    (exp(-1 / ep) + 2 * ep *\n",
    "                    (exp(-1 / ep) - 1) + 1))) / ep) - 6 * y**2 + 2)\n",
    "        return dux, duy\n",
    "\n",
    "\n",
    "    def ddexact(x, y):\n",
    "        duxx = ((pi**2 * sin(pi * x)) / 2 + (ep * pi * (exp(-x / ep) / ep**2 + exp(\n",
    "            (x - 1) / ep) / ep**2)) /\n",
    "                (2 *\n",
    "                (exp(-1 / ep) - 1))) * (ep * (exp(\n",
    "                    (y - 1) / ep) * (3 / (exp(-1 / ep) - 1) - 1 /\n",
    "                                    (exp(-1 / ep) + 2 * ep *\n",
    "                                    (exp(-1 / ep) - 1) + 1)) + exp(-y / ep) *\n",
    "                                            (3 / (exp(-1 / ep) - 1) + 1 /\n",
    "                                                (exp(-1 / ep) + 2 * ep *\n",
    "                                                (exp(-1 / ep) - 1) + 1)) -\n",
    "                                            (3 * exp(-1 / ep) + 3) /\n",
    "                                            (exp(-1 / ep) - 1) -\n",
    "                                            ((2 * y - 1) * (exp(-1 / ep) - 1)) /\n",
    "                                            (exp(-1 / ep) + 2 * ep *\n",
    "                                                (exp(-1 / ep) - 1) + 1)) + 2 * y *\n",
    "                                        (y**2 - 1))\n",
    "        duxy = ((pi * cos(pi * x)) / 2 + (ep * pi * (exp(-x / ep) / ep - exp(\n",
    "            (x - 1) / ep) / ep)) / (2 * (exp(-1 / ep) - 1))) * (ep * (\n",
    "                (2 * (exp(-1 / ep) - 1)) / (exp(-1 / ep) + 2 * ep *\n",
    "                                            (exp(-1 / ep) - 1) + 1) +\n",
    "                (exp(-y / ep) * (3 / (exp(-1 / ep) - 1) + 1 /\n",
    "                                (exp(-1 / ep) + 2 * ep *\n",
    "                                (exp(-1 / ep) - 1) + 1))) / ep -\n",
    "                (exp((y - 1) / ep) *\n",
    "                (3 / (exp(-1 / ep) - 1) - 1 /\n",
    "                (exp(-1 / ep) + 2 * ep *\n",
    "                (exp(-1 / ep) - 1) + 1))) / ep) - 6 * y**2 + 2)\n",
    "        duyx = duxy\n",
    "        duyy = -(sin(pi * x) / 2 - (ep * pi * (exp(-x / ep) + exp(\n",
    "            (x - 1) / ep) - exp(-1 / ep) - 1)) /\n",
    "                (2 *\n",
    "                (exp(-1 / ep) - 1))) * (12 * y + ep *\n",
    "                                        ((exp(-y / ep) *\n",
    "                                            (3 / (exp(-1 / ep) - 1) + 1 /\n",
    "                                            (exp(-1 / ep) + 2 * ep *\n",
    "                                            (exp(-1 / ep) - 1) + 1))) / ep**2 +\n",
    "                                        (exp((y - 1) / ep) *\n",
    "                                            (3 / (exp(-1 / ep) - 1) - 1 /\n",
    "                                            (exp(-1 / ep) + 2 * ep *\n",
    "                                            (exp(-1 / ep) - 1) + 1))) / ep**2))\n",
    "        return duxx, duxy, duyx, duyy\n",
    "\n",
    "elif example == 'ex3':\n",
    "\n",
    "    @LinearForm\n",
    "    def f_load(v, w):\n",
    "        pix = pi * w.x[0]\n",
    "        piy = pi * w.x[1]\n",
    "        return (2 * pi**2 * sin(pix) * sin(piy)) * v\n",
    "\n",
    "\n",
    "    def exact_u(x, y):\n",
    "        return sin(pi * x) * sin(pi * y)\n",
    "\n",
    "\n",
    "    def dexact_u(x, y):\n",
    "        dux = pi * cos(pi * x) * sin(pi * y)\n",
    "        duy = pi * cos(pi * y) * sin(pi * x)\n",
    "        return dux, duy\n",
    "\n",
    "\n",
    "    def ddexact(x, y):\n",
    "        duxx = -pi**2 * sin(pi * x) * sin(pi * y)\n",
    "        duxy = pi * cos(pi * x) * pi * cos(pi * y)\n",
    "        duyx = duxy\n",
    "        duyy = -pi**2 * sin(pi * y) * sin(pi * x)\n",
    "        return duxx, duxy, duyx, duyy\n",
    "\n",
    "else:\n",
    "    raise Exception('Example not supported')"
   ]
  },
  {
   "cell_type": "markdown",
   "metadata": {},
   "source": [
    "## Solving"
   ]
  },
  {
   "cell_type": "code",
   "execution_count": 46,
   "metadata": {},
   "outputs": [],
   "source": [
    "epsilon = 1\n",
    "ep = epsilon"
   ]
  },
  {
   "cell_type": "markdown",
   "metadata": {},
   "source": [
    "### Equation 1\n",
    "$$\n",
    "\\left(\\nabla w_{h}, \\nabla \\chi_{h}\\right)=\\left(f, \\chi_{h}\\right)\n",
    "$$"
   ]
  },
  {
   "cell_type": "code",
   "execution_count": 47,
   "metadata": {},
   "outputs": [],
   "source": [
    "m = MeshTri()\n",
    "m.refine(2)\n",
    "element1 = ElementTriP1()\n",
    "\n",
    "basis1 = InteriorBasis(m, element1, intorder=intorder)\n",
    "\n",
    "K1 = asm(laplace, basis1)\n",
    "f1 = asm(f_load, basis1)\n",
    "\n",
    "wh = solve(*condense(K1, f1, D=basis1.find_dofs()), solver=solver_iter_krylov(Precondition=True, tol=tol))"
   ]
  },
  {
   "cell_type": "code",
   "execution_count": 48,
   "metadata": {},
   "outputs": [
    {
     "data": {
      "text/plain": [
       "array([ 0.        ,  0.        ,  0.        ,  0.        ,  0.        ,\n",
       "        0.        , 49.82355409,  0.        ,  0.        ,  0.        ,\n",
       "        0.        ,  0.        , 15.31526385,  0.        ,  0.        ,\n",
       "       15.31526385,  0.        ,  0.        ,  0.        ,  8.03875957,\n",
       "       23.35402342, 23.35402342, 23.35402342, 23.35402342,  8.03875957])"
      ]
     },
     "execution_count": 48,
     "metadata": {},
     "output_type": "execute_result"
    }
   ],
   "source": [
    "wh"
   ]
  },
  {
   "cell_type": "code",
   "execution_count": 49,
   "metadata": {},
   "outputs": [
    {
     "data": {
      "text/plain": [
       "<matplotlib.axes._subplots.AxesSubplot at 0x1ec9c020a08>"
      ]
     },
     "execution_count": 49,
     "metadata": {},
     "output_type": "execute_result"
    },
    {
     "data": {
      "image/png": "[encoded data removed]",
      "text/plain": [
       "<Figure size 432x288 with 2 Axes>"
      ]
     },
     "metadata": {
      "needs_background": "light"
     },
     "output_type": "display_data"
    }
   ],
   "source": [
    "plot(basis1, wh, colorbar=True)"
   ]
  },
  {
   "cell_type": "markdown",
   "metadata": {},
   "source": [
    "### Equation 2\n",
    "$$\n",
    "\\left(\\operatorname{curl}_{h} z_{h}, \\operatorname{curl}_{h} v_{h}\\right)=\\left(\\nabla w_{h}, \\nabla_{h} v_{h}\\right)\n",
    "$$"
   ]
  },
  {
   "cell_type": "code",
   "execution_count": 50,
   "metadata": {
    "code_folding": []
   },
   "outputs": [],
   "source": [
    "@BilinearForm\n",
    "def zv_load(u, v, w):\n",
    "    '''\n",
    "    for 5.7a\n",
    "    '''\n",
    "    global uuu, vvv\n",
    "    uuu = u\n",
    "    vvv = v\n",
    "    return dot(curl(u), curl(v))"
   ]
  },
  {
   "cell_type": "code",
   "execution_count": 51,
   "metadata": {},
   "outputs": [],
   "source": [
    "element2 = ElementTriMorley()\n",
    "basis2 = InteriorBasis(m, element2, intorder=intorder)\n",
    "\n",
    "K2 = asm(zv_load, basis2)\n",
    "f2 = asm(laplace, basis1, basis2) * wh\n",
    "\n",
    "zh = solve(*condense(K2, f2, D=basis2.find_dofs()), solver=solver_iter_krylov(Precondition=True, tol=tol))\n",
    "# zh = solve(*condense(K2, f2, D=easy_boundary(basis2)), solver=solver_iter_krylov(Precondition=True, tol=tol))"
   ]
  },
  {
   "cell_type": "code",
   "execution_count": 52,
   "metadata": {},
   "outputs": [
    {
     "data": {
      "text/plain": [
       "<matplotlib.axes._subplots.AxesSubplot at 0x1ec9cf0c7c8>"
      ]
     },
     "execution_count": 52,
     "metadata": {},
     "output_type": "execute_result"
    },
    {
     "data": {
      "image/png": "[encoded data removed]",
      "text/plain": [
       "<Figure size 432x288 with 2 Axes>"
      ]
     },
     "metadata": {
      "needs_background": "light"
     },
     "output_type": "display_data"
    }
   ],
   "source": [
    "plot(basis2, zh, colorbar=True)"
   ]
  },
  {
   "cell_type": "markdown",
   "metadata": {},
   "source": [
    "### Equation 3\n",
    "$$\n",
    "\\begin{aligned}\n",
    "\\left(\\phi_{h}, \\psi_{h}\\right)+\\varepsilon^{2}c_{h}\\left(\\phi_{h}, \\psi_{h}\\right)+\\left(\\operatorname{div}_{h} \\psi_{h}, p_{h}\\right) &=\\left(\\operatorname{curl}_{h} z_{h}, \\psi_{h}\\right) \\\\\n",
    "\\left(\\operatorname{div}_{h} \\phi_{h}, q_{h}\\right)&=0\n",
    "\\end{aligned}\n",
    "$$\n",
    "where \n",
    "$$\n",
    "c_{h}\\left(\\phi_{h}, \\psi_{h}\\right):=\\left(\\nabla_{h} \\phi_{h}, \\nabla_{h} \\psi_{h}\\right)-\\sum_{F \\in \\mathcal{F}_{h}^{0}}\\left(\\partial_{n}\\left(\\phi_{h} \\cdot t\\right), \\psi_{h} \\cdot t\\right)_{F}-\\sum_{F \\in \\mathcal{F}_{h}^{O}}\\left(\\phi_{h} \\cdot t, \\partial_{n}\\left(\\psi_{h} \\cdot t\\right)\\right)_{F}+\\sum_{F \\in \\mathcal{F}_{h}^{\\partial}} \\frac{\\sigma}{h_{F}}\\left(\\phi_{h} \\cdot t, \\psi_{h} \\cdot t\\right)_{F}\n",
    "$$"
   ]
  },
  {
   "cell_type": "code",
   "execution_count": 53,
   "metadata": {
    "code_folding": [
     0
    ]
   },
   "outputs": [],
   "source": [
    "class ElementTriP1CR(ElementH1):\n",
    "    \n",
    "    facet_dofs = 1\n",
    "    dim = 2\n",
    "    maxdeg = 1\n",
    "    dofnames = ['u']\n",
    "    doflocs = np.array([[.5, 0.], [.5, .5], [0., .5]])\n",
    "    mesh_type = MeshTri\n",
    "\n",
    "    def lbasis(self, X, i):\n",
    "        x, y = X\n",
    "\n",
    "        if i == 0:\n",
    "            phi = 1. - 2. * y\n",
    "            dphi = np.array([0. * x, -2. + 0. * y])\n",
    "        elif i == 1:\n",
    "            phi = 2. * x + 2. * y - 1.\n",
    "            dphi = np.array([2. + 0. * x, 2. + 0. * y])\n",
    "        elif i == 2:\n",
    "            phi = 1. - 2. * x\n",
    "            dphi = np.array([-2. + 0. * x, 0. * x])\n",
    "        else:\n",
    "            self._index_error()\n",
    "        return phi, dphi"
   ]
  },
  {
   "cell_type": "code",
   "execution_count": 54,
   "metadata": {
    "code_folding": [
     1,
     8,
     15,
     22,
     29,
     36
    ]
   },
   "outputs": [],
   "source": [
    "@BilinearForm\n",
    "def phipsi_load1(u, v, w):\n",
    "    '''\n",
    "    for 5.7b $(phi, psi)$\n",
    "    '''\n",
    "    return dot(u, v)\n",
    "\n",
    "@BilinearForm\n",
    "def phipsi_load2(u, v, w):\n",
    "    '''\n",
    "    for 5.7b $(Laplace_phi, Laplace_psi)$\n",
    "    '''\n",
    "    return ddot(grad(u), grad(v))\n",
    "\n",
    "@BilinearForm\n",
    "def phipsi_load3(u, v, w):\n",
    "    '''\n",
    "    for 5.7b $(div_phi, p)$\n",
    "    '''\n",
    "    return div(u) * v\n",
    "\n",
    "@BilinearForm\n",
    "def zpsi_load(u, v, w):\n",
    "    '''\n",
    "    for 5.7b $(curl_z, psi)$\n",
    "    '''\n",
    "    return dot(curl(u), v)\n",
    "\n",
    "@BilinearForm\n",
    "def phiq_load(u, v, w):\n",
    "    '''\n",
    "    for 5.7c $(div_phi, q)$\n",
    "    '''\n",
    "    return div(u) * v\n",
    "\n",
    "@BilinearForm\n",
    "def mass(u, v, w):\n",
    "    '''\n",
    "    for 5.7c C\n",
    "    '''\n",
    "    return u * v * 1e-6"
   ]
  },
  {
   "cell_type": "code",
   "execution_count": 55,
   "metadata": {},
   "outputs": [],
   "source": [
    "element3 = {'phi': ElementVectorH1(ElementTriP1CR()), 'p': ElementTriP0()}\n",
    "basis3 = {variable: InteriorBasis(m, e, intorder=intorder) for variable, e in element3.items()}  "
   ]
  },
  {
   "cell_type": "code",
   "execution_count": 56,
   "metadata": {},
   "outputs": [],
   "source": [
    "fbasis = FacetBasis(m, element3['phi'], intorder=intorder)"
   ]
  },
  {
   "cell_type": "code",
   "execution_count": 57,
   "metadata": {
    "code_folding": []
   },
   "outputs": [],
   "source": [
    "@BilinearForm\n",
    "def penalty_1(u, v, w):\n",
    "    global uuu, vvv, www\n",
    "    uuu = u\n",
    "    vvv = v\n",
    "    www = w\n",
    "    w_t = np.array([-w.n[1], w.n[0]])\n",
    "    return ((dot(d(u)[0], w.n)*w_t[0]) + (dot(d(u)[1], w.n)*w_t[1])) * dot(v, w_t)\n",
    "\n",
    "\n",
    "@BilinearForm\n",
    "def penalty_2(u, v, w):\n",
    "    w_t = np.array([-w.n[1], w.n[0]])\n",
    "    return ((dot(d(v)[0], w.n)*w_t[0]) + (dot(d(v)[1], w.n)*w_t[1])) * dot(u, w_t)\n",
    "\n",
    "\n",
    "@BilinearForm\n",
    "def penalty_3(u, v, w):\n",
    "    w_t = np.array([-w.n[1], w.n[0]])\n",
    "    return (sigma / w.h) * dot(u, w_t) * dot(v, w_t)"
   ]
  },
  {
   "cell_type": "code",
   "execution_count": 58,
   "metadata": {},
   "outputs": [],
   "source": [
    "# p1 = asm(penalty_1, fbasis)\n",
    "\n",
    "# w_t = np.array([-www.n[1], www.n[0]])\n",
    "\n",
    "# www.x.shape\n",
    "\n",
    "# uuu.value.shape\n",
    "\n",
    "# ((dot(d(uuu)[0], www.n)*w_t[0]) + (dot(d(uuu)[1], www.n)*w_t[1])).shape"
   ]
  },
  {
   "cell_type": "code",
   "execution_count": 59,
   "metadata": {},
   "outputs": [],
   "source": [
    "p1 = asm(penalty_1, fbasis)\n",
    "p2 = asm(penalty_2, fbasis)\n",
    "p3 = asm(penalty_3, fbasis)\n",
    "P = p1 + p2 + p3"
   ]
  },
  {
   "cell_type": "code",
   "execution_count": 60,
   "metadata": {},
   "outputs": [],
   "source": [
    "# aaaaa = p1.todense()\n",
    "\n",
    "# np.sum(aaaaa != 0)"
   ]
  },
  {
   "cell_type": "code",
   "execution_count": 61,
   "metadata": {},
   "outputs": [],
   "source": [
    "A = asm(phipsi_load1, basis3['phi']) + epsilon**2 * asm(phipsi_load2, basis3['phi']) + epsilon**2 * P\n",
    "B = asm(phiq_load, basis3['phi'], basis3['p'])\n",
    "C = asm(mass, basis3['p'])"
   ]
  },
  {
   "cell_type": "code",
   "execution_count": 63,
   "metadata": {},
   "outputs": [],
   "source": [
    "F1 = asm(zpsi_load, basis2, basis3['phi']) * zh\n",
    "f3 = np.concatenate([F1, np.zeros(B.shape[0])])\n",
    "K3 = bmat([[A, -B.T], [-B, C * 0]], 'csr')\n",
    "\n",
    "# phip = solve(*condense(K3, f3, D=basis3['phi'].find_dofs()), solver=solver_iter_krylov(Precondition=True, tol=1e-5))\n",
    "phip = solve(*condense(K3, f3, D=difficult_boundary(basis3['phi'])), solver=solver_iter_krylov(spl.minres, tol=1e-13))\n",
    "phih, ph = np.split(phip, [A.shape[0]])"
   ]
  },
  {
   "cell_type": "code",
   "execution_count": 64,
   "metadata": {
    "code_folding": [
     0
    ]
   },
   "outputs": [],
   "source": [
    "# uuu.value.shape\n",
    "\n",
    "# uuu.value.shape\n",
    "\n",
    "# vvv.value.shape\n",
    "\n",
    "# dot(uuu, vvv).shape\n",
    "\n",
    "# (uuu.value * vvv.value).shape\n",
    "\n",
    "# phih\n",
    "\n",
    "# phih.shape\n",
    "\n",
    "# phih[::2]\n",
    "\n",
    "# aaaa = np.array([0, 1, 0, 1])\n",
    "# aaaa\n",
    "\n",
    "# import copy\n",
    "\n",
    "# aaaa_copy = copy.copy(aaaa)\n",
    "\n",
    "# aaaa_copy\n",
    "\n",
    "# aaaa[1::2] = aaaa_copy[::2]\n",
    "# aaaa\n",
    "\n",
    "# aaaa_copy\n",
    "\n",
    "# a = [1]\n",
    "# b = a\n",
    "# a = -b[0]\n",
    "# b\n",
    "\n",
    "# aaaa[::2] = -aaaa_copy[1::2]\n",
    "# aaaa\n",
    "\n",
    "# aaaa\n",
    "\n",
    "# aaaa_copy[1::2]\n",
    "\n",
    "# phih_copy = copy.copy(phih)\n",
    "\n",
    "# phih[1::2] = phih_copy[::2]\n",
    "\n",
    "# phih[::2] = -phih_copy[1::2]"
   ]
  },
  {
   "cell_type": "code",
   "execution_count": 65,
   "metadata": {},
   "outputs": [],
   "source": [
    "testbasis = InteriorBasis(m, ElementTriP1CR(), intorder=intorder)"
   ]
  },
  {
   "cell_type": "code",
   "execution_count": 66,
   "metadata": {
    "scrolled": true
   },
   "outputs": [
    {
     "data": {
      "text/plain": [
       "<matplotlib.axes._subplots.AxesSubplot at 0x1ec9d133408>"
      ]
     },
     "execution_count": 66,
     "metadata": {},
     "output_type": "execute_result"
    },
    {
     "data": {
      "image/png": "[encoded data removed]",
      "text/plain": [
       "<Figure size 432x288 with 2 Axes>"
      ]
     },
     "metadata": {
      "needs_background": "light"
     },
     "output_type": "display_data"
    }
   ],
   "source": [
    "plot(testbasis, phih[::2], colorbar=True)"
   ]
  },
  {
   "cell_type": "code",
   "execution_count": 67,
   "metadata": {},
   "outputs": [
    {
     "data": {
      "text/plain": [
       "<matplotlib.axes._subplots.AxesSubplot at 0x1ec9d1c1248>"
      ]
     },
     "execution_count": 67,
     "metadata": {},
     "output_type": "execute_result"
    },
    {
     "data": {
      "image/png": "[encoded data removed]",
      "text/plain": [
       "<Figure size 432x288 with 2 Axes>"
      ]
     },
     "metadata": {
      "needs_background": "light"
     },
     "output_type": "display_data"
    }
   ],
   "source": [
    "plot(testbasis, phih[1::2], colorbar=True)"
   ]
  },
  {
   "cell_type": "markdown",
   "metadata": {},
   "source": [
    "### Exact $\\phi$"
   ]
  },
  {
   "cell_type": "code",
   "execution_count": 68,
   "metadata": {},
   "outputs": [],
   "source": [
    "exact_phi = dexact_u(testbasis.doflocs[0], testbasis.doflocs[1])"
   ]
  },
  {
   "cell_type": "code",
   "execution_count": 69,
   "metadata": {},
   "outputs": [
    {
     "data": {
      "text/plain": [
       "<matplotlib.axes._subplots.AxesSubplot at 0x1ec9d1c9888>"
      ]
     },
     "execution_count": 69,
     "metadata": {},
     "output_type": "execute_result"
    },
    {
     "data": {
      "image/png": "[encoded data removed]",
      "text/plain": [
       "<Figure size 432x288 with 2 Axes>"
      ]
     },
     "metadata": {
      "needs_background": "light"
     },
     "output_type": "display_data"
    }
   ],
   "source": [
    "plot(testbasis, exact_phi[0], colorbar=True)"
   ]
  },
  {
   "cell_type": "code",
   "execution_count": 70,
   "metadata": {
    "scrolled": true
   },
   "outputs": [
    {
     "data": {
      "text/plain": [
       "<matplotlib.axes._subplots.AxesSubplot at 0x1ec9d34bd08>"
      ]
     },
     "execution_count": 70,
     "metadata": {},
     "output_type": "execute_result"
    },
    {
     "data": {
      "image/png": "[encoded data removed]",
      "text/plain": [
       "<Figure size 432x288 with 2 Axes>"
      ]
     },
     "metadata": {
      "needs_background": "light"
     },
     "output_type": "display_data"
    }
   ],
   "source": [
    "plot(testbasis, exact_phi[1], colorbar=True)"
   ]
  },
  {
   "cell_type": "markdown",
   "metadata": {},
   "source": [
    "### Equation 4\n",
    "$$\n",
    "\\left(\\operatorname{curl}_{h} u_{h 0}, \\operatorname{curl}_{h} \\chi_{h}\\right)=\\left(\\phi_{h}, \\operatorname{curl}_{h} \\chi_{h}\\right)\n",
    "$$"
   ]
  },
  {
   "cell_type": "code",
   "execution_count": 71,
   "metadata": {},
   "outputs": [],
   "source": [
    "@BilinearForm\n",
    "def phichi_load(u, v, w):\n",
    "    '''\n",
    "    for 5.7d $(phi, curl_chi)$\n",
    "    '''\n",
    "    global uuu, vvv\n",
    "    uuu = u\n",
    "    vvv = v\n",
    "    return dot(u, curl(v))\n",
    "\n",
    "@BilinearForm\n",
    "def uchi_load(u, v, w):\n",
    "    '''\n",
    "    for 5.7d $(curl_u, curl_chi)$\n",
    "    '''\n",
    "    return dot(curl(u), curl(v))"
   ]
  },
  {
   "cell_type": "code",
   "execution_count": 72,
   "metadata": {},
   "outputs": [],
   "source": [
    "element4 = ElementTriMorley()\n",
    "basis4 = InteriorBasis(m, element4, intorder=intorder)\n",
    "\n",
    "K4 = asm(uchi_load, basis4)\n",
    "f4 = asm(phichi_load, basis3['phi'], basis4) * phih\n",
    "\n",
    "uh = solve(*condense(K4, f4, D=basis4.find_dofs()), solver=solver_iter_krylov(Precondition=True, tol=tol))\n",
    "# uh = solve(*condense(K4, f4, D=easy_boundary(basis4)), solver=solver_iter_krylov(Precondition=True, tol=tol))"
   ]
  },
  {
   "cell_type": "code",
   "execution_count": 73,
   "metadata": {},
   "outputs": [],
   "source": [
    "u = exact_u(basis4.doflocs[0], basis4.doflocs[1])"
   ]
  },
  {
   "cell_type": "code",
   "execution_count": 74,
   "metadata": {},
   "outputs": [
    {
     "data": {
      "text/plain": [
       "<matplotlib.axes._subplots.AxesSubplot at 0x1ec9c929908>"
      ]
     },
     "execution_count": 74,
     "metadata": {},
     "output_type": "execute_result"
    },
    {
     "data": {
      "image/png": "[encoded data removed]",
      "text/plain": [
       "<Figure size 432x288 with 2 Axes>"
      ]
     },
     "metadata": {
      "needs_background": "light"
     },
     "output_type": "display_data"
    }
   ],
   "source": [
    "plot(basis4, u, colorbar=True)"
   ]
  },
  {
   "cell_type": "code",
   "execution_count": 75,
   "metadata": {},
   "outputs": [
    {
     "data": {
      "text/plain": [
       "<matplotlib.axes._subplots.AxesSubplot at 0x1ec9d3e7ac8>"
      ]
     },
     "execution_count": 75,
     "metadata": {},
     "output_type": "execute_result"
    },
    {
     "data": {
      "image/png": "[encoded data removed]",
      "text/plain": [
       "<Figure size 432x288 with 2 Axes>"
      ]
     },
     "metadata": {
      "needs_background": "light"
     },
     "output_type": "display_data"
    }
   ],
   "source": [
    "plot(basis4, uh, colorbar=True)"
   ]
  },
  {
   "cell_type": "markdown",
   "metadata": {},
   "source": [
    "### Error Estimation"
   ]
  },
  {
   "cell_type": "code",
   "execution_count": 76,
   "metadata": {},
   "outputs": [
    {
     "data": {
      "text/plain": [
       "0.13429726531668065"
      ]
     },
     "execution_count": 76,
     "metadata": {},
     "output_type": "execute_result"
    }
   ],
   "source": [
    "U = basis2.interpolate(uh).value\n",
    "\n",
    "L2u = np.sqrt(L2uError.assemble(basis2, w=U))\n",
    "\n",
    "L2u"
   ]
  },
  {
   "cell_type": "markdown",
   "metadata": {},
   "source": [
    "# Error Estimating"
   ]
  },
  {
   "cell_type": "markdown",
   "metadata": {},
   "source": [
    "## Solver"
   ]
  },
  {
   "cell_type": "code",
   "execution_count": 77,
   "metadata": {
    "code_folding": [
     0
    ]
   },
   "outputs": [],
   "source": [
    "def solve_problem3(m, element_type='P1', solver_type='pcg', tol=1e-8):\n",
    "    '''\n",
    "    solver for decoupled problem1\n",
    "    without modifying solver\n",
    "    only for testing convergence\n",
    "    '''\n",
    "    \n",
    "    # equation 1\n",
    "    \n",
    "    if element_type == 'P1':\n",
    "        element1 = ElementTriP1()\n",
    "    elif element_type == 'P2':\n",
    "        element1 = ElementTriP2()\n",
    "    else:\n",
    "        raise Exception(\"Element not supported\")\n",
    "        \n",
    "    basis1 = InteriorBasis(m, element1, intorder=intorder)\n",
    "\n",
    "    K1 = asm(laplace, basis1)\n",
    "    f1 = asm(f_load, basis1)\n",
    "\n",
    "    wh = solve(*condense(K1, f1, D=basis1.find_dofs()), solver=solver_iter_krylov(Precondition=True, tol=tol))\n",
    "    \n",
    "    # equation 2\n",
    "    \n",
    "    element2 = ElementTriMorley()\n",
    "    basis2 = InteriorBasis(m, element2, intorder=intorder)\n",
    "\n",
    "    K2 = asm(zv_load, basis2)\n",
    "    f2 = asm(laplace, basis1, basis2) * wh\n",
    "\n",
    "    zh = solve(*condense(K2, f2, D=easy_boundary(basis2)), solver=solver_iter_krylov(Precondition=True, tol=tol))\n",
    "\n",
    "    # equation 3\n",
    "    \n",
    "    element3 = {'phi': ElementVectorH1(ElementTriP1CR()), 'p': ElementTriP0()}\n",
    "    basis3 = {variable: InteriorBasis(m, e, intorder=intorder) for variable, e in element3.items()}  \n",
    "\n",
    "    A = asm(phipsi_load1, basis3['phi']) + epsilon**2 * asm(phipsi_load2, basis3['phi'])\n",
    "    B = asm(phiq_load, basis3['phi'], basis3['p'])\n",
    "    C = asm(mass, basis3['p'])\n",
    "    F1 = asm(zpsi_load, basis2, basis3['phi']) * zh\n",
    "\n",
    "    f3 = np.concatenate([F1, np.zeros(B.shape[0])])\n",
    "    K3 = bmat([[A, -B.T], [-B, C * 0]], 'csr')\n",
    "\n",
    "    phip = solve(*condense(K3, f3, D=basis3['phi'].find_dofs()), solver=solver_iter_krylov(spl.minres, tol=1e-13))\n",
    "    phih, ph = np.split(phip, [A.shape[0]])\n",
    "\n",
    "    # equation 4\n",
    "    \n",
    "    element4 = ElementTriMorley()\n",
    "    basis4 = InteriorBasis(m, element4, intorder=intorder)\n",
    "\n",
    "    K4 = asm(uchi_load, basis4)\n",
    "    f4 = asm(phichi_load, basis3['phi'], basis4) * phih\n",
    "    \n",
    "    uh0 = solve(*condense(K4, f4, D=easy_boundary(basis4)), solver=solver_iter_krylov(Precondition=True, tol=tol))\n",
    "    \n",
    "    \n",
    "#     basis = {\n",
    "#         variable: InteriorBasis(m, e, intorder=intorder)\n",
    "#         for variable, e in element.items()\n",
    "#     }  # intorder: integration order for quadrature\n",
    "\n",
    "#     K1 = asm(laplace, basis['w'])\n",
    "#     f1 = asm(f_load, basis['w'])\n",
    "\n",
    "#     if solver_type == 'amg':\n",
    "#         wh = solve(*condense(K1, f1, D=basis['w'].find_dofs()), solver=solver_iter_pyamg(tol=tol))\n",
    "#     elif solver_type == 'pcg':\n",
    "#         wh = solve(*condense(K1, f1, D=basis['w'].find_dofs()), solver=solver_iter_krylov(Precondition=True, tol=tol))\n",
    "#     elif solver_type == 'mgcg':\n",
    "#         wh = solve(*condense(K1, f1, D=basis['w'].find_dofs()), solver=solver_iter_mgcg(tol=tol))\n",
    "#     else:\n",
    "#         raise Exception(\"Solver not supported\")\n",
    "\n",
    "#     K2 = epsilon**2 * asm(a_load, basis['u']) + asm(b_load, basis['u'])\n",
    "#     f2 = asm(wv_load, basis['w'], basis['u']) * wh\n",
    "\n",
    "#     if solver_type == 'amg':\n",
    "#         uh0 = solve(*condense(K2, f2, D=easy_boundary(basis['u'])), solver=solver_iter_pyamg(tol=tol))\n",
    "#     elif solver_type == 'pcg':\n",
    "#         uh0 = solve(*condense(K2, f2, D=easy_boundary(basis['u'])), solver=solver_iter_krylov(Precondition=True, tol=tol))\n",
    "#     elif solver_type == 'mgcg':\n",
    "#         uh0 = solve(*condense(K2, f2, D=easy_boundary(basis['u'])), solver=solver_iter_mgcg(tol=tol))\n",
    "#     else:\n",
    "#         raise Exception(\"Solver not supported\")\n",
    "\n",
    "    return uh0, {'u' :basis4}"
   ]
  },
  {
   "cell_type": "code",
   "execution_count": 78,
   "metadata": {
    "code_folding": [
     0
    ]
   },
   "outputs": [],
   "source": [
    "def solve_problem4(m, element_type='P1', solver_type='pcg', tol=1e-8):\n",
    "    '''\n",
    "    solver for decoupled problem2\n",
    "    without modifying solver\n",
    "    only for testing convergence\n",
    "    '''\n",
    "    \n",
    "    # equation 1\n",
    "    \n",
    "    if element_type == 'P1':\n",
    "        element1 = ElementTriP1()\n",
    "    elif element_type == 'P2':\n",
    "        element1 = ElementTriP2()\n",
    "    else:\n",
    "        raise Exception(\"Element not supported\")\n",
    "        \n",
    "    basis1 = InteriorBasis(m, element1, intorder=intorder)\n",
    "\n",
    "    K1 = asm(laplace, basis1)\n",
    "    f1 = asm(f_load, basis1)\n",
    "\n",
    "    wh = solve(*condense(K1, f1, D=basis1.find_dofs()), solver=solver_iter_krylov(Precondition=True, tol=tol))\n",
    "    \n",
    "    # equation 2\n",
    "    \n",
    "    element2 = ElementTriMorley()\n",
    "    basis2 = InteriorBasis(m, element2, intorder=intorder)\n",
    "\n",
    "    K2 = asm(zv_load, basis2)\n",
    "    f2 = asm(laplace, basis1, basis2) * wh\n",
    "\n",
    "    zh = solve(*condense(K2, f2, D=basis2.find_dofs()), solver=solver_iter_krylov(Precondition=True, tol=tol))\n",
    "\n",
    "    # equation 3\n",
    "    \n",
    "    element3 = {'phi': ElementVectorH1(ElementTriP1CR()), 'p': ElementTriP0()}\n",
    "    basis3 = {variable: InteriorBasis(m, e, intorder=intorder) for variable, e in element3.items()}  \n",
    "    \n",
    "    fbasis = FacetBasis(m, element3['phi'], intorder=intorder)\n",
    "    \n",
    "    p1 = asm(penalty_1, fbasis)\n",
    "    p2 = asm(penalty_2, fbasis)\n",
    "    p3 = asm(penalty_3, fbasis)\n",
    "    P = p1 + p2 + p3\n",
    "    \n",
    "    A = asm(phipsi_load1, basis3['phi']) + epsilon**2 * asm(phipsi_load2, basis3['phi']) + epsilon**2 * P\n",
    "    B = asm(phiq_load, basis3['phi'], basis3['p'])\n",
    "    C = asm(mass, basis3['p'])\n",
    "\n",
    "    A = asm(phipsi_load1, basis3['phi']) + epsilon**2 * asm(phipsi_load2, basis3['phi'])\n",
    "    B = asm(phiq_load, basis3['phi'], basis3['p'])\n",
    "    C = asm(mass, basis3['p'])\n",
    "    F1 = asm(zpsi_load, basis2, basis3['phi']) * zh\n",
    "\n",
    "    f3 = np.concatenate([F1, np.zeros(B.shape[0])])\n",
    "    K3 = bmat([[A, -B.T], [-B, C * 0]], 'csr')\n",
    "\n",
    "    # phip = solve(*condense(K3, f3, D=basis3['phi'].find_dofs()), solver=solver_iter_krylov(spl.minres, tol=1e-13))\n",
    "    phip = solve(*condense(K3, f3, D=difficult_boundary(basis3['phi'])), solver=solver_iter_krylov(spl.minres, tol=1e-13))\n",
    "    phih, ph = np.split(phip, [A.shape[0]])\n",
    "\n",
    "    # equation 4\n",
    "    \n",
    "    element4 = ElementTriMorley()\n",
    "    basis4 = InteriorBasis(m, element4, intorder=intorder)\n",
    "\n",
    "    K4 = asm(uchi_load, basis4)\n",
    "    f4 = asm(phichi_load, basis3['phi'], basis4) * phih\n",
    "    \n",
    "    uh0 = solve(*condense(K4, f4, D=basis4.find_dofs()), solver=solver_iter_krylov(Precondition=True, tol=tol))\n",
    "\n",
    "    return uh0, {'u' :basis4}"
   ]
  },
  {
   "cell_type": "markdown",
   "metadata": {},
   "source": [
    "## Testing convergence"
   ]
  },
  {
   "cell_type": "code",
   "execution_count": 86,
   "metadata": {},
   "outputs": [],
   "source": [
    "tol = 1e-8\n",
    "intorder = 5\n",
    "solver_type = 'mgcg'\n",
    "refine_time = 6\n",
    "epsilon_range = 5\n",
    "zero_ep = False\n",
    "element_type = 'P1'\n",
    "sigma = 5\n",
    "penalty = True\n",
    "example = 'ex3'"
   ]
  },
  {
   "cell_type": "code",
   "execution_count": 87,
   "metadata": {
    "code_folding": [
     0,
     36,
     191,
     217
    ]
   },
   "outputs": [],
   "source": [
    "if example == 'ex1':\n",
    "\n",
    "    @LinearForm\n",
    "    def f_load(v, w):\n",
    "        '''\n",
    "        for $(f, x_{h})$\n",
    "        '''\n",
    "        pix = pi * w.x[0]\n",
    "        piy = pi * w.x[1]\n",
    "        lu = 2 * (pi)**2 * (cos(2 * pix) * ((sin(piy))**2) + cos(2 * piy) *\n",
    "                            ((sin(pix))**2))\n",
    "        llu = -8 * (pi)**4 * (cos(2 * pix) * sin(piy)**2 + cos(2 * piy) *\n",
    "                            sin(pix)**2 - cos(2 * pix) * cos(2 * piy))\n",
    "        return (epsilon**2 * llu - lu) * v\n",
    "\n",
    "\n",
    "    def exact_u(x, y):\n",
    "        return (sin(pi * x) * sin(pi * y))**2\n",
    "\n",
    "\n",
    "    def dexact_u(x, y):\n",
    "        dux = 2 * pi * cos(pi * x) * sin(pi * x) * sin(pi * y)**2\n",
    "        duy = 2 * pi * cos(pi * y) * sin(pi * x)**2 * sin(pi * y)\n",
    "        return dux, duy\n",
    "\n",
    "\n",
    "    def ddexact(x, y):\n",
    "        duxx = 2 * pi**2 * cos(pi * x)**2 * sin(pi * y)**2 - 2 * pi**2 * sin(\n",
    "            pi * x)**2 * sin(pi * y)**2\n",
    "        duxy = 2 * pi * cos(pi * x) * sin(pi * x) * 2 * pi * cos(pi * y) * sin(\n",
    "            pi * y)\n",
    "        duyx = duxy\n",
    "        duyy = 2 * pi**2 * cos(pi * y)**2 * sin(pi * x)**2 - 2 * pi**2 * sin(\n",
    "            pi * y)**2 * sin(pi * x)**2\n",
    "        return duxx, duxy, duyx, duyy\n",
    "\n",
    "elif example == 'ex2':\n",
    "\n",
    "    @LinearForm\n",
    "    def f_load(v, w):\n",
    "        '''\n",
    "        for $(f, x_{h})$\n",
    "        '''\n",
    "        x = w.x[0]\n",
    "        y = w.x[1]\n",
    "        return (\n",
    "            (sin(pi * x) / 2 - (ep * pi * (exp(-x / ep) + exp(\n",
    "                (x - 1) / ep) - exp(-1 / ep) - 1)) / (2 * (exp(-1 / ep) - 1))) *\n",
    "            (12 * y + ep *\n",
    "            ((exp(-y / ep) *\n",
    "            (3 / (exp(-1 / ep) - 1) + 1 /\n",
    "                (exp(-1 / ep) + 2 * ep * (exp(-1 / ep) - 1) + 1))) / ep**2 + (exp(\n",
    "                    (y - 1) / ep) * (3 / (exp(-1 / ep) - 1) - 1 /\n",
    "                                    (exp(-1 / ep) + 2 * ep *\n",
    "                                    (exp(-1 / ep) - 1) + 1))) / ep**2)) -\n",
    "            ((pi**2 * sin(pi * x)) / 2 + (ep * pi * (exp(-x / ep) / ep**2 + exp(\n",
    "                (x - 1) / ep) / ep**2)) / (2 * (exp(-1 / ep) - 1))) *\n",
    "            (ep * (exp((y - 1) / ep) * (3 / (exp(-1 / ep) - 1) - 1 /\n",
    "                                        (exp(-1 / ep) + 2 * ep *\n",
    "                                        (exp(-1 / ep) - 1) + 1)) + exp(-y / ep) *\n",
    "                (3 / (exp(-1 / ep) - 1) + 1 /\n",
    "                    (exp(-1 / ep) + 2 * ep *\n",
    "                    (exp(-1 / ep) - 1) + 1)) - (3 * exp(-1 / ep) + 3) /\n",
    "                (exp(-1 / ep) - 1) - ((2 * y - 1) * (exp(-1 / ep) - 1)) /\n",
    "                (exp(-1 / ep) + 2 * ep * (exp(-1 / ep) - 1) + 1)) + 2 * y *\n",
    "            (y**2 - 1)) - ep**2 *\n",
    "            (((pi**4 * sin(pi * x)) / 2 - (ep * pi * (exp(-x / ep) / ep**4 + exp(\n",
    "                (x - 1) / ep) / ep**4)) / (2 * (exp(-1 / ep) - 1))) *\n",
    "            (ep * (exp((y - 1) / ep) * (3 / (exp(-1 / ep) - 1) - 1 /\n",
    "                                        (exp(-1 / ep) + 2 * ep *\n",
    "                                        (exp(-1 / ep) - 1) + 1)) + exp(-y / ep) *\n",
    "                    (3 / (exp(-1 / ep) - 1) + 1 /\n",
    "                    (exp(-1 / ep) + 2 * ep *\n",
    "                    (exp(-1 / ep) - 1) + 1)) - (3 * exp(-1 / ep) + 3) /\n",
    "                    (exp(-1 / ep) - 1) - ((2 * y - 1) * (exp(-1 / ep) - 1)) /\n",
    "                    (exp(-1 / ep) + 2 * ep * (exp(-1 / ep) - 1) + 1)) + 2 * y *\n",
    "            (y**2 - 1)) - 2 *\n",
    "            (12 * y + ep *\n",
    "            ((exp(-y / ep) *\n",
    "                (3 / (exp(-1 / ep) - 1) + 1 /\n",
    "                (exp(-1 / ep) + 2 * ep * (exp(-1 / ep) - 1) + 1))) / ep**2 + (exp(\n",
    "                    (y - 1) / ep) * (3 / (exp(-1 / ep) - 1) - 1 /\n",
    "                                    (exp(-1 / ep) + 2 * ep *\n",
    "                                    (exp(-1 / ep) - 1) + 1))) / ep**2)) *\n",
    "            ((pi**2 * sin(pi * x)) / 2 + (ep * pi * (exp(-x / ep) / ep**2 + exp(\n",
    "                (x - 1) / ep) / ep**2)) / (2 * (exp(-1 / ep) - 1))) + ep *\n",
    "            (sin(pi * x) / 2 - (ep * pi * (exp(-x / ep) + exp(\n",
    "                (x - 1) / ep) - exp(-1 / ep) - 1)) / (2 * (exp(-1 / ep) - 1))) *\n",
    "            ((exp(-y / ep) *\n",
    "            (3 / (exp(-1 / ep) - 1) + 1 /\n",
    "                (exp(-1 / ep) + 2 * ep * (exp(-1 / ep) - 1) + 1))) / ep**4 + (exp(\n",
    "                    (y - 1) / ep) * (3 / (exp(-1 / ep) - 1) - 1 /\n",
    "                                    (exp(-1 / ep) + 2 * ep *\n",
    "                                    (exp(-1 / ep) - 1) + 1))) / ep**4))) * v\n",
    "\n",
    "\n",
    "    def exact_u(x, y):\n",
    "        return -(sin(pi * x) / 2 - (ep * pi * (exp(-x / ep) + exp(\n",
    "            (x - 1) / ep) - exp(-1 / ep) - 1)) /\n",
    "                (2 *\n",
    "                (exp(-1 / ep) - 1))) * (ep * (exp(\n",
    "                    (y - 1) / ep) * (3 / (exp(-1 / ep) - 1) - 1 /\n",
    "                                    (exp(-1 / ep) + 2 * ep *\n",
    "                                        (exp(-1 / ep) - 1) + 1)) + exp(-y / ep) *\n",
    "                                                (3 / (exp(-1 / ep) - 1) + 1 /\n",
    "                                                (exp(-1 / ep) + 2 * ep *\n",
    "                                                (exp(-1 / ep) - 1) + 1)) -\n",
    "                                                (3 * exp(-1 / ep) + 3) /\n",
    "                                                (exp(-1 / ep) - 1) -\n",
    "                                                ((2 * y - 1) *\n",
    "                                                (exp(-1 / ep) - 1)) /\n",
    "                                                (exp(-1 / ep) + 2 * ep *\n",
    "                                                (exp(-1 / ep) - 1) + 1)) + 2 * y *\n",
    "                                        (y**2 - 1))\n",
    "\n",
    "\n",
    "    def dexact_u(x, y):\n",
    "        dux = -((pi * cos(pi * x)) / 2 + (ep * pi * (exp(-x / ep) / ep - exp(\n",
    "            (x - 1) / ep) / ep)) /\n",
    "                (2 *\n",
    "                (exp(-1 / ep) - 1))) * (ep * (exp(\n",
    "                    (y - 1) / ep) * (3 / (exp(-1 / ep) - 1) - 1 /\n",
    "                                    (exp(-1 / ep) + 2 * ep *\n",
    "                                    (exp(-1 / ep) - 1) + 1)) + exp(-y / ep) *\n",
    "                                            (3 / (exp(-1 / ep) - 1) + 1 /\n",
    "                                                (exp(-1 / ep) + 2 * ep *\n",
    "                                                (exp(-1 / ep) - 1) + 1)) -\n",
    "                                            (3 * exp(-1 / ep) + 3) /\n",
    "                                            (exp(-1 / ep) - 1) -\n",
    "                                            ((2 * y - 1) * (exp(-1 / ep) - 1)) /\n",
    "                                            (exp(-1 / ep) + 2 * ep *\n",
    "                                                (exp(-1 / ep) - 1) + 1)) + 2 * y *\n",
    "                                        (y**2 - 1))\n",
    "        duy = (sin(pi * x) / 2 - (ep * pi * (exp(-x / ep) + exp(\n",
    "            (x - 1) / ep) - exp(-1 / ep) - 1)) /\n",
    "            (2 * (exp(-1 / ep) - 1))) * (ep * (\n",
    "                (2 * (exp(-1 / ep) - 1)) / (exp(-1 / ep) + 2 * ep *\n",
    "                                            (exp(-1 / ep) - 1) + 1) +\n",
    "                (exp(-y / ep) * (3 / (exp(-1 / ep) - 1) + 1 /\n",
    "                                    (exp(-1 / ep) + 2 * ep *\n",
    "                                    (exp(-1 / ep) - 1) + 1))) / ep -\n",
    "                (exp((y - 1) / ep) *\n",
    "                    (3 / (exp(-1 / ep) - 1) - 1 /\n",
    "                    (exp(-1 / ep) + 2 * ep *\n",
    "                    (exp(-1 / ep) - 1) + 1))) / ep) - 6 * y**2 + 2)\n",
    "        return dux, duy\n",
    "\n",
    "\n",
    "    def ddexact(x, y):\n",
    "        duxx = ((pi**2 * sin(pi * x)) / 2 + (ep * pi * (exp(-x / ep) / ep**2 + exp(\n",
    "            (x - 1) / ep) / ep**2)) /\n",
    "                (2 *\n",
    "                (exp(-1 / ep) - 1))) * (ep * (exp(\n",
    "                    (y - 1) / ep) * (3 / (exp(-1 / ep) - 1) - 1 /\n",
    "                                    (exp(-1 / ep) + 2 * ep *\n",
    "                                    (exp(-1 / ep) - 1) + 1)) + exp(-y / ep) *\n",
    "                                            (3 / (exp(-1 / ep) - 1) + 1 /\n",
    "                                                (exp(-1 / ep) + 2 * ep *\n",
    "                                                (exp(-1 / ep) - 1) + 1)) -\n",
    "                                            (3 * exp(-1 / ep) + 3) /\n",
    "                                            (exp(-1 / ep) - 1) -\n",
    "                                            ((2 * y - 1) * (exp(-1 / ep) - 1)) /\n",
    "                                            (exp(-1 / ep) + 2 * ep *\n",
    "                                                (exp(-1 / ep) - 1) + 1)) + 2 * y *\n",
    "                                        (y**2 - 1))\n",
    "        duxy = ((pi * cos(pi * x)) / 2 + (ep * pi * (exp(-x / ep) / ep - exp(\n",
    "            (x - 1) / ep) / ep)) / (2 * (exp(-1 / ep) - 1))) * (ep * (\n",
    "                (2 * (exp(-1 / ep) - 1)) / (exp(-1 / ep) + 2 * ep *\n",
    "                                            (exp(-1 / ep) - 1) + 1) +\n",
    "                (exp(-y / ep) * (3 / (exp(-1 / ep) - 1) + 1 /\n",
    "                                (exp(-1 / ep) + 2 * ep *\n",
    "                                (exp(-1 / ep) - 1) + 1))) / ep -\n",
    "                (exp((y - 1) / ep) *\n",
    "                (3 / (exp(-1 / ep) - 1) - 1 /\n",
    "                (exp(-1 / ep) + 2 * ep *\n",
    "                (exp(-1 / ep) - 1) + 1))) / ep) - 6 * y**2 + 2)\n",
    "        duyx = duxy\n",
    "        duyy = -(sin(pi * x) / 2 - (ep * pi * (exp(-x / ep) + exp(\n",
    "            (x - 1) / ep) - exp(-1 / ep) - 1)) /\n",
    "                (2 *\n",
    "                (exp(-1 / ep) - 1))) * (12 * y + ep *\n",
    "                                        ((exp(-y / ep) *\n",
    "                                            (3 / (exp(-1 / ep) - 1) + 1 /\n",
    "                                            (exp(-1 / ep) + 2 * ep *\n",
    "                                            (exp(-1 / ep) - 1) + 1))) / ep**2 +\n",
    "                                        (exp((y - 1) / ep) *\n",
    "                                            (3 / (exp(-1 / ep) - 1) - 1 /\n",
    "                                            (exp(-1 / ep) + 2 * ep *\n",
    "                                            (exp(-1 / ep) - 1) + 1))) / ep**2))\n",
    "        return duxx, duxy, duyx, duyy\n",
    "\n",
    "elif example == 'ex3':\n",
    "\n",
    "    @LinearForm\n",
    "    def f_load(v, w):\n",
    "        pix = pi * w.x[0]\n",
    "        piy = pi * w.x[1]\n",
    "        return (2 * pi**2 * sin(pix) * sin(piy)) * v\n",
    "\n",
    "\n",
    "    def exact_u(x, y):\n",
    "        return sin(pi * x) * sin(pi * y)\n",
    "\n",
    "\n",
    "    def dexact_u(x, y):\n",
    "        dux = pi * cos(pi * x) * sin(pi * y)\n",
    "        duy = pi * cos(pi * y) * sin(pi * x)\n",
    "        return dux, duy\n",
    "\n",
    "\n",
    "    def ddexact(x, y):\n",
    "        duxx = -pi**2 * sin(pi * x) * sin(pi * y)\n",
    "        duxy = pi * cos(pi * x) * pi * cos(pi * y)\n",
    "        duyx = duxy\n",
    "        duyy = -pi**2 * sin(pi * y) * sin(pi * x)\n",
    "        return duxx, duxy, duyx, duyy\n",
    "\n",
    "else:\n",
    "    raise Exception('Example not supported')"
   ]
  },
  {
   "cell_type": "code",
   "execution_count": 88,
   "metadata": {
    "code_folding": [],
    "scrolled": false
   },
   "outputs": [
    {
     "name": "stdout",
     "output_type": "stream",
     "text": [
      "epsilon = 1\n",
      "  h    L2u   H1u   H2u   epu\n",
      "2^-2  0.02  0.02  0.02  0.02\n",
      "2^-3  0.01  0.01  0.01  0.01\n",
      "2^-4  0.00  0.01  0.00  0.00\n",
      "2^-5  0.00  0.00  -0.01  -0.01\n",
      "2^-6  0.00  0.00  -0.02  -0.02\n",
      "epsilon = 0.01\n",
      "  h    L2u   H1u   H2u   epu\n",
      "2^-2  1.72  0.81  -0.19  0.70\n",
      "2^-3  1.50  0.65  -0.44  0.56\n",
      "2^-4  1.14  0.53  -0.44  0.39\n",
      "2^-5  0.50  0.48  -0.42  0.17\n",
      "2^-6  0.52  0.49  -0.48  -0.14\n",
      "epsilon = 0.0001\n",
      "  h    L2u   H1u   H2u   epu\n",
      "2^-2  1.74  0.81  -0.20  0.71\n",
      "2^-3  1.57  0.65  -0.46  0.60\n",
      "2^-4  1.51  0.55  -0.49  0.52\n",
      "2^-5  1.51  0.52  -0.49  0.50\n",
      "2^-6  1.50  0.51  -0.50  0.50\n",
      "epsilon = 1e-06\n",
      "  h    L2u   H1u   H2u   epu\n",
      "2^-2  1.74  0.81  -0.20  0.71\n",
      "2^-3  1.57  0.65  -0.46  0.60\n",
      "2^-4  1.51  0.55  -0.49  0.52\n",
      "2^-5  1.51  0.52  -0.49  0.50\n",
      "2^-6  1.50  0.51  -0.50  0.50\n",
      "epsilon = 1e-08\n",
      "  h    L2u   H1u   H2u   epu\n",
      "2^-2  1.74  0.81  -0.20  0.71\n",
      "2^-3  1.57  0.65  -0.46  0.60\n",
      "2^-4  1.51  0.55  -0.49  0.52\n",
      "2^-5  1.51  0.52  -0.49  0.50\n",
      "2^-6  1.50  0.51  -0.50  0.50\n"
     ]
    }
   ],
   "source": [
    "df_list = []\n",
    "for j in range(epsilon_range):\n",
    "    epsilon = 1 * 10**(-j*2) * (1 - zero_ep)\n",
    "    ep = epsilon\n",
    "    L2_list = []\n",
    "    Du_list = []\n",
    "    D2u_list = []\n",
    "    h_list = []\n",
    "    epu_list = []\n",
    "    m = MeshTri()\n",
    "\n",
    "    for i in range(1, refine_time+1):\n",
    "        \n",
    "        m.refine()\n",
    "        \n",
    "        uh0, basis = solve_problem4(m, element_type, solver_type, tol=tol)\n",
    "\n",
    "        U = basis['u'].interpolate(uh0).value\n",
    "\n",
    "        # compute errors\n",
    "\n",
    "        L2u = np.sqrt(L2uError.assemble(basis['u'], w=U))\n",
    "        Du = get_DuError(basis['u'], uh0)\n",
    "        H1u = Du + L2u\n",
    "        D2u = get_D2uError(basis['u'], uh0)\n",
    "        H2u = Du + L2u + D2u\n",
    "        epu = np.sqrt(epsilon**2 * D2u**2 + Du**2)\n",
    "        h_list.append(m.param())\n",
    "        Du_list.append(Du)\n",
    "        L2_list.append(L2u)\n",
    "        D2u_list.append(D2u)\n",
    "        epu_list.append(epu)\n",
    "        \n",
    "    hs = np.array(h_list)\n",
    "    L2s = np.array(L2_list)\n",
    "    Dus = np.array(Du_list)\n",
    "    D2us = np.array(D2u_list)\n",
    "    epus = np.array(epu_list)\n",
    "    H1s = L2s + Dus\n",
    "    H2s = H1s + D2us\n",
    "    \n",
    "    # store data\n",
    "    data = np.array([L2s, H1s, H2s, epus])\n",
    "    df = pd.DataFrame(data.T, columns=['L2', 'H1', 'H2', 'Energy'])\n",
    "    df_list.append(df)\n",
    "    \n",
    "    print('epsilon =', epsilon)\n",
    "    print('  h    L2u   H1u   H2u   epu')\n",
    "    for i in range(H2s.shape[0] - 1):\n",
    "        print(\n",
    "            '2^-' + str(i + 2), ' {:.2f}  {:.2f}  {:.2f}  {:.2f}'.format(\n",
    "                -np.log2(L2s[i + 1] / L2s[i]), -np.log2(H1s[i + 1] / H1s[i]),\n",
    "                -np.log2(H2s[i + 1] / H2s[i]),\n",
    "                -np.log2(epus[i + 1] / epus[i])))\n",
    "#         print(\n",
    "#             '2^-' + str(i + 2), ' {:.5f}  {:.5f}  {:.5f}  {:.5f}'.format(\n",
    "#                 L2s[i + 1], H1s[i + 1],\n",
    "#                 H2s[i + 1],\n",
    "#                 epus[i + 1]))"
   ]
  },
  {
   "cell_type": "code",
   "execution_count": 82,
   "metadata": {},
   "outputs": [
    {
     "name": "stdout",
     "output_type": "stream",
     "text": [
      "epsilon = 1\n",
      "  h    L2u   H1u   H2u   epu\n",
      "2^-2  1.83  0.87  0.71  0.70\n",
      "2^-3  2.19  1.76  1.02  0.98\n",
      "2^-4  2.16  1.93  1.05  1.02\n",
      "2^-5  2.06  1.98  1.02  1.01\n",
      "2^-6  2.02  2.00  1.01  1.00\n",
      "epsilon = 0.01\n",
      "  h    L2u   H1u   H2u   epu\n",
      "2^-2  1.45  0.74  0.48  0.66\n",
      "2^-3  2.26  1.68  0.86  1.61\n",
      "2^-4  2.08  1.94  1.09  1.86\n",
      "2^-5  1.76  2.03  1.22  1.85\n",
      "2^-6  1.82  2.02  1.14  1.59\n",
      "epsilon = 0.0001\n",
      "  h    L2u   H1u   H2u   epu\n",
      "2^-2  1.45  0.73  0.47  0.65\n",
      "2^-3  2.29  1.66  0.81  1.61\n",
      "2^-4  2.31  1.89  0.94  1.87\n",
      "2^-5  2.14  1.97  0.98  1.96\n",
      "2^-6  2.04  1.99  1.00  1.99\n",
      "epsilon = 1e-06\n",
      "  h    L2u   H1u   H2u   epu\n",
      "2^-2  1.45  0.73  0.47  0.65\n",
      "2^-3  2.29  1.66  0.81  1.61\n",
      "2^-4  2.31  1.89  0.94  1.87\n",
      "2^-5  2.14  1.97  0.98  1.96\n",
      "2^-6  2.04  1.99  1.00  1.99\n",
      "epsilon = 1e-08\n",
      "  h    L2u   H1u   H2u   epu\n",
      "2^-2  1.45  0.73  0.47  0.65\n",
      "2^-3  2.29  1.66  0.81  1.61\n",
      "2^-4  2.31  1.89  0.94  1.87\n",
      "2^-5  2.14  1.97  0.98  1.96\n",
      "2^-6  2.04  1.99  1.00  1.99\n"
     ]
    }
   ],
   "source": [
    "df_list = []\n",
    "for j in range(epsilon_range):\n",
    "    epsilon = 1 * 10**(-j*2) * (1 - zero_ep)\n",
    "    ep = epsilon\n",
    "    L2_list = []\n",
    "    Du_list = []\n",
    "    D2u_list = []\n",
    "    h_list = []\n",
    "    epu_list = []\n",
    "    m = MeshTri()\n",
    "\n",
    "    for i in range(1, refine_time+1):\n",
    "        \n",
    "        m.refine()\n",
    "        \n",
    "        uh0, basis = solve_problem3(m, element_type, solver_type, tol=tol)\n",
    "\n",
    "        U = basis['u'].interpolate(uh0).value\n",
    "\n",
    "        # compute errors\n",
    "\n",
    "        L2u = np.sqrt(L2uError.assemble(basis['u'], w=U))\n",
    "        Du = get_DuError(basis['u'], uh0)\n",
    "        H1u = Du + L2u\n",
    "        D2u = get_D2uError(basis['u'], uh0)\n",
    "        H2u = Du + L2u + D2u\n",
    "        epu = np.sqrt(epsilon**2 * D2u**2 + Du**2)\n",
    "        h_list.append(m.param())\n",
    "        Du_list.append(Du)\n",
    "        L2_list.append(L2u)\n",
    "        D2u_list.append(D2u)\n",
    "        epu_list.append(epu)\n",
    "        \n",
    "    hs = np.array(h_list)\n",
    "    L2s = np.array(L2_list)\n",
    "    Dus = np.array(Du_list)\n",
    "    D2us = np.array(D2u_list)\n",
    "    epus = np.array(epu_list)\n",
    "    H1s = L2s + Dus\n",
    "    H2s = H1s + D2us\n",
    "    \n",
    "    # store data\n",
    "    data = np.array([L2s, H1s, H2s, epus])\n",
    "    df = pd.DataFrame(data.T, columns=['L2', 'H1', 'H2', 'Energy'])\n",
    "    df_list.append(df)\n",
    "    \n",
    "    print('epsilon =', epsilon)\n",
    "    print('  h    L2u   H1u   H2u   epu')\n",
    "    for i in range(H2s.shape[0] - 1):\n",
    "        print(\n",
    "            '2^-' + str(i + 2), ' {:.2f}  {:.2f}  {:.2f}  {:.2f}'.format(\n",
    "                -np.log2(L2s[i + 1] / L2s[i]), -np.log2(H1s[i + 1] / H1s[i]),\n",
    "                -np.log2(H2s[i + 1] / H2s[i]),\n",
    "                -np.log2(epus[i + 1] / epus[i])))\n",
    "#         print(\n",
    "#             '2^-' + str(i + 2), ' {:.5f}  {:.5f}  {:.5f}  {:.5f}'.format(\n",
    "#                 L2s[i + 1], H1s[i + 1],\n",
    "#                 H2s[i + 1],\n",
    "#                 epus[i + 1]))"
   ]
  },
  {
   "cell_type": "code",
   "execution_count": null,
   "metadata": {},
   "outputs": [],
   "source": []
  }
 ],
 "metadata": {
  "kernelspec": {
   "display_name": "Python 3",
   "language": "python",
   "name": "python3"
  },
  "language_info": {
   "codemirror_mode": {
    "name": "ipython",
    "version": 3
   },
   "file_extension": ".py",
   "mimetype": "text/x-python",
   "name": "python",
   "nbconvert_exporter": "python",
   "pygments_lexer": "ipython3",
   "version": "3.7.4"
  },
  "toc": {
   "base_numbering": 1,
   "nav_menu": {
    "height": "356.983px",
    "width": "288.983px"
   },
   "number_sections": true,
   "sideBar": false,
   "skip_h1_title": false,
   "title_cell": "Table of Contents",
   "title_sidebar": "Contents",
   "toc_cell": false,
   "toc_position": {},
   "toc_section_display": true,
   "toc_window_display": false
  },
  "varInspector": {
   "cols": {
    "lenName": 16,
    "lenType": 16,
    "lenVar": 40
   },
   "kernels_config": {
    "python": {
     "delete_cmd_postfix": "",
     "delete_cmd_prefix": "del ",
     "library": "var_list.py",
     "varRefreshCmd": "print(var_dic_list())"
    },
    "r": {
     "delete_cmd_postfix": ") ",
     "delete_cmd_prefix": "rm(",
     "library": "var_list.r",
     "varRefreshCmd": "cat(var_dic_list()) "
    }
   },
   "position": {
    "height": "734.233px",
    "left": "1264px",
    "right": "20px",
    "top": "120px",
    "width": "681.867px"
   },
   "types_to_exclude": [
    "module",
    "function",
    "builtin_function_or_method",
    "instance",
    "_Feature"
   ],
   "window_display": false
  }
 },
 "nbformat": 4,
 "nbformat_minor": 4
}
