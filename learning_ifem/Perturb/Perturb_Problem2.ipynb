{
 "cells": [
  {
   "cell_type": "markdown",
   "metadata": {},
   "source": [
    "# Solving a Fourth Order Elliptic Singular Perturbation Problem\n",
    "\n",
    "$$\n",
    "\\left\\{\\begin{array}{lr}\n",
    "\\varepsilon^{2} \\Delta^{2} u-\\Delta u=f & \\text { in } \\Omega \\\\\n",
    "u=\\partial_{n} u=0 & \\text { on } \\partial \\Omega\n",
    "\\end{array}\\right.\n",
    "$$"
   ]
  },
  {
   "cell_type": "code",
   "execution_count": 1,
   "metadata": {},
   "outputs": [],
   "source": [
    "from skfem import *\n",
    "import numpy as np\n",
    "from skfem.visuals.matplotlib import draw, plot\n",
    "from skfem.utils import solver_iter_krylov\n",
    "from skfem.helpers import d, dd, ddd, dot, ddot, grad, dddot, prod\n",
    "from scipy.sparse.linalg import LinearOperator, minres\n",
    "from skfem import *\n",
    "from skfem.models.poisson import *\n",
    "from skfem.assembly import BilinearForm, LinearForm\n",
    "import matplotlib.pyplot as plt\n",
    "from mpl_toolkits.mplot3d import Axes3D\n",
    "plt.rcParams['figure.dpi'] = 200\n",
    "\n",
    "pi = np.pi\n",
    "sin = np.sin\n",
    "cos = np.cos\n",
    "exp = np.exp"
   ]
  },
  {
   "cell_type": "markdown",
   "metadata": {},
   "source": [
    "## Problem1"
   ]
  },
  {
   "cell_type": "markdown",
   "metadata": {},
   "source": [
    "The modified Morley-Wang-Xu element method is equivalent to finding $w_{h} \\in W_{h}$ and $u_{h 0} \\in V_{h 0}$ such that\n",
    "$$\n",
    "\\begin{aligned}\n",
    "\\left(\\nabla w_{h}, \\nabla \\chi_{h}\\right) &=\\left(f, \\chi_{h}\\right) & & \\forall \\chi_{h} \\in W_{h} \\\\\n",
    "\\varepsilon^{2} a_{h}\\left(u_{h 0}, v_{h}\\right)+b_{h}\\left(u_{h 0}, v_{h}\\right) &=\\left(\\nabla w_{h}, \\nabla_{h} v_{h}\\right) & & \\forall v_{h} \\in V_{h 0}\n",
    "\\end{aligned}\n",
    "$$\n",
    "where \n",
    "$$\n",
    "a_{h}\\left(u_{h 0}, v_{h}\\right):=\\left(\\nabla_{h}^{2} u_{h 0}, \\nabla_{h}^{2} v_{h}\\right), \\quad b_{h}\\left(u_{h 0}, v_{h}\\right):=\\left(\\nabla_{h} u_{h 0}, \\nabla_{h} v_{h}\\right)\n",
    "$$"
   ]
  },
  {
   "cell_type": "markdown",
   "metadata": {},
   "source": [
    "## Problem2"
   ]
  },
  {
   "cell_type": "markdown",
   "metadata": {},
   "source": [
    "The modified Morley-Wang-Xu element method is also equivalent to\n",
    "$$\n",
    "\\begin{aligned}\n",
    "\\left(\\nabla w_{h}, \\nabla \\chi_{h}\\right) &=\\left(f, \\chi_{h}\\right) & & \\forall \\chi_{h} \\in W_{h} \\\\\n",
    "\\varepsilon^{2} \\tilde{a}_{h}\\left(u_{h}, v_{h}\\right)+b_{h}\\left(u_{h}, v_{h}\\right) &=\\left(\\nabla w_{h}, \\nabla_{h} v_{h}\\right) & & \\forall v_{h} \\in V_{h}\n",
    "\\end{aligned}\n",
    "$$\n",
    "where\n",
    "$$\n",
    "\\tilde{a}_{h}\\left(u_{h}, v_{h}\\right):=\\left(\\nabla_{h}^{2} u_{h}, \\nabla_{h}^{2} v_{h}\\right)-\\sum_{F \\in \\mathcal{F}_{h}^{\\partial}}\\left(\\partial_{n n}^{2} u_{h}, \\partial_{n} v_{h}\\right)_{F}-\\sum_{F \\in \\mathcal{F}_{h}^{\\partial}}\\left(\\partial_{n} u_{h}, \\partial_{n n}^{2} v_{h}\\right)_{F}+\\sum_{F \\in \\mathcal{F}_{h}^{\\partial}} \\frac{\\sigma}{h_{F}}\\left(\\partial_{n} u_{h}, \\partial_{n} v_{h}\\right)_{F}\n",
    "$$"
   ]
  },
  {
   "cell_type": "markdown",
   "metadata": {},
   "source": [
    "## Forms and errors"
   ]
  },
  {
   "cell_type": "code",
   "execution_count": 2,
   "metadata": {},
   "outputs": [],
   "source": [
    "@Functional\n",
    "def L2uError(w):\n",
    "    x, y = w.x\n",
    "    return (w.w - exact_u(x, y))**2\n",
    "\n",
    "\n",
    "def get_DuError(basis, u):\n",
    "    duh = basis.interpolate(u).grad\n",
    "    x = basis.global_coordinates().value\n",
    "    dx = basis.dx  # quadrature weights\n",
    "    dux, duy = dexact_u(x[0], x[1])\n",
    "    return np.sqrt(np.sum(((duh[0] - dux)**2 + (duh[1] - duy)**2) * dx))\n",
    "\n",
    "\n",
    "def get_D2uError(basis, u):\n",
    "    dduh = basis.interpolate(u).hess\n",
    "    x = basis.global_coordinates(\n",
    "    ).value  # coordinates of quadrature points [x, y]\n",
    "    dx = basis.dx  # quadrature weights\n",
    "    duxx, duxy, duyx, duyy = ddexact(x[0], x[1])\n",
    "    return np.sqrt(\n",
    "        np.sum(((dduh[0][0] - duxx)**2 + (dduh[0][1] - duxy)**2 +\n",
    "                (dduh[1][1] - duyy)**2 + (dduh[1][0] - duyx)**2) * dx))\n",
    "\n",
    "\n",
    "@BilinearForm\n",
    "def a_load(u, v, w):\n",
    "    '''\n",
    "    for $a_{h}$\n",
    "    '''\n",
    "    return ddot(dd(u), dd(v))\n",
    "\n",
    "\n",
    "@BilinearForm\n",
    "def b_load(u, v, w):\n",
    "    '''\n",
    "    for $b_{h}$\n",
    "    '''\n",
    "    return dot(grad(u), grad(v))\n",
    "\n",
    "\n",
    "@BilinearForm\n",
    "def wv_load(u, v, w):\n",
    "    '''\n",
    "    for $(\\nabla \\chi_{h}, \\nabla_{h} v_{h})$\n",
    "    '''\n",
    "    return dot(grad(u), grad(v))\n",
    "\n",
    "\n",
    "@BilinearForm\n",
    "def penalty_1(u, v, w):\n",
    "    return ddot(-dd(u), prod(w.n, w.n)) * dot(grad(v), w.n)\n",
    "\n",
    "@BilinearForm\n",
    "def penalty_2(u, v, w):\n",
    "    return ddot(-dd(v), prod(w.n, w.n)) * dot(grad(u), w.n) \n",
    "\n",
    "\n",
    "@BilinearForm\n",
    "def penalty_3(u, v, w):\n",
    "    global mem\n",
    "    global nn\n",
    "    global memu\n",
    "    nn = prod(w.n, w.n)\n",
    "    mem = w\n",
    "    memu = u\n",
    "    return (sigma / w.h) * dot(grad(u), w.n) * dot(grad(v), w.n) \n",
    "\n",
    "\n",
    "@BilinearForm\n",
    "def laplace(u, v, w):\n",
    "    '''\n",
    "    for $(\\nabla w_{h}, \\nabla \\chi_{h})$\n",
    "    '''\n",
    "    return dot(grad(u), grad(v))"
   ]
  },
  {
   "cell_type": "markdown",
   "metadata": {},
   "source": [
    "## Solver for problem1"
   ]
  },
  {
   "cell_type": "code",
   "execution_count": 3,
   "metadata": {
    "code_folding": [
     0
    ]
   },
   "outputs": [],
   "source": [
    "def easy_boundary(basis):\n",
    "    '''\n",
    "    Input basis\n",
    "    ----------------\n",
    "    Return D for boundary conditions\n",
    "    '''\n",
    "\n",
    "    dofs = basis.find_dofs({\n",
    "        'left': m.facets_satisfying(lambda x: x[0] == 0),\n",
    "        'right': m.facets_satisfying(lambda x: x[0] == 1),\n",
    "        'top': m.facets_satisfying(lambda x: x[1] == 1),\n",
    "        'buttom': m.facets_satisfying(lambda x: x[1] == 0)\n",
    "    })\n",
    "\n",
    "    D = np.concatenate((dofs['left'].nodal['u'], dofs['right'].nodal['u'],\n",
    "                        dofs['top'].nodal['u'], dofs['buttom'].nodal['u'],\n",
    "                        dofs['left'].facet['u_n'], dofs['right'].facet['u_n'],\n",
    "                        dofs['top'].facet['u_n'], dofs['buttom'].facet['u_n']))\n",
    "    return D\n",
    "\n",
    "\n",
    "def solve_problem1(m):\n",
    "\n",
    "    element = {'w': ElementTriP2(), 'u': ElementTriMorley()}\n",
    "    basis = {\n",
    "        variable: InteriorBasis(m, e, intorder=4)\n",
    "        for variable, e in element.items()\n",
    "    }  # intorder: integration order for quadrature\n",
    "\n",
    "    K1 = asm(laplace, basis['w'])\n",
    "    f1 = asm(f_load, basis['w'])\n",
    "\n",
    "    wh = solve(*condense(K1, f1, D=m.boundary_nodes()),\n",
    "               solver=solver_iter_krylov(Precondition=True, tol=1e-8))\n",
    "\n",
    "    K2 = epsilon**2 * asm(a_load, basis['u']) + asm(b_load, basis['u'])\n",
    "    f2 = asm(wv_load, basis['w'], basis['u']) * wh\n",
    "    uh0 = solve(*condense(K2, f2, D=easy_boundary(basis['u'])),\n",
    "                solver=solver_iter_krylov(Precondition=True))  # cg\n",
    "    return uh0, basis"
   ]
  },
  {
   "cell_type": "markdown",
   "metadata": {},
   "source": [
    "## Solver for problem2"
   ]
  },
  {
   "cell_type": "code",
   "execution_count": 4,
   "metadata": {
    "code_folding": [
     0
    ]
   },
   "outputs": [],
   "source": [
    "def easy_boundary_penalty(basis):\n",
    "    '''\n",
    "    Input basis\n",
    "    ----------------\n",
    "    Return D for boundary conditions\n",
    "    '''\n",
    "\n",
    "    dofs = basis.find_dofs({\n",
    "        'left': m.facets_satisfying(lambda x: x[0] == 0),\n",
    "        'right': m.facets_satisfying(lambda x: x[0] == 1),\n",
    "        'top': m.facets_satisfying(lambda x: x[1] == 1),\n",
    "        'buttom': m.facets_satisfying(lambda x: x[1] == 0)\n",
    "    })\n",
    "\n",
    "    D = np.concatenate((dofs['left'].nodal['u'], dofs['right'].nodal['u'],\n",
    "                        dofs['top'].nodal['u'], dofs['buttom'].nodal['u']))\n",
    "    return D\n",
    "\n",
    "\n",
    "def solve_problem2(m):\n",
    "    global fbasis\n",
    "    global wh\n",
    "    element = {'w': ElementTriP2(), 'u': ElementTriMorley()}\n",
    "    basis = {\n",
    "        variable: InteriorBasis(m, e, intorder=4)\n",
    "        for variable, e in element.items()\n",
    "    }\n",
    "\n",
    "    K1 = asm(laplace, basis['w'])\n",
    "    f1 = asm(f_load, basis['w'])\n",
    "\n",
    "    wh = solve(*condense(K1, f1, D=m.boundary_nodes()),\n",
    "               solver=solver_iter_krylov(Precondition=True))\n",
    "    \n",
    "    fbasis = FacetBasis(m, element['u'])\n",
    "    \n",
    "    p1 = asm(penalty_1, fbasis)\n",
    "    p2 = asm(penalty_2, fbasis)\n",
    "    p3 = asm(penalty_3, fbasis)\n",
    "    P = p1 + p2 + p3\n",
    "\n",
    "    K2 = epsilon**2 * asm(a_load, basis['u']) + epsilon**2 * P + asm(b_load, basis['u'])\n",
    "    f2 = asm(wv_load, basis['w'], basis['u']) * wh\n",
    "    uh0 = solve(*condense(K2, f2, D=easy_boundary_penalty(basis['u'])), solver=solver_iter_krylov(Precondition=True))  \n",
    "    # uh0 = solve(*condense(K2 + P, f2, D=m.boundary_nodes()), solver=solver_iter_krylov(Precondition=True)) \n",
    "    return uh0, basis\n"
   ]
  },
  {
   "cell_type": "markdown",
   "metadata": {},
   "source": [
    "# Numerical results\n",
    "> setting boundary condition: $u=0 \\ on \\ \\partial \\Omega$"
   ]
  },
  {
   "cell_type": "markdown",
   "metadata": {},
   "source": [
    "## Parameters \n",
    "$$\n",
    "\\tilde{a}_{h}\\left(u_{h}, v_{h}\\right):=\\left(\\nabla_{h}^{2} u_{h}, \\nabla_{h}^{2} v_{h}\\right)-\\sum_{F \\in \\mathcal{F}_{h}^{\\partial}}\\left(\\partial_{n n}^{2} u_{h}, \\partial_{n} v_{h}\\right)_{F}-\\sum_{F \\in \\mathcal{F}_{h}^{\\partial}}\\left(\\partial_{n} u_{h}, \\partial_{n n}^{2} v_{h}\\right)_{F}+\\sum_{F \\in \\mathcal{F}_{h}^{\\partial}} \\frac{\\sigma}{h_{F}}\\left(\\partial_{n} u_{h}, \\partial_{n} v_{h}\\right)_{F}\n",
    "$$\n"
   ]
  },
  {
   "cell_type": "markdown",
   "metadata": {},
   "source": [
    "- `sigma` in $\\sum_{F \\in \\mathcal{F}_{h}^{\\partial}} \\frac{\\sigma}{h_{F}}\\left(\\partial_{n} u_{h}, \\partial_{n} v_{h}\\right)_{F}$"
   ]
  },
  {
   "cell_type": "markdown",
   "metadata": {},
   "source": [
    "## Example 1\n",
    "$$\n",
    "u\\left(x_{1}, x_{2}\\right)=\\left(\\sin \\left(\\pi x_{1}\\right) \\sin \\left(\\pi x_{2}\\right)\\right)^{2}\n",
    "$$"
   ]
  },
  {
   "cell_type": "code",
   "execution_count": 64,
   "metadata": {
    "code_folding": [
     1,
     18,
     24
    ]
   },
   "outputs": [],
   "source": [
    "@LinearForm\n",
    "def f_load(v, w):\n",
    "    '''\n",
    "    for $(f, x_{h})$\n",
    "    '''\n",
    "    pix = pi * w.x[0]\n",
    "    piy = pi * w.x[1]\n",
    "    lu = 2 * (pi)**2 * (cos(2 * pix) * ((sin(piy))**2) + cos(2 * piy) *\n",
    "                        ((sin(pix))**2))\n",
    "    llu = -8 * (pi)**4 * (cos(2 * pix) * sin(piy)**2 + cos(2 * piy) *\n",
    "                          sin(pix)**2 - cos(2 * pix) * cos(2 * piy))\n",
    "    return (epsilon**2 * llu - lu) * v\n",
    "\n",
    "\n",
    "def exact_u(x, y):\n",
    "    return (sin(pi * x) * sin(pi * y))**2\n",
    "\n",
    "\n",
    "def dexact_u(x, y):\n",
    "    dux = 2 * pi * cos(pi * x) * sin(pi * x) * sin(pi * y)**2\n",
    "    duy = 2 * pi * cos(pi * y) * sin(pi * x)**2 * sin(pi * y)\n",
    "    return dux, duy\n",
    "\n",
    "\n",
    "def ddexact(x, y):\n",
    "    duxx = 2 * pi**2 * cos(pi * x)**2 * sin(pi * y)**2 - 2 * pi**2 * sin(\n",
    "        pi * x)**2 * sin(pi * y)**2\n",
    "    duxy = 2 * pi * cos(pi * x) * sin(pi * x) * 2 * pi * cos(pi * y) * sin(\n",
    "        pi * y)\n",
    "    duyx = duxy\n",
    "    duyy = 2 * pi**2 * cos(pi * y)**2 * sin(pi * x)**2 - 2 * pi**2 * sin(\n",
    "        pi * y)**2 * sin(pi * x)**2\n",
    "    return duxx, duxy, duyx, duyy"
   ]
  },
  {
   "cell_type": "markdown",
   "metadata": {},
   "source": [
    "### Without penalty (Problem1)"
   ]
  },
  {
   "cell_type": "code",
   "execution_count": 65,
   "metadata": {
    "code_folding": [
     2
    ],
    "scrolled": false
   },
   "outputs": [
    {
     "name": "stdout",
     "output_type": "stream",
     "text": [
      "epsilon = 1\n",
      "  h    L2u   H1u   H2u   epu\n",
      "2^-2  1.79  0.91  0.69  0.67\n",
      "2^-3  2.19  1.76  1.02  0.98\n",
      "2^-4  2.16  1.93  1.05  1.02\n",
      "2^-5  2.06  1.98  1.02  1.01\n",
      "2^-6  2.02  2.00  1.01  1.00\n",
      "epsilon = 0.01\n",
      "  h    L2u   H1u   H2u   epu\n",
      "2^-2  1.43  0.77  0.45  0.70\n",
      "2^-3  2.26  1.67  0.86  1.61\n",
      "2^-4  2.08  1.94  1.09  1.86\n",
      "2^-5  1.76  2.03  1.22  1.85\n",
      "2^-6  1.82  2.02  1.14  1.59\n",
      "epsilon = 0.0001\n",
      "  h    L2u   H1u   H2u   epu\n",
      "2^-2  1.43  0.77  0.45  0.70\n",
      "2^-3  2.29  1.66  0.81  1.61\n",
      "2^-4  2.31  1.89  0.94  1.87\n",
      "2^-5  2.14  1.97  0.98  1.96\n",
      "2^-6  2.04  1.99  1.00  1.99\n"
     ]
    }
   ],
   "source": [
    "refine_time = 6\n",
    "epsilon_range = 3\n",
    "for j in range(epsilon_range):\n",
    "    epsilon = 1 * 10**(-j*2)\n",
    "\n",
    "    L2_list = []\n",
    "    Du_list = []\n",
    "    D2u_list = []\n",
    "    h_list = []\n",
    "    epu_list = []\n",
    "    m = MeshTri()\n",
    "\n",
    "    for i in range(1, refine_time+1):\n",
    "        \n",
    "        m.refine()\n",
    "        uh0, basis = solve_problem1(m)\n",
    "        U = basis['u'].interpolate(uh0).value\n",
    "\n",
    "        L2u = np.sqrt(L2uError.assemble(basis['u'], w=U))\n",
    "        Du = get_DuError(basis['u'], uh0)\n",
    "        H1u = Du + L2u\n",
    "        D2u = get_D2uError(basis['u'], uh0)\n",
    "        H2u = Du + L2u + D2u\n",
    "        epu = np.sqrt(epsilon**2 * D2u**2 + Du**2)\n",
    "        h_list.append(m.param())\n",
    "        Du_list.append(Du)\n",
    "        L2_list.append(L2u)\n",
    "        D2u_list.append(D2u)\n",
    "        epu_list.append(epu)\n",
    "        \n",
    "    hs = np.array(h_list)\n",
    "    L2s = np.array(L2_list)\n",
    "    Dus = np.array(Du_list)\n",
    "    D2us = np.array(D2u_list)\n",
    "    epus = np.array(epu_list)\n",
    "    H1s = L2s + Dus\n",
    "    H2s = H1s + D2us\n",
    "    print('epsilon =', epsilon)\n",
    "    print('  h    L2u   H1u   H2u   epu')\n",
    "    for i in range(H2s.shape[0] - 1):\n",
    "        print(\n",
    "            '2^-' + str(i + 2), ' {:.2f}  {:.2f}  {:.2f}  {:.2f}'.format(\n",
    "                -np.log2(L2s[i + 1] / L2s[i]), -np.log2(H1s[i + 1] / H1s[i]),\n",
    "                -np.log2(H2s[i + 1] / H2s[i]),\n",
    "                -np.log2(epus[i + 1] / epus[i])))\n",
    "#         print(\n",
    "#             '2^-' + str(i + 2), ' {:.5f}  {:.5f}  {:.5f}  {:.5f}'.format(\n",
    "#                 L2s[i + 1], H1s[i + 1],\n",
    "#                 H2s[i + 1],\n",
    "#                 epus[i + 1]))\n",
    "        \n",
    "uh0_no_penalty = uh0"
   ]
  },
  {
   "cell_type": "markdown",
   "metadata": {},
   "source": [
    "### With penalty (Problem2)"
   ]
  },
  {
   "cell_type": "code",
   "execution_count": 66,
   "metadata": {
    "code_folding": [
     1
    ],
    "scrolled": false
   },
   "outputs": [
    {
     "name": "stdout",
     "output_type": "stream",
     "text": [
      "epsilon = 1\n",
      "  h    L2u   H1u   H2u   epu\n",
      "2^-2  1.67  0.87  0.70  0.69\n",
      "2^-3  2.26  1.80  1.07  1.02\n",
      "2^-4  2.24  1.95  1.04  1.01\n",
      "2^-5  2.12  1.99  1.02  1.00\n",
      "2^-6  2.04  2.00  1.01  1.00\n",
      "epsilon = 0.01\n",
      "  h    L2u   H1u   H2u   epu\n",
      "2^-2  1.25  0.59  0.21  0.51\n",
      "2^-3  2.31  1.56  0.69  1.48\n",
      "2^-4  2.24  1.90  0.98  1.79\n",
      "2^-5  1.85  2.18  1.36  1.95\n",
      "2^-6  1.83  2.20  1.46  1.80\n",
      "epsilon = 0.0001\n",
      "  h    L2u   H1u   H2u   epu\n",
      "2^-2  1.24  0.58  0.20  0.50\n",
      "2^-3  2.30  1.50  0.60  1.45\n",
      "2^-4  2.37  1.67  0.66  1.65\n",
      "2^-5  2.23  1.66  0.62  1.65\n",
      "2^-6  2.11  1.61  0.58  1.60\n"
     ]
    }
   ],
   "source": [
    "sigma = 5\n",
    "for j in range(epsilon_range):\n",
    "    epsilon = 1 * 10**(-j * 2)\n",
    "    ep = epsilon\n",
    "    L2_list = []\n",
    "    Du_list = []\n",
    "    D2u_list = []\n",
    "    h_list = []\n",
    "    epu_list = []\n",
    "    m = MeshTri()\n",
    "\n",
    "    for i in range(1, refine_time + 1):\n",
    "\n",
    "        m.refine()\n",
    "        uh0, basis = solve_problem2(m)\n",
    "        U = basis['u'].interpolate(uh0).value\n",
    "\n",
    "        L2u = np.sqrt(L2uError.assemble(basis['u'], w=U))\n",
    "        Du = get_DuError(basis['u'], uh0)\n",
    "        H1u = Du + L2u\n",
    "        D2u = get_D2uError(basis['u'], uh0)\n",
    "        H2u = Du + L2u + D2u\n",
    "        epu = np.sqrt(epsilon**2 * D2u**2 + Du**2)\n",
    "        h_list.append(m.param())\n",
    "        Du_list.append(Du)\n",
    "        L2_list.append(L2u)\n",
    "        D2u_list.append(D2u)\n",
    "        epu_list.append(epu)\n",
    "\n",
    "    hs = np.array(h_list)\n",
    "    L2s = np.array(L2_list)\n",
    "    Dus = np.array(Du_list)\n",
    "    D2us = np.array(D2u_list)\n",
    "    epus = np.array(epu_list)\n",
    "    H1s = L2s + Dus\n",
    "    H2s = H1s + D2us\n",
    "\n",
    "    print('epsilon =', epsilon)\n",
    "    print('  h    L2u   H1u   H2u   epu')\n",
    "    for i in range(H2s.shape[0] - 1):\n",
    "        print(\n",
    "            '2^-' + str(i + 2), ' {:.2f}  {:.2f}  {:.2f}  {:.2f}'.format(\n",
    "                -np.log2(L2s[i + 1] / L2s[i]), -np.log2(H1s[i + 1] / H1s[i]),\n",
    "                -np.log2(H2s[i + 1] / H2s[i]),\n",
    "                -np.log2(epus[i + 1] / epus[i])))\n",
    "        \n",
    "#         print(\n",
    "#             '2^-' + str(i + 2),\n",
    "#             ' {:.5f}  {:.5f}  {:.5f}  {:.5f}'.format(L2s[i + 1], H1s[i + 1],\n",
    "#                                                      H2s[i + 1], epus[i + 1]))\n",
    "\n",
    "uh0_penalty = uh0"
   ]
  },
  {
   "cell_type": "code",
   "execution_count": 79,
   "metadata": {},
   "outputs": [],
   "source": [
    "# mem.n[1][mem.x[0] == 0]  # ny when x = 0\n",
    "\n",
    "# mem.n[0][mem.x[0]==0] # nx when x = 0\n",
    "\n",
    "# mem.n[0][mem.x[0]==1] # nx when x = 1\n",
    "\n",
    "# mem.n[1][mem.x[1]==1] # ny when y = 1\n",
    "\n",
    "# plot(basis['u'], uh0_penalty-uh0_no_penalty, colorbar=True)\n",
    "\n",
    "# # x = basis['u'].doflocs[0]\n",
    "# # y = basis['u'].doflocs[1]\n",
    "# # u = exact_u(x, y)\n",
    "\n",
    "# # plot(basis['u'], u-uh0_penalty, colorbar = True)\n",
    "\n",
    "# # # uh0_penalty[m.boundary_nodes()]\n",
    "\n",
    "# # m = MeshTri()\n",
    "# # m.refine(refine_time)\n",
    "\n",
    "# # # fbasis_dof = FacetBasis(m,\n",
    "# # #                     ElementTriMorley())\n",
    "\n",
    "# # fbasis_dof = FacetBasis(m,\n",
    "# #                     ElementTriMorley(),\n",
    "# #                     quadrature=(np.array([[0.0, 0.5, 1.0]]), np.array(\n",
    "# #                         [1, 1, 1])))  # quadrature: points and weights\n",
    "\n",
    "# # p3 = asm(penalty_3, fbasis_dof)\n",
    "\n",
    "# $\\partial u_{n}$ of `uh0_without_penalty` on boundary nodes\n",
    "\n",
    "# Data structure: $[n1, n2, n3]$ for each facet\n",
    "\n",
    "# - $n1, n3$ : $\\partial u_{n}$ on two ends of a facet\n",
    "\n",
    "# - $n2$ : $\\partial u_{n}$ on the middle point of a facet\n",
    "\n",
    "# # dot(fbasis_dof.interpolate(uh0_no_penalty).grad, mem.n)\n",
    "\n",
    "# $\\partial u_{n}$ of `uh0_penalty` on boundary nodes\n",
    "\n",
    "# # dot(fbasis_dof.interpolate(uh0_penalty).grad, mem.n)\n",
    "\n",
    "# # # ### Showing examples of facets used in caculating penalty and also $\\partial u_{n}$\n",
    "\n",
    "# # # for i in [0,8]:\n",
    "# # #     plt.scatter(mem.x[0][i], mem.x[1][i], s=4, marker='*')\n",
    "# # #     plt.axis('square')"
   ]
  },
  {
   "cell_type": "markdown",
   "metadata": {},
   "source": [
    "## Example 2"
   ]
  },
  {
   "cell_type": "markdown",
   "metadata": {},
   "source": [
    "$$\n",
    "u=g(x)p(y)\n",
    "$$\n",
    "where\n",
    "$$\n",
    "g(x)=\\frac{1}{2}\\left[\\sin (\\pi x)+\\frac{\\pi \\varepsilon}{1-e^{-1 / \\varepsilon}}\\left(e^{-x / \\varepsilon}+e^{(x-1) / \\varepsilon}-1-e^{-1 / \\varepsilon}\\right)\\right]\n",
    "$$\n",
    "$$\n",
    "p(y)=2 y\\left(1-y^{2}\\right)+\\varepsilon\\left[l d(1-2 y)-3 \\frac{q}{l}+\\left(\\frac{3}{l}-d\\right) e^{-y / \\varepsilon}+\\left(\\frac{3}{l}+d\\right) e^{(y-1) / \\varepsilon}\\right]\n",
    "$$\n",
    "$$\n",
    "l=1-e^{-1 / \\varepsilon}, q=2-l \\text { and } d=1 /(q-2 \\varepsilon l)\n",
    "$$"
   ]
  },
  {
   "cell_type": "code",
   "execution_count": 72,
   "metadata": {
    "code_folding": [
     1,
     58,
     78,
     110
    ]
   },
   "outputs": [],
   "source": [
    "@LinearForm\n",
    "def f_load(v, w):\n",
    "    '''\n",
    "    for $(f, x_{h})$\n",
    "    '''\n",
    "    x = w.x[0]\n",
    "    y = w.x[1]\n",
    "    return (\n",
    "        (sin(pi * x) / 2 - (ep * pi * (exp(-x / ep) + exp(\n",
    "            (x - 1) / ep) - exp(-1 / ep) - 1)) / (2 * (exp(-1 / ep) - 1))) *\n",
    "        (12 * y + ep *\n",
    "         ((exp(-y / ep) *\n",
    "           (3 / (exp(-1 / ep) - 1) + 1 /\n",
    "            (exp(-1 / ep) + 2 * ep * (exp(-1 / ep) - 1) + 1))) / ep**2 + (exp(\n",
    "                (y - 1) / ep) * (3 / (exp(-1 / ep) - 1) - 1 /\n",
    "                                 (exp(-1 / ep) + 2 * ep *\n",
    "                                  (exp(-1 / ep) - 1) + 1))) / ep**2)) -\n",
    "        ((pi**2 * sin(pi * x)) / 2 + (ep * pi * (exp(-x / ep) / ep**2 + exp(\n",
    "            (x - 1) / ep) / ep**2)) / (2 * (exp(-1 / ep) - 1))) *\n",
    "        (ep * (exp((y - 1) / ep) * (3 / (exp(-1 / ep) - 1) - 1 /\n",
    "                                    (exp(-1 / ep) + 2 * ep *\n",
    "                                     (exp(-1 / ep) - 1) + 1)) + exp(-y / ep) *\n",
    "               (3 / (exp(-1 / ep) - 1) + 1 /\n",
    "                (exp(-1 / ep) + 2 * ep *\n",
    "                 (exp(-1 / ep) - 1) + 1)) - (3 * exp(-1 / ep) + 3) /\n",
    "               (exp(-1 / ep) - 1) - ((2 * y - 1) * (exp(-1 / ep) - 1)) /\n",
    "               (exp(-1 / ep) + 2 * ep * (exp(-1 / ep) - 1) + 1)) + 2 * y *\n",
    "         (y**2 - 1)) - ep**2 *\n",
    "        (((pi**4 * sin(pi * x)) / 2 - (ep * pi * (exp(-x / ep) / ep**4 + exp(\n",
    "            (x - 1) / ep) / ep**4)) / (2 * (exp(-1 / ep) - 1))) *\n",
    "         (ep * (exp((y - 1) / ep) * (3 / (exp(-1 / ep) - 1) - 1 /\n",
    "                                     (exp(-1 / ep) + 2 * ep *\n",
    "                                      (exp(-1 / ep) - 1) + 1)) + exp(-y / ep) *\n",
    "                (3 / (exp(-1 / ep) - 1) + 1 /\n",
    "                 (exp(-1 / ep) + 2 * ep *\n",
    "                  (exp(-1 / ep) - 1) + 1)) - (3 * exp(-1 / ep) + 3) /\n",
    "                (exp(-1 / ep) - 1) - ((2 * y - 1) * (exp(-1 / ep) - 1)) /\n",
    "                (exp(-1 / ep) + 2 * ep * (exp(-1 / ep) - 1) + 1)) + 2 * y *\n",
    "          (y**2 - 1)) - 2 *\n",
    "         (12 * y + ep *\n",
    "          ((exp(-y / ep) *\n",
    "            (3 / (exp(-1 / ep) - 1) + 1 /\n",
    "             (exp(-1 / ep) + 2 * ep * (exp(-1 / ep) - 1) + 1))) / ep**2 + (exp(\n",
    "                 (y - 1) / ep) * (3 / (exp(-1 / ep) - 1) - 1 /\n",
    "                                  (exp(-1 / ep) + 2 * ep *\n",
    "                                   (exp(-1 / ep) - 1) + 1))) / ep**2)) *\n",
    "         ((pi**2 * sin(pi * x)) / 2 + (ep * pi * (exp(-x / ep) / ep**2 + exp(\n",
    "             (x - 1) / ep) / ep**2)) / (2 * (exp(-1 / ep) - 1))) + ep *\n",
    "         (sin(pi * x) / 2 - (ep * pi * (exp(-x / ep) + exp(\n",
    "             (x - 1) / ep) - exp(-1 / ep) - 1)) / (2 * (exp(-1 / ep) - 1))) *\n",
    "         ((exp(-y / ep) *\n",
    "           (3 / (exp(-1 / ep) - 1) + 1 /\n",
    "            (exp(-1 / ep) + 2 * ep * (exp(-1 / ep) - 1) + 1))) / ep**4 + (exp(\n",
    "                (y - 1) / ep) * (3 / (exp(-1 / ep) - 1) - 1 /\n",
    "                                 (exp(-1 / ep) + 2 * ep *\n",
    "                                  (exp(-1 / ep) - 1) + 1))) / ep**4))) * v\n",
    "\n",
    "\n",
    "def exact_u(x, y):\n",
    "    return -(sin(pi * x) / 2 - (ep * pi * (exp(-x / ep) + exp(\n",
    "        (x - 1) / ep) - exp(-1 / ep) - 1)) /\n",
    "             (2 *\n",
    "              (exp(-1 / ep) - 1))) * (ep * (exp(\n",
    "                  (y - 1) / ep) * (3 / (exp(-1 / ep) - 1) - 1 /\n",
    "                                   (exp(-1 / ep) + 2 * ep *\n",
    "                                    (exp(-1 / ep) - 1) + 1)) + exp(-y / ep) *\n",
    "                                            (3 / (exp(-1 / ep) - 1) + 1 /\n",
    "                                             (exp(-1 / ep) + 2 * ep *\n",
    "                                              (exp(-1 / ep) - 1) + 1)) -\n",
    "                                            (3 * exp(-1 / ep) + 3) /\n",
    "                                            (exp(-1 / ep) - 1) -\n",
    "                                            ((2 * y - 1) *\n",
    "                                             (exp(-1 / ep) - 1)) /\n",
    "                                            (exp(-1 / ep) + 2 * ep *\n",
    "                                             (exp(-1 / ep) - 1) + 1)) + 2 * y *\n",
    "                                      (y**2 - 1))\n",
    "\n",
    "\n",
    "def dexact_u(x, y):\n",
    "    dux = -((pi * cos(pi * x)) / 2 + (ep * pi * (exp(-x / ep) / ep - exp(\n",
    "        (x - 1) / ep) / ep)) /\n",
    "            (2 *\n",
    "             (exp(-1 / ep) - 1))) * (ep * (exp(\n",
    "                 (y - 1) / ep) * (3 / (exp(-1 / ep) - 1) - 1 /\n",
    "                                  (exp(-1 / ep) + 2 * ep *\n",
    "                                   (exp(-1 / ep) - 1) + 1)) + exp(-y / ep) *\n",
    "                                           (3 / (exp(-1 / ep) - 1) + 1 /\n",
    "                                            (exp(-1 / ep) + 2 * ep *\n",
    "                                             (exp(-1 / ep) - 1) + 1)) -\n",
    "                                           (3 * exp(-1 / ep) + 3) /\n",
    "                                           (exp(-1 / ep) - 1) -\n",
    "                                           ((2 * y - 1) * (exp(-1 / ep) - 1)) /\n",
    "                                           (exp(-1 / ep) + 2 * ep *\n",
    "                                            (exp(-1 / ep) - 1) + 1)) + 2 * y *\n",
    "                                     (y**2 - 1))\n",
    "    duy = (sin(pi * x) / 2 - (ep * pi * (exp(-x / ep) + exp(\n",
    "        (x - 1) / ep) - exp(-1 / ep) - 1)) /\n",
    "           (2 * (exp(-1 / ep) - 1))) * (ep * (\n",
    "               (2 * (exp(-1 / ep) - 1)) / (exp(-1 / ep) + 2 * ep *\n",
    "                                           (exp(-1 / ep) - 1) + 1) +\n",
    "               (exp(-y / ep) * (3 / (exp(-1 / ep) - 1) + 1 /\n",
    "                                (exp(-1 / ep) + 2 * ep *\n",
    "                                 (exp(-1 / ep) - 1) + 1))) / ep -\n",
    "               (exp((y - 1) / ep) *\n",
    "                (3 / (exp(-1 / ep) - 1) - 1 /\n",
    "                 (exp(-1 / ep) + 2 * ep *\n",
    "                  (exp(-1 / ep) - 1) + 1))) / ep) - 6 * y**2 + 2)\n",
    "    return dux, duy\n",
    "\n",
    "\n",
    "def ddexact(x, y):\n",
    "    duxx = ((pi**2 * sin(pi * x)) / 2 + (ep * pi * (exp(-x / ep) / ep**2 + exp(\n",
    "        (x - 1) / ep) / ep**2)) /\n",
    "            (2 *\n",
    "             (exp(-1 / ep) - 1))) * (ep * (exp(\n",
    "                 (y - 1) / ep) * (3 / (exp(-1 / ep) - 1) - 1 /\n",
    "                                  (exp(-1 / ep) + 2 * ep *\n",
    "                                   (exp(-1 / ep) - 1) + 1)) + exp(-y / ep) *\n",
    "                                           (3 / (exp(-1 / ep) - 1) + 1 /\n",
    "                                            (exp(-1 / ep) + 2 * ep *\n",
    "                                             (exp(-1 / ep) - 1) + 1)) -\n",
    "                                           (3 * exp(-1 / ep) + 3) /\n",
    "                                           (exp(-1 / ep) - 1) -\n",
    "                                           ((2 * y - 1) * (exp(-1 / ep) - 1)) /\n",
    "                                           (exp(-1 / ep) + 2 * ep *\n",
    "                                            (exp(-1 / ep) - 1) + 1)) + 2 * y *\n",
    "                                     (y**2 - 1))\n",
    "    duxy = ((pi * cos(pi * x)) / 2 + (ep * pi * (exp(-x / ep) / ep - exp(\n",
    "        (x - 1) / ep) / ep)) / (2 * (exp(-1 / ep) - 1))) * (ep * (\n",
    "            (2 * (exp(-1 / ep) - 1)) / (exp(-1 / ep) + 2 * ep *\n",
    "                                        (exp(-1 / ep) - 1) + 1) +\n",
    "            (exp(-y / ep) * (3 / (exp(-1 / ep) - 1) + 1 /\n",
    "                             (exp(-1 / ep) + 2 * ep *\n",
    "                              (exp(-1 / ep) - 1) + 1))) / ep -\n",
    "            (exp((y - 1) / ep) *\n",
    "             (3 / (exp(-1 / ep) - 1) - 1 /\n",
    "              (exp(-1 / ep) + 2 * ep *\n",
    "               (exp(-1 / ep) - 1) + 1))) / ep) - 6 * y**2 + 2)\n",
    "    duyx = duxy\n",
    "    duyy = -(sin(pi * x) / 2 - (ep * pi * (exp(-x / ep) + exp(\n",
    "        (x - 1) / ep) - exp(-1 / ep) - 1)) /\n",
    "             (2 *\n",
    "              (exp(-1 / ep) - 1))) * (12 * y + ep *\n",
    "                                      ((exp(-y / ep) *\n",
    "                                        (3 / (exp(-1 / ep) - 1) + 1 /\n",
    "                                         (exp(-1 / ep) + 2 * ep *\n",
    "                                          (exp(-1 / ep) - 1) + 1))) / ep**2 +\n",
    "                                       (exp((y - 1) / ep) *\n",
    "                                        (3 / (exp(-1 / ep) - 1) - 1 /\n",
    "                                         (exp(-1 / ep) + 2 * ep *\n",
    "                                          (exp(-1 / ep) - 1) + 1))) / ep**2))\n",
    "    return duxx, duxy, duyx, duyy"
   ]
  },
  {
   "cell_type": "markdown",
   "metadata": {},
   "source": [
    "### Without penalty (Problem1)"
   ]
  },
  {
   "cell_type": "code",
   "execution_count": 73,
   "metadata": {
    "code_folding": [
     2
    ],
    "scrolled": false
   },
   "outputs": [
    {
     "name": "stdout",
     "output_type": "stream",
     "text": [
      "epsilon = 1\n",
      "  h    L2u   H1u   H2u   epu\n",
      "2^-2  2.03  1.80  1.11  1.05\n",
      "2^-3  1.96  1.82  1.01  0.97\n",
      "2^-4  2.01  1.95  1.03  1.00\n",
      "2^-5  2.02  2.00  1.02  1.01\n",
      "epsilon = 0.01\n",
      "  h    L2u   H1u   H2u   epu\n",
      "2^-2  0.96  0.71  -0.35  0.62\n",
      "2^-3  0.99  0.74  -0.28  0.57\n",
      "2^-4  1.31  1.00  0.08  0.67\n",
      "2^-5  1.83  1.54  0.57  0.91\n",
      "epsilon = 0.0001\n",
      "  h    L2u   H1u   H2u   epu\n",
      "2^-2  0.97  0.62  -0.32  0.55\n",
      "2^-3  0.90  0.55  -0.45  0.50\n",
      "2^-4  0.93  0.54  -0.49  0.50\n",
      "2^-5  0.95  0.53  -0.50  0.50\n",
      "epsilon = 1e-06\n",
      "  h    L2u   H1u   H2u   epu\n",
      "2^-2  0.97  0.62  -0.32  0.55\n",
      "2^-3  0.90  0.55  -0.45  0.50\n",
      "2^-4  0.93  0.54  -0.49  0.50\n",
      "2^-5  0.96  0.53  -0.50  0.50\n"
     ]
    }
   ],
   "source": [
    "refine_time = 5\n",
    "epsilon_range = 4\n",
    "for j in range(epsilon_range):\n",
    "    epsilon = 1 * 10**(-j*2)\n",
    "    ep = epsilon\n",
    "    L2_list = []\n",
    "    Du_list = []\n",
    "    D2u_list = []\n",
    "    h_list = []\n",
    "    epu_list = []\n",
    "    m = MeshTri.init_symmetric()\n",
    "\n",
    "    for i in range(1, refine_time+1):\n",
    "        \n",
    "        m.refine()\n",
    "        uh0, basis = solve_problem1(m)\n",
    "        U = basis['u'].interpolate(uh0).value\n",
    "\n",
    "        L2u = np.sqrt(L2uError.assemble(basis['u'], w=U))\n",
    "        Du = get_DuError(basis['u'], uh0)\n",
    "        H1u = Du + L2u\n",
    "        D2u = get_D2uError(basis['u'], uh0)\n",
    "        H2u = Du + L2u + D2u\n",
    "        epu = np.sqrt(epsilon**2 * D2u**2 + Du**2)\n",
    "        h_list.append(m.param())\n",
    "        Du_list.append(Du)\n",
    "        L2_list.append(L2u)\n",
    "        D2u_list.append(D2u)\n",
    "        epu_list.append(epu)\n",
    "        \n",
    "#     x = basis['u'].doflocs[0]\n",
    "#     y = basis['u'].doflocs[1]\n",
    "#     u = exact_u(x, y)\n",
    "#     plot(basis['u'], u-uh0, colorbar = True)\n",
    "#     plt.show()\n",
    "    \n",
    "    hs = np.array(h_list)\n",
    "    L2s = np.array(L2_list)\n",
    "    Dus = np.array(Du_list)\n",
    "    D2us = np.array(D2u_list)\n",
    "    epus = np.array(epu_list)\n",
    "    H1s = L2s + Dus\n",
    "    H2s = H1s + D2us\n",
    "    print('epsilon =', epsilon)\n",
    "    print('  h    L2u   H1u   H2u   epu')\n",
    "    for i in range(H2s.shape[0] - 1):\n",
    "        print(\n",
    "            '2^-' + str(i + 2), ' {:.2f}  {:.2f}  {:.2f}  {:.2f}'.format(\n",
    "                -np.log2(L2s[i + 1] / L2s[i]), -np.log2(H1s[i + 1] / H1s[i]),\n",
    "                -np.log2(H2s[i + 1] / H2s[i]),\n",
    "                -np.log2(epus[i + 1] / epus[i])))\n",
    "        \n",
    "uh0_no_penalty = uh0"
   ]
  },
  {
   "cell_type": "markdown",
   "metadata": {},
   "source": [
    "### With penalty (Problem2)"
   ]
  },
  {
   "cell_type": "code",
   "execution_count": 74,
   "metadata": {
    "code_folding": [
     1
    ],
    "scrolled": false
   },
   "outputs": [
    {
     "name": "stdout",
     "output_type": "stream",
     "text": [
      "epsilon = 1\n",
      "  h    L2u   H1u   H2u   epu\n",
      "2^-2  2.20  2.04  1.15  1.07\n",
      "2^-3  1.93  1.79  0.99  0.95\n",
      "2^-4  1.96  1.89  0.99  0.97\n",
      "2^-5  1.98  1.96  1.00  0.99\n",
      "epsilon = 0.01\n",
      "  h    L2u   H1u   H2u   epu\n",
      "2^-2  1.02  0.70  -0.57  0.58\n",
      "2^-3  1.01  0.69  -0.33  0.50\n",
      "2^-4  1.31  0.94  0.08  0.62\n",
      "2^-5  1.83  1.48  0.57  0.91\n",
      "epsilon = 0.0001\n",
      "  h    L2u   H1u   H2u   epu\n",
      "2^-2  1.03  0.65  -0.36  0.56\n",
      "2^-3  0.92  0.57  -0.46  0.51\n",
      "2^-4  0.93  0.55  -0.49  0.50\n",
      "2^-5  0.96  0.54  -0.50  0.50\n",
      "epsilon = 1e-06\n",
      "  h    L2u   H1u   H2u   epu\n",
      "2^-2  1.04  0.65  -0.36  0.56\n",
      "2^-3  0.92  0.57  -0.46  0.51\n",
      "2^-4  0.94  0.55  -0.49  0.50\n",
      "2^-5  0.96  0.54  -0.50  0.50\n"
     ]
    }
   ],
   "source": [
    "sigma = 5\n",
    "for j in range(epsilon_range):\n",
    "    epsilon = 1 * 10**(-2*j)\n",
    "    ep = epsilon\n",
    "    L2_list = []\n",
    "    Du_list = []\n",
    "    D2u_list = []\n",
    "    h_list = []\n",
    "    epu_list = []\n",
    "    m = MeshTri.init_symmetric()\n",
    "\n",
    "    for i in range(1, refine_time+1):\n",
    "        \n",
    "        m.refine()\n",
    "        uh0, basis = solve_problem2(m)\n",
    "        U = basis['u'].interpolate(uh0).value\n",
    "\n",
    "        L2u = np.sqrt(L2uError.assemble(basis['u'], w=U))\n",
    "        Du = get_DuError(basis['u'], uh0)\n",
    "        H1u = Du + L2u\n",
    "        D2u = get_D2uError(basis['u'], uh0)\n",
    "        H2u = Du + L2u + D2u\n",
    "        epu = np.sqrt(epsilon**2 * D2u**2 + Du**2)\n",
    "        h_list.append(m.param())\n",
    "        Du_list.append(Du)\n",
    "        L2_list.append(L2u)\n",
    "        D2u_list.append(D2u)\n",
    "        epu_list.append(epu)\n",
    "\n",
    "    hs = np.array(h_list)\n",
    "    L2s = np.array(L2_list)\n",
    "    Dus = np.array(Du_list)\n",
    "    D2us = np.array(D2u_list)\n",
    "    epus = np.array(epu_list)\n",
    "    H1s = L2s + Dus\n",
    "    H2s = H1s + D2us\n",
    "    print('epsilon =', epsilon)\n",
    "    print('  h    L2u   H1u   H2u   epu')\n",
    "    for i in range(H2s.shape[0] - 1):\n",
    "        print(\n",
    "            '2^-' + str(i + 2), ' {:.2f}  {:.2f}  {:.2f}  {:.2f}'.format(\n",
    "                -np.log2(L2s[i + 1] / L2s[i]), -np.log2(H1s[i + 1] / H1s[i]),\n",
    "                -np.log2(H2s[i + 1] / H2s[i]),\n",
    "                -np.log2(epus[i + 1] / epus[i])))\n",
    "        \n",
    "uh0_penalty = uh0"
   ]
  },
  {
   "cell_type": "markdown",
   "metadata": {},
   "source": [
    "## Example3"
   ]
  },
  {
   "cell_type": "markdown",
   "metadata": {},
   "source": [
    "$$\n",
    "u^{0}\\left(x_{1}, x_{2}\\right)=\\sin \\left(\\pi x_{1}\\right) \\sin \\left(\\pi x_{2}\\right)\n",
    "$$\n",
    "$$\n",
    "f\\left(x_{1}, x_{2}\\right)=-\\Delta u^{0}=2 \\pi^{2} \\sin \\left(\\pi x_{1}\\right) \\sin \\left(\\pi x_{2}\\right)\n",
    "$$"
   ]
  },
  {
   "cell_type": "code",
   "execution_count": 47,
   "metadata": {
    "code_folding": []
   },
   "outputs": [],
   "source": [
    "def exact_u(x, y):\n",
    "    return sin(pi * x) * sin(pi * y)\n",
    "\n",
    "\n",
    "def dexact_u(x, y):\n",
    "    dux = pi * cos(pi * x) * sin(pi * y)\n",
    "    duy = pi * cos(pi * y) * sin(pi * x)\n",
    "    return dux, duy\n",
    "\n",
    "\n",
    "def ddexact(x, y):\n",
    "    duxx = -pi**2 * sin(pi * x) * sin(pi * y)\n",
    "    duxy = pi * cos(pi * x) * pi * cos(pi * y)\n",
    "    duyx = duxy\n",
    "    duyy = -pi**2 * sin(pi * y) * sin(pi * x)\n",
    "    return duxx, duxy, duyx, duyy"
   ]
  },
  {
   "cell_type": "code",
   "execution_count": 91,
   "metadata": {},
   "outputs": [],
   "source": [
    "@Functional\n",
    "def L2uError(w):\n",
    "    x, y = w.x\n",
    "    return (w.w - exact_u(x, y))**2\n",
    "\n",
    "\n",
    "def get_DuError(basis, u):\n",
    "    duh = basis.interpolate(u).grad\n",
    "    x = basis.global_coordinates().value\n",
    "    dx = basis.dx  # quadrature weights\n",
    "    dux, duy = dexact_u(x[0], x[1])\n",
    "    return np.sqrt(np.sum(((duh[0] - dux)**2 + (duh[1] - duy)**2) * dx))\n",
    "\n",
    "\n",
    "def get_D2uError(basis, u):\n",
    "    dduh = basis.interpolate(u).hess\n",
    "    x = basis.global_coordinates(\n",
    "    ).value \n",
    "    dx = basis.dx  \n",
    "    duxx, duxy, duyx, duyy = ddexact(x[0], x[1])\n",
    "    return np.sqrt(\n",
    "        np.sum(((dduh[0][0] - duxx)**2 + (dduh[0][1] - duxy)**2 +\n",
    "                (dduh[1][1] - duyy)**2 + (dduh[1][0] - duyx)**2) * dx))\n",
    "\n",
    "\n",
    "@LinearForm\n",
    "def f_load(v, w):\n",
    "    global ww\n",
    "    ww = w\n",
    "    pix = pi * w.x[0]\n",
    "    piy = pi * w.x[1]\n",
    "    return (2 * pi**2 * sin(pix) * sin(piy)) * v\n",
    "\n",
    "\n",
    "@BilinearForm\n",
    "def laplace(u, v, w):\n",
    "    '''\n",
    "    for $(\\nabla w_{h}, \\nabla \\chi_{h})$\n",
    "    '''\n",
    "    return dot(grad(u), grad(v))"
   ]
  },
  {
   "cell_type": "code",
   "execution_count": 148,
   "metadata": {},
   "outputs": [
    {
     "name": "stdout",
     "output_type": "stream",
     "text": [
      "L2:  0.3701821308162362\n",
      "H1:  1.8337156693985683\n",
      "L2:  0.15740571115801047\n",
      "H1:  1.2502162059563864\n",
      "L2:  0.07479121173710251\n",
      "H1:  0.852534640315463\n",
      "L2:  0.03703703313321278\n",
      "H1:  0.5891782889270463\n"
     ]
    }
   ],
   "source": [
    "epsilon = 1e-5\n",
    "ep = epsilon\n",
    "m = MeshTri()\n",
    "\n",
    "for i in range(1, 5):\n",
    "    m.refine()\n",
    "    element = ElementTriP2()\n",
    "    basis = InteriorBasis(m, element, intorder=3)\n",
    "\n",
    "    K1 = asm(laplace, basis)\n",
    "    f1 = asm(f_load, basis)\n",
    "\n",
    "    wh = solve(*condense(K1, f1, D=m.boundary_nodes()),\n",
    "               solver=solver_iter_krylov())\n",
    "    \n",
    "    W = basis.interpolate(wh).value\n",
    "\n",
    "    L2u = np.sqrt(L2uError.assemble(basis, w=W))\n",
    "    Du = get_DuError(basis, wh)\n",
    "    H1u = Du + L2u\n",
    "    print('L2: ', L2u)\n",
    "    print('H1: ', H1u)\n",
    "    \n",
    "whp2 = wh"
   ]
  },
  {
   "cell_type": "code",
   "execution_count": 106,
   "metadata": {},
   "outputs": [
    {
     "data": {
      "text/plain": [
       "Triangular mesh with 289 vertices and 512 elements."
      ]
     },
     "execution_count": 106,
     "metadata": {},
     "output_type": "execute_result"
    }
   ],
   "source": [
    "m"
   ]
  },
  {
   "cell_type": "code",
   "execution_count": 107,
   "metadata": {},
   "outputs": [
    {
     "name": "stdout",
     "output_type": "stream",
     "text": [
      "L2:  0.23454870409554232\n",
      "H1:  1.7465855187185302\n",
      "L2:  0.07562498200737637\n",
      "H1:  0.9159326980047305\n",
      "L2:  0.020330282249165717\n",
      "H1:  0.45236988511472537\n",
      "L2:  0.00518149362351155\n",
      "H1:  0.22274872239638108\n"
     ]
    }
   ],
   "source": [
    "epsilon = 1e-5\n",
    "ep = epsilon\n",
    "m = MeshTri()\n",
    "\n",
    "for i in range(1, 5):\n",
    "    m.refine()\n",
    "    element = ElementTriP1()\n",
    "    basis = InteriorBasis(m, element, intorder=3)\n",
    "\n",
    "    K1 = asm(laplace, basis)\n",
    "    f1 = asm(f_load, basis)\n",
    "\n",
    "    wh = solve(*condense(K1, f1, D=m.boundary_nodes()),\n",
    "               solver=solver_iter_krylov())\n",
    "    \n",
    "    W = basis.interpolate(wh).value\n",
    "\n",
    "    L2u = np.sqrt(L2uError.assemble(basis, w=W))\n",
    "    Du = get_DuError(basis, wh)\n",
    "    H1u = Du + L2u\n",
    "    print('L2: ', L2u)\n",
    "    print('H1: ', H1u)\n",
    "    \n",
    "whp1 = wh"
   ]
  },
  {
   "cell_type": "code",
   "execution_count": null,
   "metadata": {},
   "outputs": [],
   "source": []
  },
  {
   "cell_type": "code",
   "execution_count": 142,
   "metadata": {},
   "outputs": [
    {
     "data": {
      "text/plain": [
       "(289,)"
      ]
     },
     "execution_count": 142,
     "metadata": {},
     "output_type": "execute_result"
    }
   ],
   "source": [
    "whp1.shape"
   ]
  },
  {
   "cell_type": "code",
   "execution_count": 143,
   "metadata": {},
   "outputs": [
    {
     "data": {
      "text/plain": [
       "(2, 1089)"
      ]
     },
     "execution_count": 143,
     "metadata": {},
     "output_type": "execute_result"
    }
   ],
   "source": [
    "basis.doflocs.shape"
   ]
  },
  {
   "cell_type": "code",
   "execution_count": null,
   "metadata": {},
   "outputs": [],
   "source": []
  },
  {
   "cell_type": "code",
   "execution_count": 144,
   "metadata": {},
   "outputs": [
    {
     "data": {
      "text/plain": [
       "(2, 512, 4)"
      ]
     },
     "execution_count": 144,
     "metadata": {},
     "output_type": "execute_result"
    }
   ],
   "source": [
    "basis.global_coordinates().value.shape"
   ]
  },
  {
   "cell_type": "code",
   "execution_count": 145,
   "metadata": {},
   "outputs": [
    {
     "data": {
      "text/plain": [
       "(1089,)"
      ]
     },
     "execution_count": 145,
     "metadata": {},
     "output_type": "execute_result"
    }
   ],
   "source": [
    "whp2.shape"
   ]
  },
  {
   "cell_type": "code",
   "execution_count": 146,
   "metadata": {},
   "outputs": [],
   "source": [
    "x = basis.doflocs[0]\n",
    "y = basis.doflocs[1]\n",
    "u = exact_u(x, y)"
   ]
  },
  {
   "cell_type": "code",
   "execution_count": 147,
   "metadata": {},
   "outputs": [
    {
     "ename": "ValueError",
     "evalue": "operands could not be broadcast together with shapes (1089,) (289,) ",
     "output_type": "error",
     "traceback": [
      "\u001b[1;31m---------------------------------------------------------------------------\u001b[0m",
      "\u001b[1;31mValueError\u001b[0m                                Traceback (most recent call last)",
      "\u001b[1;32m<ipython-input-147-6c9a6fae6fb3>\u001b[0m in \u001b[0;36m<module>\u001b[1;34m\u001b[0m\n\u001b[1;32m----> 1\u001b[1;33m \u001b[0mplot\u001b[0m\u001b[1;33m(\u001b[0m\u001b[0mbasis\u001b[0m\u001b[1;33m,\u001b[0m \u001b[0mu\u001b[0m\u001b[1;33m-\u001b[0m\u001b[0mwhp1\u001b[0m\u001b[1;33m,\u001b[0m \u001b[0mcolorbar\u001b[0m\u001b[1;33m=\u001b[0m\u001b[1;32mTrue\u001b[0m\u001b[1;33m)\u001b[0m\u001b[1;33m\u001b[0m\u001b[1;33m\u001b[0m\u001b[0m\n\u001b[0m",
      "\u001b[1;31mValueError\u001b[0m: operands could not be broadcast together with shapes (1089,) (289,) "
     ]
    }
   ],
   "source": [
    "plot(basis, u-whp1, colorbar=True)"
   ]
  },
  {
   "cell_type": "code",
   "execution_count": 114,
   "metadata": {},
   "outputs": [
    {
     "data": {
      "text/plain": [
       "1.0388845742171207"
      ]
     },
     "execution_count": 114,
     "metadata": {},
     "output_type": "execute_result"
    }
   ],
   "source": [
    "max(whp2)"
   ]
  },
  {
   "cell_type": "code",
   "execution_count": 115,
   "metadata": {},
   "outputs": [
    {
     "data": {
      "text/plain": [
       "<matplotlib.axes._subplots.AxesSubplot at 0x115afeabf88>"
      ]
     },
     "execution_count": 115,
     "metadata": {},
     "output_type": "execute_result"
    },
    {
     "data": {
      "image/png": "[encoded data removed]",
      "text/plain": [
       "<Figure size 1200x800 with 2 Axes>"
      ]
     },
     "metadata": {
      "needs_background": "light"
     },
     "output_type": "display_data"
    }
   ],
   "source": [
    "plot(basis, whp2, colorbar=True)"
   ]
  },
  {
   "cell_type": "code",
   "execution_count": 25,
   "metadata": {},
   "outputs": [],
   "source": [
    "def solve_problem1(m):\n",
    "\n",
    "    element = {'w': ElementTriP1(), 'u': ElementTriMorley()}\n",
    "    basis = {\n",
    "        variable: InteriorBasis(m, e, intorder=4)\n",
    "        for variable, e in element.items()\n",
    "    }  # intorder: integration order for quadrature\n",
    "\n",
    "    K1 = asm(laplace, basis['w'])\n",
    "    f1 = asm(f_load, basis['w'])\n",
    "\n",
    "    wh = solve(*condense(K1, f1, D=m.boundary_nodes()),\n",
    "               solver=solver_iter_krylov(Precondition=True, tol=1e-8))\n",
    "\n",
    "#     K2 = epsilon**2 * asm(a_load, basis['u']) + asm(b_load, basis['u'])\n",
    "#     f2 = asm(wv_load, basis['w'], basis['u']) * wh\n",
    "#     uh0 = solve(*condense(K2, f2, D=easy_boundary(basis['u'])),\n",
    "#                 solver=solver_iter_krylov(Precondition=True))  # cg\n",
    "    return wh, basis"
   ]
  },
  {
   "cell_type": "code",
   "execution_count": 26,
   "metadata": {},
   "outputs": [],
   "source": [
    "def solve_problem2(m):\n",
    "    global fbasis\n",
    "    global wh\n",
    "    element = {'w': ElementTriP2(), 'u': ElementTriMorley()}\n",
    "    basis = {\n",
    "        variable: InteriorBasis(m, e, intorder=4)\n",
    "        for variable, e in element.items()\n",
    "    }\n",
    "\n",
    "    K1 = asm(laplace, basis['w'])\n",
    "    f1 = asm(f_load, basis['w'])\n",
    "\n",
    "    wh = solve(*condense(K1, f1, D=m.boundary_nodes()),\n",
    "               solver=solver_iter_krylov(Precondition=True))\n",
    "    \n",
    "#     fbasis = FacetBasis(m, element['u'])\n",
    "    \n",
    "#     p1 = asm(penalty_1, fbasis)\n",
    "#     p2 = asm(penalty_2, fbasis)\n",
    "#     p3 = asm(penalty_3, fbasis)\n",
    "#     P = p1 + p2 + p3\n",
    "\n",
    "#     K2 = epsilon**2 * asm(a_load, basis['u']) + epsilon**2 * P + asm(b_load, basis['u'])\n",
    "#     f2 = asm(wv_load, basis['w'], basis['u']) * wh\n",
    "#     uh0 = solve(*condense(K2, f2, D=easy_boundary_penalty(basis['u'])), solver=solver_iter_krylov(Precondition=True))  \n",
    "#     # uh0 = solve(*condense(K2 + P, f2, D=m.boundary_nodes()), solver=solver_iter_krylov(Precondition=True)) \n",
    "    return wh, basis\n"
   ]
  },
  {
   "cell_type": "markdown",
   "metadata": {},
   "source": [
    "### Without penalty"
   ]
  },
  {
   "cell_type": "code",
   "execution_count": 44,
   "metadata": {},
   "outputs": [
    {
     "name": "stdout",
     "output_type": "stream",
     "text": [
      "L2:  0.2496217955228092\n",
      "L2:  0.0790754082775316\n",
      "L2:  0.021132772741605684\n",
      "L2:  0.005377435115588884\n"
     ]
    }
   ],
   "source": [
    "epsilon = 1e-5\n",
    "ep = epsilon\n",
    "m = MeshTri()\n",
    "\n",
    "for i in range(1, 5):\n",
    "    m.refine()\n",
    "    element = ElementTriP1()\n",
    "    basis = InteriorBasis(m, element, intorder=6)\n",
    "\n",
    "    K1 = asm(laplace, basis)\n",
    "    f1 = asm(f_load, basis)\n",
    "\n",
    "    wh = solve(*condense(K1, f1, D=m.boundary_nodes()),\n",
    "               solver=solver_iter_krylov(Precondition=True))\n",
    "    \n",
    "    W = basis.interpolate(wh).value\n",
    "\n",
    "    L2u = np.sqrt(L2uError.assemble(basis, w=W))\n",
    "    # Du = get_DuError(basis, wh)\n",
    "    # H1u = Du + L2u\n",
    "    print('L2: ', L2u)\n",
    "    # print('H1: ', H1u)"
   ]
  },
  {
   "cell_type": "code",
   "execution_count": 23,
   "metadata": {
    "code_folding": [],
    "collapsed": true
   },
   "outputs": [
    {
     "ename": "NameError",
     "evalue": "name 'D2u' is not defined",
     "output_type": "error",
     "traceback": [
      "\u001b[1;31m---------------------------------------------------------------------------\u001b[0m",
      "\u001b[1;31mNameError\u001b[0m                                 Traceback (most recent call last)",
      "\u001b[1;32m<ipython-input-23-a240739263b1>\u001b[0m in \u001b[0;36m<module>\u001b[1;34m\u001b[0m\n\u001b[0;32m     22\u001b[0m         \u001b[1;31m# D2u = get_D2uError(basis['w'], uh0)\u001b[0m\u001b[1;33m\u001b[0m\u001b[1;33m\u001b[0m\u001b[1;33m\u001b[0m\u001b[0m\n\u001b[0;32m     23\u001b[0m         \u001b[1;31m# H2u = Du + L2u + D2u\u001b[0m\u001b[1;33m\u001b[0m\u001b[1;33m\u001b[0m\u001b[1;33m\u001b[0m\u001b[0m\n\u001b[1;32m---> 24\u001b[1;33m         \u001b[0mepu\u001b[0m \u001b[1;33m=\u001b[0m \u001b[0mnp\u001b[0m\u001b[1;33m.\u001b[0m\u001b[0msqrt\u001b[0m\u001b[1;33m(\u001b[0m\u001b[0mepsilon\u001b[0m\u001b[1;33m**\u001b[0m\u001b[1;36m2\u001b[0m \u001b[1;33m*\u001b[0m \u001b[0mD2u\u001b[0m\u001b[1;33m**\u001b[0m\u001b[1;36m2\u001b[0m \u001b[1;33m+\u001b[0m \u001b[0mDu\u001b[0m\u001b[1;33m**\u001b[0m\u001b[1;36m2\u001b[0m\u001b[1;33m)\u001b[0m\u001b[1;33m\u001b[0m\u001b[1;33m\u001b[0m\u001b[0m\n\u001b[0m\u001b[0;32m     25\u001b[0m         \u001b[0mh_list\u001b[0m\u001b[1;33m.\u001b[0m\u001b[0mappend\u001b[0m\u001b[1;33m(\u001b[0m\u001b[0mm\u001b[0m\u001b[1;33m.\u001b[0m\u001b[0mparam\u001b[0m\u001b[1;33m(\u001b[0m\u001b[1;33m)\u001b[0m\u001b[1;33m)\u001b[0m\u001b[1;33m\u001b[0m\u001b[1;33m\u001b[0m\u001b[0m\n\u001b[0;32m     26\u001b[0m         \u001b[0mDu_list\u001b[0m\u001b[1;33m.\u001b[0m\u001b[0mappend\u001b[0m\u001b[1;33m(\u001b[0m\u001b[0mDu\u001b[0m\u001b[1;33m)\u001b[0m\u001b[1;33m\u001b[0m\u001b[1;33m\u001b[0m\u001b[0m\n",
      "\u001b[1;31mNameError\u001b[0m: name 'D2u' is not defined"
     ]
    }
   ],
   "source": [
    "refine_time = 5\n",
    "epsilon_range = 1\n",
    "for j in range(epsilon_range):\n",
    "    epsilon = 1 * 10**(-j*2) * 1e-5\n",
    "    ep = epsilon\n",
    "    L2_list = []\n",
    "    Du_list = []\n",
    "    D2u_list = []\n",
    "    h_list = []\n",
    "    epu_list = []\n",
    "    m = MeshTri()\n",
    "\n",
    "    for i in range(1, refine_time+1):\n",
    "        \n",
    "        m.refine()\n",
    "        uh0, basis = solve_problem1(m)\n",
    "        U = basis['w'].interpolate(uh0).value\n",
    "\n",
    "        L2u = np.sqrt(L2uError.assemble(basis['w'], w=U))\n",
    "        Du = get_DuError(basis['w'], uh0)\n",
    "        H1u = Du + L2u\n",
    "        # D2u = get_D2uError(basis['w'], uh0)\n",
    "        # H2u = Du + L2u + D2u\n",
    "        epu = np.sqrt(epsilon**2 * D2u**2 + Du**2)\n",
    "        h_list.append(m.param())\n",
    "        Du_list.append(Du)\n",
    "        L2_list.append(L2u)\n",
    "        D2u_list.append(D2u)\n",
    "        epu_list.append(epu)\n",
    "        \n",
    "#     x = basis['u'].doflocs[0]\n",
    "#     y = basis['u'].doflocs[1]\n",
    "#     u = exact_u(x, y)\n",
    "#     plot(basis['u'], u-uh0, colorbar = True)\n",
    "#     plt.show()\n",
    "    \n",
    "    hs = np.array(h_list)\n",
    "    L2s = np.array(L2_list)\n",
    "    Dus = np.array(Du_list)\n",
    "    H1s = L2s + Dus\n",
    "    print('epsilon =', epsilon)\n",
    "    print('  h    L2u   H1u')\n",
    "    for i in range(H2s.shape[0] - 1):\n",
    "        print(\n",
    "            '2^-' + str(i + 2), ' {:.2f}  {:.2f} '.format(\n",
    "                -np.log2(L2s[i + 1] / L2s[i]), -np.log2(H1s[i + 1] / H1s[i]),\n",
    "                ))\n",
    "        \n",
    "uh0_no_penalty = uh0"
   ]
  },
  {
   "cell_type": "markdown",
   "metadata": {},
   "source": [
    "### With penalty"
   ]
  },
  {
   "cell_type": "code",
   "execution_count": 22,
   "metadata": {
    "code_folding": []
   },
   "outputs": [
    {
     "ename": "ValueError",
     "evalue": "operands could not be broadcast together with shapes (0,) (4,) ",
     "output_type": "error",
     "traceback": [
      "\u001b[1;31m---------------------------------------------------------------------------\u001b[0m",
      "\u001b[1;31mValueError\u001b[0m                                Traceback (most recent call last)",
      "\u001b[1;32m<ipython-input-22-436d9aefc2bf>\u001b[0m in \u001b[0;36m<module>\u001b[1;34m\u001b[0m\n\u001b[0;32m     39\u001b[0m     \u001b[0mL2s\u001b[0m \u001b[1;33m=\u001b[0m \u001b[0mnp\u001b[0m\u001b[1;33m.\u001b[0m\u001b[0marray\u001b[0m\u001b[1;33m(\u001b[0m\u001b[0mL2_list\u001b[0m\u001b[1;33m)\u001b[0m\u001b[1;33m\u001b[0m\u001b[1;33m\u001b[0m\u001b[0m\n\u001b[0;32m     40\u001b[0m     \u001b[0mDus\u001b[0m \u001b[1;33m=\u001b[0m \u001b[0mnp\u001b[0m\u001b[1;33m.\u001b[0m\u001b[0marray\u001b[0m\u001b[1;33m(\u001b[0m\u001b[0mDu_list\u001b[0m\u001b[1;33m)\u001b[0m\u001b[1;33m\u001b[0m\u001b[1;33m\u001b[0m\u001b[0m\n\u001b[1;32m---> 41\u001b[1;33m     \u001b[0mH1s\u001b[0m \u001b[1;33m=\u001b[0m \u001b[0mL2s\u001b[0m \u001b[1;33m+\u001b[0m \u001b[0mDus\u001b[0m\u001b[1;33m\u001b[0m\u001b[1;33m\u001b[0m\u001b[0m\n\u001b[0m\u001b[0;32m     42\u001b[0m     \u001b[0mprint\u001b[0m\u001b[1;33m(\u001b[0m\u001b[1;34m'epsilon ='\u001b[0m\u001b[1;33m,\u001b[0m \u001b[0mepsilon\u001b[0m\u001b[1;33m)\u001b[0m\u001b[1;33m\u001b[0m\u001b[1;33m\u001b[0m\u001b[0m\n\u001b[0;32m     43\u001b[0m     \u001b[0mprint\u001b[0m\u001b[1;33m(\u001b[0m\u001b[1;34m'  h    L2u   H1u'\u001b[0m\u001b[1;33m)\u001b[0m\u001b[1;33m\u001b[0m\u001b[1;33m\u001b[0m\u001b[0m\n",
      "\u001b[1;31mValueError\u001b[0m: operands could not be broadcast together with shapes (0,) (4,) "
     ]
    }
   ],
   "source": [
    "sigma = 5\n",
    "epsilon_range = 4\n",
    "refine_time = 4\n",
    "for j in range(epsilon_range):\n",
    "    epsilon = 1 * 10**(-j*2) * 1e-5\n",
    "    ep = epsilon\n",
    "    L2_list = []\n",
    "    Du_list = []\n",
    "    D2u_list = []\n",
    "    h_list = []\n",
    "    epu_list = []\n",
    "    m = MeshTri()\n",
    "\n",
    "    for i in range(1, refine_time+1):\n",
    "        \n",
    "        m.refine()\n",
    "        uh0, basis = solve_problem2(m)\n",
    "        U = basis['w'].interpolate(uh0).value\n",
    "\n",
    "        L2u = np.sqrt(L2uError.assemble(basis['w'], w=U))\n",
    "        Du = get_DuError(basis['w'], uh0)\n",
    "        H1u = Du + L2u\n",
    "        # D2u = get_D2uError(basis['w'], uh0)\n",
    "        # H2u = Du + L2u + D2u\n",
    "        # epu = np.sqrt(epsilon**2 * D2u**2 + Du**2)\n",
    "        h_list.append(m.param())\n",
    "        Du_list.append(Du)\n",
    "        # L2_list.append(L2u)\n",
    "        # D2u_list.append(D2u)\n",
    "        # epu_list.append(epu)\n",
    "        \n",
    "#     x = basis['u'].doflocs[0]\n",
    "#     y = basis['u'].doflocs[1]\n",
    "#     u = exact_u(x, y)\n",
    "#     plot(basis['u'], u-uh0, colorbar = True)\n",
    "#     plt.show()\n",
    "    \n",
    "    hs = np.array(h_list)\n",
    "    L2s = np.array(L2_list)\n",
    "    Dus = np.array(Du_list)\n",
    "    H1s = L2s + Dus\n",
    "    print('epsilon =', epsilon)\n",
    "    print('  h    L2u   H1u')\n",
    "    for i in range(H2s.shape[0] - 1):\n",
    "        print(\n",
    "            '2^-' + str(i + 2), ' {:.2f}  {:.2f} '.format(\n",
    "                -np.log2(L2s[i + 1] / L2s[i]), -np.log2(H1s[i + 1] / H1s[i]),\n",
    "                ))\n",
    "        \n",
    "uh0_penalty = uh0"
   ]
  },
  {
   "cell_type": "code",
   "execution_count": 133,
   "metadata": {},
   "outputs": [
    {
     "data": {
      "text/plain": [
       "array([0., 0., 0., 0., 0., 0., 0., 0., 0., 0., 0., 0., 0., 0., 0., 0., 0.,\n",
       "       0., 0., 0., 0., 0., 0., 0., 0., 0., 0., 0., 0., 0., 0., 0.])"
      ]
     },
     "execution_count": 133,
     "metadata": {},
     "output_type": "execute_result"
    }
   ],
   "source": [
    "wh[m.boundary_nodes()]"
   ]
  },
  {
   "cell_type": "code",
   "execution_count": null,
   "metadata": {},
   "outputs": [],
   "source": []
  }
 ],
 "metadata": {
  "kernelspec": {
   "display_name": "Python 3",
   "language": "python",
   "name": "python3"
  },
  "language_info": {
   "codemirror_mode": {
    "name": "ipython",
    "version": 3
   },
   "file_extension": ".py",
   "mimetype": "text/x-python",
   "name": "python",
   "nbconvert_exporter": "python",
   "pygments_lexer": "ipython3",
   "version": "3.7.4"
  },
  "toc": {
   "base_numbering": 1,
   "nav_menu": {},
   "number_sections": true,
   "sideBar": true,
   "skip_h1_title": false,
   "title_cell": "Table of Contents",
   "title_sidebar": "Contents",
   "toc_cell": false,
   "toc_position": {
    "height": "calc(100% - 180px)",
    "left": "10px",
    "top": "150px",
    "width": "367px"
   },
   "toc_section_display": true,
   "toc_window_display": false
  },
  "varInspector": {
   "cols": {
    "lenName": 16,
    "lenType": 16,
    "lenVar": 40
   },
   "kernels_config": {
    "python": {
     "delete_cmd_postfix": "",
     "delete_cmd_prefix": "del ",
     "library": "var_list.py",
     "varRefreshCmd": "print(var_dic_list())"
    },
    "r": {
     "delete_cmd_postfix": ") ",
     "delete_cmd_prefix": "rm(",
     "library": "var_list.r",
     "varRefreshCmd": "cat(var_dic_list()) "
    }
   },
   "types_to_exclude": [
    "module",
    "function",
    "builtin_function_or_method",
    "instance",
    "_Feature"
   ],
   "window_display": false
  }
 },
 "nbformat": 4,
 "nbformat_minor": 4
}
