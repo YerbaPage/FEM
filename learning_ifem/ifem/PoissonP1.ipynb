{
 "cells": [
  {
   "cell_type": "markdown",
   "metadata": {},
   "source": [
    "# Beginning"
   ]
  },
  {
   "cell_type": "code",
   "execution_count": 1,
   "metadata": {},
   "outputs": [
    {
     "name": "stdout",
     "output_type": "stream",
     "text": [
      "\n"
     ]
    }
   ],
   "source": [
    "clear all\n",
    "node = [0,0; 1,0; 1,1; 0,1];\n",
    "elem = [2,3,1; 4,1,3];\n",
    "\n",
    "for k = 1:1\n",
    "    [node,elem] = uniformrefine(node,elem);\n",
    "end"
   ]
  },
  {
   "cell_type": "markdown",
   "metadata": {},
   "source": [
    "# Preprocess"
   ]
  },
  {
   "cell_type": "code",
   "execution_count": 2,
   "metadata": {},
   "outputs": [
    {
     "name": "stdout",
     "output_type": "stream",
     "text": [
      "\n"
     ]
    }
   ],
   "source": [
    "if ~exist('bdFlag','var'), bdFlag = []; end\n",
    "if ~exist('option','var'), option = []; end\n",
    "\n",
    "% Homogenous Dirichlet boundary condition\n",
    "pde.f = inline('ones(size(p,1),1)','p');\n",
    "pde.g_D = 0;\n",
    "\n",
    "N = size(node,1); \n",
    "NT = size(elem,1);\n",
    "Ndof = N;\n",
    "option = [];\n",
    "time = cputime;\n",
    "\n",
    "if ~isfield(pde,'d')\n",
    "   pde.d = [];\n",
    "end % True\n",
    "\n",
    "if ~isfield(option,'dquadorder')\n",
    "   option.dquadorder = 1;\n",
    "end\n",
    "\n",
    "[Dphi,area] = gradbasis(node,elem);"
   ]
  },
  {
   "cell_type": "markdown",
   "metadata": {},
   "source": [
    "# Assemble stiffness matrix"
   ]
  },
  {
   "cell_type": "code",
   "execution_count": 3,
   "metadata": {},
   "outputs": [
    {
     "name": "stdout",
     "output_type": "stream",
     "text": [
      "\n"
     ]
    }
   ],
   "source": [
    "A = sparse(Ndof,Ndof);\n",
    "\n",
    "for i = 1:3\n",
    "    for j = i:3\n",
    "        % $A_{ij}|_{\\tau} = \\int_{\\tau}K\\nabla \\phi_i\\cdot \\nabla \\phi_j dxdy$ \n",
    "        Aij = (Dphi(:,1,i).*Dphi(:,1,j) + Dphi(:,2,i).*Dphi(:,2,j)).*area;\n",
    "        if (j==i)\n",
    "            A = A + sparse(elem(:,i),elem(:,j),Aij,Ndof,Ndof);\n",
    "        else\n",
    "            A = A + sparse([elem(:,i);elem(:,j)],[elem(:,j);elem(:,i)],...\n",
    "                           [Aij; Aij],Ndof,Ndof);        \n",
    "        end\n",
    "    end\n",
    "end\n",
    "\n",
    "% clear K Aij\n",
    "\n",
    "% A = sparse(Ndof,Ndof);\n",
    "% \n",
    "% i = 1;\n",
    "% j = 2;\n",
    "% Aij = (Dphi(:,1,i).*Dphi(:,1,j) + Dphi(:,2,i).*Dphi(:,2,j)).*area;\n",
    "% sparse(elem(:,i),elem(:,j),Aij,Ndof,Ndof)\n",
    "% sparse([elem(:,i);elem(:,j)],[elem(:,j);elem(:,i)],...\n",
    "%                            [Aij; Aij],Ndof,Ndof)\n",
    "% [[elem(:,i);elem(:,j)], [elem(:,j);elem(:,i)]]"
   ]
  },
  {
   "cell_type": "code",
   "execution_count": 4,
   "metadata": {},
   "outputs": [
    {
     "name": "stdout",
     "output_type": "stream",
     "text": [
      "\n",
      "ans = \n",
      "\n",
      "  Patch with properties:\n",
      "\n",
      "    FaceColor: [0.5000 0.9000 0.4500]\n",
      "    FaceAlpha: 1\n",
      "    EdgeColor: [0 0 0]\n",
      "    LineStyle: '-'\n",
      "        Faces: [8x3 double]\n",
      "     Vertices: [9x3 double]\n",
      "\n",
      "  Use GET to show all properties\n",
      "\n",
      "\n"
     ]
    },
    {
     "data": {
      "image/png": "[encoded data removed]",
      "text/plain": [
       "<IPython.core.display.Image object>"
      ]
     },
     "metadata": {},
     "output_type": "display_data"
    }
   ],
   "source": [
    "showmesh(node,elem)"
   ]
  },
  {
   "cell_type": "markdown",
   "metadata": {},
   "source": [
    "# Assemble the right hand side"
   ]
  },
  {
   "cell_type": "code",
   "execution_count": 5,
   "metadata": {
    "code_folding": []
   },
   "outputs": [
    {
     "name": "stdout",
     "output_type": "stream",
     "text": [
      "\n"
     ]
    }
   ],
   "source": [
    "b = zeros(Ndof,1);\n",
    "if ~isfield(option,'fquadorder')\n",
    "    option.fquadorder = 3;   % default order\n",
    "end\n",
    "\n",
    "if ~isempty(pde.f) && ~isreal(pde.f)  % f is a function \n",
    "    [lambda,weight] = quadpts(option.fquadorder);\n",
    "    phi = lambda;        % linear bases\n",
    "\tnQuad = size(lambda,1);\n",
    "    bt = zeros(NT,3);\n",
    "    for p = 1:nQuad\n",
    "\t\t% quadrature points in the x-y coordinate\n",
    "\t\tpxy = lambda(p,1)*node(elem(:,1),:) ...\n",
    "\t\t\t+ lambda(p,2)*node(elem(:,2),:) ...\n",
    "\t\t\t+ lambda(p,3)*node(elem(:,3),:);\n",
    "\t\tfp = pde.f(pxy);\n",
    "        for i = 1:3\n",
    "            bt(:,i) = bt(:,i) + weight(p)*phi(p,i)*fp;\n",
    "        end\n",
    "    end\n",
    "    bt = bt.*repmat(area,1,3);\n",
    "    b = accumarray(elem(:),bt(:),[Ndof 1]);\n",
    "end\n",
    "% clear pxy bt\n",
    "\n",
    "% getbd\n",
    "u = zeros(Ndof,1); \n",
    "%% Initial check\n",
    "if ~isfield(pde,'g_D'), pde.g_D = []; end\n",
    "if ~isfield(pde,'g_N'), pde.g_N = []; end\n",
    "if ~isfield(pde,'g_R'), pde.g_R = []; end"
   ]
  },
  {
   "cell_type": "code",
   "execution_count": 6,
   "metadata": {},
   "outputs": [
    {
     "name": "stdout",
     "output_type": "stream",
     "text": [
      "\n",
      "lambda =\n",
      "\n",
      "    0.3333    0.3333    0.3333\n",
      "    0.6000    0.2000    0.2000\n",
      "    0.2000    0.6000    0.2000\n",
      "    0.2000    0.2000    0.6000\n",
      "\n",
      "\n"
     ]
    }
   ],
   "source": [
    "lambda"
   ]
  },
  {
   "cell_type": "markdown",
   "metadata": {},
   "source": [
    "# Part 1: Modify the matrix for Dirichlet and Robin condition"
   ]
  },
  {
   "cell_type": "markdown",
   "metadata": {},
   "source": [
    "## Robin boundary condition"
   ]
  },
  {
   "cell_type": "code",
   "execution_count": 7,
   "metadata": {},
   "outputs": [
    {
     "name": "stdout",
     "output_type": "stream",
     "text": [
      "\n"
     ]
    }
   ],
   "source": [
    "Robin = [];\n",
    "isRobin = (bdFlag(:) == 3);\n",
    "\n",
    "if any(isRobin)\n",
    "    allEdge = [elem(:,[2,3]); elem(:,[3,1]); elem(:,[1,2])];\n",
    "    Robin = allEdge(isRobin,:);\n",
    "end\n",
    "\n",
    "if ~isempty(Robin) && ~isempty(pde.g_R) && ~(isnumeric(pde.g_R) && (pde.g_R == 0))\n",
    "    ve = node(Robin(:,1),:) - node(Robin(:,2),:);\n",
    "    edgeLength = sqrt(sum(ve.^2,2)); \n",
    "    mid = (node(Robin(:,1),:) + node(Robin(:,2),:))/2;\n",
    "    % use Simplson rule to compute int g_R phi_iphi_j ds\n",
    "    ii = [Robin(:,1),Robin(:,1),Robin(:,2),Robin(:,2)];\n",
    "    jj = [Robin(:,1),Robin(:,2),Robin(:,1),Robin(:,2)];\n",
    "    temp = pde.g_R(mid).*edgeLength;\n",
    "    ss = [1/3*temp, 1/6*temp, 1/6*temp, 1/3*temp];\n",
    "    A = A + sparse(ii,jj,ss,Ndof,Ndof);\n",
    "end"
   ]
  },
  {
   "cell_type": "markdown",
   "metadata": {},
   "source": [
    "## mFind Dirichlet boundary nodes: fixedNode"
   ]
  },
  {
   "cell_type": "code",
   "execution_count": 8,
   "metadata": {},
   "outputs": [
    {
     "name": "stdout",
     "output_type": "stream",
     "text": [
      "\n"
     ]
    }
   ],
   "source": [
    "fixedNode = []; freeNode = [];\n",
    "if ~isempty(bdFlag) % find boundary edges and boundary nodes\n",
    "    [fixedNode,bdEdge,isBdNode] = findboundary(elem,bdFlag);\n",
    "    freeNode = ~isBdNode;\n",
    "end\n",
    "if isempty(bdFlag) && ~isempty(pde.g_D) && isempty(pde.g_N) && isempty(pde.g_R)\n",
    "    % no bdFlag, only pde.g_D is given\n",
    "    [fixedNode,bdEdge,isBdNode] = findboundary(elem);\n",
    "    freeNode = ~isBdNode;\n",
    "end\n",
    "% Modify the matrix for different boundary conditions \n",
    "% Dirichlet boundary condition\n",
    "% Build Dirichlet boundary condition into the matrix AD by enforcing\n",
    "% AD(fixedNode,fixedNode)=I, AD(fixedNode,freeNode)=0, AD(freeNode,fixedNode)=0.\n",
    "if ~isempty(fixedNode)\n",
    "    bdidx = zeros(Ndof,1); \n",
    "    bdidx(fixedNode) = 1;\n",
    "    Tbd = spdiags(bdidx,0,Ndof,Ndof);\n",
    "    T = spdiags(1-bdidx,0,Ndof,Ndof);\n",
    "    AD = T*A*T + Tbd;\n",
    "end\n",
    "% Neumann boundary condition\n",
    "isPureNeumann = false;\n",
    "if isempty(fixedNode) && isempty(Robin) % pure Neumann boundary condition\n",
    "    isPureNeumann = true;\n",
    "    AD = A;\n",
    "    AD(1,1) = AD(1,1) + 1e-6;\n",
    "%         fixedNode = 1;\n",
    "%         freeNode = 2:Ndof;    % eliminate the kernel by enforcing u(1) = 0;\n",
    "end\n",
    "% Robin boundary condition\n",
    "if isempty(fixedNode) && ~isempty(Robin)\n",
    "    AD = A;\n",
    "end"
   ]
  },
  {
   "cell_type": "markdown",
   "metadata": {},
   "source": [
    "# Part 2: Find boundary edges and modify the right hand side b\n"
   ]
  },
  {
   "cell_type": "markdown",
   "metadata": {},
   "source": [
    "## Find boundary edges: Neumann"
   ]
  },
  {
   "cell_type": "code",
   "execution_count": 9,
   "metadata": {},
   "outputs": [
    {
     "name": "stdout",
     "output_type": "stream",
     "text": [
      "\n"
     ]
    }
   ],
   "source": [
    "Neumann = []; \n",
    "if ~isempty(bdFlag)  % bdFlag specifies different bd conditions\n",
    "    Neumann = bdEdge;        \n",
    "end\n",
    "if isempty(bdFlag) && (~isempty(pde.g_N) || ~isempty(pde.g_R))\n",
    "    % no bdFlag, only pde.g_N or pde.g_R is given in the input\n",
    "    [tempvar,Neumann] = findboundary(elem); \n",
    "end\n",
    "\n"
   ]
  },
  {
   "cell_type": "markdown",
   "metadata": {},
   "source": [
    "# Neumann boundary condition"
   ]
  },
  {
   "cell_type": "code",
   "execution_count": 10,
   "metadata": {},
   "outputs": [
    {
     "name": "stdout",
     "output_type": "stream",
     "text": [
      "\n"
     ]
    }
   ],
   "source": [
    "if  isnumeric(pde.g_N) && all(pde.g_N == 0)\n",
    "    pde.g_N = [];\n",
    "end\n",
    "if ~isempty(Neumann) && ~isempty(pde.g_N)\n",
    "    el = sqrt(sum((node(Neumann(:,1),:) - node(Neumann(:,2),:)).^2,2));\n",
    "    if ~isfield(option,'gNquadorder')\n",
    "        option.gNquadorder = 2;   % default order exact for linear gN\n",
    "    end\n",
    "    [lambdagN,weightgN] = quadpts1(option.gNquadorder);\n",
    "    phigN = lambdagN;                 % linear bases\n",
    "    nQuadgN = size(lambdagN,1);\n",
    "    ge = zeros(size(Neumann,1),2);\n",
    "    for pp = 1:nQuadgN\n",
    "        % quadrature points in the x-y coordinate\n",
    "        ppxy = lambdagN(pp,1)*node(Neumann(:,1),:) ...\n",
    "             + lambdagN(pp,2)*node(Neumann(:,2),:);\n",
    "        gNp = pde.g_N(ppxy);\n",
    "        for igN = 1:2\n",
    "            ge(:,igN) = ge(:,igN) + weightgN(pp)*phigN(pp,igN)*gNp;\n",
    "        end\n",
    "    end\n",
    "    ge = ge.*repmat(el,1,2);\n",
    "    b = b + accumarray(Neumann(:), ge(:),[Ndof,1]); \n",
    "end\n",
    "% The case with non-empty Neumann edges but g_N=0 or g_N=[] corresponds to\n",
    "% the zero flux boundary condition on Neumann edges and no modification of\n",
    "% A,u,b is needed.\n"
   ]
  },
  {
   "cell_type": "markdown",
   "metadata": {},
   "source": [
    "# Dirichlet boundary condition"
   ]
  },
  {
   "cell_type": "code",
   "execution_count": 11,
   "metadata": {},
   "outputs": [
    {
     "name": "stdout",
     "output_type": "stream",
     "text": [
      "\n"
     ]
    }
   ],
   "source": [
    "if isnumeric(pde.g_D) && all(pde.g_D == 0)   % zero g_D\n",
    "    pde.g_D = [];\n",
    "end\n",
    "if ~isPureNeumann && ~isempty(fixedNode) && ~isempty(pde.g_D)\n",
    "    if isnumeric(pde.g_D)  % pde.g_D could be a numerical array \n",
    "        u(fixedNode) = pde.g_D(fixedNode); \n",
    "    else % pde.g_D is a function handle\n",
    "        u(fixedNode) = pde.g_D(node(fixedNode,:));\n",
    "    end\n",
    "    b = b - A*u;\n",
    "end\n",
    "if ~isempty(fixedNode) % non-empty Dirichlet boundary condition\n",
    "    b(fixedNode) = u(fixedNode);\n",
    "end"
   ]
  },
  {
   "cell_type": "markdown",
   "metadata": {},
   "source": [
    "# Pure Neumann boundary condition"
   ]
  },
  {
   "cell_type": "code",
   "execution_count": 12,
   "metadata": {},
   "outputs": [
    {
     "name": "stdout",
     "output_type": "stream",
     "text": [
      "\n"
     ]
    }
   ],
   "source": [
    "% The case with non-empty Dirichlet nodes but g_D=0 or g_D=[] corresponds\n",
    "% to the zero Dirichlet boundary condition and no modification of u,b is\n",
    "% needed.\n",
    "\n",
    "if isPureNeumann\n",
    "    b = b - mean(b); % compatiable condition (f,1) + <gN,1> = 0\n",
    "%         b(1) = 0;\n",
    "end"
   ]
  },
  {
   "cell_type": "markdown",
   "metadata": {},
   "source": [
    "# Record assembling time"
   ]
  },
  {
   "cell_type": "code",
   "execution_count": 13,
   "metadata": {},
   "outputs": [
    {
     "name": "stdout",
     "output_type": "stream",
     "text": [
      "\n"
     ]
    }
   ],
   "source": [
    "assembleTime = cputime - time;\n",
    "if ~isfield(option,'printlevel'), option.printlevel = 1; end\n",
    "if option.printlevel >= 2\n",
    "    fprintf('Time to assemble matrix equation %4.2g s\\n',assembleTime);\n",
    "end\n"
   ]
  },
  {
   "cell_type": "markdown",
   "metadata": {},
   "source": [
    "# Solve the system of linear equations"
   ]
  },
  {
   "cell_type": "code",
   "execution_count": 14,
   "metadata": {},
   "outputs": [
    {
     "name": "stdout",
     "output_type": "stream",
     "text": [
      "\n"
     ]
    }
   ],
   "source": [
    "if isempty(freeNode), return; end\n",
    "% Set up solver type\n",
    "if isempty(option) || ~isfield(option,'solver')  || isfield(option,'mgoption')   % no option.solver\n",
    "    if Ndof <= 2e3  % Direct solver for small size systems\n",
    "        option.solver = 'direct';\n",
    "    else            % MGCG  solver for large size systems\n",
    "        option.solver = 'mg';\n",
    "    end\n",
    "end\n",
    "if isPureNeumann\n",
    "    option.solver = 'mg';\n",
    "end\n",
    "solver = option.solver;"
   ]
  },
  {
   "cell_type": "markdown",
   "metadata": {},
   "source": [
    "# Solve"
   ]
  },
  {
   "cell_type": "code",
   "execution_count": 15,
   "metadata": {},
   "outputs": [
    {
     "name": "stdout",
     "output_type": "stream",
     "text": [
      "\n"
     ]
    }
   ],
   "source": [
    "\n",
    "switch solver\n",
    "    case 'direct'\n",
    "        t = cputime;\n",
    "        u(freeNode) = AD(freeNode,freeNode)\\b(freeNode);\n",
    "        residual = norm(b - AD*u);\n",
    "        info = struct('solverTime',cputime - t,'itStep',0,'err',residual,'flag',2,'stopErr',residual);\n",
    "    case 'none'\n",
    "        info = struct('solverTime',[],'itStep',0,'err',[],'flag',3,'stopErr',[]);\n",
    "    case 'mg'\n",
    "        if ~isfield(option,'mgoption')   % no option.mgoption\n",
    "            option.mgoption.x0 = u;\n",
    "            option.mgoption.solver = 'CG';\n",
    "        end\n",
    "        [u,info] = mg(AD,b,elem,option.mgoption);\n",
    "    case 'amg'\n",
    "        if ~isfield(option,'amgoption')  % no option.amgoption\n",
    "            option.amgoption.x0 = u;\n",
    "            option.amgoption.solver = 'CG';\n",
    "        end\n",
    "        [u(freeNode),info] = amg(AD(freeNode,freeNode),b(freeNode),option.amgoption);                 \n",
    "end\n",
    "\n",
    "% post-process for pure Neumann problem\n",
    "if isPureNeumann\n",
    "    patchArea = accumarray(elem(:),[area;area;area]/3, [N 1]);\n",
    "    uc = sum(u.*patchArea)/sum(area);\n",
    "    u = u - uc;   % int u = 0\n",
    "end\n"
   ]
  },
  {
   "cell_type": "markdown",
   "metadata": {},
   "source": [
    "# Output"
   ]
  },
  {
   "cell_type": "code",
   "execution_count": 16,
   "metadata": {},
   "outputs": [
    {
     "name": "stdout",
     "output_type": "stream",
     "text": [
      "\n"
     ]
    }
   ],
   "source": [
    "soln = struct('u',u);\n",
    "eqn = struct('A',AD,'b',b,'freeNode',freeNode,'Lap',A);\n",
    "info.assembleTime = assembleTime;"
   ]
  },
  {
   "cell_type": "code",
   "execution_count": 69,
   "metadata": {},
   "outputs": [
    {
     "name": "stdout",
     "output_type": "stream",
     "text": [
      "\n",
      "ans =\n",
      "\n",
      "   0.070312500000000\n",
      "\n",
      "\n"
     ]
    }
   ],
   "source": [
    "clear all\n",
    "node = [0,0; 1,0; 1,1; 0,1];\n",
    "elem = [2,3,1; 4,1,3];      \n",
    "for k = 1:2\n",
    "  [node,elem] = uniformrefine(node,elem);\n",
    "end\n",
    "% Homogenous Dirichlet boundary condition\n",
    "pde.f = inline('ones(size(p,1),1)','p');\n",
    "pde.g_D = 0;\n",
    "u = Poisson(node,elem,[],pde);\n",
    "% figure(1); \n",
    "% showresult(node,elem,u);\n",
    "max(u)"
   ]
  },
  {
   "cell_type": "code",
   "execution_count": 70,
   "metadata": {},
   "outputs": [
    {
     "name": "stdout",
     "output_type": "stream",
     "text": [
      "\n",
      "u =\n",
      "\n",
      "                   0\n",
      "                   0\n",
      "                   0\n",
      "                   0\n",
      "                   0\n",
      "   0.070312500000000\n",
      "                   0\n",
      "                   0\n",
      "                   0\n",
      "                   0\n",
      "   0.042968750000000\n",
      "                   0\n",
      "                   0\n",
      "                   0\n",
      "   0.042968750000000\n",
      "                   0\n",
      "                   0\n",
      "                   0\n",
      "                   0\n",
      "   0.054687500000000\n",
      "   0.042968750000000\n",
      "   0.054687500000000\n",
      "   0.054687500000000\n",
      "   0.054687500000000\n",
      "   0.042968750000000\n",
      "\n",
      "\n"
     ]
    }
   ],
   "source": [
    "u"
   ]
  },
  {
   "cell_type": "code",
   "execution_count": 78,
   "metadata": {},
   "outputs": [
    {
     "name": "stdout",
     "output_type": "stream",
     "text": [
      "\n",
      " Multigrid V-cycle Preconditioner with Conjugate Gradient Method\n",
      "#dof:     3969,  #nnz:    38441, smoothing: (1,1), iter: 12,   err = 2.23e-10,   time = 0.031 s\n",
      "\n",
      "ans =\n",
      "\n",
      "   0.073671370693928\n",
      "\n",
      "\n"
     ]
    }
   ],
   "source": [
    "clear all\n",
    "node = [0,0; 1,0; 1,1; 0,1];\n",
    "elem = [2,3,1; 4,1,3];\n",
    "for k = 1:5\n",
    "[node,elem] = uniformrefine(node,elem);\n",
    "end\n",
    "% Homogenous Dirichlet boundary condition\n",
    "pde.f = inline('ones(size(p,1),1)','p');\n",
    "pde.g_D = 0;\n",
    "u = PoissonP2(node,elem,[],pde);\n",
    "max(u)"
   ]
  },
  {
   "cell_type": "code",
   "execution_count": 76,
   "metadata": {},
   "outputs": [
    {
     "name": "stdout",
     "output_type": "stream",
     "text": [
      "\n",
      "ans =\n",
      "\n",
      "    81\n",
      "\n",
      "\n"
     ]
    }
   ],
   "source": [
    "length(u)"
   ]
  },
  {
   "cell_type": "code",
   "execution_count": 79,
   "metadata": {},
   "outputs": [
    {
     "name": "stdout",
     "output_type": "stream",
     "text": [
      "\n"
     ]
    },
    {
     "data": {
      "image/png": "[encoded data removed]",
      "text/plain": [
       "<IPython.core.display.Image object>"
      ]
     },
     "metadata": {},
     "output_type": "display_data"
    }
   ],
   "source": [
    "showresult(node,elem,u);"
   ]
  },
  {
   "cell_type": "code",
   "execution_count": 82,
   "metadata": {},
   "outputs": [
    {
     "name": "stdout",
     "output_type": "stream",
     "text": [
      "\n"
     ]
    }
   ],
   "source": [
    "open PoissonP2"
   ]
  },
  {
   "cell_type": "code",
   "execution_count": 1,
   "metadata": {},
   "outputs": [
    {
     "name": "stdout",
     "output_type": "stream",
     "text": [
      "\n"
     ]
    }
   ],
   "source": [
    "ifem introduction"
   ]
  },
  {
   "cell_type": "code",
   "execution_count": null,
   "metadata": {},
   "outputs": [],
   "source": []
  }
 ],
 "metadata": {
  "kernelspec": {
   "display_name": "Matlab",
   "language": "matlab",
   "name": "matlab"
  },
  "language_info": {
   "codemirror_mode": "octave",
   "file_extension": ".m",
   "help_links": [
    {
     "text": "MetaKernel Magics",
     "url": "https://metakernel.readthedocs.io/en/latest/source/README.html"
    }
   ],
   "mimetype": "text/x-octave",
   "name": "matlab",
   "version": "0.16.9"
  },
  "toc": {
   "base_numbering": 1,
   "nav_menu": {},
   "number_sections": true,
   "sideBar": true,
   "skip_h1_title": false,
   "title_cell": "Table of Contents",
   "title_sidebar": "Contents",
   "toc_cell": false,
   "toc_position": {
    "height": "400px",
    "left": "429px",
    "top": "314px",
    "width": "282.766px"
   },
   "toc_section_display": true,
   "toc_window_display": true
  },
  "varInspector": {
   "cols": {
    "lenName": 16,
    "lenType": 16,
    "lenVar": 40
   },
   "kernels_config": {
    "python": {
     "delete_cmd_postfix": "",
     "delete_cmd_prefix": "del ",
     "library": "var_list.py",
     "varRefreshCmd": "print(var_dic_list())"
    },
    "r": {
     "delete_cmd_postfix": ") ",
     "delete_cmd_prefix": "rm(",
     "library": "var_list.r",
     "varRefreshCmd": "cat(var_dic_list()) "
    }
   },
   "types_to_exclude": [
    "module",
    "function",
    "builtin_function_or_method",
    "instance",
    "_Feature"
   ],
   "window_display": false
  }
 },
 "nbformat": 4,
 "nbformat_minor": 2
}
