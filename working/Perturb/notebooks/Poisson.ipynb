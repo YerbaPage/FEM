{
 "cells": [
  {
   "cell_type": "markdown",
   "metadata": {},
   "source": [
    "# Test convergence of `P1` element for Poisson equation"
   ]
  },
  {
   "cell_type": "markdown",
   "metadata": {},
   "source": [
    "## Define forms and errors"
   ]
  },
  {
   "cell_type": "code",
   "execution_count": 1,
   "metadata": {},
   "outputs": [],
   "source": [
    "from skfem import *\n",
    "import numpy as np\n",
    "from utils import solver_iter_krylov, solver_iter_pyamg, solver_iter_mgcg\n",
    "from skfem.helpers import d, dd, ddd, dot, ddot, grad, dddot, prod\n",
    "from scipy.sparse.linalg import LinearOperator, minres\n",
    "from skfem.models.poisson import *\n",
    "from skfem.assembly import BilinearForm, LinearForm\n",
    "import datetime\n",
    "import pandas as pd\n",
    "import sys\n",
    "import time\n",
    "import matplotlib.pyplot as plt\n",
    "from skfem.visuals.matplotlib import draw, plot\n",
    "from scipy.sparse.linalg import *\n",
    "\n",
    "pi = np.pi\n",
    "sin = np.sin\n",
    "cos = np.cos\n",
    "exp = np.exp\n",
    "\n",
    "epsilon = 0"
   ]
  },
  {
   "cell_type": "code",
   "execution_count": 2,
   "metadata": {},
   "outputs": [],
   "source": [
    "@BilinearForm\n",
    "def laplace(u, v, w):\n",
    "    '''\n",
    "    for $(\\nabla w_{h}, \\nabla \\chi_{h})$\n",
    "    '''\n",
    "    return dot(grad(u), grad(v))\n",
    "\n",
    "\n",
    "\n",
    "@LinearForm\n",
    "def f_load(v, w):\n",
    "    '''\n",
    "    for $(f, x_{h})$\n",
    "    '''\n",
    "    pix = pi * w.x[0]\n",
    "    piy = pi * w.x[1]\n",
    "    lu = 2 * (pi)**2 * (cos(2*pix)*((sin(piy))**2) + cos(2*piy)*((sin(pix))**2))\n",
    "    llu = - 8 * (pi)**4 * (cos(2*pix)*sin(piy)**2 + cos(2*piy)*sin(pix)**2 - cos(2*pix)*cos(2*piy))\n",
    "    return (epsilon**2 * llu - lu) * v\n",
    "\n",
    "\n",
    "@BilinearForm\n",
    "def b_load(u, v, w):\n",
    "    '''\n",
    "    for $b_{h}$\n",
    "    '''\n",
    "    return dot(grad(u), grad(v))\n",
    "\n",
    "\n",
    "@BilinearForm\n",
    "def wv_load(u, v, w):\n",
    "    '''\n",
    "    for $(\\nabla \\chi_{h}, \\nabla_{h} v_{h})$\n",
    "    '''\n",
    "    return dot(grad(u), grad(v))"
   ]
  },
  {
   "cell_type": "code",
   "execution_count": 3,
   "metadata": {},
   "outputs": [],
   "source": [
    "def exact_u(x, y):\n",
    "    return (sin(pi * x) * sin(pi * y))**2\n",
    "\n",
    "def dexact_u(x, y):\n",
    "    dux = 2 * pi * cos(pi * x) * sin(pi * x) * sin(pi * y)**2\n",
    "    duy = 2 * pi * cos(pi * y) * sin(pi * x)**2 * sin(pi * y)\n",
    "    return dux, duy\n",
    "\n",
    "def ddexact(x, y):\n",
    "    duxx = 2*pi**2*cos(pi*x)**2*sin(pi*y)**2 - 2*pi**2*sin(pi*x)**2*sin(pi*y)**2\n",
    "    duxy = 2*pi*cos(pi*x)*sin(pi*x)*2*pi*cos(pi*y)*sin(pi*y)\n",
    "    duyx = duxy\n",
    "    duyy = 2*pi**2*cos(pi*y)**2*sin(pi*x)**2 - 2*pi**2*sin(pi*y)**2*sin(pi*x)**2\n",
    "    return duxx, duxy, duyx, duyy\n",
    "\n",
    "@Functional\n",
    "def L2uError(w):\n",
    "    x, y = w.x\n",
    "    return (w.w - exact_u(x, y))**2\n",
    "\n",
    "def get_DuError(basis, u):\n",
    "    duh = basis.interpolate(u).grad\n",
    "    x = basis.global_coordinates().value\n",
    "    dx = basis.dx  # quadrature weights\n",
    "    dux, duy = dexact_u(x[0], x[1])\n",
    "    return np.sqrt(np.sum(((duh[0] - dux)**2 + (duh[1] - duy)**2) * dx))\n",
    "\n",
    "def get_D2uError(basis, u):\n",
    "    dduh = basis.interpolate(u).hess\n",
    "    x = basis.global_coordinates().value  # coordinates of quadrature points [x, y]\n",
    "    dx = basis.dx  # quadrature weights\n",
    "    duxx, duxy, duyx, duyy = ddexact(x[0], x[1])\n",
    "    return np.sqrt(\n",
    "        np.sum(((dduh[0][0] - duxx)**2 + (dduh[0][1] - duxy)**2 +\n",
    "                (dduh[1][1] - duyy)**2 + (dduh[1][0] - duyx)**2) * dx))"
   ]
  },
  {
   "cell_type": "markdown",
   "metadata": {},
   "source": [
    "## Test convergence of $uh_0$\n",
    "$$\n",
    "\\begin{aligned}\n",
    "\\left(\\nabla w_{h}, \\nabla \\chi_{h}\\right) &=\\left(f, \\chi_{h}\\right) & & \\forall \\chi_{h} \\in W_{h} \\\\\n",
    "b_{h}\\left(u_{h 0}, v_{h}\\right) &=\\left(\\nabla w_{h}, \\nabla_{h} v_{h}\\right) & & \\forall v_{h} \\in V_{h 0}\n",
    "\\end{aligned}\n",
    "$$"
   ]
  },
  {
   "cell_type": "code",
   "execution_count": 4,
   "metadata": {},
   "outputs": [
    {
     "name": "stdout",
     "output_type": "stream",
     "text": [
      "epsilon = 0\n",
      "  h    L2u   H1u   H2u   epu\n",
      "2^-2  1.43  0.77  0.45  0.70\n",
      "2^-3  2.29  1.66  0.81  1.61\n",
      "2^-4  2.31  1.89  0.94  1.87\n",
      "2^-5  2.14  1.97  0.98  1.96\n",
      "2^-6  2.04  1.99  1.00  1.99\n"
     ]
    }
   ],
   "source": [
    "L2_list = []\n",
    "Du_list = []\n",
    "D2u_list = []\n",
    "h_list = []\n",
    "epu_list = []\n",
    "m = MeshTri()\n",
    "\n",
    "for i in range(1, 7):\n",
    "    \n",
    "    #####################\n",
    "    m.refine()\n",
    "    element = {'w': ElementTriP1(), 'u': ElementTriMorley()}\n",
    "    basis = {variable: InteriorBasis(m, e, intorder=4)\n",
    "        for variable, e in element.items()} \n",
    "\n",
    "    K1 = asm(laplace, basis['w'])\n",
    "    f1 = asm(f_load, basis['w'])\n",
    "\n",
    "    wh = solve(*condense(K1, f1, D=m.boundary_nodes()), solver=solver_iter_mgcg())\n",
    "\n",
    "    K2 = asm(b_load, basis['u'])\n",
    "    f2 = asm(wv_load, basis['w'], basis['u']) * wh\n",
    "    uh0 = solve(*condense(K2, f2, D=basis['u'].find_dofs()), solver=solver_iter_mgcg())\n",
    "\n",
    "    U = basis['u'].interpolate(uh0).value\n",
    "    #####################\n",
    "    \n",
    "    L2u = np.sqrt(L2uError.assemble(basis['u'], w=U))\n",
    "    Du = get_DuError(basis['u'], uh0)\n",
    "    H1u = Du + L2u\n",
    "    D2u = get_D2uError(basis['u'], uh0)\n",
    "    H2u = Du + L2u + D2u\n",
    "    epu = np.sqrt(epsilon**2 * D2u**2 + Du**2)\n",
    "    h_list.append(m.param())\n",
    "    Du_list.append(Du)\n",
    "    L2_list.append(L2u)\n",
    "    D2u_list.append(D2u)\n",
    "    epu_list.append(epu)\n",
    "\n",
    "hs = np.array(h_list)\n",
    "L2s = np.array(L2_list)\n",
    "Dus = np.array(Du_list)\n",
    "D2us = np.array(D2u_list)\n",
    "epus = np.array(epu_list)\n",
    "H1s = L2s + Dus\n",
    "H2s = H1s + D2us\n",
    "print('epsilon =', epsilon)\n",
    "print('  h    L2u   H1u   H2u   epu')\n",
    "for i in range(H2s.shape[0] - 1):\n",
    "    print(\n",
    "        '2^-' + str(i + 2),\n",
    "        ' {:.2f}  {:.2f}  {:.2f}  {:.2f}'.format(-np.log2(L2s[i + 1] / L2s[i]),\n",
    "                                                -np.log2(H1s[i + 1] / H1s[i]),\n",
    "                                                -np.log2(H2s[i + 1] / H2s[i]),\n",
    "                                                -np.log2(epus[i + 1] / epus[i])))"
   ]
  },
  {
   "cell_type": "markdown",
   "metadata": {},
   "source": [
    "## Test convergence of $wh$\n",
    "$$\n",
    "\\begin{aligned}\n",
    "\\left(\\nabla w_{h}, \\nabla \\chi_{h}\\right) &=\\left(f, \\chi_{h}\\right) & & \\forall \\chi_{h} \\in W_{h} \n",
    "\\end{aligned}\n",
    "$$"
   ]
  },
  {
   "cell_type": "code",
   "execution_count": 22,
   "metadata": {},
   "outputs": [
    {
     "name": "stdout",
     "output_type": "stream",
     "text": [
      "epsilon = 0\n",
      "  h    L2u   H1u\n",
      "2^-2  2.58  1.69 \n",
      "2^-3  3.09  1.89 \n",
      "2^-4  3.04  1.97 \n",
      "2^-5  3.01  1.99 \n",
      "2^-6  2.99  2.00 \n"
     ]
    }
   ],
   "source": [
    "L2_list = []\n",
    "Du_list = []\n",
    "D2u_list = []\n",
    "h_list = []\n",
    "epu_list = []\n",
    "m = MeshTri()\n",
    "\n",
    "for i in range(1, 7):\n",
    "    \n",
    "    #####################\n",
    "    m.refine()\n",
    "    element = ElementTriP2()\n",
    "    basis = InteriorBasis(m, element)\n",
    "\n",
    "    K1 = asm(laplace, basis)\n",
    "    f1 = asm(f_load, basis)\n",
    "\n",
    "    wh = solve(*condense(K1, f1, D=m.boundary_nodes()), solver=solver_iter_mgcg())\n",
    "    W = basis.interpolate(wh).value\n",
    "    #####################\n",
    "    \n",
    "    L2u = np.sqrt(L2uError.assemble(basis, w=W))\n",
    "    Du = get_DuError(basis, wh)\n",
    "    H1u = Du + L2u\n",
    "    h_list.append(m.param())\n",
    "    Du_list.append(Du)\n",
    "    L2_list.append(L2u)\n",
    "\n",
    "hs = np.array(h_list)\n",
    "L2s = np.array(L2_list)\n",
    "Dus = np.array(Du_list)\n",
    "H1s = L2s + Dus\n",
    "print('epsilon =', epsilon)\n",
    "print('  h    L2u   H1u')\n",
    "for i in range(H2s.shape[0] - 1):\n",
    "    print('2^-{}  {:.2f}  {:.2f} '.format(i + 2, -np.log2(L2s[i + 1] / L2s[i]), -np.log2(H1s[i + 1] / H1s[i])))"
   ]
  },
  {
   "cell_type": "markdown",
   "metadata": {},
   "source": [
    "## Other elems"
   ]
  },
  {
   "cell_type": "code",
   "execution_count": 37,
   "metadata": {},
   "outputs": [
    {
     "name": "stdout",
     "output_type": "stream",
     "text": [
      "epsilon = 0\n",
      "  h    L2u   H1u\n",
      "2^-2  0.14  -0.11\n",
      "2^-3  -0.18  -0.30\n",
      "2^-4  -0.06  -0.09\n",
      "2^-5  -0.02  -0.02\n",
      "2^-6  -0.00  -0.01\n"
     ]
    }
   ],
   "source": [
    "L2_list = []\n",
    "Du_list = []\n",
    "D2u_list = []\n",
    "h_list = []\n",
    "epu_list = []\n",
    "m = MeshTri()\n",
    "\n",
    "for i in range(1, 7):\n",
    "    \n",
    "    #####################\n",
    "    m.refine()\n",
    "    element = {'w': ElementTriMorley(), 'u': ElementTriMorley()}\n",
    "    basis = {variable: InteriorBasis(m, e)\n",
    "        for variable, e in element.items()} \n",
    "\n",
    "    K1 = asm(laplace, basis['w'])\n",
    "    f1 = asm(f_load, basis['w'])\n",
    "\n",
    "    wh = solve(*condense(K1, f1, D=m.boundary_nodes()), solver=solver_iter_mgcg())\n",
    "\n",
    "    K2 = asm(b_load, basis['u'])\n",
    "    f2 = asm(wv_load, basis['w'], basis['u']) * wh\n",
    "    uh0 = solve(*condense(K2, f2, D=basis['u'].find_dofs()), solver=solver_iter_mgcg())\n",
    "\n",
    "    U = basis['u'].interpolate(uh0).value\n",
    "    #####################\n",
    "    \n",
    "    L2u = np.sqrt(L2uError.assemble(basis['u'], w=U))\n",
    "    Du = get_DuError(basis['u'], uh0)\n",
    "    H1u = Du + L2u\n",
    "#     D2u = get_D2uError(basis['u'], uh0)\n",
    "#     H2u = Du + L2u + D2u\n",
    "#     epu = np.sqrt(epsilon**2 * D2u**2 + Du**2)\n",
    "    h_list.append(m.param())\n",
    "    Du_list.append(Du)\n",
    "    L2_list.append(L2u)\n",
    "#     D2u_list.append(D2u)\n",
    "#     epu_list.append(epu)\n",
    "\n",
    "hs = np.array(h_list)\n",
    "L2s = np.array(L2_list)\n",
    "Dus = np.array(Du_list)\n",
    "# D2us = np.array(D2u_list)\n",
    "# epus = np.array(epu_list)\n",
    "H1s = L2s + Dus\n",
    "# H2s = H1s + D2us\n",
    "print('epsilon =', epsilon)\n",
    "print('  h    L2u   H1u')\n",
    "for i in range(H2s.shape[0] - 1):\n",
    "    print(\n",
    "        '2^-' + str(i + 2),\n",
    "        ' {:.2f}  {:.2f}'.format(-np.log2(L2s[i + 1] / L2s[i]),\n",
    "                                                -np.log2(H1s[i + 1] / H1s[i])))"
   ]
  },
  {
   "cell_type": "markdown",
   "metadata": {},
   "source": [
    "# Different mesh"
   ]
  },
  {
   "cell_type": "code",
   "execution_count": 19,
   "metadata": {},
   "outputs": [],
   "source": [
    "from skfem.io import from_meshio\n",
    "from skfem.io.json import from_file, to_file\n",
    "from pathlib import Path"
   ]
  },
  {
   "cell_type": "markdown",
   "metadata": {},
   "source": [
    "## loading mesh"
   ]
  },
  {
   "cell_type": "code",
   "execution_count": 24,
   "metadata": {},
   "outputs": [],
   "source": [
    "m = from_file('mesh.json')"
   ]
  },
  {
   "cell_type": "code",
   "execution_count": 25,
   "metadata": {},
   "outputs": [
    {
     "data": {
      "text/plain": [
       "<matplotlib.axes._subplots.AxesSubplot at 0x214d966fd48>"
      ]
     },
     "execution_count": 25,
     "metadata": {},
     "output_type": "execute_result"
    },
    {
     "data": {
      "image/png": "[encoded data removed]",
      "text/plain": [
       "<Figure size 432x288 with 1 Axes>"
      ]
     },
     "metadata": {
      "needs_background": "light"
     },
     "output_type": "display_data"
    }
   ],
   "source": [
    "draw(m)"
   ]
  },
  {
   "cell_type": "code",
   "execution_count": 30,
   "metadata": {},
   "outputs": [],
   "source": [
    "import meshio"
   ]
  },
  {
   "cell_type": "code",
   "execution_count": 36,
   "metadata": {},
   "outputs": [
    {
     "data": {
      "text/plain": [
       "<matplotlib.axes._subplots.AxesSubplot at 0x214d9e745c8>"
      ]
     },
     "execution_count": 36,
     "metadata": {},
     "output_type": "execute_result"
    },
    {
     "data": {
      "image/png": "[encoded data removed]",
      "text/plain": [
       "<Figure size 432x288 with 1 Axes>"
      ]
     },
     "metadata": {
      "needs_background": "light"
     },
     "output_type": "display_data"
    }
   ],
   "source": [
    "m = MeshTri.init_tensor([0.0, 0.45, 1.0], [0.0, 0.5, 1.0])\n",
    "draw(m)"
   ]
  },
  {
   "cell_type": "code",
   "execution_count": 64,
   "metadata": {
    "scrolled": false
   },
   "outputs": [
    {
     "name": "stdout",
     "output_type": "stream",
     "text": [
      "epsilon = 0\n",
      "  h    L2u   H1u\n",
      "2^-2  3.27  2.10\n",
      "2^-3  3.32  1.94\n",
      "2^-4  3.30  1.97\n",
      "2^-5  3.15  1.99\n",
      "2^-6  3.04  2.00\n"
     ]
    },
    {
     "data": {
      "image/png": "[encoded data removed]",
      "text/plain": [
       "<Figure size 432x288 with 1 Axes>"
      ]
     },
     "metadata": {
      "needs_background": "light"
     },
     "output_type": "display_data"
    }
   ],
   "source": [
    "L2_list = []\n",
    "Du_list = []\n",
    "D2u_list = []\n",
    "h_list = []\n",
    "epu_list = []\n",
    "m = MeshTri.init_tensor([0.0, 0.1, 1.0], [0.0, 0.5, 1.0])\n",
    "draw(m)\n",
    "\n",
    "for i in range(1, 7):\n",
    "    \n",
    "    #####################\n",
    "    m.refine()\n",
    "    element = {'w': ElementTriP2(), 'u': ElementTriMorley()}\n",
    "    \n",
    "    basis = {variable: InteriorBasis(m, e, intorder=4)\n",
    "        for variable, e in element.items()} \n",
    "\n",
    "    K1 = asm(laplace, basis['w'])\n",
    "    f1 = asm(f_load, basis['w'])\n",
    "\n",
    "    wh = solve(*condense(K1, f1, D=m.boundary_nodes()), solver=solver_iter_mgcg())\n",
    "\n",
    "    K2 = asm(b_load, basis['u'])\n",
    "    f2 = asm(wv_load, basis['w'], basis['u']) * wh\n",
    "    uh0 = solve(*condense(K2, f2, D=basis['u'].find_dofs()), solver=solver_iter_mgcg())\n",
    "\n",
    "    U = basis['u'].interpolate(uh0).value\n",
    "    #####################\n",
    "    \n",
    "    L2u = np.sqrt(L2uError.assemble(basis['u'], w=U))\n",
    "    Du = get_DuError(basis['u'], uh0)\n",
    "    H1u = Du + L2u\n",
    "    h_list.append(m.param())\n",
    "    Du_list.append(Du)\n",
    "    L2_list.append(L2u)\n",
    "\n",
    "hs = np.array(h_list)\n",
    "L2s = np.array(L2_list)\n",
    "Dus = np.array(Du_list)\n",
    "H1s = L2s + Dus\n",
    "print('epsilon =', epsilon)\n",
    "print('  h    L2u   H1u')\n",
    "for i in range(H1s.shape[0] - 1):\n",
    "    print(\n",
    "        '2^-' + str(i + 2),\n",
    "        ' {:.2f}  {:.2f}'.format(-np.log2(L2s[i + 1] / L2s[i]),\n",
    "                                                -np.log2(H1s[i + 1] / H1s[i])))"
   ]
  },
  {
   "cell_type": "code",
   "execution_count": 59,
   "metadata": {},
   "outputs": [
    {
     "name": "stdout",
     "output_type": "stream",
     "text": [
      "epsilon = 0\n",
      "  h    L2u   H1u\n",
      "2^-2  1.24  0.64 \n",
      "2^-3  1.84  0.97 \n",
      "2^-4  1.96  1.01 \n",
      "2^-5  1.99  1.01 \n",
      "2^-6  2.00  1.01 \n",
      "2^-7  2.00  1.00 \n"
     ]
    }
   ],
   "source": [
    "# wh\n",
    "L2_list = []\n",
    "Du_list = []\n",
    "D2u_list = []\n",
    "h_list = []\n",
    "epu_list = []\n",
    "m = MeshTri.init_tensor([0.0, 0.1, 1.0], [0.0, 0.5, 1.0])\n",
    "\n",
    "for i in range(1, 8):\n",
    "    \n",
    "    #####################\n",
    "    m.refine()\n",
    "    element = ElementTriP1()\n",
    "    basis = InteriorBasis(m, element)\n",
    "\n",
    "    K1 = asm(laplace, basis)\n",
    "    f1 = asm(f_load, basis)\n",
    "\n",
    "    wh = solve(*condense(K1, f1, D=m.boundary_nodes()), solver=solver_iter_mgcg())\n",
    "    W = basis.interpolate(wh).value\n",
    "    #####################\n",
    "    \n",
    "    L2u = np.sqrt(L2uError.assemble(basis, w=W))\n",
    "    Du = get_DuError(basis, wh)\n",
    "    H1u = Du + L2u\n",
    "    h_list.append(m.param())\n",
    "    Du_list.append(Du)\n",
    "    L2_list.append(L2u)\n",
    "\n",
    "hs = np.array(h_list)\n",
    "L2s = np.array(L2_list)\n",
    "Dus = np.array(Du_list)\n",
    "H1s = L2s + Dus\n",
    "print('epsilon =', epsilon)\n",
    "print('  h    L2u   H1u')\n",
    "for i in range(H1s.shape[0] - 1):\n",
    "    print('2^-{}  {:.2f}  {:.2f} '.format(i + 2, -np.log2(L2s[i + 1] / L2s[i]), -np.log2(H1s[i + 1] / H1s[i])))"
   ]
  },
  {
   "cell_type": "code",
   "execution_count": null,
   "metadata": {},
   "outputs": [],
   "source": []
  }
 ],
 "metadata": {
  "kernelspec": {
   "display_name": "Python 3",
   "language": "python",
   "name": "python3"
  },
  "language_info": {
   "codemirror_mode": {
    "name": "ipython",
    "version": 3
   },
   "file_extension": ".py",
   "mimetype": "text/x-python",
   "name": "python",
   "nbconvert_exporter": "python",
   "pygments_lexer": "ipython3",
   "version": "3.7.4"
  },
  "toc": {
   "base_numbering": 1,
   "nav_menu": {},
   "number_sections": true,
   "sideBar": false,
   "skip_h1_title": false,
   "title_cell": "Table of Contents",
   "title_sidebar": "Contents",
   "toc_cell": false,
   "toc_position": {},
   "toc_section_display": false,
   "toc_window_display": false
  },
  "varInspector": {
   "cols": {
    "lenName": 16,
    "lenType": 16,
    "lenVar": 40
   },
   "kernels_config": {
    "python": {
     "delete_cmd_postfix": "",
     "delete_cmd_prefix": "del ",
     "library": "var_list.py",
     "varRefreshCmd": "print(var_dic_list())"
    },
    "r": {
     "delete_cmd_postfix": ") ",
     "delete_cmd_prefix": "rm(",
     "library": "var_list.r",
     "varRefreshCmd": "cat(var_dic_list()) "
    }
   },
   "types_to_exclude": [
    "module",
    "function",
    "builtin_function_or_method",
    "instance",
    "_Feature"
   ],
   "window_display": false
  }
 },
 "nbformat": 4,
 "nbformat_minor": 4
}
