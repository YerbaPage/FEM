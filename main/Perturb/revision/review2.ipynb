{
 "cells": [
  {
   "cell_type": "markdown",
   "metadata": {},
   "source": [
    "# Init"
   ]
  },
  {
   "cell_type": "code",
   "execution_count": 1,
   "metadata": {
    "code_folding": [
     25,
     43,
     68,
     76,
     84,
     92,
     97,
     102,
     107,
     115,
     120,
     127,
     137,
     179
    ],
    "scrolled": false
   },
   "outputs": [],
   "source": [
    "from skfem import *\n",
    "import numpy as np\n",
    "from utils import *\n",
    "from skfem.helpers import d, dd, ddd, dot, ddot, grad, dddot, prod\n",
    "from scipy.sparse.linalg import LinearOperator, minres\n",
    "from skfem.models.poisson import *\n",
    "from skfem.assembly import BilinearForm, LinearForm\n",
    "import datetime\n",
    "import pandas as pd\n",
    "import sys\n",
    "import time\n",
    "\n",
    "\n",
    "tol = 1e-8\n",
    "intorder = 6\n",
    "solver_type = 'mgcg'\n",
    "refine_time = 7\n",
    "element_type = 'P1'\n",
    "sigma = 5\n",
    "penalty = False\n",
    "epsilon = 1e-6\n",
    "example = 'ex3'\n",
    "save_path = 'log/' + example + '_' + element_type + '_' + ('pen' if penalty else 'nopen') + '_' +'{}'.format(datetime.datetime.now().strftime(\"%Y-%m-%d_%H-%M-%S\"))"
   ]
  },
  {
   "cell_type": "markdown",
   "metadata": {},
   "source": [
    "# Solving"
   ]
  },
  {
   "cell_type": "code",
   "execution_count": null,
   "metadata": {
    "code_folding": [],
    "scrolled": true
   },
   "outputs": [
    {
     "name": "stdout",
     "output_type": "stream",
     "text": [
      "=======Arguments=======\n",
      "penalty:\tFalse\n",
      "element_type:\tP1\n",
      "solver_type:\tmgcg\n",
      "tol:\t1e-08\n",
      "intorder:\t6\n",
      "refine_time:\t7\n",
      "epsilon:\t1e-06\n",
      "sigma:\t5\n",
      "=======Results=======\n"
     ]
    }
   ],
   "source": [
    "# solving \n",
    "\n",
    "\n",
    "print('=======Arguments=======')\n",
    "print('penalty:\\t{}'.format(penalty))\n",
    "print('element_type:\\t{}'.format(element_type))\n",
    "print('solver_type:\\t{}'.format(solver_type))\n",
    "print('tol:\\t{}'.format(tol))\n",
    "print('intorder:\\t{}'.format(intorder))\n",
    "print('refine_time:\\t{}'.format(refine_time))\n",
    "print('epsilon:\\t{}'.format(epsilon))\n",
    "print('sigma:\\t{}'.format(sigma))\n",
    "print('=======Results=======')\n",
    "\n",
    "time_start = time.time()\n",
    "\n",
    "df_list = []\n",
    "\n",
    "ep = epsilon\n",
    "L2_list = []\n",
    "Du_list = []\n",
    "D2u_list = []\n",
    "h_list = []\n",
    "epu_list = []\n",
    "m = MeshTri()\n",
    "\n",
    "for i in range(1, refine_time+1):\n",
    "\n",
    "    m.refine()\n",
    "\n",
    "    if penalty:\n",
    "        uh0, basis, fbasis = solve_problem2(m, element_type, solver_type, intorder=6, tol=1e-8, epsilon=1e-6)\n",
    "    else:\n",
    "        uh0, basis = solve_problem1(m, element_type, solver_type, intorder=6, tol=1e-8, epsilon=1e-6)\n",
    "\n",
    "    U = basis['u'].interpolate(uh0).value\n",
    "\n",
    "    # compute errors\n",
    "\n",
    "    L2u = np.sqrt(L2uError.assemble(basis['u'], w=U))\n",
    "    Du = get_DuError(basis['u'], uh0)\n",
    "    H1u = Du + L2u\n",
    "    if penalty:\n",
    "        D2u = np.sqrt(get_D2uError(basis['u'], uh0)**2 + L2pnvError.assemble(fbasis, w=fbasis.interpolate(uh0)))\n",
    "    else:\n",
    "        D2u = get_D2uError(basis['u'], uh0)\n",
    "    epu = np.sqrt(epsilon**2 * D2u**2 + Du**2)\n",
    "    h_list.append(m.param())\n",
    "    Du_list.append(Du)\n",
    "    L2_list.append(L2u)\n",
    "    D2u_list.append(D2u)\n",
    "    epu_list.append(epu)\n",
    "\n",
    "hs = np.array(h_list)\n",
    "L2s = np.array(L2_list)\n",
    "Dus = np.array(Du_list)\n",
    "D2us = np.array(D2u_list)\n",
    "epus = np.array(epu_list)\n",
    "H1s = L2s + Dus\n",
    "H2s = H1s + D2us\n",
    "\n",
    "# store data\n",
    "data = np.array([L2s, H1s, H2s, epus])\n",
    "df = pd.DataFrame(data.T, columns=['L2', 'H1', 'H2', 'Energy'])\n",
    "df_list.append(df)\n",
    "\n",
    "print('epsilon =', epsilon)\n",
    "print('  h    L2u   H1u   H2u   epu')\n",
    "for i in range(H2s.shape[0] - 1):\n",
    "    print(\n",
    "        '2^-' + str(i + 2), ' {:.2f}  {:.2f}  {:.2f}  {:.2f}'.format(\n",
    "            -np.log2(L2s[i + 1] / L2s[i]), -np.log2(H1s[i + 1] / H1s[i]),\n",
    "            -np.log2(H2s[i + 1] / H2s[i]),\n",
    "            -np.log2(epus[i + 1] / epus[i])))\n",
    "    print(\n",
    "        '2^-' + str(i + 2), ' {:.3e}  {:.3e}  {:.3e}  {:.3e}'.format(\n",
    "            L2s[i + 1], H1s[i + 1],\n",
    "            H2s[i + 1],\n",
    "            epus[i + 1]))\n",
    "\n",
    "time_end = time.time()\n",
    "\n",
    "# df.to_csv(save_path+'.csv')\n",
    "print('Total Time Cost {:.2f} s'.format(time_end-time_start))"
   ]
  }
 ],
 "metadata": {
  "kernelspec": {
   "display_name": "Python 3",
   "language": "python",
   "name": "python3"
  },
  "language_info": {
   "codemirror_mode": {
    "name": "ipython",
    "version": 3
   },
   "file_extension": ".py",
   "mimetype": "text/x-python",
   "name": "python",
   "nbconvert_exporter": "python",
   "pygments_lexer": "ipython3",
   "version": "3.7.4"
  },
  "toc": {
   "base_numbering": 1,
   "nav_menu": {},
   "number_sections": true,
   "sideBar": false,
   "skip_h1_title": false,
   "title_cell": "Table of Contents",
   "title_sidebar": "Contents",
   "toc_cell": false,
   "toc_position": {},
   "toc_section_display": false,
   "toc_window_display": false
  },
  "varInspector": {
   "cols": {
    "lenName": 16,
    "lenType": 16,
    "lenVar": 40
   },
   "kernels_config": {
    "python": {
     "delete_cmd_postfix": "",
     "delete_cmd_prefix": "del ",
     "library": "var_list.py",
     "varRefreshCmd": "print(var_dic_list())"
    },
    "r": {
     "delete_cmd_postfix": ") ",
     "delete_cmd_prefix": "rm(",
     "library": "var_list.r",
     "varRefreshCmd": "cat(var_dic_list()) "
    }
   },
   "types_to_exclude": [
    "module",
    "function",
    "builtin_function_or_method",
    "instance",
    "_Feature"
   ],
   "window_display": false
  }
 },
 "nbformat": 4,
 "nbformat_minor": 4
}
