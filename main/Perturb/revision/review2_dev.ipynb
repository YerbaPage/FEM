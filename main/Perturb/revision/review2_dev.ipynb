{
 "cells": [
  {
   "cell_type": "markdown",
   "metadata": {},
   "source": [
    "# Init"
   ]
  },
  {
   "cell_type": "code",
   "execution_count": 2,
   "metadata": {
    "code_folding": [],
    "scrolled": false
   },
   "outputs": [],
   "source": [
    "from skfem import *\n",
    "import numpy as np\n",
    "from utils import *\n",
    "from skfem.helpers import d, dd, ddd, dot, ddot, grad, dddot, prod\n",
    "from scipy.sparse.linalg import LinearOperator, minres\n",
    "from skfem.models.poisson import *\n",
    "from skfem.assembly import BilinearForm, LinearForm\n",
    "import datetime\n",
    "import pandas as pd\n",
    "import sys\n",
    "import time\n",
    "\n",
    "\n",
    "tol = 1e-8\n",
    "intorder = 6\n",
    "solver_type = 'mgcg'\n",
    "refine_time = 7\n",
    "element_type = 'P1'\n",
    "sigma = 5\n",
    "penalty = False\n",
    "epsilon = 1e-6\n",
    "ep = epsilon\n",
    "example = 'ex3'\n",
    "save_path = 'log/' + example + '_' + element_type + '_' + ('pen' if penalty else 'nopen') + '_' +'{}'.format(datetime.datetime.now().strftime(\"%Y-%m-%d_%H-%M-%S\"))"
   ]
  },
  {
   "cell_type": "code",
   "execution_count": 53,
   "metadata": {},
   "outputs": [
    {
     "name": "stdout",
     "output_type": "stream",
     "text": [
      "Wall time: 3.59 s\n"
     ]
    }
   ],
   "source": [
    "%%time\n",
    "m = MeshTri()\n",
    "m.refine(7)\n",
    "\n",
    "if penalty:\n",
    "    uh0, basis, fbasis = solve_problem2(m, element_type, solver_type, intorder=3, tol=1e-8, epsilon=1e-6)\n",
    "else:\n",
    "    uh0, basis = solve_problem1(m, element_type, solver_type, intorder=3, tol=1e-8, epsilon=1e-6)\n",
    "\n",
    "U = basis['u'].interpolate(uh0).value\n",
    "\n",
    "# compute errors\n",
    "\n",
    "L2u = np.sqrt(L2uError.assemble(basis['u'], w=U))\n",
    "Du = get_DuError(basis['u'], uh0)\n",
    "H1u = Du + L2u\n",
    "\n",
    "if penalty:\n",
    "    D2u = np.sqrt(get_D2uError(basis['u'], uh0)**2 + L2pnvError.assemble(fbasis, w=fbasis.interpolate(uh0)))\n",
    "else:\n",
    "    D2u = get_D2uError(basis['u'], uh0)\n",
    "\n",
    "epu = np.sqrt(epsilon**2 * D2u**2 + Du**2)"
   ]
  },
  {
   "cell_type": "code",
   "execution_count": 54,
   "metadata": {},
   "outputs": [
    {
     "data": {
      "text/plain": [
       "(32768, 4)"
      ]
     },
     "execution_count": 54,
     "metadata": {},
     "output_type": "execute_result"
    }
   ],
   "source": [
    "U.shape"
   ]
  },
  {
   "cell_type": "code",
   "execution_count": 55,
   "metadata": {},
   "outputs": [
    {
     "data": {
      "text/plain": [
       "(66049,)"
      ]
     },
     "execution_count": 55,
     "metadata": {},
     "output_type": "execute_result"
    }
   ],
   "source": [
    "uh0.shape"
   ]
  },
  {
   "cell_type": "code",
   "execution_count": 57,
   "metadata": {},
   "outputs": [],
   "source": [
    "m = MeshTri()\n",
    "# m.refine(1)\n",
    "\n",
    "if element_type == 'P1':\n",
    "    element = {'w': ElementTriP1(), 'u': ElementTriMorley()}\n",
    "elif element_type == 'P2':\n",
    "    element = {'w': ElementTriP2(), 'u': ElementTriMorley()}\n",
    "else:\n",
    "    raise Exception(\"The element not supported\")\n",
    "\n",
    "basis = {\n",
    "    variable: InteriorBasis(m, e, intorder=3)\n",
    "    for variable, e in element.items()\n",
    "}"
   ]
  },
  {
   "cell_type": "code",
   "execution_count": 32,
   "metadata": {},
   "outputs": [],
   "source": [
    "# basis['u'].dx # weights\n",
    "refine2 = basis['u'].global_coordinates().value"
   ]
  },
  {
   "cell_type": "code",
   "execution_count": 58,
   "metadata": {},
   "outputs": [
    {
     "data": {
      "text/plain": [
       "array([1.94279276e-16])"
      ]
     },
     "execution_count": 58,
     "metadata": {},
     "output_type": "execute_result"
    }
   ],
   "source": [
    "basis['u'].interpolator(uh0)(np.array([[0.5],[0.5]]))"
   ]
  },
  {
   "cell_type": "markdown",
   "metadata": {},
   "source": [
    "# Solving"
   ]
  },
  {
   "cell_type": "code",
   "execution_count": 2,
   "metadata": {
    "code_folding": [
     28,
     30,
     41,
     43
    ],
    "scrolled": false
   },
   "outputs": [
    {
     "name": "stdout",
     "output_type": "stream",
     "text": [
      "=======Arguments=======\n",
      "penalty:\tFalse\n",
      "element_type:\tP1\n",
      "solver_type:\tmgcg\n",
      "tol:\t1e-08\n",
      "intorder:\t6\n",
      "refine_time:\t7\n",
      "epsilon:\t1e-06\n",
      "sigma:\t5\n",
      "=======Results=======\n",
      "epsilon = 1e-06\n",
      "  h    L2u   H1u   H2u   epu\n",
      "2^-2  1.74  0.81  -0.20  0.71\n",
      "2^-2  7.631e-02  1.065e+00  1.309e+01  9.885e-01\n",
      "2^-3  1.57  0.65  -0.46  0.60\n",
      "2^-3  2.576e-02  6.781e-01  1.807e+01  6.523e-01\n",
      "2^-4  1.51  0.55  -0.49  0.52\n",
      "2^-4  9.051e-03  4.638e-01  2.543e+01  4.547e-01\n",
      "2^-5  1.51  0.52  -0.49  0.50\n",
      "2^-5  3.189e-03  3.240e-01  3.580e+01  3.208e-01\n",
      "2^-6  1.50  0.51  -0.50  0.50\n",
      "2^-6  1.124e-03  2.279e-01  5.047e+01  2.267e-01\n",
      "2^-7  1.50  0.50  -0.50  0.50\n",
      "2^-7  3.968e-04  1.607e-01  7.124e+01  1.603e-01\n",
      "Total Time Cost 7.26 s\n"
     ]
    }
   ],
   "source": [
    "# solving \n",
    "\n",
    "print('=======Arguments=======')\n",
    "print('penalty:\\t{}'.format(penalty))\n",
    "print('element_type:\\t{}'.format(element_type))\n",
    "print('solver_type:\\t{}'.format(solver_type))\n",
    "print('tol:\\t{}'.format(tol))\n",
    "print('intorder:\\t{}'.format(intorder))\n",
    "print('refine_time:\\t{}'.format(refine_time))\n",
    "print('epsilon:\\t{}'.format(epsilon))\n",
    "print('sigma:\\t{}'.format(sigma))\n",
    "print('=======Results=======')\n",
    "\n",
    "time_start = time.time()\n",
    "\n",
    "ep = epsilon\n",
    "df_list = []\n",
    "L2_list = []\n",
    "Du_list = []\n",
    "D2u_list = []\n",
    "h_list = []\n",
    "epu_list = []\n",
    "m = MeshTri()\n",
    "\n",
    "for i in range(1, refine_time+1):\n",
    "\n",
    "    m.refine()\n",
    "\n",
    "    if penalty:\n",
    "        uh0, basis, fbasis = solve_problem2(m, element_type, solver_type, intorder=6, tol=1e-8, epsilon=1e-6)\n",
    "    else:\n",
    "        uh0, basis = solve_problem1(m, element_type, solver_type, intorder=6, tol=1e-8, epsilon=1e-6)\n",
    "\n",
    "    U = basis['u'].interpolate(uh0).value\n",
    "\n",
    "    # compute errors\n",
    "\n",
    "    L2u = np.sqrt(L2uError.assemble(basis['u'], w=U))\n",
    "    Du = get_DuError(basis['u'], uh0)\n",
    "    H1u = Du + L2u\n",
    "    \n",
    "    if penalty:\n",
    "        D2u = np.sqrt(get_D2uError(basis['u'], uh0)**2 + L2pnvError.assemble(fbasis, w=fbasis.interpolate(uh0)))\n",
    "    else:\n",
    "        D2u = get_D2uError(basis['u'], uh0)\n",
    "        \n",
    "    epu = np.sqrt(epsilon**2 * D2u**2 + Du**2)\n",
    "    h_list.append(m.param())\n",
    "    Du_list.append(Du)\n",
    "    L2_list.append(L2u)\n",
    "    D2u_list.append(D2u)\n",
    "    epu_list.append(epu)\n",
    "\n",
    "hs = np.array(h_list)\n",
    "L2s = np.array(L2_list)\n",
    "Dus = np.array(Du_list)\n",
    "D2us = np.array(D2u_list)\n",
    "epus = np.array(epu_list)\n",
    "H1s = L2s + Dus\n",
    "H2s = H1s + D2us\n",
    "\n",
    "# store data\n",
    "data = np.array([L2s, H1s, H2s, epus])\n",
    "df = pd.DataFrame(data.T, columns=['L2', 'H1', 'H2', 'Energy'])\n",
    "df_list.append(df)\n",
    "\n",
    "show_result(L2s, H1s, H2s, epus)\n",
    "\n",
    "# df.to_csv(save_path+'.csv')\n",
    "time_end = time.time()\n",
    "print('Total Time Cost {:.2f} s'.format(time_end-time_start))"
   ]
  }
 ],
 "metadata": {
  "kernelspec": {
   "display_name": "Python 3",
   "language": "python",
   "name": "python3"
  },
  "language_info": {
   "codemirror_mode": {
    "name": "ipython",
    "version": 3
   },
   "file_extension": ".py",
   "mimetype": "text/x-python",
   "name": "python",
   "nbconvert_exporter": "python",
   "pygments_lexer": "ipython3",
   "version": "3.7.4"
  },
  "toc": {
   "base_numbering": 1,
   "nav_menu": {},
   "number_sections": true,
   "sideBar": false,
   "skip_h1_title": false,
   "title_cell": "Table of Contents",
   "title_sidebar": "Contents",
   "toc_cell": false,
   "toc_position": {},
   "toc_section_display": false,
   "toc_window_display": false
  },
  "varInspector": {
   "cols": {
    "lenName": 16,
    "lenType": 16,
    "lenVar": 40
   },
   "kernels_config": {
    "python": {
     "delete_cmd_postfix": "",
     "delete_cmd_prefix": "del ",
     "library": "var_list.py",
     "varRefreshCmd": "print(var_dic_list())"
    },
    "r": {
     "delete_cmd_postfix": ") ",
     "delete_cmd_prefix": "rm(",
     "library": "var_list.r",
     "varRefreshCmd": "cat(var_dic_list()) "
    }
   },
   "types_to_exclude": [
    "module",
    "function",
    "builtin_function_or_method",
    "instance",
    "_Feature"
   ],
   "window_display": false
  }
 },
 "nbformat": 4,
 "nbformat_minor": 4
}
