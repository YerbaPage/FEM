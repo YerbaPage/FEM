{
 "cells": [
  {
   "cell_type": "markdown",
   "metadata": {},
   "source": [
    "# Init"
   ]
  },
  {
   "cell_type": "code",
   "execution_count": 53,
   "metadata": {
    "code_folding": [],
    "scrolled": false
   },
   "outputs": [
    {
     "name": "stdout",
     "output_type": "stream",
     "text": [
      "7 th saved\n",
      "8 th saved\n",
      "9 th saved\n"
     ]
    }
   ],
   "source": [
    "# from skfem import *\n",
    "import numpy as np\n",
    "from utils import *\n",
    "from skfem.helpers import d, dd, ddd, dot, ddot, grad, dddot, prod\n",
    "from scipy.sparse.linalg import LinearOperator, minres\n",
    "# from skfem.models.poisson import *\n",
    "from skfem.assembly import BilinearForm, LinearForm\n",
    "import datetime\n",
    "import pandas as pd\n",
    "import sys\n",
    "import time\n",
    "from tqdm import tqdm\n",
    "\n",
    "\n",
    "tol = 1e-8\n",
    "intorder = 3 # 6\n",
    "solver_type = 'mgcg'\n",
    "refine_time = 7\n",
    "element_type = 'P1'\n",
    "sigma = 5 \n",
    "penalty = False\n",
    "epsilon = 1e-6\n",
    "ep = epsilon\n",
    "example = 'ex3'\n",
    "save_path = 'log/' + example + '_' + element_type + '_' + ('pen' if penalty else 'nopen') + '_' +'{}'.format(datetime.datetime.now().strftime(\"%Y-%m-%d_%H-%M-%S\"))\n",
    "\n",
    "# Save $u_{h0}$ with different $h$ \n",
    "\n",
    "# %%time\n",
    "# for i in range(7, 10):\n",
    "#     m = MeshTri()\n",
    "#     base_order = i\n",
    "#     base_path = 'solutions/uh0_{}.npy'.format(base_order)\n",
    "#     m.refine(base_order)\n",
    "\n",
    "#     if penalty:\n",
    "#         uh0, basis, fbasis = solve_problem2(m, element_type, solver_type, intorder=6, tol=1e-8, epsilon=1e-6)\n",
    "#     else:\n",
    "#         uh0, basis = solve_problem1(m, element_type, solver_type, intorder=6, tol=1e-8, epsilon=1e-6)\n",
    "\n",
    "#     np.save(base_path, uh0)\n",
    "#     print('{} th saved'.format(i))"
   ]
  },
  {
   "cell_type": "markdown",
   "metadata": {},
   "source": [
    "## Reading previous solution"
   ]
  },
  {
   "cell_type": "code",
   "execution_count": 48,
   "metadata": {},
   "outputs": [],
   "source": [
    "test_order = 3\n",
    "test_path = 'solutions/uh0_{}.npy'.format(test_order)\n",
    "coarse_m = MeshTri()\n",
    "coarse_m.refine(test_order)\n",
    "test_basis, test_fbasis = solve_problem2(coarse_m, element_type, intorder=3, basis_only=True)\n",
    "test_uh0 = np.load(test_path)\n",
    "\n",
    "base_order = 5\n",
    "base_path = 'solutions/uh0_{}.npy'.format(base_order)\n",
    "fine_m = MeshTri()\n",
    "fine_m.refine(base_order)\n",
    "base_basis, base_fbasis = solve_problem2(fine_m, element_type, intorder=3, basis_only=True)\n",
    "base_uh0 = np.load(base_path)\n",
    "\n",
    "coordinates = base_basis['u'].global_coordinates().value"
   ]
  },
  {
   "cell_type": "markdown",
   "metadata": {},
   "source": [
    "## $L2$ error"
   ]
  },
  {
   "cell_type": "code",
   "execution_count": 49,
   "metadata": {},
   "outputs": [
    {
     "name": "stderr",
     "output_type": "stream",
     "text": [
      "100%|██████████████████████████████████████████████████████████████████████████████| 2048/2048 [00:22<00:00, 90.30it/s]\n"
     ]
    }
   ],
   "source": [
    "base_test_basis = np.zeros_like(base_basis['u'].interpolate(base_uh0).value)\n",
    "\n",
    "# from numba import jit\n",
    "# # @jit\n",
    "# def test():\n",
    "#     for i in tqdm(range(base_test_basis.shape[0])):\n",
    "#         for j in range(base_test_basis.shape[1]):\n",
    "#             base_test_basis[i][j] = test_basis['u'].interpolator(test_uh0)(np.array([[coordinates[0][i][j]], [coordinates[1][i][j]]]))\n",
    "#     return base_test_basis\n",
    "\n",
    "for i in tqdm(range(base_test_basis.shape[0])):\n",
    "    for j in range(base_test_basis.shape[1]):\n",
    "        base_test_basis[i][j] = test_basis['u'].interpolator(test_uh0)(np.array([[coordinates[0][i][j]], [coordinates[1][i][j]]]))"
   ]
  },
  {
   "cell_type": "code",
   "execution_count": 52,
   "metadata": {
    "scrolled": true
   },
   "outputs": [
    {
     "data": {
      "text/plain": [
       "0.025175332152123173"
      ]
     },
     "execution_count": 52,
     "metadata": {},
     "output_type": "execute_result"
    }
   ],
   "source": [
    "np.sqrt(np.sum(base_basis['u'].dx * (base_basis['u'].interpolate(base_uh0).value - base_test_basis)**2))"
   ]
  },
  {
   "cell_type": "markdown",
   "metadata": {},
   "source": [
    "## $H_{1}$ Error"
   ]
  },
  {
   "cell_type": "code",
   "execution_count": 39,
   "metadata": {},
   "outputs": [],
   "source": [
    "dbasis = InteriorBasis(coarse_m, ElementTriDG(ElementTriP1()), intorder=3)\n",
    "dx = project(test_uh0, basis_from=test_basis['u'], basis_to=dbasis, diff=0)\n",
    "dy = project(test_uh0, basis_from=test_basis['u'], basis_to=dbasis, diff=1)\n",
    "\n",
    "\n",
    "dux = np.zeros_like(base_basis['u'].interpolate(base_uh0).value)\n",
    "\n",
    "for i in tqdm(range(base_test_basis.shape[0])):\n",
    "    for j in range(base_test_basis.shape[1]):\n",
    "        dux[i][j] = dbasis.interpolator(dx)(np.array([[coordinates[0][i][j]], [coordinates[1][i][j]]]))\n",
    "        \n",
    "duy = np.zeros_like(base_basis['u'].interpolate(base_uh0).value)\n",
    "\n",
    "for i in tqdm(range(base_test_basis.shape[0])):\n",
    "    for j in range(base_test_basis.shape[1]):\n",
    "        duy[i][j] = dbasis.interpolator(dy)(np.array([[coordinates[0][i][j]], [coordinates[1][i][j]]]))\n",
    "\n",
    "        \n",
    "def get_DuError_N(basis, u):\n",
    "    duh = basis.interpolate(u).grad\n",
    "    x = basis.global_coordinates().value\n",
    "    dx = basis.dx\n",
    "    return np.sqrt(np.sum(((duh[0] - dux)**2 + (duh[1] - duy)**2) * dx))\n",
    "\n",
    "get_DuError_N(base_basis['u'], base_uh0)"
   ]
  },
  {
   "cell_type": "markdown",
   "metadata": {},
   "source": [
    "## $H_2$ Error "
   ]
  },
  {
   "cell_type": "code",
   "execution_count": 42,
   "metadata": {},
   "outputs": [],
   "source": [
    "ddbasis = InteriorBasis(coarse_m, ElementTriDG(ElementTriP0()), intorder=3)\n",
    "dxx = project(dx, basis_from=dbasis, basis_to=ddbasis, diff=0)\n",
    "dxy = project(dx, basis_from=dbasis, basis_to=ddbasis, diff=1)\n",
    "dyx = dxy\n",
    "# dyx = project(dy, basis_from=dbasis, basis_to=ddbasis, diff=0)\n",
    "dyy = project(dy, basis_from=dbasis, basis_to=ddbasis, diff=1)"
   ]
  },
  {
   "cell_type": "code",
   "execution_count": 43,
   "metadata": {},
   "outputs": [
    {
     "name": "stderr",
     "output_type": "stream",
     "text": [
      "100%|█████████████████████████████████████████████████████████████████████████████| 8192/8192 [00:21<00:00, 372.71it/s]\n",
      "100%|█████████████████████████████████████████████████████████████████████████████| 8192/8192 [00:22<00:00, 369.24it/s]\n",
      "100%|█████████████████████████████████████████████████████████████████████████████| 8192/8192 [00:22<00:00, 372.12it/s]\n"
     ]
    }
   ],
   "source": [
    "duxx = np.zeros_like(base_basis['u'].interpolate(base_uh0).value)\n",
    "\n",
    "for i in tqdm(range(base_test_basis.shape[0])):\n",
    "    for j in range(base_test_basis.shape[1]):\n",
    "        duxx[i][j] = ddbasis.interpolator(dxx)(np.array([[coordinates[0][i][j]], [coordinates[1][i][j]]]))\n",
    "        \n",
    "duxy = np.zeros_like(base_basis['u'].interpolate(base_uh0).value)\n",
    "\n",
    "for i in tqdm(range(base_test_basis.shape[0])):\n",
    "    for j in range(base_test_basis.shape[1]):\n",
    "        duxy[i][j] = ddbasis.interpolator(dxy)(np.array([[coordinates[0][i][j]], [coordinates[1][i][j]]]))\n",
    "        \n",
    "duyx = duxy\n",
    "\n",
    "# duyx = np.zeros_like(base_basis['u'].interpolate(base_uh0).value)\n",
    "\n",
    "# for i in tqdm(range(base_test_basis.shape[0])):\n",
    "#     for j in range(base_test_basis.shape[1]):\n",
    "#         duyx[i][j] = ddbasis.interpolator(dyx)(np.array([[coordinates[0][i][j]], [coordinates[1][i][j]]]))\n",
    "        \n",
    "duyy = np.zeros_like(base_basis['u'].interpolate(base_uh0).value)\n",
    "\n",
    "for i in tqdm(range(base_test_basis.shape[0])):\n",
    "    for j in range(base_test_basis.shape[1]):\n",
    "        duyy[i][j] = ddbasis.interpolator(dyy)(np.array([[coordinates[0][i][j]], [coordinates[1][i][j]]]))\n",
    "\n",
    "        \n",
    "def get_D2uError_N(basis, u):\n",
    "    dduh = basis.interpolate(u).hess\n",
    "    x = basis.global_coordinates().value\n",
    "    dx = basis.dx\n",
    "    return np.sqrt(np.sum(((dduh[0][0] - duxx)**2 + (dduh[0][1] - duxy)**2 +\n",
    "                (dduh[1][1] - duyy)**2 + (dduh[1][0] - duyx)**2) * dx))\n",
    "\n",
    "get_D2uError_N(base_basis['u'], base_uh0)"
   ]
  },
  {
   "cell_type": "markdown",
   "metadata": {},
   "source": [
    "# Solving"
   ]
  },
  {
   "cell_type": "code",
   "execution_count": 113,
   "metadata": {
    "code_folding": [],
    "scrolled": false
   },
   "outputs": [
    {
     "name": "stdout",
     "output_type": "stream",
     "text": [
      "=======Arguments=======\n",
      "penalty:\tFalse\n",
      "element_type:\tP1\n",
      "solver_type:\tmgcg\n",
      "tol:\t1e-08\n",
      "intorder:\t3\n",
      "refine_time:\t7\n",
      "epsilon:\t1e-06\n",
      "sigma:\t5\n",
      "=======Results=======\n",
      "  h    L2u   H1u   H2u   epu\n",
      "2^-2  1.74  0.81  -0.19  0.70\n",
      "2^-2  7.282e-02  1.058e+00  1.310e+01  9.853e-01\n",
      "2^-3  1.59  0.65  -0.46  0.60\n",
      "2^-3  2.421e-02  6.761e-01  1.807e+01  6.519e-01\n",
      "2^-4  1.52  0.55  -0.49  0.52\n",
      "2^-4  8.455e-03  4.632e-01  2.543e+01  4.547e-01\n",
      "2^-5  1.51  0.52  -0.49  0.50\n",
      "2^-5  2.973e-03  3.238e-01  3.580e+01  3.208e-01\n",
      "2^-6  1.51  0.51  -0.50  0.50\n",
      "2^-6  1.047e-03  2.278e-01  5.047e+01  2.267e-01\n",
      "2^-7  1.50  0.50  -0.50  0.50\n",
      "2^-7  3.696e-04  1.607e-01  7.124e+01  1.603e-01\n",
      "Total Time Cost 4.55 s\n"
     ]
    }
   ],
   "source": [
    "# solving \n",
    "\n",
    "print('=======Arguments=======')\n",
    "print('penalty:\\t{}'.format(penalty))\n",
    "print('element_type:\\t{}'.format(element_type))\n",
    "print('solver_type:\\t{}'.format(solver_type))\n",
    "print('tol:\\t{}'.format(tol))\n",
    "print('intorder:\\t{}'.format(intorder))\n",
    "print('refine_time:\\t{}'.format(refine_time))\n",
    "print('epsilon:\\t{}'.format(epsilon))\n",
    "print('sigma:\\t{}'.format(sigma))\n",
    "print('=======Results=======')\n",
    "\n",
    "time_start = time.time()\n",
    "\n",
    "ep = epsilon\n",
    "df_list = []\n",
    "L2_list = []\n",
    "Du_list = []\n",
    "D2u_list = []\n",
    "h_list = []\n",
    "epu_list = []\n",
    "m = MeshTri()\n",
    "\n",
    "for i in range(1, refine_time+1):\n",
    "\n",
    "    m.refine()\n",
    "\n",
    "    if penalty:\n",
    "        uh0, basis, fbasis = solve_problem2(m, element_type, solver_type, intorder=intorder, tol=1e-8, epsilon=1e-6)\n",
    "    else:\n",
    "        uh0, basis = solve_problem1(m, element_type, solver_type, intorder=intorder, tol=1e-8, epsilon=1e-6)\n",
    "\n",
    "    U = basis['u'].interpolate(uh0).value\n",
    "\n",
    "    # compute errors\n",
    "\n",
    "    L2u = np.sqrt(L2uError.assemble(basis['u'], w=U))\n",
    "    Du = get_DuError(basis['u'], uh0)\n",
    "    H1u = Du + L2u\n",
    "    \n",
    "    if penalty:\n",
    "        D2u = np.sqrt(get_D2uError(basis['u'], uh0)**2 + L2pnvError.assemble(fbasis, w=fbasis.interpolate(uh0)))\n",
    "    else:\n",
    "        D2u = get_D2uError(basis['u'], uh0)\n",
    "        \n",
    "    epu = np.sqrt(epsilon**2 * D2u**2 + Du**2)\n",
    "    h_list.append(m.param())\n",
    "    Du_list.append(Du)\n",
    "    L2_list.append(L2u)\n",
    "    D2u_list.append(D2u)\n",
    "    epu_list.append(epu)\n",
    "\n",
    "hs = np.array(h_list)\n",
    "L2s = np.array(L2_list)\n",
    "Dus = np.array(Du_list)\n",
    "D2us = np.array(D2u_list)\n",
    "epus = np.array(epu_list)\n",
    "H1s = L2s + Dus\n",
    "H2s = H1s + D2us\n",
    "\n",
    "# store data\n",
    "data = np.array([L2s, H1s, H2s, epus])\n",
    "df = pd.DataFrame(data.T, columns=['L2', 'H1', 'H2', 'Energy'])\n",
    "df_list.append(df)\n",
    "\n",
    "show_result(L2s, H1s, H2s, epus)\n",
    "\n",
    "# df.to_csv(save_path+'.csv')\n",
    "time_end = time.time()\n",
    "print('Total Time Cost {:.2f} s'.format(time_end-time_start))"
   ]
  },
  {
   "cell_type": "code",
   "execution_count": null,
   "metadata": {},
   "outputs": [],
   "source": []
  }
 ],
 "metadata": {
  "kernelspec": {
   "display_name": "Python 3",
   "language": "python",
   "name": "python3"
  },
  "language_info": {
   "codemirror_mode": {
    "name": "ipython",
    "version": 3
   },
   "file_extension": ".py",
   "mimetype": "text/x-python",
   "name": "python",
   "nbconvert_exporter": "python",
   "pygments_lexer": "ipython3",
   "version": "3.7.4"
  },
  "toc": {
   "base_numbering": 1,
   "nav_menu": {},
   "number_sections": true,
   "sideBar": false,
   "skip_h1_title": false,
   "title_cell": "Table of Contents",
   "title_sidebar": "Contents",
   "toc_cell": false,
   "toc_position": {},
   "toc_section_display": false,
   "toc_window_display": false
  },
  "varInspector": {
   "cols": {
    "lenName": 16,
    "lenType": 16,
    "lenVar": 40
   },
   "kernels_config": {
    "python": {
     "delete_cmd_postfix": "",
     "delete_cmd_prefix": "del ",
     "library": "var_list.py",
     "varRefreshCmd": "print(var_dic_list())"
    },
    "r": {
     "delete_cmd_postfix": ") ",
     "delete_cmd_prefix": "rm(",
     "library": "var_list.r",
     "varRefreshCmd": "cat(var_dic_list()) "
    }
   },
   "types_to_exclude": [
    "module",
    "function",
    "builtin_function_or_method",
    "instance",
    "_Feature"
   ],
   "window_display": false
  }
 },
 "nbformat": 4,
 "nbformat_minor": 4
}
