{
 "cells": [
  {
   "cell_type": "markdown",
   "metadata": {},
   "source": [
    "# Init"
   ]
  },
  {
   "cell_type": "code",
   "execution_count": 1,
   "metadata": {
    "code_folding": [],
    "scrolled": false
   },
   "outputs": [],
   "source": [
    "# from skfem import *\n",
    "import numpy as np\n",
    "from utils import *\n",
    "from skfem.helpers import d, dd, ddd, dot, ddot, grad, dddot, prod\n",
    "from scipy.sparse.linalg import LinearOperator, minres\n",
    "# from skfem.models.poisson import *\n",
    "from skfem.assembly import BilinearForm, LinearForm\n",
    "import datetime\n",
    "import pandas as pd\n",
    "import sys\n",
    "import time\n",
    "from tqdm import tqdm\n",
    "\n",
    "\n",
    "tol = 1e-8\n",
    "intorder = 3 # 6\n",
    "solver_type = 'mgcg'\n",
    "refine_time = 7\n",
    "element_type = 'P1'\n",
    "sigma = 5 \n",
    "penalty = False\n",
    "epsilon = 1e-6\n",
    "ep = epsilon\n",
    "example = 'ex3'\n",
    "save_path = 'log/' + example + '_' + element_type + '_' + ('pen' if penalty else 'nopen') + '_' +'{}'.format(datetime.datetime.now().strftime(\"%Y-%m-%d_%H-%M-%S\"))\n",
    "\n",
    "# Save $u_{h0}$ with different $h$ \n",
    "\n",
    "# %%time\n",
    "# for i in range(7, 10):\n",
    "#     m = MeshTri()\n",
    "#     base_order = i\n",
    "#     base_path = 'solutions/uh0_{}.npy'.format(base_order)\n",
    "#     m.refine(base_order)\n",
    "\n",
    "#     if penalty:\n",
    "#         uh0, basis, fbasis = solve_problem2(m, element_type, solver_type, intorder=6, tol=1e-8, epsilon=1e-6)\n",
    "#     else:\n",
    "#         uh0, basis = solve_problem1(m, element_type, solver_type, intorder=6, tol=1e-8, epsilon=1e-6)\n",
    "\n",
    "#     np.save(base_path, uh0)\n",
    "#     print('{} th saved'.format(i))"
   ]
  },
  {
   "cell_type": "markdown",
   "metadata": {},
   "source": [
    "## Reading previous solution"
   ]
  },
  {
   "cell_type": "code",
   "execution_count": 2,
   "metadata": {},
   "outputs": [],
   "source": [
    "test_order = 3\n",
    "test_path = 'solutions/uh0_{}.npy'.format(test_order)\n",
    "coarse_m = MeshTri()\n",
    "coarse_m.refine(test_order)\n",
    "test_basis, test_fbasis = solve_problem2(coarse_m, element_type, intorder=3, basis_only=True)\n",
    "test_uh0 = np.load(test_path)\n",
    "\n",
    "base_order = 5\n",
    "base_path = 'solutions/uh0_{}.npy'.format(base_order)\n",
    "fine_m = MeshTri()\n",
    "fine_m.refine(base_order)\n",
    "base_basis, base_fbasis = solve_problem2(fine_m, element_type, intorder=3, basis_only=True)\n",
    "base_uh0 = np.load(base_path)\n",
    "\n",
    "coordinates = base_basis['u'].global_coordinates().value"
   ]
  },
  {
   "cell_type": "markdown",
   "metadata": {},
   "source": [
    "## $L2$ error"
   ]
  },
  {
   "cell_type": "code",
   "execution_count": 7,
   "metadata": {},
   "outputs": [
    {
     "name": "stderr",
     "output_type": "stream",
     "text": [
      "100%|██████████████████████████████████████████████████████████████████████████████| 2048/2048 [00:22<00:00, 91.63it/s]\n"
     ]
    },
    {
     "data": {
      "text/plain": [
       "0.025175332152123173"
      ]
     },
     "execution_count": 7,
     "metadata": {},
     "output_type": "execute_result"
    }
   ],
   "source": [
    "base_test_basis = np.zeros_like(base_basis['u'].interpolate(base_uh0).value)\n",
    "\n",
    "# from numba import jit\n",
    "# # @jit\n",
    "# def test():\n",
    "#     for i in tqdm(range(base_test_basis.shape[0])):\n",
    "#         for j in range(base_test_basis.shape[1]):\n",
    "#             base_test_basis[i][j] = test_basis['u'].interpolator(test_uh0)(np.array([[coordinates[0][i][j]], [coordinates[1][i][j]]]))\n",
    "#     return base_test_basis\n",
    "\n",
    "for i in tqdm(range(base_test_basis.shape[0])):\n",
    "    for j in range(base_test_basis.shape[1]):\n",
    "        base_test_basis[i][j] = test_basis['u'].interpolator(test_uh0)(np.array([[coordinates[0][i][j]], [coordinates[1][i][j]]]))\n",
    "\n",
    "np.sqrt(np.sum(base_basis['u'].dx * (base_basis['u'].interpolate(base_uh0).value - base_test_basis)**2))"
   ]
  },
  {
   "cell_type": "markdown",
   "metadata": {},
   "source": [
    "## Parallelize"
   ]
  },
  {
   "cell_type": "code",
   "execution_count": 10,
   "metadata": {},
   "outputs": [],
   "source": [
    "base_test_basis = np.zeros_like(base_basis['u'].interpolate(base_uh0).value)"
   ]
  },
  {
   "cell_type": "code",
   "execution_count": 28,
   "metadata": {},
   "outputs": [
    {
     "ename": "BrokenProcessPool",
     "evalue": "A process in the process pool was terminated abruptly while the future was running or pending.",
     "output_type": "error",
     "traceback": [
      "\u001b[1;31m---------------------------------------------------------------------------\u001b[0m",
      "\u001b[1;31mBrokenProcessPool\u001b[0m                         Traceback (most recent call last)",
      "\u001b[1;32m<ipython-input-28-6ba753a84111>\u001b[0m in \u001b[0;36m<module>\u001b[1;34m\u001b[0m\n\u001b[0;32m      8\u001b[0m \u001b[1;32mif\u001b[0m \u001b[0m__name__\u001b[0m \u001b[1;33m==\u001b[0m \u001b[1;34m'__main__'\u001b[0m\u001b[1;33m:\u001b[0m\u001b[1;33m\u001b[0m\u001b[1;33m\u001b[0m\u001b[0m\n\u001b[0;32m      9\u001b[0m     \u001b[1;32mwith\u001b[0m \u001b[0mconcurrent\u001b[0m\u001b[1;33m.\u001b[0m\u001b[0mfutures\u001b[0m\u001b[1;33m.\u001b[0m\u001b[0mProcessPoolExecutor\u001b[0m\u001b[1;33m(\u001b[0m\u001b[0mmax_workers\u001b[0m\u001b[1;33m=\u001b[0m\u001b[1;36m4\u001b[0m\u001b[1;33m)\u001b[0m \u001b[1;32mas\u001b[0m \u001b[0mexecutor\u001b[0m\u001b[1;33m:\u001b[0m\u001b[1;33m\u001b[0m\u001b[1;33m\u001b[0m\u001b[0m\n\u001b[1;32m---> 10\u001b[1;33m         \u001b[0mlist\u001b[0m\u001b[1;33m(\u001b[0m\u001b[0mexecutor\u001b[0m\u001b[1;33m.\u001b[0m\u001b[0mmap\u001b[0m\u001b[1;33m(\u001b[0m\u001b[0minterpolator_parallel\u001b[0m\u001b[1;33m,\u001b[0m \u001b[0mrange\u001b[0m\u001b[1;33m(\u001b[0m\u001b[0mbase_test_basis\u001b[0m\u001b[1;33m.\u001b[0m\u001b[0mshape\u001b[0m\u001b[1;33m[\u001b[0m\u001b[1;36m1\u001b[0m\u001b[1;33m]\u001b[0m\u001b[1;33m)\u001b[0m\u001b[1;33m)\u001b[0m\u001b[1;33m)\u001b[0m\u001b[1;33m\u001b[0m\u001b[1;33m\u001b[0m\u001b[0m\n\u001b[0m",
      "\u001b[1;32m~\\Anaconda3\\lib\\concurrent\\futures\\process.py\u001b[0m in \u001b[0;36m_chain_from_iterable_of_lists\u001b[1;34m(iterable)\u001b[0m\n\u001b[0;32m    481\u001b[0m     \u001b[0mcareful\u001b[0m \u001b[1;32mnot\u001b[0m \u001b[0mto\u001b[0m \u001b[0mkeep\u001b[0m \u001b[0mreferences\u001b[0m \u001b[0mto\u001b[0m \u001b[0myielded\u001b[0m \u001b[0mobjects\u001b[0m\u001b[1;33m.\u001b[0m\u001b[1;33m\u001b[0m\u001b[1;33m\u001b[0m\u001b[0m\n\u001b[0;32m    482\u001b[0m     \"\"\"\n\u001b[1;32m--> 483\u001b[1;33m     \u001b[1;32mfor\u001b[0m \u001b[0melement\u001b[0m \u001b[1;32min\u001b[0m \u001b[0miterable\u001b[0m\u001b[1;33m:\u001b[0m\u001b[1;33m\u001b[0m\u001b[1;33m\u001b[0m\u001b[0m\n\u001b[0m\u001b[0;32m    484\u001b[0m         \u001b[0melement\u001b[0m\u001b[1;33m.\u001b[0m\u001b[0mreverse\u001b[0m\u001b[1;33m(\u001b[0m\u001b[1;33m)\u001b[0m\u001b[1;33m\u001b[0m\u001b[1;33m\u001b[0m\u001b[0m\n\u001b[0;32m    485\u001b[0m         \u001b[1;32mwhile\u001b[0m \u001b[0melement\u001b[0m\u001b[1;33m:\u001b[0m\u001b[1;33m\u001b[0m\u001b[1;33m\u001b[0m\u001b[0m\n",
      "\u001b[1;32m~\\Anaconda3\\lib\\concurrent\\futures\\_base.py\u001b[0m in \u001b[0;36mresult_iterator\u001b[1;34m()\u001b[0m\n\u001b[0;32m    596\u001b[0m                     \u001b[1;31m# Careful not to keep a reference to the popped future\u001b[0m\u001b[1;33m\u001b[0m\u001b[1;33m\u001b[0m\u001b[1;33m\u001b[0m\u001b[0m\n\u001b[0;32m    597\u001b[0m                     \u001b[1;32mif\u001b[0m \u001b[0mtimeout\u001b[0m \u001b[1;32mis\u001b[0m \u001b[1;32mNone\u001b[0m\u001b[1;33m:\u001b[0m\u001b[1;33m\u001b[0m\u001b[1;33m\u001b[0m\u001b[0m\n\u001b[1;32m--> 598\u001b[1;33m                         \u001b[1;32myield\u001b[0m \u001b[0mfs\u001b[0m\u001b[1;33m.\u001b[0m\u001b[0mpop\u001b[0m\u001b[1;33m(\u001b[0m\u001b[1;33m)\u001b[0m\u001b[1;33m.\u001b[0m\u001b[0mresult\u001b[0m\u001b[1;33m(\u001b[0m\u001b[1;33m)\u001b[0m\u001b[1;33m\u001b[0m\u001b[1;33m\u001b[0m\u001b[0m\n\u001b[0m\u001b[0;32m    599\u001b[0m                     \u001b[1;32melse\u001b[0m\u001b[1;33m:\u001b[0m\u001b[1;33m\u001b[0m\u001b[1;33m\u001b[0m\u001b[0m\n\u001b[0;32m    600\u001b[0m                         \u001b[1;32myield\u001b[0m \u001b[0mfs\u001b[0m\u001b[1;33m.\u001b[0m\u001b[0mpop\u001b[0m\u001b[1;33m(\u001b[0m\u001b[1;33m)\u001b[0m\u001b[1;33m.\u001b[0m\u001b[0mresult\u001b[0m\u001b[1;33m(\u001b[0m\u001b[0mend_time\u001b[0m \u001b[1;33m-\u001b[0m \u001b[0mtime\u001b[0m\u001b[1;33m.\u001b[0m\u001b[0mmonotonic\u001b[0m\u001b[1;33m(\u001b[0m\u001b[1;33m)\u001b[0m\u001b[1;33m)\u001b[0m\u001b[1;33m\u001b[0m\u001b[1;33m\u001b[0m\u001b[0m\n",
      "\u001b[1;32m~\\Anaconda3\\lib\\concurrent\\futures\\_base.py\u001b[0m in \u001b[0;36mresult\u001b[1;34m(self, timeout)\u001b[0m\n\u001b[0;32m    433\u001b[0m                 \u001b[1;32mraise\u001b[0m \u001b[0mCancelledError\u001b[0m\u001b[1;33m(\u001b[0m\u001b[1;33m)\u001b[0m\u001b[1;33m\u001b[0m\u001b[1;33m\u001b[0m\u001b[0m\n\u001b[0;32m    434\u001b[0m             \u001b[1;32melif\u001b[0m \u001b[0mself\u001b[0m\u001b[1;33m.\u001b[0m\u001b[0m_state\u001b[0m \u001b[1;33m==\u001b[0m \u001b[0mFINISHED\u001b[0m\u001b[1;33m:\u001b[0m\u001b[1;33m\u001b[0m\u001b[1;33m\u001b[0m\u001b[0m\n\u001b[1;32m--> 435\u001b[1;33m                 \u001b[1;32mreturn\u001b[0m \u001b[0mself\u001b[0m\u001b[1;33m.\u001b[0m\u001b[0m__get_result\u001b[0m\u001b[1;33m(\u001b[0m\u001b[1;33m)\u001b[0m\u001b[1;33m\u001b[0m\u001b[1;33m\u001b[0m\u001b[0m\n\u001b[0m\u001b[0;32m    436\u001b[0m             \u001b[1;32melse\u001b[0m\u001b[1;33m:\u001b[0m\u001b[1;33m\u001b[0m\u001b[1;33m\u001b[0m\u001b[0m\n\u001b[0;32m    437\u001b[0m                 \u001b[1;32mraise\u001b[0m \u001b[0mTimeoutError\u001b[0m\u001b[1;33m(\u001b[0m\u001b[1;33m)\u001b[0m\u001b[1;33m\u001b[0m\u001b[1;33m\u001b[0m\u001b[0m\n",
      "\u001b[1;32m~\\Anaconda3\\lib\\concurrent\\futures\\_base.py\u001b[0m in \u001b[0;36m__get_result\u001b[1;34m(self)\u001b[0m\n\u001b[0;32m    382\u001b[0m     \u001b[1;32mdef\u001b[0m \u001b[0m__get_result\u001b[0m\u001b[1;33m(\u001b[0m\u001b[0mself\u001b[0m\u001b[1;33m)\u001b[0m\u001b[1;33m:\u001b[0m\u001b[1;33m\u001b[0m\u001b[1;33m\u001b[0m\u001b[0m\n\u001b[0;32m    383\u001b[0m         \u001b[1;32mif\u001b[0m \u001b[0mself\u001b[0m\u001b[1;33m.\u001b[0m\u001b[0m_exception\u001b[0m\u001b[1;33m:\u001b[0m\u001b[1;33m\u001b[0m\u001b[1;33m\u001b[0m\u001b[0m\n\u001b[1;32m--> 384\u001b[1;33m             \u001b[1;32mraise\u001b[0m \u001b[0mself\u001b[0m\u001b[1;33m.\u001b[0m\u001b[0m_exception\u001b[0m\u001b[1;33m\u001b[0m\u001b[1;33m\u001b[0m\u001b[0m\n\u001b[0m\u001b[0;32m    385\u001b[0m         \u001b[1;32melse\u001b[0m\u001b[1;33m:\u001b[0m\u001b[1;33m\u001b[0m\u001b[1;33m\u001b[0m\u001b[0m\n\u001b[0;32m    386\u001b[0m             \u001b[1;32mreturn\u001b[0m \u001b[0mself\u001b[0m\u001b[1;33m.\u001b[0m\u001b[0m_result\u001b[0m\u001b[1;33m\u001b[0m\u001b[1;33m\u001b[0m\u001b[0m\n",
      "\u001b[1;31mBrokenProcessPool\u001b[0m: A process in the process pool was terminated abruptly while the future was running or pending."
     ]
    }
   ],
   "source": [
    "import concurrent.futures\n",
    "\n",
    "def interpolator_parallel(j):\n",
    "    for i in range(base_test_basis.shape[0]):\n",
    "        base_test_basis[i][j] = test_basis['u'].interpolator(test_uh0)(np.array([[coordinates[0][i][j]], [coordinates[1][i][j]]]))\n",
    "    print(j, 'done')\n",
    "\n",
    "with concurrent.futures.ProcessPoolExecutor(max_workers=4) as executor:\n",
    "    list(executor.map(interpolator_parallel, range(base_test_basis.shape[1])))"
   ]
  },
  {
   "cell_type": "code",
   "execution_count": 26,
   "metadata": {},
   "outputs": [
    {
     "data": {
      "text/plain": [
       "array([[0., 0., 0., 0.],\n",
       "       [0., 0., 0., 0.],\n",
       "       [0., 0., 0., 0.],\n",
       "       ...,\n",
       "       [0., 0., 0., 0.],\n",
       "       [0., 0., 0., 0.],\n",
       "       [0., 0., 0., 0.]])"
      ]
     },
     "execution_count": 26,
     "metadata": {},
     "output_type": "execute_result"
    }
   ],
   "source": [
    "base_test_basis"
   ]
  },
  {
   "cell_type": "markdown",
   "metadata": {},
   "source": [
    "## $H_{1}$ Error"
   ]
  },
  {
   "cell_type": "code",
   "execution_count": null,
   "metadata": {},
   "outputs": [],
   "source": [
    "dbasis = InteriorBasis(coarse_m, ElementTriDG(ElementTriP1()), intorder=3)\n",
    "dx = project(test_uh0, basis_from=test_basis['u'], basis_to=dbasis, diff=0)\n",
    "dy = project(test_uh0, basis_from=test_basis['u'], basis_to=dbasis, diff=1)\n",
    "\n",
    "\n",
    "dux = np.zeros_like(base_basis['u'].interpolate(base_uh0).value)\n",
    "\n",
    "for i in tqdm(range(base_test_basis.shape[0])):\n",
    "    for j in range(base_test_basis.shape[1]):\n",
    "        dux[i][j] = dbasis.interpolator(dx)(np.array([[coordinates[0][i][j]], [coordinates[1][i][j]]]))\n",
    "        \n",
    "duy = np.zeros_like(base_basis['u'].interpolate(base_uh0).value)\n",
    "\n",
    "for i in tqdm(range(base_test_basis.shape[0])):\n",
    "    for j in range(base_test_basis.shape[1]):\n",
    "        duy[i][j] = dbasis.interpolator(dy)(np.array([[coordinates[0][i][j]], [coordinates[1][i][j]]]))\n",
    "\n",
    "        \n",
    "def get_DuError_N(basis, u):\n",
    "    duh = basis.interpolate(u).grad\n",
    "    x = basis.global_coordinates().value\n",
    "    dx = basis.dx\n",
    "    return np.sqrt(np.sum(((duh[0] - dux)**2 + (duh[1] - duy)**2) * dx))\n",
    "\n",
    "get_DuError_N(base_basis['u'], base_uh0)"
   ]
  },
  {
   "cell_type": "markdown",
   "metadata": {},
   "source": [
    "## $H_2$ Error "
   ]
  },
  {
   "cell_type": "code",
   "execution_count": null,
   "metadata": {},
   "outputs": [],
   "source": [
    "ddbasis = InteriorBasis(coarse_m, ElementTriDG(ElementTriP0()), intorder=3)\n",
    "dxx = project(dx, basis_from=dbasis, basis_to=ddbasis, diff=0)\n",
    "dxy = project(dx, basis_from=dbasis, basis_to=ddbasis, diff=1)\n",
    "dyx = dxy\n",
    "# dyx = project(dy, basis_from=dbasis, basis_to=ddbasis, diff=0)\n",
    "dyy = project(dy, basis_from=dbasis, basis_to=ddbasis, diff=1)\n",
    "\n",
    "duxx = np.zeros_like(base_basis['u'].interpolate(base_uh0).value)\n",
    "\n",
    "for i in tqdm(range(base_test_basis.shape[0])):\n",
    "    for j in range(base_test_basis.shape[1]):\n",
    "        duxx[i][j] = ddbasis.interpolator(dxx)(np.array([[coordinates[0][i][j]], [coordinates[1][i][j]]]))\n",
    "        \n",
    "duxy = np.zeros_like(base_basis['u'].interpolate(base_uh0).value)\n",
    "\n",
    "for i in tqdm(range(base_test_basis.shape[0])):\n",
    "    for j in range(base_test_basis.shape[1]):\n",
    "        duxy[i][j] = ddbasis.interpolator(dxy)(np.array([[coordinates[0][i][j]], [coordinates[1][i][j]]]))\n",
    "        \n",
    "duyx = duxy\n",
    "\n",
    "# duyx = np.zeros_like(base_basis['u'].interpolate(base_uh0).value)\n",
    "\n",
    "# for i in tqdm(range(base_test_basis.shape[0])):\n",
    "#     for j in range(base_test_basis.shape[1]):\n",
    "#         duyx[i][j] = ddbasis.interpolator(dyx)(np.array([[coordinates[0][i][j]], [coordinates[1][i][j]]]))\n",
    "        \n",
    "duyy = np.zeros_like(base_basis['u'].interpolate(base_uh0).value)\n",
    "\n",
    "for i in tqdm(range(base_test_basis.shape[0])):\n",
    "    for j in range(base_test_basis.shape[1]):\n",
    "        duyy[i][j] = ddbasis.interpolator(dyy)(np.array([[coordinates[0][i][j]], [coordinates[1][i][j]]]))\n",
    "\n",
    "        \n",
    "def get_D2uError_N(basis, u):\n",
    "    dduh = basis.interpolate(u).hess\n",
    "    x = basis.global_coordinates().value\n",
    "    dx = basis.dx\n",
    "    return np.sqrt(np.sum(((dduh[0][0] - duxx)**2 + (dduh[0][1] - duxy)**2 +\n",
    "                (dduh[1][1] - duyy)**2 + (dduh[1][0] - duyx)**2) * dx))\n",
    "\n",
    "get_D2uError_N(base_basis['u'], base_uh0)"
   ]
  },
  {
   "cell_type": "markdown",
   "metadata": {},
   "source": [
    "# Solving"
   ]
  },
  {
   "cell_type": "code",
   "execution_count": null,
   "metadata": {
    "code_folding": [],
    "scrolled": false
   },
   "outputs": [],
   "source": [
    "# solving \n",
    "\n",
    "print('=======Arguments=======')\n",
    "print('penalty:\\t{}'.format(penalty))\n",
    "print('element_type:\\t{}'.format(element_type))\n",
    "print('solver_type:\\t{}'.format(solver_type))\n",
    "print('tol:\\t{}'.format(tol))\n",
    "print('intorder:\\t{}'.format(intorder))\n",
    "print('refine_time:\\t{}'.format(refine_time))\n",
    "print('epsilon:\\t{}'.format(epsilon))\n",
    "print('sigma:\\t{}'.format(sigma))\n",
    "print('=======Results=======')\n",
    "\n",
    "time_start = time.time()\n",
    "\n",
    "ep = epsilon\n",
    "df_list = []\n",
    "L2_list = []\n",
    "Du_list = []\n",
    "D2u_list = []\n",
    "h_list = []\n",
    "epu_list = []\n",
    "m = MeshTri()\n",
    "\n",
    "for i in range(1, refine_time+1):\n",
    "\n",
    "    m.refine()\n",
    "\n",
    "    if penalty:\n",
    "        uh0, basis, fbasis = solve_problem2(m, element_type, solver_type, intorder=intorder, tol=1e-8, epsilon=1e-6)\n",
    "    else:\n",
    "        uh0, basis = solve_problem1(m, element_type, solver_type, intorder=intorder, tol=1e-8, epsilon=1e-6)\n",
    "\n",
    "    U = basis['u'].interpolate(uh0).value\n",
    "\n",
    "    # compute errors\n",
    "\n",
    "    L2u = np.sqrt(L2uError.assemble(basis['u'], w=U))\n",
    "    Du = get_DuError(basis['u'], uh0)\n",
    "    H1u = Du + L2u\n",
    "    \n",
    "    if penalty:\n",
    "        D2u = np.sqrt(get_D2uError(basis['u'], uh0)**2 + L2pnvError.assemble(fbasis, w=fbasis.interpolate(uh0)))\n",
    "    else:\n",
    "        D2u = get_D2uError(basis['u'], uh0)\n",
    "        \n",
    "    epu = np.sqrt(epsilon**2 * D2u**2 + Du**2)\n",
    "    h_list.append(m.param())\n",
    "    Du_list.append(Du)\n",
    "    L2_list.append(L2u)\n",
    "    D2u_list.append(D2u)\n",
    "    epu_list.append(epu)\n",
    "\n",
    "hs = np.array(h_list)\n",
    "L2s = np.array(L2_list)\n",
    "Dus = np.array(Du_list)\n",
    "D2us = np.array(D2u_list)\n",
    "epus = np.array(epu_list)\n",
    "H1s = L2s + Dus\n",
    "H2s = H1s + D2us\n",
    "\n",
    "# store data\n",
    "data = np.array([L2s, H1s, H2s, epus])\n",
    "df = pd.DataFrame(data.T, columns=['L2', 'H1', 'H2', 'Energy'])\n",
    "df_list.append(df)\n",
    "\n",
    "show_result(L2s, H1s, H2s, epus)\n",
    "\n",
    "# df.to_csv(save_path+'.csv')\n",
    "time_end = time.time()\n",
    "print('Total Time Cost {:.2f} s'.format(time_end-time_start))"
   ]
  },
  {
   "cell_type": "code",
   "execution_count": null,
   "metadata": {},
   "outputs": [],
   "source": []
  }
 ],
 "metadata": {
  "kernelspec": {
   "display_name": "Python 3",
   "language": "python",
   "name": "python3"
  },
  "language_info": {
   "codemirror_mode": {
    "name": "ipython",
    "version": 3
   },
   "file_extension": ".py",
   "mimetype": "text/x-python",
   "name": "python",
   "nbconvert_exporter": "python",
   "pygments_lexer": "ipython3",
   "version": "3.7.4"
  },
  "toc": {
   "base_numbering": 1,
   "nav_menu": {},
   "number_sections": true,
   "sideBar": false,
   "skip_h1_title": false,
   "title_cell": "Table of Contents",
   "title_sidebar": "Contents",
   "toc_cell": false,
   "toc_position": {},
   "toc_section_display": false,
   "toc_window_display": false
  },
  "varInspector": {
   "cols": {
    "lenName": 16,
    "lenType": 16,
    "lenVar": 40
   },
   "kernels_config": {
    "python": {
     "delete_cmd_postfix": "",
     "delete_cmd_prefix": "del ",
     "library": "var_list.py",
     "varRefreshCmd": "print(var_dic_list())"
    },
    "r": {
     "delete_cmd_postfix": ") ",
     "delete_cmd_prefix": "rm(",
     "library": "var_list.r",
     "varRefreshCmd": "cat(var_dic_list()) "
    }
   },
   "types_to_exclude": [
    "module",
    "function",
    "builtin_function_or_method",
    "instance",
    "_Feature"
   ],
   "window_display": false
  }
 },
 "nbformat": 4,
 "nbformat_minor": 4
}
