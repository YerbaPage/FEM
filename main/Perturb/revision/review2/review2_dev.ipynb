{
 "cells": [
  {
   "cell_type": "markdown",
   "metadata": {},
   "source": [
    "# Init"
   ]
  },
  {
   "cell_type": "code",
   "execution_count": 105,
   "metadata": {
    "code_folding": [],
    "scrolled": false
   },
   "outputs": [],
   "source": [
    "# from skfem import *\n",
    "import numpy as np\n",
    "from utils import *\n",
    "from skfem.helpers import d, dd, ddd, dot, ddot, grad, dddot, prod\n",
    "from scipy.sparse.linalg import LinearOperator, minres\n",
    "# from skfem.models.poisson import *\n",
    "from skfem.assembly import BilinearForm, LinearForm\n",
    "import datetime\n",
    "import pandas as pd\n",
    "import sys\n",
    "import time\n",
    "from tqdm import tqdm\n",
    "\n",
    "\n",
    "tol = 1e-8\n",
    "intorder = 3 # 6\n",
    "solver_type = 'mgcg'\n",
    "refine_time = 7\n",
    "element_type = 'P1'\n",
    "sigma = 5 \n",
    "penalty = False\n",
    "epsilon = 1e-6\n",
    "ep = epsilon\n",
    "example = 'ex3'\n",
    "save_path = 'log/' + example + '_' + element_type + '_' + ('pen' if penalty else 'nopen') + '_' +'{}'.format(datetime.datetime.now().strftime(\"%Y-%m-%d_%H-%M-%S\"))"
   ]
  },
  {
   "cell_type": "markdown",
   "metadata": {},
   "source": [
    "## Save $u_{h0}$ with different $h$ "
   ]
  },
  {
   "cell_type": "code",
   "execution_count": 2,
   "metadata": {},
   "outputs": [],
   "source": [
    "# # %%time\n",
    "# for i in range(1, 10):\n",
    "#     m = MeshTri()\n",
    "#     base_order = i\n",
    "#     base_path = 'uh0_{}.npy'.format(base_order)\n",
    "#     m.refine(base_order)\n",
    "\n",
    "#     if penalty:\n",
    "#         uh0, basis, fbasis = solve_problem2(m, element_type, solver_type, intorder=3, tol=1e-8, epsilon=1e-6)\n",
    "#     else:\n",
    "#         uh0, basis = solve_problem1(m, element_type, solver_type, intorder=3, tol=1e-8, epsilon=1e-6)\n",
    "\n",
    "#     np.save(base_path, uh0)\n",
    "#     print('{} th saved'.format(i))"
   ]
  },
  {
   "cell_type": "markdown",
   "metadata": {},
   "source": [
    "## Reading previous solution"
   ]
  },
  {
   "cell_type": "code",
   "execution_count": 18,
   "metadata": {},
   "outputs": [],
   "source": [
    "test_order = 2\n",
    "test_path = 'uh0_{}.npy'.format(test_order)\n",
    "m = MeshTri()\n",
    "m.refine(test_order)\n",
    "test_basis, test_fbasis = solve_problem2(m, element_type, intorder=3, basis_only=True)\n",
    "test_uh0 = np.load(test_path)"
   ]
  },
  {
   "cell_type": "code",
   "execution_count": 76,
   "metadata": {},
   "outputs": [],
   "source": [
    "base_order = 7\n",
    "base_path = 'uh0_{}.npy'.format(base_order)\n",
    "m = MeshTri()\n",
    "m.refine(base_order)\n",
    "base_basis, base_fbasis = solve_problem2(m, element_type, intorder=3, basis_only=True)\n",
    "base_uh0 = np.load(base_path)"
   ]
  },
  {
   "cell_type": "markdown",
   "metadata": {},
   "source": [
    "## L2 error"
   ]
  },
  {
   "cell_type": "code",
   "execution_count": 77,
   "metadata": {},
   "outputs": [],
   "source": [
    "base_test_basis = np.zeros_like(base_basis['u'].interpolate(base_uh0).value)"
   ]
  },
  {
   "cell_type": "code",
   "execution_count": 78,
   "metadata": {},
   "outputs": [],
   "source": [
    "coordinates = base_basis['u'].global_coordinates().value"
   ]
  },
  {
   "cell_type": "code",
   "execution_count": 79,
   "metadata": {},
   "outputs": [],
   "source": [
    "# from numba import jit\n",
    "# # @jit\n",
    "# def test():\n",
    "#     for i in tqdm(range(base_test_basis.shape[0])):\n",
    "#         for j in range(base_test_basis.shape[1]):\n",
    "#             base_test_basis[i][j] = test_basis['u'].interpolator(test_uh0)(np.array([[coordinates[0][i][j]], [coordinates[1][i][j]]]))\n",
    "#     return base_test_basis"
   ]
  },
  {
   "cell_type": "code",
   "execution_count": 80,
   "metadata": {},
   "outputs": [
    {
     "name": "stderr",
     "output_type": "stream",
     "text": [
      "100%|███████████████████████████████████████████████████████████████████████████| 32768/32768 [04:58<00:00, 109.71it/s]\n"
     ]
    }
   ],
   "source": [
    "for i in tqdm(range(base_test_basis.shape[0])):\n",
    "    for j in range(base_test_basis.shape[1]):\n",
    "        base_test_basis[i][j] = test_basis['u'].interpolator(test_uh0)(np.array([[coordinates[0][i][j]], [coordinates[1][i][j]]]))"
   ]
  },
  {
   "cell_type": "code",
   "execution_count": 92,
   "metadata": {},
   "outputs": [
    {
     "data": {
      "text/plain": [
       "array([[-4.77772593e-03, -5.70887422e-03, -5.70887422e-03,\n",
       "        -2.89103246e-03],\n",
       "       [ 6.04554108e-04,  2.14659701e-03, -6.44463284e-04,\n",
       "         3.46559789e-04],\n",
       "       [ 6.04554108e-04, -6.44463284e-04,  2.14659701e-03,\n",
       "         3.46559789e-04],\n",
       "       ...,\n",
       "       [ 2.08186866e-01,  2.09471769e-01,  2.09471769e-01,\n",
       "         2.05592662e-01],\n",
       "       [ 7.00363813e-01,  7.02813698e-01,  6.99116411e-01,\n",
       "         6.99116411e-01],\n",
       "       [ 7.00363813e-01,  6.99116411e-01,  6.99116411e-01,\n",
       "         7.02813698e-01]])"
      ]
     },
     "execution_count": 92,
     "metadata": {},
     "output_type": "execute_result"
    }
   ],
   "source": [
    "base_test_basis"
   ]
  },
  {
   "cell_type": "code",
   "execution_count": 103,
   "metadata": {},
   "outputs": [
    {
     "data": {
      "text/plain": [
       "0.07601233301088486"
      ]
     },
     "execution_count": 103,
     "metadata": {},
     "output_type": "execute_result"
    }
   ],
   "source": [
    "np.sqrt(np.sum(base_basis['u'].dx * (base_basis['u'].interpolate(base_uh0).value - base_test_basis)**2))"
   ]
  },
  {
   "cell_type": "code",
   "execution_count": 104,
   "metadata": {},
   "outputs": [
    {
     "data": {
      "text/plain": [
       "0.00036956008596858404"
      ]
     },
     "execution_count": 104,
     "metadata": {},
     "output_type": "execute_result"
    }
   ],
   "source": [
    "np.sqrt(np.sum(base_basis['u'].dx * (base_basis['u'].interpolate(base_uh0).value - exact_u(x, y))**2))"
   ]
  },
  {
   "cell_type": "code",
   "execution_count": 93,
   "metadata": {},
   "outputs": [
    {
     "data": {
      "text/plain": [
       "array([[-6.69011090e-05, -4.81687985e-05, -4.81687985e-05,\n",
       "        -7.22531977e-05],\n",
       "       [ 6.69740234e-05,  4.82212968e-05,  2.16885809e-04,\n",
       "         4.71544184e-08],\n",
       "       [ 6.69740234e-05,  2.16885809e-04,  4.82212968e-05,\n",
       "         4.71544222e-08],\n",
       "       ...,\n",
       "       [ 2.49979022e-01,  2.51373106e-01,  2.51373106e-01,\n",
       "         2.47150598e-01],\n",
       "       [ 7.49957012e-01,  7.52785517e-01,  7.48514712e-01,\n",
       "         7.48514712e-01],\n",
       "       [ 7.49957012e-01,  7.48514713e-01,  7.48514713e-01,\n",
       "         7.52785517e-01]])"
      ]
     },
     "execution_count": 93,
     "metadata": {},
     "output_type": "execute_result"
    }
   ],
   "source": [
    "base_basis['u'].interpolate(base_uh0).value"
   ]
  },
  {
   "cell_type": "code",
   "execution_count": 94,
   "metadata": {},
   "outputs": [
    {
     "data": {
      "text/plain": [
       "array([[6.69310452e-05, 7.22842386e-05, 7.22842386e-05, 2.40955203e-05],\n",
       "       [1.33857611e-04, 9.63762755e-05, 2.89119537e-04, 4.81904601e-05],\n",
       "       [1.33857611e-04, 2.89119537e-04, 9.63762755e-05, 4.81904601e-05],\n",
       "       ...,\n",
       "       [2.50000000e-01, 2.51394271e-01, 2.51394271e-01, 2.47171313e-01],\n",
       "       [7.50000000e-01, 7.52828687e-01, 7.48557538e-01, 7.48557538e-01],\n",
       "       [7.50000000e-01, 7.48557538e-01, 7.48557538e-01, 7.52828687e-01]])"
      ]
     },
     "execution_count": 94,
     "metadata": {},
     "output_type": "execute_result"
    }
   ],
   "source": [
    "exact_u(x, y)"
   ]
  },
  {
   "cell_type": "code",
   "execution_count": 97,
   "metadata": {},
   "outputs": [],
   "source": [
    "@Functional\n",
    "def L2uError(w):\n",
    "    global x, y, www\n",
    "    www = w\n",
    "    x, y = w.x\n",
    "    print(w.w)\n",
    "    return (w.w - exact_u(x, y))**2"
   ]
  },
  {
   "cell_type": "code",
   "execution_count": 96,
   "metadata": {},
   "outputs": [],
   "source": [
    "@Functional\n",
    "def L2uError(w):\n",
    "    x, y = w.x\n",
    "    return (w.w - base_test_basis)**2"
   ]
  },
  {
   "cell_type": "code",
   "execution_count": 88,
   "metadata": {},
   "outputs": [
    {
     "data": {
      "text/plain": [
       "array([[6.69310452e-05, 7.22842386e-05, 7.22842386e-05, 2.40955203e-05],\n",
       "       [1.33857611e-04, 9.63762755e-05, 2.89119537e-04, 4.81904601e-05],\n",
       "       [1.33857611e-04, 2.89119537e-04, 9.63762755e-05, 4.81904601e-05],\n",
       "       ...,\n",
       "       [2.50000000e-01, 2.51394271e-01, 2.51394271e-01, 2.47171313e-01],\n",
       "       [7.50000000e-01, 7.52828687e-01, 7.48557538e-01, 7.48557538e-01],\n",
       "       [7.50000000e-01, 7.48557538e-01, 7.48557538e-01, 7.52828687e-01]])"
      ]
     },
     "execution_count": 88,
     "metadata": {},
     "output_type": "execute_result"
    }
   ],
   "source": []
  },
  {
   "cell_type": "code",
   "execution_count": 89,
   "metadata": {},
   "outputs": [
    {
     "data": {
      "text/plain": [
       "array([[-4.77772593e-03, -5.70887422e-03, -5.70887422e-03,\n",
       "        -2.89103246e-03],\n",
       "       [ 6.04554108e-04,  2.14659701e-03, -6.44463284e-04,\n",
       "         3.46559789e-04],\n",
       "       [ 6.04554108e-04, -6.44463284e-04,  2.14659701e-03,\n",
       "         3.46559789e-04],\n",
       "       ...,\n",
       "       [ 2.08186866e-01,  2.09471769e-01,  2.09471769e-01,\n",
       "         2.05592662e-01],\n",
       "       [ 7.00363813e-01,  7.02813698e-01,  6.99116411e-01,\n",
       "         6.99116411e-01],\n",
       "       [ 7.00363813e-01,  6.99116411e-01,  6.99116411e-01,\n",
       "         7.02813698e-01]])"
      ]
     },
     "execution_count": 89,
     "metadata": {},
     "output_type": "execute_result"
    }
   ],
   "source": [
    "base_test_basis"
   ]
  },
  {
   "cell_type": "code",
   "execution_count": 47,
   "metadata": {
    "scrolled": true
   },
   "outputs": [
    {
     "data": {
      "text/plain": [
       "(2, 512, 4)"
      ]
     },
     "execution_count": 47,
     "metadata": {},
     "output_type": "execute_result"
    }
   ],
   "source": [
    "www.x.shape"
   ]
  },
  {
   "cell_type": "code",
   "execution_count": 49,
   "metadata": {},
   "outputs": [
    {
     "data": {
      "text/plain": [
       "array([ 0.        ,  0.        ,  0.        , ...,  1.83138579,\n",
       "        1.5301719 , -1.5301719 ])"
      ]
     },
     "execution_count": 49,
     "metadata": {},
     "output_type": "execute_result"
    }
   ],
   "source": [
    "www.w"
   ]
  },
  {
   "cell_type": "code",
   "execution_count": 43,
   "metadata": {},
   "outputs": [
    {
     "data": {
      "text/plain": [
       "(512, 4)"
      ]
     },
     "execution_count": 43,
     "metadata": {},
     "output_type": "execute_result"
    }
   ],
   "source": [
    "base_test_basis.shape"
   ]
  },
  {
   "cell_type": "code",
   "execution_count": 42,
   "metadata": {},
   "outputs": [
    {
     "data": {
      "text/plain": [
       "(512, 4)"
      ]
     },
     "execution_count": 42,
     "metadata": {},
     "output_type": "execute_result"
    }
   ],
   "source": [
    "x.shape"
   ]
  },
  {
   "cell_type": "code",
   "execution_count": 98,
   "metadata": {},
   "outputs": [
    {
     "name": "stdout",
     "output_type": "stream",
     "text": [
      "[[-6.69011090e-05 -4.81687985e-05 -4.81687985e-05 -7.22531977e-05]\n",
      " [ 6.69740234e-05  4.82212968e-05  2.16885809e-04  4.71544184e-08]\n",
      " [ 6.69740234e-05  2.16885809e-04  4.82212968e-05  4.71544222e-08]\n",
      " ...\n",
      " [ 2.49979022e-01  2.51373106e-01  2.51373106e-01  2.47150598e-01]\n",
      " [ 7.49957012e-01  7.52785517e-01  7.48514712e-01  7.48514712e-01]\n",
      " [ 7.49957012e-01  7.48514713e-01  7.48514713e-01  7.52785517e-01]]\n"
     ]
    },
    {
     "data": {
      "text/plain": [
       "0.00036956008596858404"
      ]
     },
     "execution_count": 98,
     "metadata": {},
     "output_type": "execute_result"
    }
   ],
   "source": [
    "np.sqrt(L2uError.assemble(base_basis['u'], w=base_basis['u'].interpolate(base_uh0)))"
   ]
  },
  {
   "cell_type": "code",
   "execution_count": 87,
   "metadata": {},
   "outputs": [
    {
     "data": {
      "text/plain": [
       "0.07601233301088486"
      ]
     },
     "execution_count": 87,
     "metadata": {},
     "output_type": "execute_result"
    }
   ],
   "source": [
    "np.sqrt(L2uError.assemble(base_basis['u'], w=base_basis['u'].interpolate(base_uh0)))"
   ]
  },
  {
   "cell_type": "code",
   "execution_count": null,
   "metadata": {},
   "outputs": [],
   "source": []
  },
  {
   "cell_type": "code",
   "execution_count": null,
   "metadata": {},
   "outputs": [],
   "source": []
  },
  {
   "cell_type": "code",
   "execution_count": null,
   "metadata": {},
   "outputs": [],
   "source": [
    "m = MeshTri()\n",
    "m.refine(3)\n",
    "base_uh0, base_basis = solve_problem1(m, element_type, solver_type, intorder=3, tol=1e-8, epsilon=1e-6)\n",
    "m = MeshTri()\n",
    "m.refine(5)\n",
    "test_uh0, test_basis = solve_problem1(m, element_type, solver_type, intorder=3, tol=1e-8, epsilon=1e-6)"
   ]
  },
  {
   "cell_type": "markdown",
   "metadata": {},
   "source": [
    "## projection"
   ]
  },
  {
   "cell_type": "code",
   "execution_count": null,
   "metadata": {},
   "outputs": [],
   "source": [
    "# uh0_project = project(test_uh0, basis_from=test_basis['u'], basis_to=base_basis['u'])"
   ]
  },
  {
   "cell_type": "code",
   "execution_count": null,
   "metadata": {},
   "outputs": [],
   "source": [
    "basis_to = InteriorBasis(m, ElementTriMorley(), intorder=3)\n",
    "# test_basis['u']"
   ]
  },
  {
   "cell_type": "code",
   "execution_count": null,
   "metadata": {},
   "outputs": [],
   "source": [
    "uh0_project = project(test_uh0, basis_to, base_basis['u'])"
   ]
  },
  {
   "cell_type": "code",
   "execution_count": null,
   "metadata": {},
   "outputs": [],
   "source": [
    "basis_store['u'].interpolator(uh0_store)(np.array([[x[i][j]], [y[i][j]]]))"
   ]
  },
  {
   "cell_type": "code",
   "execution_count": null,
   "metadata": {},
   "outputs": [],
   "source": []
  },
  {
   "cell_type": "code",
   "execution_count": 110,
   "metadata": {},
   "outputs": [],
   "source": [
    "m = MeshTri()\n",
    "m.refine(7)\n",
    "uh0, basis = solve_problem1(m, element_type, solver_type, intorder=6, tol=1e-8, epsilon=1e-6)"
   ]
  },
  {
   "cell_type": "code",
   "execution_count": 111,
   "metadata": {},
   "outputs": [],
   "source": [
    "# compute errors\n",
    "U = basis['u'].interpolate(uh0).value\n",
    "\n",
    "L2u = np.sqrt(L2uError.assemble(basis['u'], w=U))"
   ]
  },
  {
   "cell_type": "code",
   "execution_count": 112,
   "metadata": {},
   "outputs": [
    {
     "data": {
      "text/plain": [
       "0.00039684038351778554"
      ]
     },
     "execution_count": 112,
     "metadata": {},
     "output_type": "execute_result"
    }
   ],
   "source": [
    "L2u"
   ]
  },
  {
   "cell_type": "code",
   "execution_count": null,
   "metadata": {},
   "outputs": [],
   "source": [
    "Du = get_DuError(basis['u'], uh0)\n",
    "H1u = Du + L2u\n",
    "\n",
    "if penalty:\n",
    "    D2u = np.sqrt(get_D2uError(basis['u'], uh0)**2 + L2pnvError.assemble(fbasis, w=fbasis.interpolate(uh0)))\n",
    "else:\n",
    "    D2u = get_D2uError(basis['u'], uh0)\n",
    "\n",
    "epu = np.sqrt(epsilon**2 * D2u**2 + Du**2)"
   ]
  },
  {
   "cell_type": "code",
   "execution_count": null,
   "metadata": {},
   "outputs": [],
   "source": [
    "uh0_store = uh0\n",
    "basis_store = basis"
   ]
  },
  {
   "cell_type": "code",
   "execution_count": null,
   "metadata": {},
   "outputs": [],
   "source": [
    "%%time\n",
    "m = MeshTri()\n",
    "m.refine(3)\n",
    "\n",
    "if penalty:\n",
    "    uh0, basis, fbasis = solve_problem2(m, element_type, solver_type, intorder=3, tol=1e-8, epsilon=1e-6)\n",
    "else:\n",
    "    uh0, basis = solve_problem1(m, element_type, solver_type, intorder=3, tol=1e-8, epsilon=1e-6)\n",
    "\n",
    "U = basis['u'].interpolate(uh0).value\n",
    "\n",
    "# compute errors\n",
    "\n",
    "L2u = np.sqrt(L2uError.assemble(basis['u'], w=U))\n",
    "Du = get_DuError(basis['u'], uh0)\n",
    "H1u = Du + L2u\n",
    "\n",
    "if penalty:\n",
    "    D2u = np.sqrt(get_D2uError(basis['u'], uh0)**2 + L2pnvError.assemble(fbasis, w=fbasis.interpolate(uh0)))\n",
    "else:\n",
    "    D2u = get_D2uError(basis['u'], uh0)\n",
    "\n",
    "epu = np.sqrt(epsilon**2 * D2u**2 + Du**2)"
   ]
  },
  {
   "cell_type": "code",
   "execution_count": null,
   "metadata": {},
   "outputs": [],
   "source": [
    "L2u"
   ]
  },
  {
   "cell_type": "code",
   "execution_count": null,
   "metadata": {},
   "outputs": [],
   "source": [
    "def exact_u_n(x, y):\n",
    "    return basis_store['u'].interpolator(uh0_store)(np.array([[x], [y]]))"
   ]
  },
  {
   "cell_type": "code",
   "execution_count": null,
   "metadata": {},
   "outputs": [],
   "source": [
    "@Functional\n",
    "def L2uError_h(w):\n",
    "    x, y = w.x\n",
    "    return (w.w - un)**2"
   ]
  },
  {
   "cell_type": "code",
   "execution_count": null,
   "metadata": {},
   "outputs": [],
   "source": [
    "np.sqrt(L2uError_h.assemble(basis['u'], w=U))"
   ]
  },
  {
   "cell_type": "code",
   "execution_count": null,
   "metadata": {},
   "outputs": [],
   "source": [
    "np.sqrt(L2uError_h.assemble(basis['u'], w=U))"
   ]
  },
  {
   "cell_type": "code",
   "execution_count": null,
   "metadata": {},
   "outputs": [],
   "source": [
    "x, y = www.x\n",
    "exact_u(x, y)"
   ]
  },
  {
   "cell_type": "code",
   "execution_count": null,
   "metadata": {},
   "outputs": [],
   "source": [
    "un = np.zeros_like(x)\n",
    "for i in tqdm(range(x.shape[0])):\n",
    "    for j in range(x.shape[1]):\n",
    "        un[i][j] = basis_store['u'].interpolator(uh0_store)(np.array([[x[i][j]], [y[i][j]]]))"
   ]
  },
  {
   "cell_type": "code",
   "execution_count": null,
   "metadata": {},
   "outputs": [],
   "source": [
    "uh0.shape"
   ]
  },
  {
   "cell_type": "code",
   "execution_count": null,
   "metadata": {},
   "outputs": [],
   "source": [
    "un"
   ]
  },
  {
   "cell_type": "code",
   "execution_count": null,
   "metadata": {},
   "outputs": [],
   "source": [
    "U.shape"
   ]
  },
  {
   "cell_type": "code",
   "execution_count": null,
   "metadata": {},
   "outputs": [],
   "source": [
    "uh0.shape"
   ]
  },
  {
   "cell_type": "code",
   "execution_count": null,
   "metadata": {},
   "outputs": [],
   "source": [
    "basis['u'].interpolator(uh0)(np.array([[0.5],[0.5]]))"
   ]
  },
  {
   "cell_type": "code",
   "execution_count": null,
   "metadata": {},
   "outputs": [],
   "source": [
    "m = MeshTri()\n",
    "# m.refine(1)\n",
    "\n",
    "if element_type == 'P1':\n",
    "    element = {'w': ElementTriP1(), 'u': ElementTriMorley()}\n",
    "elif element_type == 'P2':\n",
    "    element = {'w': ElementTriP2(), 'u': ElementTriMorley()}\n",
    "else:\n",
    "    raise Exception(\"The element not supported\")\n",
    "\n",
    "basis = {\n",
    "    variable: InteriorBasis(m, e, intorder=3)\n",
    "    for variable, e in element.items()\n",
    "}"
   ]
  },
  {
   "cell_type": "code",
   "execution_count": null,
   "metadata": {},
   "outputs": [],
   "source": [
    "# basis['u'].dx # weights\n",
    "refine2 = basis['u'].global_coordinates().value"
   ]
  },
  {
   "cell_type": "code",
   "execution_count": null,
   "metadata": {},
   "outputs": [],
   "source": [
    "basis['u'].interpolator(uh0)(np.array([[0.5],[0.5]]))"
   ]
  },
  {
   "cell_type": "markdown",
   "metadata": {},
   "source": [
    "# Solving"
   ]
  },
  {
   "cell_type": "code",
   "execution_count": 113,
   "metadata": {
    "code_folding": [
     41,
     43
    ],
    "scrolled": false
   },
   "outputs": [
    {
     "name": "stdout",
     "output_type": "stream",
     "text": [
      "=======Arguments=======\n",
      "penalty:\tFalse\n",
      "element_type:\tP1\n",
      "solver_type:\tmgcg\n",
      "tol:\t1e-08\n",
      "intorder:\t3\n",
      "refine_time:\t7\n",
      "epsilon:\t1e-06\n",
      "sigma:\t5\n",
      "=======Results=======\n",
      "  h    L2u   H1u   H2u   epu\n",
      "2^-2  1.74  0.81  -0.19  0.70\n",
      "2^-2  7.282e-02  1.058e+00  1.310e+01  9.853e-01\n",
      "2^-3  1.59  0.65  -0.46  0.60\n",
      "2^-3  2.421e-02  6.761e-01  1.807e+01  6.519e-01\n",
      "2^-4  1.52  0.55  -0.49  0.52\n",
      "2^-4  8.455e-03  4.632e-01  2.543e+01  4.547e-01\n",
      "2^-5  1.51  0.52  -0.49  0.50\n",
      "2^-5  2.973e-03  3.238e-01  3.580e+01  3.208e-01\n",
      "2^-6  1.51  0.51  -0.50  0.50\n",
      "2^-6  1.047e-03  2.278e-01  5.047e+01  2.267e-01\n",
      "2^-7  1.50  0.50  -0.50  0.50\n",
      "2^-7  3.696e-04  1.607e-01  7.124e+01  1.603e-01\n",
      "Total Time Cost 4.55 s\n"
     ]
    }
   ],
   "source": [
    "# solving \n",
    "\n",
    "print('=======Arguments=======')\n",
    "print('penalty:\\t{}'.format(penalty))\n",
    "print('element_type:\\t{}'.format(element_type))\n",
    "print('solver_type:\\t{}'.format(solver_type))\n",
    "print('tol:\\t{}'.format(tol))\n",
    "print('intorder:\\t{}'.format(intorder))\n",
    "print('refine_time:\\t{}'.format(refine_time))\n",
    "print('epsilon:\\t{}'.format(epsilon))\n",
    "print('sigma:\\t{}'.format(sigma))\n",
    "print('=======Results=======')\n",
    "\n",
    "time_start = time.time()\n",
    "\n",
    "ep = epsilon\n",
    "df_list = []\n",
    "L2_list = []\n",
    "Du_list = []\n",
    "D2u_list = []\n",
    "h_list = []\n",
    "epu_list = []\n",
    "m = MeshTri()\n",
    "\n",
    "for i in range(1, refine_time+1):\n",
    "\n",
    "    m.refine()\n",
    "\n",
    "    if penalty:\n",
    "        uh0, basis, fbasis = solve_problem2(m, element_type, solver_type, intorder=intorder, tol=1e-8, epsilon=1e-6)\n",
    "    else:\n",
    "        uh0, basis = solve_problem1(m, element_type, solver_type, intorder=intorder, tol=1e-8, epsilon=1e-6)\n",
    "\n",
    "    U = basis['u'].interpolate(uh0).value\n",
    "\n",
    "    # compute errors\n",
    "\n",
    "    L2u = np.sqrt(L2uError.assemble(basis['u'], w=U))\n",
    "    Du = get_DuError(basis['u'], uh0)\n",
    "    H1u = Du + L2u\n",
    "    \n",
    "    if penalty:\n",
    "        D2u = np.sqrt(get_D2uError(basis['u'], uh0)**2 + L2pnvError.assemble(fbasis, w=fbasis.interpolate(uh0)))\n",
    "    else:\n",
    "        D2u = get_D2uError(basis['u'], uh0)\n",
    "        \n",
    "    epu = np.sqrt(epsilon**2 * D2u**2 + Du**2)\n",
    "    h_list.append(m.param())\n",
    "    Du_list.append(Du)\n",
    "    L2_list.append(L2u)\n",
    "    D2u_list.append(D2u)\n",
    "    epu_list.append(epu)\n",
    "\n",
    "hs = np.array(h_list)\n",
    "L2s = np.array(L2_list)\n",
    "Dus = np.array(Du_list)\n",
    "D2us = np.array(D2u_list)\n",
    "epus = np.array(epu_list)\n",
    "H1s = L2s + Dus\n",
    "H2s = H1s + D2us\n",
    "\n",
    "# store data\n",
    "data = np.array([L2s, H1s, H2s, epus])\n",
    "df = pd.DataFrame(data.T, columns=['L2', 'H1', 'H2', 'Energy'])\n",
    "df_list.append(df)\n",
    "\n",
    "show_result(L2s, H1s, H2s, epus)\n",
    "\n",
    "# df.to_csv(save_path+'.csv')\n",
    "time_end = time.time()\n",
    "print('Total Time Cost {:.2f} s'.format(time_end-time_start))"
   ]
  },
  {
   "cell_type": "code",
   "execution_count": null,
   "metadata": {},
   "outputs": [],
   "source": []
  }
 ],
 "metadata": {
  "kernelspec": {
   "display_name": "Python 3",
   "language": "python",
   "name": "python3"
  },
  "language_info": {
   "codemirror_mode": {
    "name": "ipython",
    "version": 3
   },
   "file_extension": ".py",
   "mimetype": "text/x-python",
   "name": "python",
   "nbconvert_exporter": "python",
   "pygments_lexer": "ipython3",
   "version": "3.7.4"
  },
  "toc": {
   "base_numbering": 1,
   "nav_menu": {},
   "number_sections": true,
   "sideBar": false,
   "skip_h1_title": false,
   "title_cell": "Table of Contents",
   "title_sidebar": "Contents",
   "toc_cell": false,
   "toc_position": {},
   "toc_section_display": false,
   "toc_window_display": false
  },
  "varInspector": {
   "cols": {
    "lenName": 16,
    "lenType": 16,
    "lenVar": 40
   },
   "kernels_config": {
    "python": {
     "delete_cmd_postfix": "",
     "delete_cmd_prefix": "del ",
     "library": "var_list.py",
     "varRefreshCmd": "print(var_dic_list())"
    },
    "r": {
     "delete_cmd_postfix": ") ",
     "delete_cmd_prefix": "rm(",
     "library": "var_list.r",
     "varRefreshCmd": "cat(var_dic_list()) "
    }
   },
   "types_to_exclude": [
    "module",
    "function",
    "builtin_function_or_method",
    "instance",
    "_Feature"
   ],
   "window_display": false
  }
 },
 "nbformat": 4,
 "nbformat_minor": 4
}
