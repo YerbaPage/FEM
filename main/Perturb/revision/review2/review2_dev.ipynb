{
 "cells": [
  {
   "cell_type": "markdown",
   "metadata": {},
   "source": [
    "# Init"
   ]
  },
  {
   "cell_type": "code",
   "execution_count": 1,
   "metadata": {
    "code_folding": [],
    "scrolled": false
   },
   "outputs": [],
   "source": [
    "# from skfem import *\n",
    "import numpy as np\n",
    "from utils import *\n",
    "from skfem.helpers import d, dd, ddd, dot, ddot, grad, dddot, prod\n",
    "from scipy.sparse.linalg import LinearOperator, minres\n",
    "# from skfem.models.poisson import *\n",
    "from skfem.assembly import BilinearForm, LinearForm\n",
    "import datetime\n",
    "import pandas as pd\n",
    "import sys\n",
    "import time\n",
    "\n",
    "\n",
    "tol = 1e-8\n",
    "intorder = 6\n",
    "solver_type = 'mgcg'\n",
    "refine_time = 7\n",
    "element_type = 'P1'\n",
    "sigma = 5 \n",
    "penalty = False\n",
    "epsilon = 1e-6\n",
    "ep = epsilon\n",
    "example = 'ex3'\n",
    "save_path = 'log/' + example + '_' + element_type + '_' + ('pen' if penalty else 'nopen') + '_' +'{}'.format(datetime.datetime.now().strftime(\"%Y-%m-%d_%H-%M-%S\"))"
   ]
  },
  {
   "cell_type": "markdown",
   "metadata": {},
   "source": [
    "## Save $u_{h0}$ with different $h$ "
   ]
  },
  {
   "cell_type": "code",
   "execution_count": 2,
   "metadata": {},
   "outputs": [],
   "source": [
    "# # %%time\n",
    "# for i in range(1, 10):\n",
    "#     m = MeshTri()\n",
    "#     base_order = i\n",
    "#     base_path = 'uh0_{}.npy'.format(base_order)\n",
    "#     m.refine(base_order)\n",
    "\n",
    "#     if penalty:\n",
    "#         uh0, basis, fbasis = solve_problem2(m, element_type, solver_type, intorder=3, tol=1e-8, epsilon=1e-6)\n",
    "#     else:\n",
    "#         uh0, basis = solve_problem1(m, element_type, solver_type, intorder=3, tol=1e-8, epsilon=1e-6)\n",
    "\n",
    "#     np.save(base_path, uh0)\n",
    "#     print('{} th saved'.format(i))"
   ]
  },
  {
   "cell_type": "markdown",
   "metadata": {},
   "source": [
    "## Reading previous solution"
   ]
  },
  {
   "cell_type": "code",
   "execution_count": 3,
   "metadata": {},
   "outputs": [],
   "source": [
    "test_order = 3\n",
    "test_path = 'uh0_{}.npy'.format(test_order)\n",
    "m = MeshTri()\n",
    "m.refine(test_order)\n",
    "test_basis, test_fbasis = solve_problem2(m, element_type, intorder=3, basis_only=True)\n",
    "test_uh0 = np.load(test_path)"
   ]
  },
  {
   "cell_type": "code",
   "execution_count": 4,
   "metadata": {},
   "outputs": [],
   "source": [
    "base_order = 7\n",
    "base_path = 'uh0_{}.npy'.format(base_order)\n",
    "m = MeshTri()\n",
    "m.refine(base_order)\n",
    "base_basis, base_fbasis = solve_problem2(m, element_type, intorder=3, basis_only=True)\n",
    "base_uh0 = np.load(base_path)"
   ]
  },
  {
   "cell_type": "code",
   "execution_count": 8,
   "metadata": {},
   "outputs": [
    {
     "data": {
      "text/plain": [
       "(DiscreteField(value=array([[0.55555556, 0.44      , 0.44      , 0.68      ],\n",
       "        [0.22222222, 0.16      , 0.12      , 0.44      ],\n",
       "        [0.22222222, 0.12      , 0.16      , 0.44      ],\n",
       "        [0.22222222, 0.16      , 0.12      , 0.44      ],\n",
       "        [0.22222222, 0.12      , 0.16      , 0.44      ],\n",
       "        [0.55555556, 0.44      , 0.44      , 0.68      ],\n",
       "        [0.22222222, 0.16      , 0.12      , 0.44      ],\n",
       "        [0.55555556, 0.44      , 0.44      , 0.68      ],\n",
       "        [0.22222222, 0.12      , 0.16      , 0.44      ],\n",
       "        [0.22222222, 0.16      , 0.12      , 0.44      ],\n",
       "        [0.55555556, 0.44      , 0.44      , 0.68      ],\n",
       "        [0.22222222, 0.16      , 0.12      , 0.44      ],\n",
       "        [0.55555556, 0.44      , 0.44      , 0.68      ],\n",
       "        [0.22222222, 0.12      , 0.16      , 0.44      ],\n",
       "        [0.22222222, 0.16      , 0.12      , 0.44      ],\n",
       "        [0.22222222, 0.12      , 0.16      , 0.44      ],\n",
       "        [0.22222222, 0.12      , 0.16      , 0.44      ],\n",
       "        [0.55555556, 0.44      , 0.44      , 0.68      ],\n",
       "        [0.22222222, 0.16      , 0.12      , 0.44      ],\n",
       "        [0.55555556, 0.44      , 0.44      , 0.68      ],\n",
       "        [0.22222222, 0.16      , 0.12      , 0.44      ],\n",
       "        [0.22222222, 0.12      , 0.16      , 0.44      ],\n",
       "        [0.55555556, 0.44      , 0.44      , 0.68      ],\n",
       "        [0.22222222, 0.12      , 0.16      , 0.44      ],\n",
       "        [0.22222222, 0.16      , 0.12      , 0.44      ],\n",
       "        [0.55555556, 0.44      , 0.44      , 0.68      ],\n",
       "        [0.22222222, 0.12      , 0.16      , 0.44      ],\n",
       "        [0.55555556, 0.44      , 0.44      , 0.68      ],\n",
       "        [0.22222222, 0.12      , 0.16      , 0.44      ],\n",
       "        [0.22222222, 0.16      , 0.12      , 0.44      ],\n",
       "        [0.55555556, 0.44      , 0.44      , 0.68      ],\n",
       "        [0.22222222, 0.16      , 0.12      , 0.44      ],\n",
       "        [0.22222222, 0.12      , 0.16      , 0.44      ],\n",
       "        [0.22222222, 0.16      , 0.12      , 0.44      ],\n",
       "        [0.55555556, 0.44      , 0.44      , 0.68      ],\n",
       "        [0.22222222, 0.16      , 0.12      , 0.44      ],\n",
       "        [0.55555556, 0.44      , 0.44      , 0.68      ],\n",
       "        [0.22222222, 0.12      , 0.16      , 0.44      ],\n",
       "        [0.22222222, 0.16      , 0.12      , 0.44      ],\n",
       "        [0.22222222, 0.12      , 0.16      , 0.44      ],\n",
       "        [0.55555556, 0.44      , 0.44      , 0.68      ],\n",
       "        [0.22222222, 0.16      , 0.12      , 0.44      ],\n",
       "        [0.22222222, 0.12      , 0.16      , 0.44      ],\n",
       "        [0.22222222, 0.16      , 0.12      , 0.44      ],\n",
       "        [0.22222222, 0.12      , 0.16      , 0.44      ],\n",
       "        [0.55555556, 0.44      , 0.44      , 0.68      ],\n",
       "        [0.22222222, 0.16      , 0.12      , 0.44      ],\n",
       "        [0.55555556, 0.44      , 0.44      , 0.68      ],\n",
       "        [0.55555556, 0.44      , 0.44      , 0.68      ],\n",
       "        [0.22222222, 0.12      , 0.16      , 0.44      ],\n",
       "        [0.22222222, 0.16      , 0.12      , 0.44      ],\n",
       "        [0.22222222, 0.12      , 0.16      , 0.44      ],\n",
       "        [0.22222222, 0.16      , 0.12      , 0.44      ],\n",
       "        [0.55555556, 0.44      , 0.44      , 0.68      ],\n",
       "        [0.22222222, 0.12      , 0.16      , 0.44      ],\n",
       "        [0.55555556, 0.44      , 0.44      , 0.68      ],\n",
       "        [0.22222222, 0.16      , 0.12      , 0.44      ],\n",
       "        [0.22222222, 0.12      , 0.16      , 0.44      ],\n",
       "        [0.55555556, 0.44      , 0.44      , 0.68      ],\n",
       "        [0.22222222, 0.12      , 0.16      , 0.44      ],\n",
       "        [0.55555556, 0.44      , 0.44      , 0.68      ],\n",
       "        [0.22222222, 0.16      , 0.12      , 0.44      ],\n",
       "        [0.22222222, 0.12      , 0.16      , 0.44      ],\n",
       "        [0.22222222, 0.16      , 0.12      , 0.44      ],\n",
       "        [0.22222222, 0.12      , 0.16      , 0.44      ],\n",
       "        [0.55555556, 0.44      , 0.44      , 0.68      ],\n",
       "        [0.22222222, 0.16      , 0.12      , 0.44      ],\n",
       "        [0.55555556, 0.44      , 0.44      , 0.68      ],\n",
       "        [0.22222222, 0.16      , 0.12      , 0.44      ],\n",
       "        [0.22222222, 0.12      , 0.16      , 0.44      ],\n",
       "        [0.55555556, 0.44      , 0.44      , 0.68      ],\n",
       "        [0.22222222, 0.12      , 0.16      , 0.44      ],\n",
       "        [0.22222222, 0.16      , 0.12      , 0.44      ],\n",
       "        [0.55555556, 0.44      , 0.44      , 0.68      ],\n",
       "        [0.22222222, 0.12      , 0.16      , 0.44      ],\n",
       "        [0.55555556, 0.44      , 0.44      , 0.68      ],\n",
       "        [0.22222222, 0.12      , 0.16      , 0.44      ],\n",
       "        [0.22222222, 0.16      , 0.12      , 0.44      ],\n",
       "        [0.55555556, 0.44      , 0.44      , 0.68      ],\n",
       "        [0.22222222, 0.16      , 0.12      , 0.44      ],\n",
       "        [0.22222222, 0.16      , 0.12      , 0.44      ],\n",
       "        [0.22222222, 0.12      , 0.16      , 0.44      ],\n",
       "        [0.55555556, 0.44      , 0.44      , 0.68      ],\n",
       "        [0.22222222, 0.12      , 0.16      , 0.44      ],\n",
       "        [0.55555556, 0.44      , 0.44      , 0.68      ],\n",
       "        [0.22222222, 0.16      , 0.12      , 0.44      ],\n",
       "        [0.22222222, 0.12      , 0.16      , 0.44      ],\n",
       "        [0.22222222, 0.16      , 0.12      , 0.44      ],\n",
       "        [0.55555556, 0.44      , 0.44      , 0.68      ],\n",
       "        [0.22222222, 0.12      , 0.16      , 0.44      ],\n",
       "        [0.22222222, 0.16      , 0.12      , 0.44      ],\n",
       "        [0.22222222, 0.12      , 0.16      , 0.44      ],\n",
       "        [0.22222222, 0.16      , 0.12      , 0.44      ],\n",
       "        [0.55555556, 0.44      , 0.44      , 0.68      ],\n",
       "        [0.22222222, 0.12      , 0.16      , 0.44      ],\n",
       "        [0.55555556, 0.44      , 0.44      , 0.68      ],\n",
       "        [0.22222222, 0.16      , 0.12      , 0.44      ],\n",
       "        [0.55555556, 0.44      , 0.44      , 0.68      ],\n",
       "        [0.22222222, 0.12      , 0.16      , 0.44      ],\n",
       "        [0.55555556, 0.44      , 0.44      , 0.68      ],\n",
       "        [0.22222222, 0.12      , 0.16      , 0.44      ],\n",
       "        [0.22222222, 0.16      , 0.12      , 0.44      ],\n",
       "        [0.55555556, 0.44      , 0.44      , 0.68      ],\n",
       "        [0.22222222, 0.16      , 0.12      , 0.44      ],\n",
       "        [0.22222222, 0.12      , 0.16      , 0.44      ],\n",
       "        [0.55555556, 0.44      , 0.44      , 0.68      ],\n",
       "        [0.22222222, 0.16      , 0.12      , 0.44      ],\n",
       "        [0.55555556, 0.44      , 0.44      , 0.68      ],\n",
       "        [0.22222222, 0.16      , 0.12      , 0.44      ],\n",
       "        [0.22222222, 0.12      , 0.16      , 0.44      ],\n",
       "        [0.55555556, 0.44      , 0.44      , 0.68      ],\n",
       "        [0.22222222, 0.12      , 0.16      , 0.44      ],\n",
       "        [0.22222222, 0.12      , 0.16      , 0.44      ],\n",
       "        [0.22222222, 0.16      , 0.12      , 0.44      ],\n",
       "        [0.55555556, 0.44      , 0.44      , 0.68      ],\n",
       "        [0.22222222, 0.16      , 0.12      , 0.44      ],\n",
       "        [0.55555556, 0.44      , 0.44      , 0.68      ],\n",
       "        [0.22222222, 0.12      , 0.16      , 0.44      ],\n",
       "        [0.22222222, 0.16      , 0.12      , 0.44      ],\n",
       "        [0.22222222, 0.12      , 0.16      , 0.44      ],\n",
       "        [0.55555556, 0.44      , 0.44      , 0.68      ],\n",
       "        [0.22222222, 0.16      , 0.12      , 0.44      ],\n",
       "        [0.22222222, 0.12      , 0.16      , 0.44      ],\n",
       "        [0.22222222, 0.16      , 0.12      , 0.44      ],\n",
       "        [0.22222222, 0.12      , 0.16      , 0.44      ],\n",
       "        [0.55555556, 0.44      , 0.44      , 0.68      ],\n",
       "        [0.22222222, 0.16      , 0.12      , 0.44      ],\n",
       "        [0.55555556, 0.44      , 0.44      , 0.68      ]]), grad=array([[[-2.66666667,  1.6       , -4.8       , -4.8       ],\n",
       "         [ 1.33333333, -0.8       ,  2.4       ,  2.4       ],\n",
       "         [ 4.        ,  0.8       ,  4.        ,  7.2       ],\n",
       "         ...,\n",
       "         [ 2.66666667,  4.8       , -1.6       ,  4.8       ],\n",
       "         [ 1.33333333, -0.8       ,  2.4       ,  2.4       ],\n",
       "         [-2.66666667,  1.6       , -4.8       , -4.8       ]],\n",
       " \n",
       "        [[-2.66666667, -4.8       ,  1.6       , -4.8       ],\n",
       "         [-4.        , -4.        , -0.8       , -7.2       ],\n",
       "         [-1.33333333, -2.4       ,  0.8       , -2.4       ],\n",
       "         ...,\n",
       "         [ 2.66666667, -1.6       ,  4.8       ,  4.8       ],\n",
       "         [-4.        , -4.        , -0.8       , -7.2       ],\n",
       "         [-2.66666667, -4.8       ,  1.6       , -4.8       ]]]), div=None, curl=None, hess=array([[[[ 0.00000000e+00,  0.00000000e+00,  0.00000000e+00,\n",
       "            0.00000000e+00],\n",
       "          [-6.40000000e+01, -6.40000000e+01, -6.40000000e+01,\n",
       "           -6.40000000e+01],\n",
       "          [ 6.40000000e+01,  6.40000000e+01,  6.40000000e+01,\n",
       "            6.40000000e+01],\n",
       "          ...,\n",
       "          [ 0.00000000e+00,  0.00000000e+00,  0.00000000e+00,\n",
       "            0.00000000e+00],\n",
       "          [-6.40000000e+01, -6.40000000e+01, -6.40000000e+01,\n",
       "           -6.40000000e+01],\n",
       "          [ 9.09494702e-13,  9.09494702e-13,  9.09494702e-13,\n",
       "            9.09494702e-13]],\n",
       " \n",
       "         [[ 1.28000000e+02,  1.28000000e+02,  1.28000000e+02,\n",
       "            1.28000000e+02],\n",
       "          [-6.40000000e+01, -6.40000000e+01, -6.40000000e+01,\n",
       "           -6.40000000e+01],\n",
       "          [-6.40000000e+01, -6.40000000e+01, -6.40000000e+01,\n",
       "           -6.40000000e+01],\n",
       "          ...,\n",
       "          [ 1.28000000e+02,  1.28000000e+02,  1.28000000e+02,\n",
       "            1.28000000e+02],\n",
       "          [-6.40000000e+01, -6.40000000e+01, -6.40000000e+01,\n",
       "           -6.40000000e+01],\n",
       "          [ 1.28000000e+02,  1.28000000e+02,  1.28000000e+02,\n",
       "            1.28000000e+02]]],\n",
       " \n",
       " \n",
       "        [[[ 1.28000000e+02,  1.28000000e+02,  1.28000000e+02,\n",
       "            1.28000000e+02],\n",
       "          [-6.40000000e+01, -6.40000000e+01, -6.40000000e+01,\n",
       "           -6.40000000e+01],\n",
       "          [-6.40000000e+01, -6.40000000e+01, -6.40000000e+01,\n",
       "           -6.40000000e+01],\n",
       "          ...,\n",
       "          [ 1.28000000e+02,  1.28000000e+02,  1.28000000e+02,\n",
       "            1.28000000e+02],\n",
       "          [-6.40000000e+01, -6.40000000e+01, -6.40000000e+01,\n",
       "           -6.40000000e+01],\n",
       "          [ 1.28000000e+02,  1.28000000e+02,  1.28000000e+02,\n",
       "            1.28000000e+02]],\n",
       " \n",
       "         [[ 0.00000000e+00,  0.00000000e+00,  0.00000000e+00,\n",
       "            0.00000000e+00],\n",
       "          [ 6.40000000e+01,  6.40000000e+01,  6.40000000e+01,\n",
       "            6.40000000e+01],\n",
       "          [-6.40000000e+01, -6.40000000e+01, -6.40000000e+01,\n",
       "           -6.40000000e+01],\n",
       "          ...,\n",
       "          [ 0.00000000e+00,  0.00000000e+00,  0.00000000e+00,\n",
       "            0.00000000e+00],\n",
       "          [ 6.40000000e+01,  6.40000000e+01,  6.40000000e+01,\n",
       "            6.40000000e+01],\n",
       "          [-8.03887339e-13, -8.03887339e-13, -8.03887339e-13,\n",
       "           -8.03887339e-13]]]]), hod=array([], dtype=object)),)"
      ]
     },
     "execution_count": 8,
     "metadata": {},
     "output_type": "execute_result"
    }
   ],
   "source": [
    "test_basis['u'].basis[0]"
   ]
  },
  {
   "cell_type": "code",
   "execution_count": null,
   "metadata": {},
   "outputs": [],
   "source": []
  },
  {
   "cell_type": "code",
   "execution_count": null,
   "metadata": {},
   "outputs": [],
   "source": []
  },
  {
   "cell_type": "code",
   "execution_count": 11,
   "metadata": {},
   "outputs": [],
   "source": [
    "m = MeshTri()\n",
    "m.refine(3)\n",
    "base_uh0, base_basis = solve_problem1(m, element_type, solver_type, intorder=3, tol=1e-8, epsilon=1e-6)\n",
    "m = MeshTri()\n",
    "m.refine(5)\n",
    "test_uh0, test_basis = solve_problem1(m, element_type, solver_type, intorder=3, tol=1e-8, epsilon=1e-6)"
   ]
  },
  {
   "cell_type": "code",
   "execution_count": 12,
   "metadata": {},
   "outputs": [
    {
     "ename": "ValueError",
     "evalue": "could not broadcast input array from shape (128) into shape (2048)",
     "output_type": "error",
     "traceback": [
      "\u001b[1;31m---------------------------------------------------------------------------\u001b[0m",
      "\u001b[1;31mValueError\u001b[0m                                Traceback (most recent call last)",
      "\u001b[1;32m<ipython-input-12-dbab55b80d20>\u001b[0m in \u001b[0;36m<module>\u001b[1;34m\u001b[0m\n\u001b[1;32m----> 1\u001b[1;33m \u001b[0mproject\u001b[0m\u001b[1;33m(\u001b[0m\u001b[0mtest_uh0\u001b[0m\u001b[1;33m,\u001b[0m \u001b[0mbasis_from\u001b[0m\u001b[1;33m=\u001b[0m\u001b[0mtest_basis\u001b[0m\u001b[1;33m[\u001b[0m\u001b[1;34m'u'\u001b[0m\u001b[1;33m]\u001b[0m\u001b[1;33m,\u001b[0m \u001b[0mbasis_to\u001b[0m\u001b[1;33m=\u001b[0m\u001b[0mbase_basis\u001b[0m\u001b[1;33m[\u001b[0m\u001b[1;34m'u'\u001b[0m\u001b[1;33m]\u001b[0m\u001b[1;33m)\u001b[0m\u001b[1;33m\u001b[0m\u001b[1;33m\u001b[0m\u001b[0m\n\u001b[0m",
      "\u001b[1;32m~\\Anaconda3\\lib\\site-packages\\skfem\\utils.py\u001b[0m in \u001b[0;36mproject\u001b[1;34m(fun, basis_from, basis_to, diff, I, expand)\u001b[0m\n\u001b[0;32m    539\u001b[0m             \u001b[0mf\u001b[0m \u001b[1;33m=\u001b[0m \u001b[0masm\u001b[0m\u001b[1;33m(\u001b[0m\u001b[0mderiv\u001b[0m\u001b[1;33m,\u001b[0m \u001b[0mbasis_from\u001b[0m\u001b[1;33m,\u001b[0m \u001b[0mbasis_to\u001b[0m\u001b[1;33m)\u001b[0m \u001b[1;33m@\u001b[0m \u001b[0mfun\u001b[0m\u001b[1;33m\u001b[0m\u001b[1;33m\u001b[0m\u001b[0m\n\u001b[0;32m    540\u001b[0m         \u001b[1;32melse\u001b[0m\u001b[1;33m:\u001b[0m\u001b[1;33m\u001b[0m\u001b[1;33m\u001b[0m\u001b[0m\n\u001b[1;32m--> 541\u001b[1;33m             \u001b[0mf\u001b[0m \u001b[1;33m=\u001b[0m \u001b[0masm\u001b[0m\u001b[1;33m(\u001b[0m\u001b[0mmass\u001b[0m\u001b[1;33m,\u001b[0m \u001b[0mbasis_from\u001b[0m\u001b[1;33m,\u001b[0m \u001b[0mbasis_to\u001b[0m\u001b[1;33m)\u001b[0m \u001b[1;33m@\u001b[0m \u001b[0mfun\u001b[0m\u001b[1;33m\u001b[0m\u001b[1;33m\u001b[0m\u001b[0m\n\u001b[0m\u001b[0;32m    542\u001b[0m \u001b[1;33m\u001b[0m\u001b[0m\n\u001b[0;32m    543\u001b[0m     \u001b[1;32mif\u001b[0m \u001b[0mI\u001b[0m \u001b[1;32mis\u001b[0m \u001b[1;32mnot\u001b[0m \u001b[1;32mNone\u001b[0m\u001b[1;33m:\u001b[0m\u001b[1;33m\u001b[0m\u001b[1;33m\u001b[0m\u001b[0m\n",
      "\u001b[1;32m~\\Anaconda3\\lib\\site-packages\\skfem\\assembly\\__init__.py\u001b[0m in \u001b[0;36masm\u001b[1;34m(form, *args, **kwargs)\u001b[0m\n\u001b[0;32m     66\u001b[0m \u001b[1;33m\u001b[0m\u001b[0m\n\u001b[0;32m     67\u001b[0m     \"\"\"\n\u001b[1;32m---> 68\u001b[1;33m     \u001b[1;32mreturn\u001b[0m \u001b[0mform\u001b[0m\u001b[1;33m.\u001b[0m\u001b[0massemble\u001b[0m\u001b[1;33m(\u001b[0m\u001b[1;33m*\u001b[0m\u001b[0margs\u001b[0m\u001b[1;33m,\u001b[0m \u001b[1;33m**\u001b[0m\u001b[0mkwargs\u001b[0m\u001b[1;33m)\u001b[0m\u001b[1;33m\u001b[0m\u001b[1;33m\u001b[0m\u001b[0m\n\u001b[0m\u001b[0;32m     69\u001b[0m \u001b[1;33m\u001b[0m\u001b[0m\n\u001b[0;32m     70\u001b[0m \u001b[1;33m\u001b[0m\u001b[0m\n",
      "\u001b[1;32m~\\Anaconda3\\lib\\site-packages\\skfem\\assembly\\form\\bilinear_form.py\u001b[0m in \u001b[0;36massemble\u001b[1;34m(self, u, v, **kwargs)\u001b[0m\n\u001b[0;32m     66\u001b[0m                 ixs = slice(nt * (v.Nbfun * j + i),\n\u001b[0;32m     67\u001b[0m                             nt * (v.Nbfun * j + i + 1))\n\u001b[1;32m---> 68\u001b[1;33m                 \u001b[0mrows\u001b[0m\u001b[1;33m[\u001b[0m\u001b[0mixs\u001b[0m\u001b[1;33m]\u001b[0m \u001b[1;33m=\u001b[0m \u001b[0mv\u001b[0m\u001b[1;33m.\u001b[0m\u001b[0melement_dofs\u001b[0m\u001b[1;33m[\u001b[0m\u001b[0mi\u001b[0m\u001b[1;33m]\u001b[0m\u001b[1;33m\u001b[0m\u001b[1;33m\u001b[0m\u001b[0m\n\u001b[0m\u001b[0;32m     69\u001b[0m                 \u001b[0mcols\u001b[0m\u001b[1;33m[\u001b[0m\u001b[0mixs\u001b[0m\u001b[1;33m]\u001b[0m \u001b[1;33m=\u001b[0m \u001b[0mu\u001b[0m\u001b[1;33m.\u001b[0m\u001b[0melement_dofs\u001b[0m\u001b[1;33m[\u001b[0m\u001b[0mj\u001b[0m\u001b[1;33m]\u001b[0m\u001b[1;33m\u001b[0m\u001b[1;33m\u001b[0m\u001b[0m\n\u001b[0;32m     70\u001b[0m                 \u001b[0mdata\u001b[0m\u001b[1;33m[\u001b[0m\u001b[0mixs\u001b[0m\u001b[1;33m]\u001b[0m \u001b[1;33m=\u001b[0m \u001b[0mself\u001b[0m\u001b[1;33m.\u001b[0m\u001b[0m_kernel\u001b[0m\u001b[1;33m(\u001b[0m\u001b[0mu\u001b[0m\u001b[1;33m.\u001b[0m\u001b[0mbasis\u001b[0m\u001b[1;33m[\u001b[0m\u001b[0mj\u001b[0m\u001b[1;33m]\u001b[0m\u001b[1;33m,\u001b[0m \u001b[0mv\u001b[0m\u001b[1;33m.\u001b[0m\u001b[0mbasis\u001b[0m\u001b[1;33m[\u001b[0m\u001b[0mi\u001b[0m\u001b[1;33m]\u001b[0m\u001b[1;33m,\u001b[0m \u001b[0mw\u001b[0m\u001b[1;33m,\u001b[0m \u001b[0mdx\u001b[0m\u001b[1;33m)\u001b[0m\u001b[1;33m\u001b[0m\u001b[1;33m\u001b[0m\u001b[0m\n",
      "\u001b[1;31mValueError\u001b[0m: could not broadcast input array from shape (128) into shape (2048)"
     ]
    }
   ],
   "source": [
    "project(test_uh0, basis_from=test_basis['u'], basis_to=base_basis['u'])"
   ]
  },
  {
   "cell_type": "markdown",
   "metadata": {},
   "source": [
    "## projection"
   ]
  },
  {
   "cell_type": "code",
   "execution_count": 5,
   "metadata": {},
   "outputs": [
    {
     "ename": "ValueError",
     "evalue": "could not broadcast input array from shape (32768) into shape (128)",
     "output_type": "error",
     "traceback": [
      "\u001b[1;31m---------------------------------------------------------------------------\u001b[0m",
      "\u001b[1;31mValueError\u001b[0m                                Traceback (most recent call last)",
      "\u001b[1;32m<ipython-input-5-6beb1332dd77>\u001b[0m in \u001b[0;36m<module>\u001b[1;34m\u001b[0m\n\u001b[1;32m----> 1\u001b[1;33m \u001b[0muh0_project\u001b[0m \u001b[1;33m=\u001b[0m \u001b[0mppproject\u001b[0m\u001b[1;33m(\u001b[0m\u001b[0mtest_uh0\u001b[0m\u001b[1;33m,\u001b[0m \u001b[0mbasis_from\u001b[0m\u001b[1;33m=\u001b[0m\u001b[0mtest_basis\u001b[0m\u001b[1;33m[\u001b[0m\u001b[1;34m'u'\u001b[0m\u001b[1;33m]\u001b[0m\u001b[1;33m,\u001b[0m \u001b[0mbasis_to\u001b[0m\u001b[1;33m=\u001b[0m\u001b[0mbase_basis\u001b[0m\u001b[1;33m[\u001b[0m\u001b[1;34m'u'\u001b[0m\u001b[1;33m]\u001b[0m\u001b[1;33m)\u001b[0m\u001b[1;33m\u001b[0m\u001b[1;33m\u001b[0m\u001b[0m\n\u001b[0m",
      "\u001b[1;32mD:\\Py\\FiniteElementMethod\\main\\Perturb\\revision\\review2\\local_utils.py\u001b[0m in \u001b[0;36mppproject\u001b[1;34m(fun, basis_from, basis_to, diff, I, expand)\u001b[0m\n\u001b[0;32m    539\u001b[0m             \u001b[0mf\u001b[0m \u001b[1;33m=\u001b[0m \u001b[0masm\u001b[0m\u001b[1;33m(\u001b[0m\u001b[0mderiv\u001b[0m\u001b[1;33m,\u001b[0m \u001b[0mbasis_from\u001b[0m\u001b[1;33m,\u001b[0m \u001b[0mbasis_to\u001b[0m\u001b[1;33m)\u001b[0m \u001b[1;33m@\u001b[0m \u001b[0mfun\u001b[0m\u001b[1;33m\u001b[0m\u001b[1;33m\u001b[0m\u001b[0m\n\u001b[0;32m    540\u001b[0m         \u001b[1;32melse\u001b[0m\u001b[1;33m:\u001b[0m\u001b[1;33m\u001b[0m\u001b[1;33m\u001b[0m\u001b[0m\n\u001b[1;32m--> 541\u001b[1;33m             \u001b[0mprint\u001b[0m\u001b[1;33m(\u001b[0m\u001b[0masm\u001b[0m\u001b[1;33m(\u001b[0m\u001b[0mmass\u001b[0m\u001b[1;33m,\u001b[0m \u001b[0mbasis_from\u001b[0m\u001b[1;33m,\u001b[0m \u001b[0mbasis_to\u001b[0m\u001b[1;33m)\u001b[0m\u001b[1;33m.\u001b[0m\u001b[0mshape\u001b[0m\u001b[1;33m)\u001b[0m\u001b[1;33m\u001b[0m\u001b[1;33m\u001b[0m\u001b[0m\n\u001b[0m\u001b[0;32m    542\u001b[0m             \u001b[0mprint\u001b[0m\u001b[1;33m(\u001b[0m\u001b[0mfun\u001b[0m\u001b[1;33m.\u001b[0m\u001b[0mshape\u001b[0m\u001b[1;33m)\u001b[0m\u001b[1;33m\u001b[0m\u001b[1;33m\u001b[0m\u001b[0m\n\u001b[0;32m    543\u001b[0m             \u001b[0mf\u001b[0m \u001b[1;33m=\u001b[0m \u001b[0masm\u001b[0m\u001b[1;33m(\u001b[0m\u001b[0mmass\u001b[0m\u001b[1;33m,\u001b[0m \u001b[0mbasis_from\u001b[0m\u001b[1;33m,\u001b[0m \u001b[0mbasis_to\u001b[0m\u001b[1;33m)\u001b[0m \u001b[1;33m@\u001b[0m \u001b[0mfun\u001b[0m\u001b[1;33m\u001b[0m\u001b[1;33m\u001b[0m\u001b[0m\n",
      "\u001b[1;32m~\\Anaconda3\\lib\\site-packages\\skfem\\assembly\\__init__.py\u001b[0m in \u001b[0;36masm\u001b[1;34m(form, *args, **kwargs)\u001b[0m\n\u001b[0;32m     66\u001b[0m \u001b[1;33m\u001b[0m\u001b[0m\n\u001b[0;32m     67\u001b[0m     \"\"\"\n\u001b[1;32m---> 68\u001b[1;33m     \u001b[1;32mreturn\u001b[0m \u001b[0mform\u001b[0m\u001b[1;33m.\u001b[0m\u001b[0massemble\u001b[0m\u001b[1;33m(\u001b[0m\u001b[1;33m*\u001b[0m\u001b[0margs\u001b[0m\u001b[1;33m,\u001b[0m \u001b[1;33m**\u001b[0m\u001b[0mkwargs\u001b[0m\u001b[1;33m)\u001b[0m\u001b[1;33m\u001b[0m\u001b[1;33m\u001b[0m\u001b[0m\n\u001b[0m\u001b[0;32m     69\u001b[0m \u001b[1;33m\u001b[0m\u001b[0m\n\u001b[0;32m     70\u001b[0m \u001b[1;33m\u001b[0m\u001b[0m\n",
      "\u001b[1;32m~\\Anaconda3\\lib\\site-packages\\skfem\\assembly\\form\\bilinear_form.py\u001b[0m in \u001b[0;36massemble\u001b[1;34m(self, u, v, **kwargs)\u001b[0m\n\u001b[0;32m     66\u001b[0m                 ixs = slice(nt * (v.Nbfun * j + i),\n\u001b[0;32m     67\u001b[0m                             nt * (v.Nbfun * j + i + 1))\n\u001b[1;32m---> 68\u001b[1;33m                 \u001b[0mrows\u001b[0m\u001b[1;33m[\u001b[0m\u001b[0mixs\u001b[0m\u001b[1;33m]\u001b[0m \u001b[1;33m=\u001b[0m \u001b[0mv\u001b[0m\u001b[1;33m.\u001b[0m\u001b[0melement_dofs\u001b[0m\u001b[1;33m[\u001b[0m\u001b[0mi\u001b[0m\u001b[1;33m]\u001b[0m\u001b[1;33m\u001b[0m\u001b[1;33m\u001b[0m\u001b[0m\n\u001b[0m\u001b[0;32m     69\u001b[0m                 \u001b[0mcols\u001b[0m\u001b[1;33m[\u001b[0m\u001b[0mixs\u001b[0m\u001b[1;33m]\u001b[0m \u001b[1;33m=\u001b[0m \u001b[0mu\u001b[0m\u001b[1;33m.\u001b[0m\u001b[0melement_dofs\u001b[0m\u001b[1;33m[\u001b[0m\u001b[0mj\u001b[0m\u001b[1;33m]\u001b[0m\u001b[1;33m\u001b[0m\u001b[1;33m\u001b[0m\u001b[0m\n\u001b[0;32m     70\u001b[0m                 \u001b[0mdata\u001b[0m\u001b[1;33m[\u001b[0m\u001b[0mixs\u001b[0m\u001b[1;33m]\u001b[0m \u001b[1;33m=\u001b[0m \u001b[0mself\u001b[0m\u001b[1;33m.\u001b[0m\u001b[0m_kernel\u001b[0m\u001b[1;33m(\u001b[0m\u001b[0mu\u001b[0m\u001b[1;33m.\u001b[0m\u001b[0mbasis\u001b[0m\u001b[1;33m[\u001b[0m\u001b[0mj\u001b[0m\u001b[1;33m]\u001b[0m\u001b[1;33m,\u001b[0m \u001b[0mv\u001b[0m\u001b[1;33m.\u001b[0m\u001b[0mbasis\u001b[0m\u001b[1;33m[\u001b[0m\u001b[0mi\u001b[0m\u001b[1;33m]\u001b[0m\u001b[1;33m,\u001b[0m \u001b[0mw\u001b[0m\u001b[1;33m,\u001b[0m \u001b[0mdx\u001b[0m\u001b[1;33m)\u001b[0m\u001b[1;33m\u001b[0m\u001b[1;33m\u001b[0m\u001b[0m\n",
      "\u001b[1;31mValueError\u001b[0m: could not broadcast input array from shape (32768) into shape (128)"
     ]
    }
   ],
   "source": [
    "uh0_project = project(test_uh0, basis_from=test_basis['u'], basis_to=base_basis['u'])"
   ]
  },
  {
   "cell_type": "code",
   "execution_count": null,
   "metadata": {},
   "outputs": [],
   "source": [
    "basis_to = InteriorBasis(m, ElementTriMorley(), intorder=3)\n",
    "# test_basis['u']"
   ]
  },
  {
   "cell_type": "code",
   "execution_count": null,
   "metadata": {},
   "outputs": [],
   "source": [
    "uh0_project = project(test_uh0, basis_to, base_basis['u'])"
   ]
  },
  {
   "cell_type": "code",
   "execution_count": null,
   "metadata": {},
   "outputs": [],
   "source": [
    "basis_store['u'].interpolator(uh0_store)(np.array([[x[i][j]], [y[i][j]]]))"
   ]
  },
  {
   "cell_type": "code",
   "execution_count": null,
   "metadata": {},
   "outputs": [],
   "source": []
  },
  {
   "cell_type": "code",
   "execution_count": null,
   "metadata": {},
   "outputs": [],
   "source": []
  },
  {
   "cell_type": "code",
   "execution_count": null,
   "metadata": {},
   "outputs": [],
   "source": [
    "# compute errors\n",
    "U = basis['u'].interpolate(uh0).value\n",
    "\n",
    "L2u = np.sqrt(L2uError.assemble(basis['u'], w=U))\n",
    "Du = get_DuError(basis['u'], uh0)\n",
    "H1u = Du + L2u\n",
    "\n",
    "if penalty:\n",
    "    D2u = np.sqrt(get_D2uError(basis['u'], uh0)**2 + L2pnvError.assemble(fbasis, w=fbasis.interpolate(uh0)))\n",
    "else:\n",
    "    D2u = get_D2uError(basis['u'], uh0)\n",
    "\n",
    "epu = np.sqrt(epsilon**2 * D2u**2 + Du**2)"
   ]
  },
  {
   "cell_type": "code",
   "execution_count": null,
   "metadata": {},
   "outputs": [],
   "source": [
    "uh0_store = uh0\n",
    "basis_store = basis"
   ]
  },
  {
   "cell_type": "code",
   "execution_count": null,
   "metadata": {},
   "outputs": [],
   "source": [
    "%%time\n",
    "m = MeshTri()\n",
    "m.refine(3)\n",
    "\n",
    "if penalty:\n",
    "    uh0, basis, fbasis = solve_problem2(m, element_type, solver_type, intorder=3, tol=1e-8, epsilon=1e-6)\n",
    "else:\n",
    "    uh0, basis = solve_problem1(m, element_type, solver_type, intorder=3, tol=1e-8, epsilon=1e-6)\n",
    "\n",
    "U = basis['u'].interpolate(uh0).value\n",
    "\n",
    "# compute errors\n",
    "\n",
    "L2u = np.sqrt(L2uError.assemble(basis['u'], w=U))\n",
    "Du = get_DuError(basis['u'], uh0)\n",
    "H1u = Du + L2u\n",
    "\n",
    "if penalty:\n",
    "    D2u = np.sqrt(get_D2uError(basis['u'], uh0)**2 + L2pnvError.assemble(fbasis, w=fbasis.interpolate(uh0)))\n",
    "else:\n",
    "    D2u = get_D2uError(basis['u'], uh0)\n",
    "\n",
    "epu = np.sqrt(epsilon**2 * D2u**2 + Du**2)"
   ]
  },
  {
   "cell_type": "code",
   "execution_count": null,
   "metadata": {},
   "outputs": [],
   "source": [
    "L2u"
   ]
  },
  {
   "cell_type": "code",
   "execution_count": null,
   "metadata": {},
   "outputs": [],
   "source": [
    "def exact_u_n(x, y):\n",
    "    return basis_store['u'].interpolator(uh0_store)(np.array([[x], [y]]))"
   ]
  },
  {
   "cell_type": "code",
   "execution_count": null,
   "metadata": {},
   "outputs": [],
   "source": [
    "@Functional\n",
    "def L2uError_h(w):\n",
    "    x, y = w.x\n",
    "    return (w.w - un)**2"
   ]
  },
  {
   "cell_type": "code",
   "execution_count": null,
   "metadata": {},
   "outputs": [],
   "source": [
    "np.sqrt(L2uError_h.assemble(basis['u'], w=U))"
   ]
  },
  {
   "cell_type": "code",
   "execution_count": null,
   "metadata": {},
   "outputs": [],
   "source": [
    "np.sqrt(L2uError_h.assemble(basis['u'], w=U))"
   ]
  },
  {
   "cell_type": "code",
   "execution_count": null,
   "metadata": {},
   "outputs": [],
   "source": [
    "x, y = www.x\n",
    "exact_u(x, y)"
   ]
  },
  {
   "cell_type": "code",
   "execution_count": null,
   "metadata": {},
   "outputs": [],
   "source": [
    "from tqdm import tqdm"
   ]
  },
  {
   "cell_type": "code",
   "execution_count": null,
   "metadata": {},
   "outputs": [],
   "source": [
    "un = np.zeros_like(x)\n",
    "for i in tqdm(range(x.shape[0])):\n",
    "    for j in range(x.shape[1]):\n",
    "        un[i][j] = basis_store['u'].interpolator(uh0_store)(np.array([[x[i][j]], [y[i][j]]]))"
   ]
  },
  {
   "cell_type": "code",
   "execution_count": null,
   "metadata": {},
   "outputs": [],
   "source": [
    "uh0.shape"
   ]
  },
  {
   "cell_type": "code",
   "execution_count": null,
   "metadata": {},
   "outputs": [],
   "source": [
    "un"
   ]
  },
  {
   "cell_type": "code",
   "execution_count": null,
   "metadata": {},
   "outputs": [],
   "source": [
    "U.shape"
   ]
  },
  {
   "cell_type": "code",
   "execution_count": null,
   "metadata": {},
   "outputs": [],
   "source": [
    "uh0.shape"
   ]
  },
  {
   "cell_type": "code",
   "execution_count": null,
   "metadata": {},
   "outputs": [],
   "source": [
    "basis['u'].interpolator(uh0)(np.array([[0.5],[0.5]]))"
   ]
  },
  {
   "cell_type": "code",
   "execution_count": null,
   "metadata": {},
   "outputs": [],
   "source": [
    "m = MeshTri()\n",
    "# m.refine(1)\n",
    "\n",
    "if element_type == 'P1':\n",
    "    element = {'w': ElementTriP1(), 'u': ElementTriMorley()}\n",
    "elif element_type == 'P2':\n",
    "    element = {'w': ElementTriP2(), 'u': ElementTriMorley()}\n",
    "else:\n",
    "    raise Exception(\"The element not supported\")\n",
    "\n",
    "basis = {\n",
    "    variable: InteriorBasis(m, e, intorder=3)\n",
    "    for variable, e in element.items()\n",
    "}"
   ]
  },
  {
   "cell_type": "code",
   "execution_count": null,
   "metadata": {},
   "outputs": [],
   "source": [
    "# basis['u'].dx # weights\n",
    "refine2 = basis['u'].global_coordinates().value"
   ]
  },
  {
   "cell_type": "code",
   "execution_count": null,
   "metadata": {},
   "outputs": [],
   "source": [
    "basis['u'].interpolator(uh0)(np.array([[0.5],[0.5]]))"
   ]
  },
  {
   "cell_type": "markdown",
   "metadata": {},
   "source": [
    "# Solving"
   ]
  },
  {
   "cell_type": "code",
   "execution_count": null,
   "metadata": {
    "code_folding": [
     28,
     30,
     41,
     43
    ],
    "scrolled": false
   },
   "outputs": [],
   "source": [
    "# solving \n",
    "\n",
    "print('=======Arguments=======')\n",
    "print('penalty:\\t{}'.format(penalty))\n",
    "print('element_type:\\t{}'.format(element_type))\n",
    "print('solver_type:\\t{}'.format(solver_type))\n",
    "print('tol:\\t{}'.format(tol))\n",
    "print('intorder:\\t{}'.format(intorder))\n",
    "print('refine_time:\\t{}'.format(refine_time))\n",
    "print('epsilon:\\t{}'.format(epsilon))\n",
    "print('sigma:\\t{}'.format(sigma))\n",
    "print('=======Results=======')\n",
    "\n",
    "time_start = time.time()\n",
    "\n",
    "ep = epsilon\n",
    "df_list = []\n",
    "L2_list = []\n",
    "Du_list = []\n",
    "D2u_list = []\n",
    "h_list = []\n",
    "epu_list = []\n",
    "m = MeshTri()\n",
    "\n",
    "for i in range(1, refine_time+1):\n",
    "\n",
    "    m.refine()\n",
    "\n",
    "    if penalty:\n",
    "        uh0, basis, fbasis = solve_problem2(m, element_type, solver_type, intorder=6, tol=1e-8, epsilon=1e-6)\n",
    "    else:\n",
    "        uh0, basis = solve_problem1(m, element_type, solver_type, intorder=6, tol=1e-8, epsilon=1e-6)\n",
    "\n",
    "    U = basis['u'].interpolate(uh0).value\n",
    "\n",
    "    # compute errors\n",
    "\n",
    "    L2u = np.sqrt(L2uError.assemble(basis['u'], w=U))\n",
    "    Du = get_DuError(basis['u'], uh0)\n",
    "    H1u = Du + L2u\n",
    "    \n",
    "    if penalty:\n",
    "        D2u = np.sqrt(get_D2uError(basis['u'], uh0)**2 + L2pnvError.assemble(fbasis, w=fbasis.interpolate(uh0)))\n",
    "    else:\n",
    "        D2u = get_D2uError(basis['u'], uh0)\n",
    "        \n",
    "    epu = np.sqrt(epsilon**2 * D2u**2 + Du**2)\n",
    "    h_list.append(m.param())\n",
    "    Du_list.append(Du)\n",
    "    L2_list.append(L2u)\n",
    "    D2u_list.append(D2u)\n",
    "    epu_list.append(epu)\n",
    "\n",
    "hs = np.array(h_list)\n",
    "L2s = np.array(L2_list)\n",
    "Dus = np.array(Du_list)\n",
    "D2us = np.array(D2u_list)\n",
    "epus = np.array(epu_list)\n",
    "H1s = L2s + Dus\n",
    "H2s = H1s + D2us\n",
    "\n",
    "# store data\n",
    "data = np.array([L2s, H1s, H2s, epus])\n",
    "df = pd.DataFrame(data.T, columns=['L2', 'H1', 'H2', 'Energy'])\n",
    "df_list.append(df)\n",
    "\n",
    "show_result(L2s, H1s, H2s, epus)\n",
    "\n",
    "# df.to_csv(save_path+'.csv')\n",
    "time_end = time.time()\n",
    "print('Total Time Cost {:.2f} s'.format(time_end-time_start))"
   ]
  }
 ],
 "metadata": {
  "kernelspec": {
   "display_name": "Python 3",
   "language": "python",
   "name": "python3"
  },
  "language_info": {
   "codemirror_mode": {
    "name": "ipython",
    "version": 3
   },
   "file_extension": ".py",
   "mimetype": "text/x-python",
   "name": "python",
   "nbconvert_exporter": "python",
   "pygments_lexer": "ipython3",
   "version": "3.7.4"
  },
  "toc": {
   "base_numbering": 1,
   "nav_menu": {},
   "number_sections": true,
   "sideBar": false,
   "skip_h1_title": false,
   "title_cell": "Table of Contents",
   "title_sidebar": "Contents",
   "toc_cell": false,
   "toc_position": {},
   "toc_section_display": false,
   "toc_window_display": false
  },
  "varInspector": {
   "cols": {
    "lenName": 16,
    "lenType": 16,
    "lenVar": 40
   },
   "kernels_config": {
    "python": {
     "delete_cmd_postfix": "",
     "delete_cmd_prefix": "del ",
     "library": "var_list.py",
     "varRefreshCmd": "print(var_dic_list())"
    },
    "r": {
     "delete_cmd_postfix": ") ",
     "delete_cmd_prefix": "rm(",
     "library": "var_list.r",
     "varRefreshCmd": "cat(var_dic_list()) "
    }
   },
   "types_to_exclude": [
    "module",
    "function",
    "builtin_function_or_method",
    "instance",
    "_Feature"
   ],
   "window_display": false
  }
 },
 "nbformat": 4,
 "nbformat_minor": 4
}
