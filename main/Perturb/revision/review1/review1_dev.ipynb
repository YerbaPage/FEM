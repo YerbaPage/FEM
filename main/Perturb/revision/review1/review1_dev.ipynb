{
 "cells": [
  {
   "cell_type": "markdown",
   "metadata": {},
   "source": [
    "# Init"
   ]
  },
  {
   "cell_type": "code",
   "execution_count": 2,
   "metadata": {
    "code_folding": [],
    "scrolled": false
   },
   "outputs": [],
   "source": [
    "# from skfem import *\n",
    "import numpy as np\n",
    "from utils import *\n",
    "from skfem.helpers import d, dd, ddd, dot, ddot, grad, dddot, prod\n",
    "from scipy.sparse.linalg import LinearOperator, minres\n",
    "# from skfem.models.poisson import *\n",
    "from skfem.assembly import BilinearForm, LinearForm\n",
    "import datetime\n",
    "import pandas as pd\n",
    "from skfem.visuals.matplotlib import draw, plot\n",
    "import sys\n",
    "import time\n",
    "\n",
    "tol = 1e-8\n",
    "intorder = 5\n",
    "solver_type = 'mgcg'\n",
    "refine_time = 5\n",
    "epsilon_range = 2\n",
    "element_type = 'P1'\n",
    "sigma = 5\n",
    "penalty = False\n",
    "# epsilon = 1e-5\n",
    "example = 'ex4'\n",
    "save_path = 'log/' + example + '_' + element_type + '_' + ('pen' if penalty else 'nopen') + '_' +'{}'.format(datetime.datetime.now().strftime(\"%Y-%m-%d_%H-%M-%S\"))"
   ]
  },
  {
   "cell_type": "code",
   "execution_count": 60,
   "metadata": {},
   "outputs": [],
   "source": [
    "def dirichlet(w):\n",
    "    \"\"\"return a harmonic function\"\"\"\n",
    "    global www\n",
    "    www = w\n",
    "    x = w[0]\n",
    "    y = w[1]\n",
    "    cn = complex(x, y)\n",
    "    r, rad = cmath.polar(cn)\n",
    "    theta = math.degrees(rad)\n",
    "    return r ** (5/3) * sin(5 * theta /3)\n",
    "#     return (x**2 + y**2)**(5 / 6) * sin(5 * atan(y / x) / 3) * (x != 0)"
   ]
  },
  {
   "cell_type": "code",
   "execution_count": 83,
   "metadata": {},
   "outputs": [],
   "source": [
    "def dirichlet(w):\n",
    "    \"\"\"return a harmonic function\"\"\"\n",
    "    global x, y\n",
    "    x, y = w\n",
    "    out = np.zeros_like(x)\n",
    "    for i in range(x.shape[0]):\n",
    "        for j in range(x.shape[1]):\n",
    "            if x[i, j] != 0:\n",
    "                out[i, j] = (x[i, j]**2 + y[i, j]**2)**(5 / 6) * sin(5 * atan(y[i, j] / x[i, j]) / 3)\n",
    "            else:\n",
    "                out[i, j] = 0\n",
    "    return out"
   ]
  },
  {
   "cell_type": "code",
   "execution_count": 84,
   "metadata": {
    "code_folding": []
   },
   "outputs": [],
   "source": [
    "def solve_problem1(m, element_type='P1', solver_type='pcg', intorder=6, tol=1e-8, epsilon=1e-6):\n",
    "    '''\n",
    "    switching to mgcg solver for problem 1\n",
    "    '''\n",
    "    if element_type == 'P1':\n",
    "        element = {'w': ElementTriP1(), 'u': ElementTriMorley()}\n",
    "    elif element_type == 'P2':\n",
    "        element = {'w': ElementTriP2(), 'u': ElementTriMorley()}\n",
    "    else:\n",
    "        raise Exception(\"Element not supported\")\n",
    "\n",
    "    basis = {\n",
    "        variable: InteriorBasis(m, e, intorder=intorder)\n",
    "        for variable, e in element.items()\n",
    "    }\n",
    "    \n",
    "    K1 = asm(laplace, basis['w'])\n",
    "    f1 = asm(f_load, basis['w'])\n",
    "\n",
    "    wh = solve(*condense(K1, f1, D=basis['w'].find_dofs()), solver=solver_iter_mgcg(tol=tol))\n",
    "    \n",
    "    global K2, f2, uh0, boundary_dofs, boundary_basis\n",
    "    K2 = epsilon**2 * asm(a_load, basis['u']) + asm(b_load, basis['u'])\n",
    "    f2 = asm(wv_load, basis['w'], basis['u']) * wh\n",
    "    \n",
    "    boundary_basis = FacetBasis(m, element['u'])\n",
    "    boundary_dofs = boundary_basis.find_dofs()['all'].all()\n",
    "    uh0 = np.zeros(basis['u'].N)\n",
    "    uh0[boundary_dofs] = project(dirichlet, basis_to=boundary_basis, I=boundary_dofs)\n",
    "\n",
    "#     uh0 = solve(*condense(K2, f2, D=easy_boundary(m, basis['u'])), solver=solver_iter_mgcg(tol=tol))\n",
    "#     uh0 = solve(*condense(K2, f2, D=basis['u'].find_dofs()), solver=solver_iter_mgcg(tol=tol))\n",
    "    uh0 = solve(*condense(K2, f2, uh0, D=boundary_dofs), solver=solver_iter_krylov(minres, tol=tol))\n",
    "\n",
    "    return uh0, basis"
   ]
  },
  {
   "cell_type": "markdown",
   "metadata": {},
   "source": [
    "# Solving"
   ]
  },
  {
   "cell_type": "code",
   "execution_count": 85,
   "metadata": {},
   "outputs": [
    {
     "data": {
      "text/plain": [
       "<matplotlib.axes._subplots.AxesSubplot at 0x1db0b7dcf08>"
      ]
     },
     "execution_count": 85,
     "metadata": {},
     "output_type": "execute_result"
    },
    {
     "data": {
      "image/png": "[encoded data removed]",
      "text/plain": [
       "<Figure size 432x288 with 1 Axes>"
      ]
     },
     "metadata": {
      "needs_background": "light"
     },
     "output_type": "display_data"
    }
   ],
   "source": [
    "m = MeshTri().init_lshaped()\n",
    "m.refine()\n",
    "draw(m)"
   ]
  },
  {
   "cell_type": "code",
   "execution_count": 86,
   "metadata": {},
   "outputs": [],
   "source": [
    "uh0 = np.zeros(basis['u'].N)"
   ]
  },
  {
   "cell_type": "code",
   "execution_count": 91,
   "metadata": {
    "scrolled": true
   },
   "outputs": [
    {
     "name": "stderr",
     "output_type": "stream",
     "text": [
      "C:\\Users\\ASUS\\Anaconda3\\lib\\site-packages\\scipy\\sparse\\linalg\\dsolve\\linsolve.py:198: MatrixRankWarning: Matrix is exactly singular\n",
      "  warn(\"Matrix is exactly singular\", MatrixRankWarning)\n"
     ]
    }
   ],
   "source": [
    "uh0[boundary_dofs] = project(dirichlet, basis_to=boundary_basis, I=boundary_dofs)"
   ]
  },
  {
   "cell_type": "code",
   "execution_count": null,
   "metadata": {},
   "outputs": [],
   "source": []
  },
  {
   "cell_type": "code",
   "execution_count": 29,
   "metadata": {},
   "outputs": [],
   "source": [
    "epsilon = 0\n",
    "ep = epsilon"
   ]
  },
  {
   "cell_type": "code",
   "execution_count": 89,
   "metadata": {},
   "outputs": [
    {
     "data": {
      "text/plain": [
       "matrix([[1.5       , 0.        , 0.        , ..., 0.        , 0.        ,\n",
       "         0.        ],\n",
       "        [0.        , 0.33333333, 0.        , ..., 0.        , 0.        ,\n",
       "         0.        ],\n",
       "        [0.        , 0.        , 0.33333333, ..., 0.        , 0.        ,\n",
       "         0.        ],\n",
       "        ...,\n",
       "        [0.        , 0.        , 0.        , ..., 0.08333333, 0.        ,\n",
       "         0.        ],\n",
       "        [0.        , 0.        , 0.        , ..., 0.        , 0.08333333,\n",
       "         0.        ],\n",
       "        [0.        , 0.        , 0.        , ..., 0.        , 0.        ,\n",
       "         0.08333333]])"
      ]
     },
     "execution_count": 89,
     "metadata": {},
     "output_type": "execute_result"
    }
   ],
   "source": [
    "K2.todense()"
   ]
  },
  {
   "cell_type": "code",
   "execution_count": 81,
   "metadata": {},
   "outputs": [
    {
     "data": {
      "text/plain": [
       "array([0., 0., 0., 0., 0., 0., 0., 0., 0., 0., 0., 0., 0., 0., 0., 0., 0.,\n",
       "       0., 0., 0., 0., 0., 0., 0., 0., 0., 0., 0., 0., 0., 0., 0., 0., 0.,\n",
       "       0., 0., 0., 0., 0., 0., 0., 0., 0., 0., 0., 0., 0., 0., 0., 0., 0.,\n",
       "       0., 0., 0., 0., 0., 0., 0., 0., 0., 0., 0., 0., 0., 0.])"
      ]
     },
     "execution_count": 81,
     "metadata": {},
     "output_type": "execute_result"
    }
   ],
   "source": [
    "f2"
   ]
  },
  {
   "cell_type": "code",
   "execution_count": 90,
   "metadata": {},
   "outputs": [
    {
     "data": {
      "text/plain": [
       "array([nan, nan, nan, nan, nan, nan, nan, nan, nan, nan,  0.,  0.,  0.,\n",
       "        0.,  0., nan, nan, nan, nan, nan, nan, nan, nan,  0.,  0.,  0.,\n",
       "        0.,  0., nan, nan, nan, nan,  0., nan, nan,  0., nan, nan,  0.,\n",
       "       nan, nan,  0., nan, nan,  0., nan, nan,  0.,  0.,  0.,  0.,  0.,\n",
       "        0.,  0.,  0.,  0.,  0.,  0.,  0.,  0.,  0.,  0.,  0.,  0.,  0.])"
      ]
     },
     "execution_count": 90,
     "metadata": {},
     "output_type": "execute_result"
    }
   ],
   "source": [
    "uh0"
   ]
  },
  {
   "cell_type": "code",
   "execution_count": null,
   "metadata": {},
   "outputs": [],
   "source": []
  },
  {
   "cell_type": "code",
   "execution_count": 88,
   "metadata": {},
   "outputs": [
    {
     "data": {
      "text/plain": [
       "(<33x33 sparse matrix of type '<class 'numpy.float64'>'\n",
       " \twith 213 stored elements in Compressed Sparse Row format>,\n",
       " array([nan, nan, nan, nan, nan,  0.,  0., nan, nan, nan, nan, nan, nan,\n",
       "        nan, nan, nan, nan, nan, nan, nan, nan, nan, nan, nan, nan, nan,\n",
       "        nan, nan, nan, nan, nan, nan, nan]),\n",
       " array([nan, nan, nan, nan, nan, nan, nan, nan, nan, nan,  0.,  0.,  0.,\n",
       "         0.,  0., nan, nan, nan, nan, nan, nan, nan, nan,  0.,  0.,  0.,\n",
       "         0.,  0., nan, nan, nan, nan,  0., nan, nan,  0., nan, nan,  0.,\n",
       "        nan, nan,  0., nan, nan,  0., nan, nan,  0.,  0.,  0.,  0.,  0.,\n",
       "         0.,  0.,  0.,  0.,  0.,  0.,  0.,  0.,  0.,  0.,  0.,  0.,  0.]),\n",
       " array([10, 11, 12, 13, 14, 23, 24, 25, 26, 27, 32, 35, 38, 41, 44, 47, 48,\n",
       "        49, 50, 51, 52, 53, 54, 55, 56, 57, 58, 59, 60, 61, 62, 63, 64]))"
      ]
     },
     "execution_count": 88,
     "metadata": {},
     "output_type": "execute_result"
    }
   ],
   "source": [
    "condense(K2, f2, uh0, D=boundary_dofs)"
   ]
  },
  {
   "cell_type": "code",
   "execution_count": null,
   "metadata": {},
   "outputs": [],
   "source": [
    "uh0, boundary_dofs"
   ]
  },
  {
   "cell_type": "code",
   "execution_count": 45,
   "metadata": {
    "scrolled": true
   },
   "outputs": [
    {
     "name": "stderr",
     "output_type": "stream",
     "text": [
      "C:\\Users\\ASUS\\Anaconda3\\lib\\site-packages\\ipykernel_launcher.py:5: RuntimeWarning: divide by zero encountered in true_divide\n",
      "  \"\"\"\n",
      "C:\\Users\\ASUS\\Anaconda3\\lib\\site-packages\\scipy\\sparse\\linalg\\dsolve\\linsolve.py:198: MatrixRankWarning: Matrix is exactly singular\n",
      "  warn(\"Matrix is exactly singular\", MatrixRankWarning)\n",
      "C:\\Users\\ASUS\\Anaconda3\\lib\\site-packages\\skfem\\utils.py:307: UserWarning: Convergence not achieved!\n",
      "  warnings.warn(\"Convergence not achieved!\")\n"
     ]
    }
   ],
   "source": [
    "uh0, basis = solve_problem1(m, element_type, solver_type, intorder, tol, epsilon)"
   ]
  },
  {
   "cell_type": "code",
   "execution_count": 25,
   "metadata": {},
   "outputs": [
    {
     "data": {
      "text/plain": [
       "array([nan, nan, nan, nan, nan, nan, nan, nan, nan, nan, nan, nan, nan,\n",
       "       nan, nan, nan, nan, nan, nan, nan, nan, nan, nan, nan, nan, nan,\n",
       "       nan, nan, nan, nan, nan, nan, nan, nan, nan, nan, nan, nan, nan,\n",
       "       nan, nan, nan, nan, nan, nan, nan, nan, nan, nan, nan, nan, nan,\n",
       "       nan, nan, nan, nan, nan, nan, nan, nan, nan, nan, nan, nan, nan])"
      ]
     },
     "execution_count": 25,
     "metadata": {},
     "output_type": "execute_result"
    }
   ],
   "source": [
    "uh0"
   ]
  },
  {
   "cell_type": "code",
   "execution_count": null,
   "metadata": {},
   "outputs": [],
   "source": []
  },
  {
   "cell_type": "code",
   "execution_count": null,
   "metadata": {},
   "outputs": [],
   "source": [
    "time_start = time.time()\n",
    "\n",
    "print('=======Arguments=======')\n",
    "print('penalty:\\t{}'.format(penalty))\n",
    "print('element_type:\\t{}'.format(element_type))\n",
    "print('solver_type:\\t{}'.format(solver_type))\n",
    "print('tol:\\t{}'.format(tol))\n",
    "print('intorder:\\t{}'.format(intorder))\n",
    "print('refine_time:\\t{}'.format(refine_time))\n",
    "print('sigma:\\t{}'.format(sigma))\n",
    "print('=======Results=======')\n",
    "\n",
    "df_list = []\n",
    "for j in range(epsilon_range):\n",
    "    epsilon = 1 * 10**(-j)\n",
    "    ep = epsilon\n",
    "    L2_list = []\n",
    "    Du_list = []\n",
    "    D2u_list = []\n",
    "    h_list = []\n",
    "    epu_list = []\n",
    "    m = MeshTri().init_lshaped()\n",
    "#     draw(m)\n",
    "\n",
    "    for i in range(1, refine_time+1):\n",
    "        \n",
    "        m.refine()\n",
    "        \n",
    "        if penalty:\n",
    "            uh0, basis, fbasis = solve_problem2(m, element_type, solver_type, intorder, tol, epsilon)\n",
    "        else:\n",
    "            uh0, basis = solve_problem1(m, element_type, solver_type, intorder, tol, epsilon)\n",
    "\n",
    "        U = basis['u'].interpolate(uh0).value\n",
    "\n",
    "        # compute errors\n",
    "\n",
    "        L2u = np.sqrt(L2uError.assemble(basis['u'], w=U))\n",
    "        Du = get_DuError(basis['u'], uh0)\n",
    "        H1u = Du + L2u\n",
    "        if penalty:\n",
    "            D2u = np.sqrt(get_D2uError(basis['u'], uh0)**2 + L2pnvError.assemble(fbasis, w=fbasis.interpolate(uh0)))\n",
    "        else:\n",
    "            D2u = get_D2uError(basis['u'], uh0)\n",
    "        epu = np.sqrt(epsilon**2 * D2u**2 + Du**2)\n",
    "        h_list.append(m.param())\n",
    "        Du_list.append(Du)\n",
    "        L2_list.append(L2u)\n",
    "        D2u_list.append(D2u)\n",
    "        epu_list.append(epu)\n",
    "        \n",
    "    hs = np.array(h_list)\n",
    "    L2s = np.array(L2_list)\n",
    "    Dus = np.array(Du_list)\n",
    "    D2us = np.array(D2u_list)\n",
    "    epus = np.array(epu_list)\n",
    "    H1s = L2s + Dus\n",
    "    H2s = H1s + D2us\n",
    "    \n",
    "    # store data\n",
    "    data = np.array([L2s, H1s, H2s, epus])\n",
    "    df = pd.DataFrame(data.T, columns=['L2', 'H1', 'H2', 'Energy'])\n",
    "    df_list.append(df)\n",
    "    \n",
    "    print('epsilion:', epsilon)\n",
    "    show_result(L2s, H1s, H2s, epus)\n",
    "\n",
    "time_end = time.time()\n",
    "\n",
    "result = df_list[0].append(df_list[1:])\n",
    "result.to_csv(save_path+'.csv')\n",
    "print('======= Errors saved in:', save_path+'.csv ==========')\n",
    "print('Total Time Cost {:.2f} s'.format(time_end-time_start))"
   ]
  },
  {
   "cell_type": "code",
   "execution_count": null,
   "metadata": {},
   "outputs": [],
   "source": []
  }
 ],
 "metadata": {
  "kernelspec": {
   "display_name": "Python 3",
   "language": "python",
   "name": "python3"
  },
  "language_info": {
   "codemirror_mode": {
    "name": "ipython",
    "version": 3
   },
   "file_extension": ".py",
   "mimetype": "text/x-python",
   "name": "python",
   "nbconvert_exporter": "python",
   "pygments_lexer": "ipython3",
   "version": "3.7.4"
  },
  "toc": {
   "base_numbering": 1,
   "nav_menu": {},
   "number_sections": true,
   "sideBar": false,
   "skip_h1_title": false,
   "title_cell": "Table of Contents",
   "title_sidebar": "Contents",
   "toc_cell": false,
   "toc_position": {},
   "toc_section_display": false,
   "toc_window_display": false
  },
  "varInspector": {
   "cols": {
    "lenName": 16,
    "lenType": 16,
    "lenVar": 40
   },
   "kernels_config": {
    "python": {
     "delete_cmd_postfix": "",
     "delete_cmd_prefix": "del ",
     "library": "var_list.py",
     "varRefreshCmd": "print(var_dic_list())"
    },
    "r": {
     "delete_cmd_postfix": ") ",
     "delete_cmd_prefix": "rm(",
     "library": "var_list.r",
     "varRefreshCmd": "cat(var_dic_list()) "
    }
   },
   "types_to_exclude": [
    "module",
    "function",
    "builtin_function_or_method",
    "instance",
    "_Feature"
   ],
   "window_display": false
  }
 },
 "nbformat": 4,
 "nbformat_minor": 4
}
