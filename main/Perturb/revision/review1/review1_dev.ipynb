{
 "cells": [
  {
   "cell_type": "markdown",
   "metadata": {},
   "source": [
    "# Init"
   ]
  },
  {
   "cell_type": "code",
   "execution_count": 1,
   "metadata": {
    "code_folding": [],
    "scrolled": false
   },
   "outputs": [],
   "source": [
    "# from skfem import *\n",
    "import numpy as np\n",
    "from utils import *\n",
    "from skfem.helpers import d, dd, ddd, dot, ddot, grad, dddot, prod\n",
    "from scipy.sparse.linalg import LinearOperator, minres\n",
    "# from skfem.models.poisson import *\n",
    "from skfem.assembly import BilinearForm, LinearForm\n",
    "import datetime\n",
    "import pandas as pd\n",
    "from skfem.visuals.matplotlib import draw, plot\n",
    "import sys\n",
    "import time\n",
    "\n",
    "tol = 1e-8\n",
    "intorder = 5\n",
    "solver_type = 'mgcg'\n",
    "refine_time = 5\n",
    "epsilon_range = 6\n",
    "element_type = 'P1'\n",
    "sigma = 5\n",
    "penalty = False\n",
    "# epsilon = 1e-5\n",
    "example = 'ex4'\n",
    "save_path = 'log/' + example + '_' + element_type + '_' + ('pen' if penalty else 'nopen') + '_' +'{}'.format(datetime.datetime.now().strftime(\"%Y-%m-%d_%H-%M-%S\"))"
   ]
  },
  {
   "cell_type": "code",
   "execution_count": 2,
   "metadata": {},
   "outputs": [],
   "source": [
    "def dirichlet(w):\n",
    "    \"\"\"return a harmonic function\"\"\"\n",
    "    global out\n",
    "    x, y = w\n",
    "    out = np.zeros_like(x)\n",
    "    if x.ndim == 2:\n",
    "        for i in range(x.shape[0]):\n",
    "            for j in range(x.shape[1]):\n",
    "                if x[i, j] != 0:\n",
    "                    out[i, j] = (x[i, j]**2 + y[i, j]**2)**(5 / 6) * sin(5 * atan(y[i, j] / x[i, j]) / 3)\n",
    "                elif y[i, j] > 0:\n",
    "                    out[i, j] = (x[i, j]**2 + y[i, j]**2)**(5 / 6) * sin(90 * 5 / 3)\n",
    "                else:\n",
    "                    out[i, j] = (x[i, j]**2 + y[i, j]**2)**(5 / 6) * sin(270 * 5 / 3)\n",
    "    elif x.ndim == 1:\n",
    "        for i in range(x.shape[0]):\n",
    "            if x[i] != 0:\n",
    "                out[i] = (x[i]**2 + y[i]**2)**(5 / 6) * sin(5 * atan(y[i] / x[i]) / 3)\n",
    "            elif y[i] > 0:\n",
    "                out[i] = (x[i]**2 + y[i]**2)**(5 / 6) * sin(90 * 5 / 3)\n",
    "            else:\n",
    "                out[i] = (x[i]**2 + y[i]**2)**(5 / 6) * sin(270 * 5 / 3)\n",
    "    else:\n",
    "        raise Exception(\"dim not supported\")\n",
    "    return out"
   ]
  },
  {
   "cell_type": "code",
   "execution_count": 74,
   "metadata": {
    "code_folding": []
   },
   "outputs": [],
   "source": [
    "def solve_problem1(m, element_type='P1', solver_type='pcg', intorder=6, tol=1e-8, epsilon=1e-6):\n",
    "    '''\n",
    "    switching to mgcg solver for problem 1\n",
    "    '''\n",
    "    if element_type == 'P1':\n",
    "        element = {'w': ElementTriP1(), 'u': ElementTriMorley()}\n",
    "    elif element_type == 'P2':\n",
    "        element = {'w': ElementTriP2(), 'u': ElementTriMorley()}\n",
    "    else:\n",
    "        raise Exception(\"Element not supported\")\n",
    "\n",
    "    basis = {\n",
    "        variable: InteriorBasis(m, e, intorder=intorder)\n",
    "        for variable, e in element.items()\n",
    "    }\n",
    "    \n",
    "    K1 = asm(laplace, basis['w'])\n",
    "    f1 = asm(f_load, basis['w'])\n",
    "    wh = solve(*condense(K1, f1, D=basis['w'].find_dofs()), solver=solver_iter_mgcg(tol=tol))\n",
    "    \n",
    "    global K2, f2, uh0, boundary_dofs, boundary_basis\n",
    "    K2 = epsilon**2 * asm(a_load, basis['u']) + asm(b_load, basis['u'])\n",
    "    f2 = asm(wv_load, basis['w'], basis['u']) * wh\n",
    "    \n",
    "#     boundary_basis = FacetBasis(m, element['w'])\n",
    "    boundary_basis = FacetBasis(m, ElementTriMorley())\n",
    "#     boundary_dofs = boundary_basis.find_dofs()\n",
    "#     boundary_dofs = boundary_basis.find_dofs()['all'].all()\n",
    "    boundary_dofs = basis['u'].nodal_dofs[0]\n",
    "    uh0 = np.zeros(basis['u'].N)\n",
    "#     uh0[boundary_dofs] = pproject(dirichlet, basis_to=boundary_basis, I=boundary_dofs, solver=minres)\n",
    "    uh0[boundary_dofs] = exact_u(boundary_basis.doflocs[0][boundary_dofs], boundary_basis.doflocs[1][boundary_dofs])\n",
    "\n",
    "#     uh0 = solve(*condense(K2, f2, D=easy_boundary(m, basis['u'])), solver=solver_iter_mgcg(tol=tol))\n",
    "#     uh0 = solve(*condense(K2, f2, D=basis['u'].find_dofs()), solver=solver_iter_mgcg(tol=tol))\n",
    "#     uh0 = solve(*condense(K2, f2, uh0, D=boundary_dofs), solver=solver_iter_krylov(minres, tol=tol))\n",
    "\n",
    "    uh0 = solve(*condense(K2, f2, uh0, D=boundary_dofs), solver=solver_iter_mgcg(tol=tol))\n",
    "#     uh0 = solve(*condense(K2, f2, uh0, D=basis['u'].find_dofs()), solver=solver_iter_mgcg(tol=tol))\n",
    "\n",
    "    return uh0, basis"
   ]
  },
  {
   "cell_type": "markdown",
   "metadata": {},
   "source": [
    "# Solving"
   ]
  },
  {
   "cell_type": "code",
   "execution_count": 77,
   "metadata": {},
   "outputs": [
    {
     "data": {
      "text/plain": [
       "(25,)"
      ]
     },
     "execution_count": 77,
     "metadata": {},
     "output_type": "execute_result"
    }
   ],
   "source": [
    "uh0.shape"
   ]
  },
  {
   "cell_type": "code",
   "execution_count": 78,
   "metadata": {},
   "outputs": [
    {
     "data": {
      "text/plain": [
       "(9,)"
      ]
     },
     "execution_count": 78,
     "metadata": {},
     "output_type": "execute_result"
    }
   ],
   "source": [
    "boundary_dofs.shape"
   ]
  },
  {
   "cell_type": "code",
   "execution_count": 79,
   "metadata": {},
   "outputs": [
    {
     "data": {
      "text/plain": [
       "array([[ 9, 10, 11, 12, 13, 14, 15, 16, 17, 18, 19, 20, 21, 22, 23, 24]],\n",
       "      dtype=int64)"
      ]
     },
     "execution_count": 79,
     "metadata": {},
     "output_type": "execute_result"
    }
   ],
   "source": [
    "basis['u'].facet_dofs"
   ]
  },
  {
   "cell_type": "code",
   "execution_count": 80,
   "metadata": {},
   "outputs": [
    {
     "data": {
      "text/plain": [
       "array([0, 1, 2, 3, 4, 5, 6, 7, 8], dtype=int64)"
      ]
     },
     "execution_count": 80,
     "metadata": {},
     "output_type": "execute_result"
    }
   ],
   "source": [
    "basis['u'].nodal_dofs[0]"
   ]
  },
  {
   "cell_type": "code",
   "execution_count": 87,
   "metadata": {},
   "outputs": [
    {
     "data": {
      "text/plain": [
       "DofsView(obj=<skfem.assembly.dofs.Dofs object at 0x0000013340595A88>, nodal_ix=array([0, 1, 2, 3, 4, 5, 7, 8], dtype=int64), facet_ix=array([0, 1, 2, 4, 5, 7, 8, 9], dtype=int64), edge_ix=array([], dtype=int64), interior_ix=array([], dtype=int64), nodal_rows=[0], facet_rows=[0], edge_rows=slice(0, 0, None), interior_rows=slice(0, 0, None))"
      ]
     },
     "execution_count": 87,
     "metadata": {},
     "output_type": "execute_result"
    }
   ],
   "source": [
    "basis['u'].get_dofs()"
   ]
  },
  {
   "cell_type": "code",
   "execution_count": 81,
   "metadata": {
    "scrolled": true
   },
   "outputs": [
    {
     "data": {
      "text/plain": [
       "array([ 0,  1,  2,  3,  4,  5,  7,  8,  9, 10, 11, 13, 14, 16, 17, 18],\n",
       "      dtype=int64)"
      ]
     },
     "execution_count": 81,
     "metadata": {},
     "output_type": "execute_result"
    }
   ],
   "source": [
    "basis['u'].find_dofs()['all'].all()"
   ]
  },
  {
   "cell_type": "code",
   "execution_count": 82,
   "metadata": {
    "scrolled": true
   },
   "outputs": [
    {
     "data": {
      "text/plain": [
       "array([ 0.06039381,  0.00219734, -0.10620383,  1.67907194,  0.01617271,\n",
       "       -0.39572361, -0.00593184,  0.81326571,  1.36048329])"
      ]
     },
     "execution_count": 82,
     "metadata": {},
     "output_type": "execute_result"
    }
   ],
   "source": [
    "pproject(dirichlet, basis_to=boundary_basis, I=boundary_dofs, solver=minres)"
   ]
  },
  {
   "cell_type": "code",
   "execution_count": 68,
   "metadata": {},
   "outputs": [
    {
     "data": {
      "text/plain": [
       "array([-0.        ,  0.        , -0.71487643,  1.72108416])"
      ]
     },
     "execution_count": 68,
     "metadata": {},
     "output_type": "execute_result"
    }
   ],
   "source": [
    "exact_u(boundary_basis.doflocs[0][boundary_dofs], boundary_basis.doflocs[1][boundary_dofs])"
   ]
  },
  {
   "cell_type": "code",
   "execution_count": 69,
   "metadata": {},
   "outputs": [
    {
     "data": {
      "text/plain": [
       "array([0, 1, 2, 3], dtype=int64)"
      ]
     },
     "execution_count": 69,
     "metadata": {},
     "output_type": "execute_result"
    }
   ],
   "source": [
    "boundary_dofs"
   ]
  },
  {
   "cell_type": "code",
   "execution_count": 76,
   "metadata": {},
   "outputs": [
    {
     "data": {
      "text/plain": [
       "<matplotlib.axes._subplots.AxesSubplot at 0x1333ffac0c8>"
      ]
     },
     "execution_count": 76,
     "metadata": {},
     "output_type": "execute_result"
    },
    {
     "data": {
      "image/png": "[encoded data removed]",
      "text/plain": [
       "<Figure size 432x288 with 1 Axes>"
      ]
     },
     "metadata": {
      "needs_background": "light"
     },
     "output_type": "display_data"
    },
    {
     "data": {
      "image/png": "[encoded data removed]",
      "text/plain": [
       "<Figure size 432x288 with 2 Axes>"
      ]
     },
     "metadata": {
      "needs_background": "light"
     },
     "output_type": "display_data"
    }
   ],
   "source": [
    "# m = MeshTri().init_lshaped()\n",
    "m = MeshTri()\n",
    "m.refine()\n",
    "draw(m)\n",
    "\n",
    "epsilon = 0\n",
    "ep = epsilon\n",
    "\n",
    "uh0, basis = solve_problem1(m, element_type, solver_type, intorder, tol, epsilon)\n",
    "\n",
    "x = basis['u'].doflocs[0]\n",
    "y = basis['u'].doflocs[1]\n",
    "u = exact_u(x, y)\n",
    "plot(basis['u'], u-uh0, colorbar=True)"
   ]
  },
  {
   "cell_type": "code",
   "execution_count": 33,
   "metadata": {},
   "outputs": [
    {
     "data": {
      "text/plain": [
       "<matplotlib.axes._subplots.AxesSubplot at 0x1333e93be48>"
      ]
     },
     "execution_count": 33,
     "metadata": {},
     "output_type": "execute_result"
    },
    {
     "data": {
      "image/png": "[encoded data removed]",
      "text/plain": [
       "<Figure size 432x288 with 2 Axes>"
      ]
     },
     "metadata": {
      "needs_background": "light"
     },
     "output_type": "display_data"
    }
   ],
   "source": [
    "plot(basis['u'], u, colorbar=True)"
   ]
  },
  {
   "cell_type": "code",
   "execution_count": 34,
   "metadata": {},
   "outputs": [
    {
     "data": {
      "text/plain": [
       "<matplotlib.axes._subplots.AxesSubplot at 0x1333ea59648>"
      ]
     },
     "execution_count": 34,
     "metadata": {},
     "output_type": "execute_result"
    },
    {
     "data": {
      "image/png": "[encoded data removed]",
      "text/plain": [
       "<Figure size 432x288 with 2 Axes>"
      ]
     },
     "metadata": {
      "needs_background": "light"
     },
     "output_type": "display_data"
    }
   ],
   "source": [
    "plot(basis['u'], uh0, colorbar=True)"
   ]
  },
  {
   "cell_type": "code",
   "execution_count": 31,
   "metadata": {
    "scrolled": true
   },
   "outputs": [
    {
     "data": {
      "text/plain": [
       "array([-0.        ,  0.        , -0.71487643,  1.72108416,  0.        ,\n",
       "       -0.22517197,  0.54210754,  0.84077245,  1.159291  ,  0.        ,\n",
       "       -0.07092472,  0.        ,  0.34534261,  0.41762199, -0.44258812,\n",
       "        0.58959925,  0.8443497 ,  1.27411462,  1.45003215,  0.17075318,\n",
       "        0.26482673,  0.36515378,  0.6985417 ,  0.83921196,  1.06554275,\n",
       "        0.        , -0.02233989,  0.        ,  0.19073244,  0.20845361,\n",
       "       -0.57223937,  0.56088129,  0.67618834,  1.4957281 ,  1.58777283,\n",
       "        0.        ,  0.        ,  0.10877611,  0.13154268, -0.13940652,\n",
       "       -0.32661115,  0.18571213,  0.26595349,  0.46266461,  0.58398988,\n",
       "        0.40132096,  0.45673151,  0.62241818,  0.68791595,  0.62818723,\n",
       "        1.05592577,  0.77115252,  0.96972605,  1.00516004,  1.30738386,\n",
       "        0.9962813 ,  1.12850593,  0.05378388,  0.08341519,  0.11501623,\n",
       "        0.17215155,  0.15251682,  0.3823159 ,  0.30634751,  0.52053178,\n",
       "        0.57555143,  0.45387108,  0.35545335,  0.71323428,  0.47355358,\n",
       "        0.71773023,  0.85810377,  1.37768162,  1.17176985,  1.25544388,\n",
       "        0.22002685,  0.2643352 ,  0.33562494,  0.7863251 ,  0.8800392 ,\n",
       "        0.95490117])"
      ]
     },
     "execution_count": 31,
     "metadata": {},
     "output_type": "execute_result"
    }
   ],
   "source": [
    "exact_u(x, y)"
   ]
  },
  {
   "cell_type": "code",
   "execution_count": null,
   "metadata": {},
   "outputs": [],
   "source": [
    "dirichlet([x, y])"
   ]
  },
  {
   "cell_type": "code",
   "execution_count": null,
   "metadata": {},
   "outputs": [],
   "source": [
    "exact_u(np.array([-0.00000]), np.array([0.8]))"
   ]
  },
  {
   "cell_type": "code",
   "execution_count": null,
   "metadata": {},
   "outputs": [],
   "source": [
    "dirichlet([np.array([[-0.00000]]), np.array([[0.8]])])"
   ]
  },
  {
   "cell_type": "code",
   "execution_count": null,
   "metadata": {},
   "outputs": [],
   "source": [
    "boundary_basis.mesh"
   ]
  },
  {
   "cell_type": "code",
   "execution_count": null,
   "metadata": {},
   "outputs": [],
   "source": [
    "exact_u(boundary_basis.doflocs[0], boundary_basis.doflocs[1])"
   ]
  },
  {
   "cell_type": "code",
   "execution_count": null,
   "metadata": {
    "scrolled": false
   },
   "outputs": [],
   "source": [
    "pproject(dirichlet, basis_to=boundary_basis, I=boundary_dofs, solver=minres)"
   ]
  },
  {
   "cell_type": "code",
   "execution_count": null,
   "metadata": {
    "scrolled": true
   },
   "outputs": [],
   "source": [
    "(uh0 - u)[:30]"
   ]
  },
  {
   "cell_type": "code",
   "execution_count": null,
   "metadata": {},
   "outputs": [],
   "source": [
    "u"
   ]
  },
  {
   "cell_type": "code",
   "execution_count": null,
   "metadata": {},
   "outputs": [],
   "source": []
  },
  {
   "cell_type": "code",
   "execution_count": 96,
   "metadata": {},
   "outputs": [
    {
     "name": "stdout",
     "output_type": "stream",
     "text": [
      "=======Arguments=======\n",
      "penalty:\tFalse\n",
      "element_type:\tP2\n",
      "solver_type:\tmgcg\n",
      "tol:\t1e-08\n",
      "intorder:\t5\n",
      "refine_time:\t5\n",
      "sigma:\t5\n",
      "=======Results=======\n",
      "epsilion: 1\n",
      "  h    L2u   H1u   H2u   epu\n",
      "2^-2  0.52  -0.14  -0.70  -0.84\n",
      "2^-2  1.640e-01  1.321e+00  6.977e+00  5.773e+00\n",
      "2^-3  0.50  -0.33  -1.07  -1.18\n",
      "2^-3  1.159e-01  1.665e+00  1.468e+01  1.311e+01\n",
      "2^-4  0.50  -0.42  -1.32  -1.40\n",
      "2^-4  8.211e-02  2.236e+00  3.665e+01  3.448e+01\n",
      "2^-5  0.50  -0.47  -1.43  -1.47\n",
      "2^-5  5.813e-02  3.086e+00  9.865e+01  9.561e+01\n",
      "epsilion: 0.1\n",
      "  h    L2u   H1u   H2u   epu\n",
      "2^-2  0.60  0.16  -0.47  -0.11\n",
      "2^-2  1.728e-01  1.338e+00  1.049e+01  1.482e+00\n",
      "2^-3  0.55  -0.24  -0.63  -0.48\n",
      "2^-3  1.177e-01  1.579e+00  1.618e+01  2.065e+00\n",
      "2^-4  0.51  -0.47  -1.19  -0.98\n",
      "2^-4  8.243e-02  2.189e+00  3.690e+01  4.061e+00\n",
      "2^-5  0.50  -0.49  -1.42  -1.30\n",
      "2^-5  5.819e-02  3.069e+00  9.868e+01  1.002e+01\n",
      "epsilion: 0.01\n",
      "  h    L2u   H1u   H2u   epu\n",
      "2^-2  0.56  0.01  -0.97  -0.08\n",
      "2^-2  1.797e-01  1.646e+00  1.823e+01  1.476e+00\n",
      "2^-3  0.53  -0.10  -1.06  -0.19\n",
      "2^-3  1.246e-01  1.766e+00  3.792e+01  1.681e+00\n",
      "2^-4  0.51  -0.21  -1.04  -0.32\n",
      "2^-4  8.739e-02  2.049e+00  7.809e+01  2.104e+00\n",
      "2^-5  0.52  -0.38  -0.93  -0.51\n",
      "2^-5  6.082e-02  2.669e+00  1.492e+02  2.992e+00\n",
      "epsilion: 0.001\n",
      "  h    L2u   H1u   H2u   epu\n",
      "2^-2  0.56  0.00  -0.99  -0.08\n",
      "2^-2  1.795e-01  1.656e+00  1.852e+01  1.476e+00\n",
      "2^-3  0.53  -0.12  -1.12  -0.18\n",
      "2^-3  1.242e-01  1.798e+00  4.033e+01  1.674e+00\n",
      "2^-4  0.52  -0.24  -1.24  -0.28\n",
      "2^-4  8.690e-02  2.119e+00  9.528e+01  2.035e+00\n",
      "2^-5  0.51  -0.34  -1.33  -0.37\n",
      "2^-5  6.116e-02  2.674e+00  2.392e+02  2.623e+00\n",
      "epsilion: 0.0001\n",
      "  h    L2u   H1u   H2u   epu\n",
      "2^-2  0.56  0.00  -0.99  -0.08\n",
      "2^-2  1.795e-01  1.656e+00  1.852e+01  1.476e+00\n",
      "2^-3  0.53  -0.12  -1.12  -0.18\n",
      "2^-3  1.242e-01  1.798e+00  4.036e+01  1.674e+00\n",
      "2^-4  0.52  -0.24  -1.24  -0.28\n",
      "2^-4  8.688e-02  2.120e+00  9.555e+01  2.034e+00\n",
      "2^-5  0.51  -0.34  -1.34  -0.36\n",
      "2^-5  6.111e-02  2.677e+00  2.418e+02  2.616e+00\n",
      "epsilion: 1e-05\n",
      "  h    L2u   H1u   H2u   epu\n",
      "2^-2  0.56  0.00  -0.99  -0.08\n",
      "2^-2  1.795e-01  1.656e+00  1.852e+01  1.476e+00\n",
      "2^-3  0.53  -0.12  -1.12  -0.18\n",
      "2^-3  1.242e-01  1.798e+00  4.036e+01  1.674e+00\n",
      "2^-4  0.52  -0.24  -1.24  -0.28\n",
      "2^-4  8.688e-02  2.121e+00  9.555e+01  2.034e+00\n",
      "2^-5  0.51  -0.34  -1.34  -0.36\n",
      "2^-5  6.111e-02  2.677e+00  2.419e+02  2.616e+00\n",
      "======= Errors saved in: log/ex4_P2_nopen_2021-01-28_17-31-32.csv ==========\n",
      "Total Time Cost 3.31 s\n"
     ]
    }
   ],
   "source": [
    "time_start = time.time()\n",
    "\n",
    "print('=======Arguments=======')\n",
    "print('penalty:\\t{}'.format(penalty))\n",
    "print('element_type:\\t{}'.format(element_type))\n",
    "print('solver_type:\\t{}'.format(solver_type))\n",
    "print('tol:\\t{}'.format(tol))\n",
    "print('intorder:\\t{}'.format(intorder))\n",
    "print('refine_time:\\t{}'.format(refine_time))\n",
    "print('sigma:\\t{}'.format(sigma))\n",
    "print('=======Results=======')\n",
    "\n",
    "df_list = []\n",
    "for j in range(epsilon_range):\n",
    "    epsilon = 1 * 10**(-j)\n",
    "    ep = epsilon\n",
    "    L2_list = []\n",
    "    Du_list = []\n",
    "    D2u_list = []\n",
    "    h_list = []\n",
    "    epu_list = []\n",
    "#     m = MeshTri().init_lshaped()\n",
    "    m = MeshTri()\n",
    "#     draw(m)\n",
    "\n",
    "    for i in range(1, refine_time+1):\n",
    "        \n",
    "        m.refine()\n",
    "        \n",
    "        if penalty:\n",
    "            uh0, basis, fbasis = solve_problem2(m, element_type, solver_type, intorder, tol, epsilon)\n",
    "        else:\n",
    "            uh0, basis = solve_problem1(m, element_type, solver_type, intorder, tol, epsilon)\n",
    "\n",
    "        U = basis['u'].interpolate(uh0).value\n",
    "\n",
    "        # compute errors\n",
    "\n",
    "        L2u = np.sqrt(L2uError.assemble(basis['u'], w=U))\n",
    "        Du = get_DuError(basis['u'], uh0)\n",
    "        H1u = Du + L2u\n",
    "        if penalty:\n",
    "            D2u = np.sqrt(get_D2uError(basis['u'], uh0)**2 + L2pnvError.assemble(fbasis, w=fbasis.interpolate(uh0)))\n",
    "        else:\n",
    "            D2u = get_D2uError(basis['u'], uh0)\n",
    "        epu = np.sqrt(epsilon**2 * D2u**2 + Du**2)\n",
    "        h_list.append(m.param())\n",
    "        Du_list.append(Du)\n",
    "        L2_list.append(L2u)\n",
    "        D2u_list.append(D2u)\n",
    "        epu_list.append(epu)\n",
    "        \n",
    "    hs = np.array(h_list)\n",
    "    L2s = np.array(L2_list)\n",
    "    Dus = np.array(Du_list)\n",
    "    D2us = np.array(D2u_list)\n",
    "    epus = np.array(epu_list)\n",
    "    H1s = L2s + Dus\n",
    "    H2s = H1s + D2us\n",
    "    \n",
    "    # store data\n",
    "    data = np.array([L2s, H1s, H2s, epus])\n",
    "    df = pd.DataFrame(data.T, columns=['L2', 'H1', 'H2', 'Energy'])\n",
    "    df_list.append(df)\n",
    "    \n",
    "    print('epsilion:', epsilon)\n",
    "    show_result(L2s, H1s, H2s, epus)\n",
    "\n",
    "time_end = time.time()\n",
    "\n",
    "result = df_list[0].append(df_list[1:])\n",
    "result.to_csv(save_path+'.csv')\n",
    "print('======= Errors saved in:', save_path+'.csv ==========')\n",
    "print('Total Time Cost {:.2f} s'.format(time_end-time_start))"
   ]
  },
  {
   "cell_type": "code",
   "execution_count": null,
   "metadata": {},
   "outputs": [],
   "source": []
  }
 ],
 "metadata": {
  "kernelspec": {
   "display_name": "Python 3",
   "language": "python",
   "name": "python3"
  },
  "language_info": {
   "codemirror_mode": {
    "name": "ipython",
    "version": 3
   },
   "file_extension": ".py",
   "mimetype": "text/x-python",
   "name": "python",
   "nbconvert_exporter": "python",
   "pygments_lexer": "ipython3",
   "version": "3.7.4"
  },
  "toc": {
   "base_numbering": 1,
   "nav_menu": {},
   "number_sections": true,
   "sideBar": false,
   "skip_h1_title": false,
   "title_cell": "Table of Contents",
   "title_sidebar": "Contents",
   "toc_cell": false,
   "toc_position": {},
   "toc_section_display": false,
   "toc_window_display": false
  },
  "varInspector": {
   "cols": {
    "lenName": 16,
    "lenType": 16,
    "lenVar": 40
   },
   "kernels_config": {
    "python": {
     "delete_cmd_postfix": "",
     "delete_cmd_prefix": "del ",
     "library": "var_list.py",
     "varRefreshCmd": "print(var_dic_list())"
    },
    "r": {
     "delete_cmd_postfix": ") ",
     "delete_cmd_prefix": "rm(",
     "library": "var_list.r",
     "varRefreshCmd": "cat(var_dic_list()) "
    }
   },
   "types_to_exclude": [
    "module",
    "function",
    "builtin_function_or_method",
    "instance",
    "_Feature"
   ],
   "window_display": false
  }
 },
 "nbformat": 4,
 "nbformat_minor": 4
}
