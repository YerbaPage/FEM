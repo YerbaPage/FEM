{
 "cells": [
  {
   "cell_type": "markdown",
   "metadata": {},
   "source": [
    "# Init"
   ]
  },
  {
   "cell_type": "code",
   "execution_count": 5,
   "metadata": {
    "code_folding": [],
    "scrolled": false
   },
   "outputs": [],
   "source": [
    "import numpy as np\n",
    "from utils import *\n",
    "from skfem.helpers import *\n",
    "from scipy.sparse.linalg import LinearOperator, minres, cg\n",
    "from skfem.assembly import BilinearForm, LinearForm\n",
    "import datetime\n",
    "import pandas as pd\n",
    "from skfem.visuals.matplotlib import draw, plot\n",
    "import sys\n",
    "import time\n",
    "\n",
    "tol = 1e-8\n",
    "intorder = 5\n",
    "solver_type = 'mgcg'\n",
    "refine_time = 5\n",
    "epsilon_range = 6\n",
    "element_type = 'P1'\n",
    "sigma = 5\n",
    "penalty = False\n",
    "# epsilon = 1e-5\n",
    "example = 'ex4'\n",
    "save_path = 'log/' + example + '_' + element_type + '_' + ('pen' if penalty else 'nopen') + '_' +'{}'.format(datetime.datetime.now().strftime(\"%Y-%m-%d_%H-%M-%S\"))"
   ]
  },
  {
   "cell_type": "code",
   "execution_count": 51,
   "metadata": {},
   "outputs": [],
   "source": [
    "def dirichlet(w):\n",
    "    \"\"\"return a harmonic function\"\"\"\n",
    "    x, y = w\n",
    "    theta = arctan3(y, x)\n",
    "    return (x**2 + y**2)**(5/6) * sin(5*theta/3)\n",
    "\n",
    "# def dirichlet(w):\n",
    "#     \"\"\"return a harmonic function\"\"\"\n",
    "#     global out\n",
    "#     x, y = w\n",
    "#     out = np.zeros_like(x)\n",
    "\n",
    "#     if x.ndim == 2:\n",
    "#         for i in range(x.shape[0]):\n",
    "#             for j in range(x.shape[1]):\n",
    "#                 if x[i, j] != 0:\n",
    "#                     out[i, j] = (x[i, j]**2 + y[i, j]**2)**(5 / 6) * sin(5 * atan(y[i, j] / x[i, j]) / 3)\n",
    "#                 elif y[i, j] > 0:\n",
    "#                     out[i, j] = (x[i, j]**2 + y[i, j]**2)**(5 / 6) * sin(pi/2 * 5 / 3)\n",
    "#                 else:\n",
    "#                     out[i, j] = (x[i, j]**2 + y[i, j]**2)**(5 / 6) * sin(3*pi/2 * 5 / 3)\n",
    "#     elif x.ndim == 1:\n",
    "#         for i in range(x.shape[0]):\n",
    "#             if x[i] != 0:\n",
    "#                 out[i] = (x[i]**2 + y[i]**2)**(5 / 6) * sin(5 * atan(y[i] / x[i]) / 3)\n",
    "#             elif y[i] > 0:\n",
    "#                 out[i] = (x[i]**2 + y[i]**2)**(5 / 6) * sin(pi/2 * 5 / 3)\n",
    "#             else:\n",
    "#                 out[i] = (x[i]**2 + y[i]**2)**(5 / 6) * sin(3*pi/2 * 5 / 3)\n",
    "#     else:\n",
    "#         raise Exception(\"dim not supported\")\n",
    "#     return out\n",
    "\n",
    "@LinearForm\n",
    "def boundary_load_un(v, w):\n",
    "    '''\n",
    "    u_n * v\n",
    "    '''\n",
    "    global x, www, vvv\n",
    "    vvv = v \n",
    "    www = w\n",
    "    x, y = w.x\n",
    "    u_x, u_y = dexact_u(x, y)\n",
    "    return (w.n[0] * u_x + w.n[1] * u_y) * v\n",
    "\n",
    "@LinearForm\n",
    "def boundary_load_gradun(v, w):\n",
    "    '''\n",
    "    grad u_n * v\n",
    "    '''\n",
    "    x, y = w.x\n",
    "    u_xx, u_xy, u_yx, u_yy = ddexact(x, y)\n",
    "    return (u_xx * w.n[0] + u_xy * w.n[1]) * grad(v)[0] + (u_yx * w.n[0] + u_yy * w.n[1]) * grad(v)[1]"
   ]
  },
  {
   "cell_type": "code",
   "execution_count": 105,
   "metadata": {
    "code_folding": []
   },
   "outputs": [],
   "source": [
    "def solve_problem1(m, element_type='P1', solver_type='pcg', intorder=6, tol=1e-8, epsilon=1e-6):\n",
    "    '''\n",
    "    switching to mgcg solver for problem 1\n",
    "    '''\n",
    "    if element_type == 'P1':\n",
    "        element = {'w': ElementTriP1(), 'u': ElementTriMorley()}\n",
    "    elif element_type == 'P2':\n",
    "        element = {'w': ElementTriP2(), 'u': ElementTriMorley()}\n",
    "    else:\n",
    "        raise Exception(\"Element not supported\")\n",
    "\n",
    "    basis = {\n",
    "        variable: InteriorBasis(m, e, intorder=intorder)\n",
    "        for variable, e in element.items()\n",
    "    }\n",
    "    \n",
    "    K1 = asm(laplace, basis['w'])\n",
    "    f1 = asm(f_load, basis['w'])\n",
    "    wh = solve(*condense(K1, f1, D=basis['w'].find_dofs()), solver=solver_iter_mgcg(tol=tol))\n",
    "    \n",
    "    global K2, f2, uh0, boundary_dofs, boundary_basis, boundary_dofs_un\n",
    "#     fbasis = FacetBasis(m, ElementTriMorley())\n",
    "    K2 = epsilon**2 * asm(a_load, basis['u']) + asm(b_load, basis['u'])\n",
    "#     f2 = asm(wv_load, basis['w'], basis['u']) * wh + asm(boundary_load_un, fbasis) + epsilon**2 * asm(boundary_load_gradun, fbasis)\n",
    "    f2 = asm(wv_load, basis['w'], basis['u']) * wh\n",
    "#     f2 = np.zeros(basis['u'].N)\n",
    "    boundary_basis = FacetBasis(m, ElementTriMorley())\n",
    "    boundary_dofs = boundary_basis.find_dofs()['all'].all()\n",
    "    boundary_dofs_u = np.array([i for i in boundary_dofs if i in basis['u'].nodal_dofs[0]])\n",
    "    boundary_dofs_un = np.array([i for i in boundary_dofs if i in basis['u'].facet_dofs[0]])\n",
    "#     print(boundary_dofs_u)\n",
    "#     print(boundary_dofs_un)\n",
    "    uh0 = np.zeros(basis['u'].N)\n",
    "#     print(boundary_dofs)\n",
    "\n",
    "#     uh0[boundary_dofs] = pproject(dirichlet, basis_to=boundary_basis, I=boundary_dofs, solver=minres)\n",
    "    uh0[boundary_dofs_u] = exact_u(boundary_basis.doflocs[0][boundary_dofs_u], boundary_basis.doflocs[1][boundary_dofs_u])\n",
    "    uh0[boundary_dofs_un] = exact_un(boundary_basis.doflocs[0][boundary_dofs_un], boundary_basis.doflocs[1][boundary_dofs_un])\n",
    "    uh0 = solve(*condense(K2, f2, uh0, D=boundary_dofs), solver=solver_iter_mgcg(tol=tol))\n",
    "    return uh0, basis"
   ]
  },
  {
   "cell_type": "markdown",
   "metadata": {},
   "source": [
    "# Solving"
   ]
  },
  {
   "cell_type": "code",
   "execution_count": 106,
   "metadata": {},
   "outputs": [],
   "source": [
    "x = boundary_basis.doflocs[0][boundary_dofs_un]\n",
    "y = boundary_basis.doflocs[1][boundary_dofs_un]"
   ]
  },
  {
   "cell_type": "code",
   "execution_count": 107,
   "metadata": {},
   "outputs": [],
   "source": [
    "def exact_un(x, y):\n",
    "    nx = -1 * (x == -1) + 1 * ((x == 1) + (x == 0) * (y > 0))\n",
    "    ny = -1 * (y == -1) + 1 * ((y == 1) + (y == 0) * (x > 0))\n",
    "#     nx = -1 * (x == 0) + 1 * (x == 1)\n",
    "#     ny = -1 * (y == 0) + 1 * (y == 1)\n",
    "#     print(nx)\n",
    "#     print(ny)\n",
    "    dux, duy = dexact_u(x, y)\n",
    "    out = nx * dux + ny * duy\n",
    "#     out[np.isnan(out)] = 0\n",
    "    return out"
   ]
  },
  {
   "cell_type": "code",
   "execution_count": 108,
   "metadata": {},
   "outputs": [
    {
     "data": {
      "text/plain": [
       "array([0.        , 0.5       , 1.72108416, ..., 0.7488049 , 0.75252695,\n",
       "       0.74058326])"
      ]
     },
     "execution_count": 108,
     "metadata": {},
     "output_type": "execute_result"
    }
   ],
   "source": [
    "u"
   ]
  },
  {
   "cell_type": "code",
   "execution_count": 109,
   "metadata": {},
   "outputs": [
    {
     "data": {
      "text/plain": [
       "array([-3.11247331e-06,  7.15148830e-01,  2.45463313e+00, ...,\n",
       "        1.06412100e-12,  6.15200549e-13,  6.54209870e-13])"
      ]
     },
     "execution_count": 109,
     "metadata": {},
     "output_type": "execute_result"
    }
   ],
   "source": [
    "uh0"
   ]
  },
  {
   "cell_type": "code",
   "execution_count": 110,
   "metadata": {
    "scrolled": false
   },
   "outputs": [
    {
     "data": {
      "text/plain": [
       "<matplotlib.axes._subplots.AxesSubplot at 0x24424ecd948>"
      ]
     },
     "execution_count": 110,
     "metadata": {},
     "output_type": "execute_result"
    },
    {
     "data": {
      "image/png": "[encoded data removed]",
      "text/plain": [
       "<Figure size 432x288 with 2 Axes>"
      ]
     },
     "metadata": {
      "needs_background": "light"
     },
     "output_type": "display_data"
    }
   ],
   "source": [
    "# m = MeshTri().init_lshaped()\n",
    "# m = MeshTri()\n",
    "m = MeshTri().init_symmetric()\n",
    "m.refine(6)\n",
    "# draw(m)\n",
    "\n",
    "epsilon = 0\n",
    "ep = epsilon\n",
    "\n",
    "uh0, basis = solve_problem1(m, element_type, solver_type, intorder, tol, epsilon)\n",
    "\n",
    "x = basis['u'].doflocs[0]\n",
    "y = basis['u'].doflocs[1]\n",
    "u = exact_u(x, y)\n",
    "plot(basis['u'], u-uh0, colorbar=True)\n",
    "# plot(basis['u'], u, colorbar=True)"
   ]
  },
  {
   "cell_type": "code",
   "execution_count": 93,
   "metadata": {},
   "outputs": [
    {
     "data": {
      "text/plain": [
       "array([0.   , 1.   , 1.   , 0.   , 0.5  , 0.5  , 0.   , 0.25 , 1.   ,\n",
       "       0.75 , 0.5  , 0.75 , 0.25 , 0.25 , 0.   , 0.125, 0.75 , 1.   ,\n",
       "       0.875, 1.   , 0.75 , 0.875, 0.   , 0.25 , 0.125, 0.375, 0.625,\n",
       "       0.625, 0.375, 0.375, 0.625, 0.125, 0.125, 0.5  , 0.25 , 0.875,\n",
       "       0.875, 0.75 , 0.625, 0.375, 0.5  ])"
      ]
     },
     "execution_count": 93,
     "metadata": {},
     "output_type": "execute_result"
    }
   ],
   "source": [
    "x"
   ]
  },
  {
   "cell_type": "code",
   "execution_count": 94,
   "metadata": {},
   "outputs": [
    {
     "data": {
      "text/plain": [
       "array([0.   , 0.   , 1.   , 1.   , 0.5  , 0.   , 0.5  , 0.25 , 0.5  ,\n",
       "       0.25 , 1.   , 0.75 , 0.75 , 0.   , 0.25 , 0.125, 0.   , 0.25 ,\n",
       "       0.125, 0.75 , 1.   , 0.875, 0.75 , 1.   , 0.875, 0.375, 0.375,\n",
       "       0.625, 0.625, 0.125, 0.125, 0.375, 0.625, 0.25 , 0.5  , 0.375,\n",
       "       0.625, 0.5  , 0.875, 0.875, 0.75 ])"
      ]
     },
     "execution_count": 94,
     "metadata": {},
     "output_type": "execute_result"
    }
   ],
   "source": [
    "y"
   ]
  },
  {
   "cell_type": "code",
   "execution_count": null,
   "metadata": {},
   "outputs": [],
   "source": [
    "# basis['u'].doflocs\n",
    "\n",
    "# # basis['u'].nodal_dofs[0]\n",
    "# for i in range(25):\n",
    "# #     print(i)\n",
    "# #     print(boundary_basis.doflocs[:, i])\n",
    "#     pass\n",
    "\n",
    "# basis['u'].find_dofs()['all'].all()\n",
    "\n",
    "# np.array([i for i in basis['u'].find_dofs()['all'].all() if i in basis['u'].nodal_dofs[0]])\n",
    "\n",
    "# basis['u'].facet_dofs[0]\n",
    "\n",
    "# uh0\n",
    "\n",
    "\n",
    "# np.arctan2(1, 0)\n",
    "\n",
    "from mpl_toolkits.mplot3d import Axes3D\n",
    "import numpy as np\n",
    "from matplotlib import pyplot as plt\n",
    "fig = plt.figure()\n",
    "ax = Axes3D(fig)\n",
    "x = np.arange(-1, 1, 0.05)\n",
    "y = np.arange(-1, 1, 0.05)\n",
    "X, Y = np.meshgrid(x, y) \n",
    "Z = exact_u(X, Y)\n",
    "plt.xlabel('x')\n",
    "plt.ylabel('y')\n",
    "\n",
    "ax.plot_surface(X, Y, Z, rstride=2, cstride=1, cmap='rainbow')\n",
    "plt.show()\n",
    "\n",
    "# boundary_dofs\n",
    "\n",
    "# easy_boundary(m, basis['u'])\n",
    "# np.hstack([boundary_dofs, easy_boundary(m, basis['u'])])"
   ]
  },
  {
   "cell_type": "code",
   "execution_count": null,
   "metadata": {},
   "outputs": [],
   "source": [
    "boundary_basis.find_dofs()['all'].all()"
   ]
  },
  {
   "cell_type": "code",
   "execution_count": null,
   "metadata": {},
   "outputs": [],
   "source": [
    "# v.value"
   ]
  },
  {
   "cell_type": "code",
   "execution_count": null,
   "metadata": {},
   "outputs": [],
   "source": [
    "# (w.n[0] * u_x + w.n[1] * u_y) * v"
   ]
  },
  {
   "cell_type": "code",
   "execution_count": null,
   "metadata": {},
   "outputs": [],
   "source": [
    "boundary_basis.find_dofs()['all'].all()"
   ]
  },
  {
   "cell_type": "code",
   "execution_count": null,
   "metadata": {},
   "outputs": [],
   "source": [
    "basis['u'].nodal_dofs[0]"
   ]
  },
  {
   "cell_type": "code",
   "execution_count": null,
   "metadata": {},
   "outputs": [],
   "source": [
    "basis['u'].facet_dofs[0]"
   ]
  },
  {
   "cell_type": "code",
   "execution_count": null,
   "metadata": {},
   "outputs": [],
   "source": [
    "uh0.shape\n",
    "\n",
    "boundary_dofs.shape\n",
    "\n",
    "basis['u'].facet_dofs\n",
    "\n",
    "basis['u'].nodal_dofs[0]\n",
    "\n",
    "basis['u'].get_dofs()\n",
    "\n",
    "basis['u'].find_dofs()['all'].all()\n",
    "\n",
    "pproject(dirichlet, basis_to=boundary_basis, I=boundary_dofs, solver=minres)\n",
    "\n",
    "exact_u(boundary_basis.doflocs[0][boundary_dofs], boundary_basis.doflocs[1][boundary_dofs])\n",
    "\n",
    "boundary_dofs"
   ]
  },
  {
   "cell_type": "code",
   "execution_count": null,
   "metadata": {},
   "outputs": [],
   "source": [
    "plot(basis['u'], u, colorbar=True)"
   ]
  },
  {
   "cell_type": "code",
   "execution_count": null,
   "metadata": {},
   "outputs": [],
   "source": [
    "plot(basis['u'], uh0, colorbar=True)"
   ]
  },
  {
   "cell_type": "code",
   "execution_count": null,
   "metadata": {},
   "outputs": [],
   "source": [
    "# w = www\n",
    "# v = vvv\n",
    "# x, y = w.x\n",
    "# u_x, u_y = dexact_u(x, y)\n",
    "# (w.n[0] * u_x + w.n[1] * u_y) * v"
   ]
  },
  {
   "cell_type": "code",
   "execution_count": null,
   "metadata": {
    "scrolled": true
   },
   "outputs": [],
   "source": [
    "exact_u(x, y)"
   ]
  },
  {
   "cell_type": "code",
   "execution_count": null,
   "metadata": {},
   "outputs": [],
   "source": [
    "dirichlet([x, y])"
   ]
  },
  {
   "cell_type": "code",
   "execution_count": null,
   "metadata": {},
   "outputs": [],
   "source": [
    "exact_u(np.array([-0.00000]), np.array([0.8]))"
   ]
  },
  {
   "cell_type": "code",
   "execution_count": null,
   "metadata": {},
   "outputs": [],
   "source": [
    "dirichlet([np.array([[-0.00000]]), np.array([[0.8]])])"
   ]
  },
  {
   "cell_type": "code",
   "execution_count": null,
   "metadata": {},
   "outputs": [],
   "source": [
    "boundary_basis.mesh"
   ]
  },
  {
   "cell_type": "code",
   "execution_count": null,
   "metadata": {},
   "outputs": [],
   "source": [
    "exact_u(boundary_basis.doflocs[0], boundary_basis.doflocs[1])"
   ]
  },
  {
   "cell_type": "code",
   "execution_count": null,
   "metadata": {
    "scrolled": false
   },
   "outputs": [],
   "source": [
    "pproject(dirichlet, basis_to=boundary_basis, I=boundary_dofs, solver=minres)"
   ]
  },
  {
   "cell_type": "code",
   "execution_count": null,
   "metadata": {
    "scrolled": true
   },
   "outputs": [],
   "source": [
    "(uh0 - u)[:30]"
   ]
  },
  {
   "cell_type": "code",
   "execution_count": null,
   "metadata": {},
   "outputs": [],
   "source": [
    "u"
   ]
  },
  {
   "cell_type": "code",
   "execution_count": null,
   "metadata": {},
   "outputs": [],
   "source": []
  },
  {
   "cell_type": "code",
   "execution_count": null,
   "metadata": {},
   "outputs": [],
   "source": [
    "time_start = time.time()\n",
    "\n",
    "print('=======Arguments=======')\n",
    "print('penalty:\\t{}'.format(penalty))\n",
    "print('element_type:\\t{}'.format(element_type))\n",
    "print('solver_type:\\t{}'.format(solver_type))\n",
    "print('tol:\\t{}'.format(tol))\n",
    "print('intorder:\\t{}'.format(intorder))\n",
    "print('refine_time:\\t{}'.format(refine_time))\n",
    "print('sigma:\\t{}'.format(sigma))\n",
    "print('=======Results=======')\n",
    "\n",
    "df_list = []\n",
    "for j in range(epsilon_range):\n",
    "    epsilon = 1 * 10**(-j)\n",
    "    ep = epsilon\n",
    "    L2_list = []\n",
    "    Du_list = []\n",
    "    D2u_list = []\n",
    "    h_list = []\n",
    "    epu_list = []\n",
    "#     m = MeshTri().init_lshaped()\n",
    "    m = MeshTri()\n",
    "#     draw(m)\n",
    "\n",
    "    for i in range(1, refine_time+1):\n",
    "        \n",
    "        m.refine()\n",
    "        \n",
    "        if penalty:\n",
    "            uh0, basis, fbasis = solve_problem2(m, element_type, solver_type, intorder, tol, epsilon)\n",
    "        else:\n",
    "            uh0, basis = solve_problem1(m, element_type, solver_type, intorder, tol, epsilon)\n",
    "\n",
    "        U = basis['u'].interpolate(uh0).value\n",
    "\n",
    "        # compute errors\n",
    "\n",
    "        L2u = np.sqrt(L2uError.assemble(basis['u'], w=U))\n",
    "        Du = get_DuError(basis['u'], uh0)\n",
    "        H1u = Du + L2u\n",
    "        if penalty:\n",
    "            D2u = np.sqrt(get_D2uError(basis['u'], uh0)**2 + L2pnvError.assemble(fbasis, w=fbasis.interpolate(uh0)))\n",
    "        else:\n",
    "            D2u = get_D2uError(basis['u'], uh0)\n",
    "        epu = np.sqrt(epsilon**2 * D2u**2 + Du**2)\n",
    "        h_list.append(m.param())\n",
    "        Du_list.append(Du)\n",
    "        L2_list.append(L2u)\n",
    "        D2u_list.append(D2u)\n",
    "        epu_list.append(epu)\n",
    "        \n",
    "    hs = np.array(h_list)\n",
    "    L2s = np.array(L2_list)\n",
    "    Dus = np.array(Du_list)\n",
    "    D2us = np.array(D2u_list)\n",
    "    epus = np.array(epu_list)\n",
    "    H1s = L2s + Dus\n",
    "    H2s = H1s + D2us\n",
    "    \n",
    "    # store data\n",
    "    data = np.array([L2s, H1s, H2s, epus])\n",
    "    df = pd.DataFrame(data.T, columns=['L2', 'H1', 'H2', 'Energy'])\n",
    "    df_list.append(df)\n",
    "    \n",
    "    print('epsilion:', epsilon)\n",
    "    show_result(L2s, H1s, H2s, epus)\n",
    "\n",
    "time_end = time.time()\n",
    "\n",
    "result = df_list[0].append(df_list[1:])\n",
    "result.to_csv(save_path+'.csv')\n",
    "print('======= Errors saved in:', save_path+'.csv ==========')\n",
    "print('Total Time Cost {:.2f} s'.format(time_end-time_start))"
   ]
  },
  {
   "cell_type": "code",
   "execution_count": null,
   "metadata": {},
   "outputs": [],
   "source": []
  },
  {
   "cell_type": "code",
   "execution_count": null,
   "metadata": {},
   "outputs": [],
   "source": []
  }
 ],
 "metadata": {
  "kernelspec": {
   "display_name": "Python 3",
   "language": "python",
   "name": "python3"
  },
  "language_info": {
   "codemirror_mode": {
    "name": "ipython",
    "version": 3
   },
   "file_extension": ".py",
   "mimetype": "text/x-python",
   "name": "python",
   "nbconvert_exporter": "python",
   "pygments_lexer": "ipython3",
   "version": "3.7.4"
  },
  "toc": {
   "base_numbering": 1,
   "nav_menu": {},
   "number_sections": true,
   "sideBar": false,
   "skip_h1_title": false,
   "title_cell": "Table of Contents",
   "title_sidebar": "Contents",
   "toc_cell": false,
   "toc_position": {},
   "toc_section_display": false,
   "toc_window_display": false
  },
  "varInspector": {
   "cols": {
    "lenName": 16,
    "lenType": 16,
    "lenVar": 40
   },
   "kernels_config": {
    "python": {
     "delete_cmd_postfix": "",
     "delete_cmd_prefix": "del ",
     "library": "var_list.py",
     "varRefreshCmd": "print(var_dic_list())"
    },
    "r": {
     "delete_cmd_postfix": ") ",
     "delete_cmd_prefix": "rm(",
     "library": "var_list.r",
     "varRefreshCmd": "cat(var_dic_list()) "
    }
   },
   "types_to_exclude": [
    "module",
    "function",
    "builtin_function_or_method",
    "instance",
    "_Feature"
   ],
   "window_display": false
  }
 },
 "nbformat": 4,
 "nbformat_minor": 4
}
