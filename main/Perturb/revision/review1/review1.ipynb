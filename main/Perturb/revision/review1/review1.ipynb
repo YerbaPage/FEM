{
 "cells": [
  {
   "cell_type": "markdown",
   "metadata": {},
   "source": [
    "# Init"
   ]
  },
  {
   "cell_type": "code",
   "execution_count": 5,
   "metadata": {
    "code_folding": [],
    "scrolled": false
   },
   "outputs": [],
   "source": [
    "import numpy as np\n",
    "from utils import *\n",
    "from skfem.helpers import *\n",
    "from scipy.sparse.linalg import LinearOperator, minres, cg\n",
    "from skfem.assembly import BilinearForm, LinearForm\n",
    "import datetime\n",
    "import pandas as pd\n",
    "from skfem.visuals.matplotlib import draw, plot\n",
    "import sys\n",
    "import time\n",
    "\n",
    "tol = 1e-8\n",
    "intorder = 5\n",
    "solver_type = 'mgcg'\n",
    "refine_time = 5\n",
    "epsilon_range = 6\n",
    "element_type = 'P1'\n",
    "sigma = 5\n",
    "penalty = False\n",
    "# epsilon = 1e-5\n",
    "example = 'ex4'\n",
    "save_path = 'log/' + example + '_' + element_type + '_' + ('pen' if penalty else 'nopen') + '_' +'{}'.format(datetime.datetime.now().strftime(\"%Y-%m-%d_%H-%M-%S\"))"
   ]
  },
  {
   "cell_type": "code",
   "execution_count": 6,
   "metadata": {},
   "outputs": [],
   "source": [
    "def dirichlet(w):\n",
    "    \"\"\"return a harmonic function\"\"\"\n",
    "    x, y = w\n",
    "    theta = arctan3(y, x)\n",
    "    return (x**2 + y**2)**(5/6) * sin(5*theta/3)\n",
    "\n",
    "# def dirichlet(w):\n",
    "#     \"\"\"return a harmonic function\"\"\"\n",
    "#     global out\n",
    "#     x, y = w\n",
    "#     out = np.zeros_like(x)\n",
    "\n",
    "#     if x.ndim == 2:\n",
    "#         for i in range(x.shape[0]):\n",
    "#             for j in range(x.shape[1]):\n",
    "#                 if x[i, j] != 0:\n",
    "#                     out[i, j] = (x[i, j]**2 + y[i, j]**2)**(5 / 6) * sin(5 * atan(y[i, j] / x[i, j]) / 3)\n",
    "#                 elif y[i, j] > 0:\n",
    "#                     out[i, j] = (x[i, j]**2 + y[i, j]**2)**(5 / 6) * sin(pi/2 * 5 / 3)\n",
    "#                 else:\n",
    "#                     out[i, j] = (x[i, j]**2 + y[i, j]**2)**(5 / 6) * sin(3*pi/2 * 5 / 3)\n",
    "#     elif x.ndim == 1:\n",
    "#         for i in range(x.shape[0]):\n",
    "#             if x[i] != 0:\n",
    "#                 out[i] = (x[i]**2 + y[i]**2)**(5 / 6) * sin(5 * atan(y[i] / x[i]) / 3)\n",
    "#             elif y[i] > 0:\n",
    "#                 out[i] = (x[i]**2 + y[i]**2)**(5 / 6) * sin(pi/2 * 5 / 3)\n",
    "#             else:\n",
    "#                 out[i] = (x[i]**2 + y[i]**2)**(5 / 6) * sin(3*pi/2 * 5 / 3)\n",
    "#     else:\n",
    "#         raise Exception(\"dim not supported\")\n",
    "#     return out\n",
    "\n",
    "# @LinearForm\n",
    "# def boundary_load_un(v, w):\n",
    "#     '''\n",
    "#     u_n * v\n",
    "#     '''\n",
    "#     global x, www, vvv\n",
    "#     vvv = v \n",
    "#     www = w\n",
    "#     x, y = w.x\n",
    "#     u_x, u_y = dexact_u(x, y)\n",
    "#     return (w.n[0] * u_x + w.n[1] * u_y) * v\n",
    "\n",
    "# @LinearForm\n",
    "# def boundary_load_gradun(v, w):\n",
    "#     '''\n",
    "#     grad u_n * v\n",
    "#     '''\n",
    "#     x, y = w.x\n",
    "#     u_xx, u_xy, u_yx, u_yy = ddexact(x, y)\n",
    "#     return (u_xx * w.n[0] + u_xy * w.n[1]) * grad(v)[0] + (u_yx * w.n[0] + u_yy * w.n[1]) * grad(v)[1]"
   ]
  },
  {
   "cell_type": "code",
   "execution_count": 37,
   "metadata": {
    "code_folding": []
   },
   "outputs": [],
   "source": [
    "def solve_problem1(m, element_type='P1', solver_type='pcg', intorder=6, tol=1e-8, epsilon=1e-6):\n",
    "    '''\n",
    "    switching to mgcg solver for problem 1\n",
    "    '''\n",
    "    if element_type == 'P1':\n",
    "        element = {'w': ElementTriP1(), 'u': ElementTriMorley()}\n",
    "    elif element_type == 'P2':\n",
    "        element = {'w': ElementTriP2(), 'u': ElementTriMorley()}\n",
    "    else:\n",
    "        raise Exception(\"Element not supported\")\n",
    "\n",
    "    basis = {\n",
    "        variable: InteriorBasis(m, e, intorder=intorder)\n",
    "        for variable, e in element.items()\n",
    "    }\n",
    "    \n",
    "    K1 = asm(laplace, basis['w'])\n",
    "    f1 = asm(f_load, basis['w'])\n",
    "    wh = solve(*condense(K1, f1, D=basis['w'].find_dofs()), solver=solver_iter_mgcg(tol=tol))\n",
    "    \n",
    "    global K2, f2, uh0, boundary_dofs, boundary_basis, boundary_dofs_un\n",
    "    fbasis = FacetBasis(m, ElementTriMorley())\n",
    "    K2 = epsilon**2 * asm(a_load, basis['u']) + asm(b_load, basis['u'])\n",
    "#     f2 = asm(wv_load, basis['w'], basis['u']) * wh + asm(boundary_load_un, fbasis) + epsilon**2 * asm(boundary_load_gradun, fbasis)\n",
    "    f2 = asm(wv_load, basis['w'], basis['u']) * wh\n",
    "#     boundary_basis = FacetBasis(m, element['w'])\n",
    "    boundary_basis = FacetBasis(m, ElementTriMorley())\n",
    "#     boundary_dofs = boundary_basis.find_dofs()\n",
    "    boundary_dofs = boundary_basis.find_dofs()['all'].all()\n",
    "#     boundary_dofs_u = basis['u'].nodal_dofs[0]\n",
    "#     boundary_dofs = np.array([i for i in basis['u'].find_dofs()['all'].all() if i in basis['u'].nodal_dofs[0]])\n",
    "    boundary_dofs_u = np.array([i for i in boundary_dofs if i in basis['u'].nodal_dofs[0]])\n",
    "    boundary_dofs_un = np.array([i for i in boundary_dofs if i in basis['u'].facet_dofs[0]])\n",
    "    print(boundary_dofs_u)\n",
    "    print(boundary_dofs_un)\n",
    "#     boundary_dofs_un = basis['u'].facet_dofs[0]\n",
    "#     boundary_dofs = m.boundary_nodes()\n",
    "#     boundary_dofs = easy_boundary(m, basis['u'])\n",
    "    uh0 = np.zeros(basis['u'].N)\n",
    "    print(boundary_dofs)\n",
    "#     print(basis['u'].N)\n",
    "\n",
    "#     uh0[boundary_dofs] = pproject(dirichlet, basis_to=boundary_basis, I=boundary_dofs, solver=minres)\n",
    "    uh0[boundary_dofs_u] = exact_u(boundary_basis.doflocs[0][boundary_dofs_u], boundary_basis.doflocs[1][boundary_dofs_u])\n",
    "    uh0[boundary_dofs_un] = exact_un(boundary_basis.doflocs[0][boundary_dofs_un], boundary_basis.doflocs[1][boundary_dofs_un])\n",
    "    #     boundary_dofs = m.boundary_nodes()\n",
    "#     print(uh0[boundary_dofs_un])\n",
    "#     temp = uh0\n",
    "#     boundary_dofs = np.hstack([boundary_dofs, easy_boundary(m, basis['u'])])\n",
    "#     print(exact_u(boundary_basis.doflocs[0][boundary_dofs], boundary_basis.doflocs[1][boundary_dofs]))\n",
    "    print(uh0)\n",
    "#     uh0 = solve(*condense(K2, f2, D=easy_boundary(m, basis['u'])), solver=solver_iter_mgcg(tol=tol))\n",
    "#     uh0 = solve(*condense(K2, f2, D=basis['u'].find_dofs()), solver=solver_iter_mgcg(tol=tol))\n",
    "#     uh0 = solve(*condense(K2, f2, uh0, D=boundary_dofs), solver=solver_iter_krylov(minres, tol=tol))\n",
    "#     tol = 1e-1\n",
    "    uh0 = solve(*condense(K2, f2, uh0, D=boundary_dofs), solver=solver_iter_mgcg(tol=tol))\n",
    "#     uh0 = solve(*condense(K2, f2, uh0, D=basis['u'].find_dofs()), solver=solver_iter_mgcg(tol=tol))\n",
    "#     print(uh0)\n",
    "#     print(uh0-temp)\n",
    "    return uh0, basis"
   ]
  },
  {
   "cell_type": "markdown",
   "metadata": {},
   "source": [
    "# Solving"
   ]
  },
  {
   "cell_type": "code",
   "execution_count": 38,
   "metadata": {},
   "outputs": [],
   "source": [
    "x = boundary_basis.doflocs[0][boundary_dofs_un]\n",
    "y = boundary_basis.doflocs[1][boundary_dofs_un]"
   ]
  },
  {
   "cell_type": "code",
   "execution_count": 39,
   "metadata": {},
   "outputs": [],
   "source": [
    "def exact_un(x, y):\n",
    "    nx = -1 * (x == -1) + 1 * ((x == 1) + (x == 0) * (y > 0))\n",
    "    ny = -1 * (y == -1) + 1 * ((y == 1) + (y == 0) * (x > 0))\n",
    "#     nx = -1 * (x == 0) + 1 * (x == 1)\n",
    "#     ny = -1 * (y == 0) + 1 * (y == 1)\n",
    "#     print(nx)\n",
    "#     print(ny)\n",
    "    dux, duy = dexact_u(x, y)\n",
    "    out = nx * dux + ny * duy\n",
    "#     out[np.isnan(out)] = 0\n",
    "    return out"
   ]
  },
  {
   "cell_type": "code",
   "execution_count": 40,
   "metadata": {},
   "outputs": [
    {
     "data": {
      "text/plain": [
       "array([0.        , 0.5       , 0.        , 1.72108416, 0.15749013,\n",
       "       0.        , 0.54210754, 1.159291  , 0.84077245, 0.04960628,\n",
       "       0.        , 0.30955568, 0.58959925, 0.8443497 , 0.        ,\n",
       "       0.34534261, 0.41762199, 1.45003215, 1.27411462, 0.17075318,\n",
       "       0.36515378, 0.26482673, 0.83921196, 0.6985417 , 1.06554275,\n",
       "       0.015625  , 0.        , 0.40023656, 0.56088129, 0.67618834,\n",
       "       0.        , 0.19073244, 0.20845361, 1.58777283, 1.4957281 ,\n",
       "       0.09750393, 0.22843889, 0.18571213, 0.26595349, 0.        ,\n",
       "       0.        , 0.10877611, 0.13154268, 0.58398988, 0.46266461,\n",
       "       0.45673151, 0.40132096, 0.68791595, 0.62241818, 1.00516004,\n",
       "       1.30738386, 0.9962813 , 1.12850593, 0.62818723, 1.05592577,\n",
       "       0.77115252, 0.96972605, 0.05378388, 0.11501623, 0.08341519,\n",
       "       0.45387108, 0.35545335, 0.71323428, 0.47355358, 0.71773023,\n",
       "       0.85810377, 0.17215155, 0.15251682, 0.3823159 , 0.30634751,\n",
       "       0.52053178, 0.57555143, 1.37768162, 1.25544388, 1.17176985,\n",
       "       0.2643352 , 0.22002685, 0.33562494, 0.7863251 , 0.95490117,\n",
       "       0.8800392 ])"
      ]
     },
     "execution_count": 40,
     "metadata": {},
     "output_type": "execute_result"
    }
   ],
   "source": [
    "u"
   ]
  },
  {
   "cell_type": "code",
   "execution_count": 41,
   "metadata": {},
   "outputs": [
    {
     "data": {
      "text/plain": [
       "array([ 0.00000000e+00,  5.00000000e-01,  0.00000000e+00,  1.72108416e+00,\n",
       "        1.57490131e-01,  0.00000000e+00,  4.82182039e-01,  1.15929100e+00,\n",
       "        8.40772452e-01,  4.96062829e-02,  0.00000000e+00,  3.09555680e-01,\n",
       "        5.51517644e-01,  8.44349696e-01,  0.00000000e+00,  3.05685919e-01,\n",
       "        4.17621992e-01,  1.45003215e+00,  1.27411462e+00,  1.32264228e-01,\n",
       "        3.17221233e-01,  2.15748561e-01,  7.95370594e-01,  6.53968025e-01,\n",
       "        1.03470342e+00, -3.60843918e-01, -4.16666667e-01, -1.32043821e+00,\n",
       "        6.56860381e-17,  1.26436761e+00, -1.52471071e+00, -3.58721528e-16,\n",
       "        5.45426316e-01,  1.29943501e+00,  1.89497404e+00, -7.50585597e-01,\n",
       "       -1.05511402e+00,  4.98657023e-16,  3.42481772e-16, -8.66701593e-01,\n",
       "       -1.21834072e+00,  6.64361552e-17,  1.82010959e-16, -7.88002050e-16,\n",
       "        7.41651251e-16, -8.79873864e-16,  8.34558197e-17, -4.98451220e-16,\n",
       "        1.00909928e-15,  1.73426880e+00,  1.68121193e+00,  4.67213948e-16,\n",
       "        3.81459479e-16,  1.42325141e+00,  1.85418118e+00, -5.97377374e-16,\n",
       "       -3.23343162e-15,  2.43696427e-16,  2.07577718e-16,  1.38324336e-18,\n",
       "        1.77010451e-16,  5.72599301e-16, -1.56461793e-15, -3.85211898e-17,\n",
       "        8.41997559e-16,  9.17083118e-16,  3.14371315e-16, -6.91387699e-16,\n",
       "        7.82311760e-16, -4.66634938e-16, -6.85679970e-16,  5.28549739e-16,\n",
       "       -2.25020265e-15, -4.37476472e-16, -2.02574978e-16, -1.89719159e-16,\n",
       "        5.41241235e-16,  5.97383516e-16,  1.02363219e-15,  8.80130003e-16,\n",
       "        5.27696875e-16])"
      ]
     },
     "execution_count": 41,
     "metadata": {},
     "output_type": "execute_result"
    }
   ],
   "source": [
    "uh0"
   ]
  },
  {
   "cell_type": "code",
   "execution_count": null,
   "metadata": {},
   "outputs": [],
   "source": [
    "# m = MeshTri().init_lshaped()\n",
    "m = MeshTri()\n",
    "m.refine(2)\n",
    "# draw(m)\n",
    "\n",
    "epsilon = 0\n",
    "ep = epsilon\n",
    "\n",
    "uh0, basis = solve_problem1(m, element_type, solver_type, intorder, tol, epsilon)\n",
    "\n",
    "x = basis['u'].doflocs[0]\n",
    "y = basis['u'].doflocs[1]\n",
    "u = exact_u(x, y)\n",
    "plot(basis['u'], u-uh0, colorbar=True)\n",
    "# plot(basis['u'], u, colorbar=True)"
   ]
  },
  {
   "cell_type": "code",
   "execution_count": null,
   "metadata": {
    "scrolled": false
   },
   "outputs": [],
   "source": [
    "# m = MeshTri().init_lshaped()\n",
    "m = MeshTri()\n",
    "m.refine(4)\n",
    "# draw(m)\n",
    "\n",
    "epsilon = 0\n",
    "ep = epsilon\n",
    "\n",
    "uh0, basis = solve_problem1(m, element_type, solver_type, intorder, tol, epsilon)\n",
    "\n",
    "x = basis['u'].doflocs[0]\n",
    "y = basis['u'].doflocs[1]\n",
    "u = exact_u(x, y)\n",
    "plot(basis['u'], u-uh0, colorbar=True)\n",
    "# plot(basis['u'], u, colorbar=True)"
   ]
  },
  {
   "cell_type": "code",
   "execution_count": null,
   "metadata": {},
   "outputs": [],
   "source": [
    "basis['u'].tind"
   ]
  },
  {
   "cell_type": "code",
   "execution_count": null,
   "metadata": {},
   "outputs": [],
   "source": [
    "# basis['u'].doflocs\n",
    "\n",
    "# # basis['u'].nodal_dofs[0]\n",
    "# for i in range(25):\n",
    "# #     print(i)\n",
    "# #     print(boundary_basis.doflocs[:, i])\n",
    "#     pass\n",
    "\n",
    "# basis['u'].find_dofs()['all'].all()\n",
    "\n",
    "# np.array([i for i in basis['u'].find_dofs()['all'].all() if i in basis['u'].nodal_dofs[0]])\n",
    "\n",
    "# basis['u'].facet_dofs[0]\n",
    "\n",
    "# uh0\n",
    "\n",
    "\n",
    "# np.arctan2(1, 0)\n",
    "\n",
    "from mpl_toolkits.mplot3d import Axes3D\n",
    "import numpy as np\n",
    "from matplotlib import pyplot as plt\n",
    "fig = plt.figure()\n",
    "ax = Axes3D(fig)\n",
    "x = np.arange(-1, 1, 0.05)\n",
    "y = np.arange(-1, 1, 0.05)\n",
    "X, Y = np.meshgrid(x, y) \n",
    "Z = exact_u(X, Y)\n",
    "plt.xlabel('x')\n",
    "plt.ylabel('y')\n",
    "\n",
    "ax.plot_surface(X, Y, Z, rstride=2, cstride=1, cmap='rainbow')\n",
    "plt.show()\n",
    "\n",
    "# boundary_dofs\n",
    "\n",
    "# easy_boundary(m, basis['u'])\n",
    "# np.hstack([boundary_dofs, easy_boundary(m, basis['u'])])"
   ]
  },
  {
   "cell_type": "code",
   "execution_count": null,
   "metadata": {},
   "outputs": [],
   "source": [
    "boundary_basis.find_dofs()['all'].all()"
   ]
  },
  {
   "cell_type": "code",
   "execution_count": null,
   "metadata": {},
   "outputs": [],
   "source": [
    "# v.value"
   ]
  },
  {
   "cell_type": "code",
   "execution_count": null,
   "metadata": {},
   "outputs": [],
   "source": [
    "# (w.n[0] * u_x + w.n[1] * u_y) * v"
   ]
  },
  {
   "cell_type": "code",
   "execution_count": null,
   "metadata": {},
   "outputs": [],
   "source": [
    "boundary_basis.find_dofs()['all'].all()"
   ]
  },
  {
   "cell_type": "code",
   "execution_count": null,
   "metadata": {},
   "outputs": [],
   "source": [
    "basis['u'].nodal_dofs[0]"
   ]
  },
  {
   "cell_type": "code",
   "execution_count": null,
   "metadata": {},
   "outputs": [],
   "source": [
    "basis['u'].facet_dofs[0]"
   ]
  },
  {
   "cell_type": "code",
   "execution_count": null,
   "metadata": {},
   "outputs": [],
   "source": [
    "uh0.shape\n",
    "\n",
    "boundary_dofs.shape\n",
    "\n",
    "basis['u'].facet_dofs\n",
    "\n",
    "basis['u'].nodal_dofs[0]\n",
    "\n",
    "basis['u'].get_dofs()\n",
    "\n",
    "basis['u'].find_dofs()['all'].all()\n",
    "\n",
    "pproject(dirichlet, basis_to=boundary_basis, I=boundary_dofs, solver=minres)\n",
    "\n",
    "exact_u(boundary_basis.doflocs[0][boundary_dofs], boundary_basis.doflocs[1][boundary_dofs])\n",
    "\n",
    "boundary_dofs"
   ]
  },
  {
   "cell_type": "code",
   "execution_count": null,
   "metadata": {},
   "outputs": [],
   "source": [
    "plot(basis['u'], u, colorbar=True)"
   ]
  },
  {
   "cell_type": "code",
   "execution_count": null,
   "metadata": {},
   "outputs": [],
   "source": [
    "plot(basis['u'], uh0, colorbar=True)"
   ]
  },
  {
   "cell_type": "code",
   "execution_count": null,
   "metadata": {},
   "outputs": [],
   "source": [
    "# w = www\n",
    "# v = vvv\n",
    "# x, y = w.x\n",
    "# u_x, u_y = dexact_u(x, y)\n",
    "# (w.n[0] * u_x + w.n[1] * u_y) * v"
   ]
  },
  {
   "cell_type": "code",
   "execution_count": null,
   "metadata": {
    "scrolled": true
   },
   "outputs": [],
   "source": [
    "exact_u(x, y)"
   ]
  },
  {
   "cell_type": "code",
   "execution_count": null,
   "metadata": {},
   "outputs": [],
   "source": [
    "dirichlet([x, y])"
   ]
  },
  {
   "cell_type": "code",
   "execution_count": null,
   "metadata": {},
   "outputs": [],
   "source": [
    "exact_u(np.array([-0.00000]), np.array([0.8]))"
   ]
  },
  {
   "cell_type": "code",
   "execution_count": null,
   "metadata": {},
   "outputs": [],
   "source": [
    "dirichlet([np.array([[-0.00000]]), np.array([[0.8]])])"
   ]
  },
  {
   "cell_type": "code",
   "execution_count": null,
   "metadata": {},
   "outputs": [],
   "source": [
    "boundary_basis.mesh"
   ]
  },
  {
   "cell_type": "code",
   "execution_count": null,
   "metadata": {},
   "outputs": [],
   "source": [
    "exact_u(boundary_basis.doflocs[0], boundary_basis.doflocs[1])"
   ]
  },
  {
   "cell_type": "code",
   "execution_count": null,
   "metadata": {
    "scrolled": false
   },
   "outputs": [],
   "source": [
    "pproject(dirichlet, basis_to=boundary_basis, I=boundary_dofs, solver=minres)"
   ]
  },
  {
   "cell_type": "code",
   "execution_count": null,
   "metadata": {
    "scrolled": true
   },
   "outputs": [],
   "source": [
    "(uh0 - u)[:30]"
   ]
  },
  {
   "cell_type": "code",
   "execution_count": null,
   "metadata": {},
   "outputs": [],
   "source": [
    "u"
   ]
  },
  {
   "cell_type": "code",
   "execution_count": null,
   "metadata": {},
   "outputs": [],
   "source": []
  },
  {
   "cell_type": "code",
   "execution_count": null,
   "metadata": {},
   "outputs": [],
   "source": [
    "time_start = time.time()\n",
    "\n",
    "print('=======Arguments=======')\n",
    "print('penalty:\\t{}'.format(penalty))\n",
    "print('element_type:\\t{}'.format(element_type))\n",
    "print('solver_type:\\t{}'.format(solver_type))\n",
    "print('tol:\\t{}'.format(tol))\n",
    "print('intorder:\\t{}'.format(intorder))\n",
    "print('refine_time:\\t{}'.format(refine_time))\n",
    "print('sigma:\\t{}'.format(sigma))\n",
    "print('=======Results=======')\n",
    "\n",
    "df_list = []\n",
    "for j in range(epsilon_range):\n",
    "    epsilon = 1 * 10**(-j)\n",
    "    ep = epsilon\n",
    "    L2_list = []\n",
    "    Du_list = []\n",
    "    D2u_list = []\n",
    "    h_list = []\n",
    "    epu_list = []\n",
    "#     m = MeshTri().init_lshaped()\n",
    "    m = MeshTri()\n",
    "#     draw(m)\n",
    "\n",
    "    for i in range(1, refine_time+1):\n",
    "        \n",
    "        m.refine()\n",
    "        \n",
    "        if penalty:\n",
    "            uh0, basis, fbasis = solve_problem2(m, element_type, solver_type, intorder, tol, epsilon)\n",
    "        else:\n",
    "            uh0, basis = solve_problem1(m, element_type, solver_type, intorder, tol, epsilon)\n",
    "\n",
    "        U = basis['u'].interpolate(uh0).value\n",
    "\n",
    "        # compute errors\n",
    "\n",
    "        L2u = np.sqrt(L2uError.assemble(basis['u'], w=U))\n",
    "        Du = get_DuError(basis['u'], uh0)\n",
    "        H1u = Du + L2u\n",
    "        if penalty:\n",
    "            D2u = np.sqrt(get_D2uError(basis['u'], uh0)**2 + L2pnvError.assemble(fbasis, w=fbasis.interpolate(uh0)))\n",
    "        else:\n",
    "            D2u = get_D2uError(basis['u'], uh0)\n",
    "        epu = np.sqrt(epsilon**2 * D2u**2 + Du**2)\n",
    "        h_list.append(m.param())\n",
    "        Du_list.append(Du)\n",
    "        L2_list.append(L2u)\n",
    "        D2u_list.append(D2u)\n",
    "        epu_list.append(epu)\n",
    "        \n",
    "    hs = np.array(h_list)\n",
    "    L2s = np.array(L2_list)\n",
    "    Dus = np.array(Du_list)\n",
    "    D2us = np.array(D2u_list)\n",
    "    epus = np.array(epu_list)\n",
    "    H1s = L2s + Dus\n",
    "    H2s = H1s + D2us\n",
    "    \n",
    "    # store data\n",
    "    data = np.array([L2s, H1s, H2s, epus])\n",
    "    df = pd.DataFrame(data.T, columns=['L2', 'H1', 'H2', 'Energy'])\n",
    "    df_list.append(df)\n",
    "    \n",
    "    print('epsilion:', epsilon)\n",
    "    show_result(L2s, H1s, H2s, epus)\n",
    "\n",
    "time_end = time.time()\n",
    "\n",
    "result = df_list[0].append(df_list[1:])\n",
    "result.to_csv(save_path+'.csv')\n",
    "print('======= Errors saved in:', save_path+'.csv ==========')\n",
    "print('Total Time Cost {:.2f} s'.format(time_end-time_start))"
   ]
  },
  {
   "cell_type": "code",
   "execution_count": null,
   "metadata": {},
   "outputs": [],
   "source": []
  },
  {
   "cell_type": "code",
   "execution_count": null,
   "metadata": {},
   "outputs": [],
   "source": []
  }
 ],
 "metadata": {
  "kernelspec": {
   "display_name": "Python 3",
   "language": "python",
   "name": "python3"
  },
  "language_info": {
   "codemirror_mode": {
    "name": "ipython",
    "version": 3
   },
   "file_extension": ".py",
   "mimetype": "text/x-python",
   "name": "python",
   "nbconvert_exporter": "python",
   "pygments_lexer": "ipython3",
   "version": "3.7.4"
  },
  "toc": {
   "base_numbering": 1,
   "nav_menu": {},
   "number_sections": true,
   "sideBar": false,
   "skip_h1_title": false,
   "title_cell": "Table of Contents",
   "title_sidebar": "Contents",
   "toc_cell": false,
   "toc_position": {},
   "toc_section_display": false,
   "toc_window_display": false
  },
  "varInspector": {
   "cols": {
    "lenName": 16,
    "lenType": 16,
    "lenVar": 40
   },
   "kernels_config": {
    "python": {
     "delete_cmd_postfix": "",
     "delete_cmd_prefix": "del ",
     "library": "var_list.py",
     "varRefreshCmd": "print(var_dic_list())"
    },
    "r": {
     "delete_cmd_postfix": ") ",
     "delete_cmd_prefix": "rm(",
     "library": "var_list.r",
     "varRefreshCmd": "cat(var_dic_list()) "
    }
   },
   "types_to_exclude": [
    "module",
    "function",
    "builtin_function_or_method",
    "instance",
    "_Feature"
   ],
   "window_display": false
  }
 },
 "nbformat": 4,
 "nbformat_minor": 4
}
