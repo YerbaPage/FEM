{
 "cells": [
  {
   "cell_type": "markdown",
   "metadata": {},
   "source": [
    "# Init"
   ]
  },
  {
   "cell_type": "code",
   "execution_count": 1,
   "metadata": {
    "code_folding": [],
    "scrolled": false
   },
   "outputs": [],
   "source": [
    "# from skfem import *\n",
    "import numpy as np\n",
    "from utils import *\n",
    "from skfem.helpers import d, dd, ddd, dot, ddot, grad, dddot, prod\n",
    "from scipy.sparse.linalg import LinearOperator, minres\n",
    "# from skfem.models.poisson import *\n",
    "from skfem.assembly import BilinearForm, LinearForm\n",
    "import datetime\n",
    "import pandas as pd\n",
    "from skfem.visuals.matplotlib import draw, plot\n",
    "import sys\n",
    "import time\n",
    "\n",
    "tol = 1e-8\n",
    "intorder = 5\n",
    "solver_type = 'mgcg'\n",
    "refine_time = 5\n",
    "epsilon_range = 6\n",
    "element_type = 'P1'\n",
    "sigma = 5\n",
    "penalty = False\n",
    "# epsilon = 1e-5\n",
    "example = 'ex4'\n",
    "save_path = 'log/' + example + '_' + element_type + '_' + ('pen' if penalty else 'nopen') + '_' +'{}'.format(datetime.datetime.now().strftime(\"%Y-%m-%d_%H-%M-%S\"))"
   ]
  },
  {
   "cell_type": "code",
   "execution_count": 2,
   "metadata": {},
   "outputs": [],
   "source": [
    "def dirichlet(w):\n",
    "    \"\"\"return a harmonic function\"\"\"\n",
    "    global out\n",
    "    x, y = w\n",
    "    out = np.zeros_like(x)\n",
    "    if x.ndim == 2:\n",
    "        for i in range(x.shape[0]):\n",
    "            for j in range(x.shape[1]):\n",
    "                if x[i, j] != 0:\n",
    "                    out[i, j] = (x[i, j]**2 + y[i, j]**2)**(5 / 6) * sin(5 * atan(y[i, j] / x[i, j]) / 3)\n",
    "                elif y[i, j] > 0:\n",
    "                    out[i, j] = (x[i, j]**2 + y[i, j]**2)**(5 / 6) * sin(90 * 5 / 3)\n",
    "                else:\n",
    "                    out[i, j] = (x[i, j]**2 + y[i, j]**2)**(5 / 6) * sin(270 * 5 / 3)\n",
    "    elif x.ndim == 1:\n",
    "        for i in range(x.shape[0]):\n",
    "            if x[i] != 0:\n",
    "                out[i] = (x[i]**2 + y[i]**2)**(5 / 6) * sin(5 * atan(y[i] / x[i]) / 3)\n",
    "            elif y[i] > 0:\n",
    "                out[i] = (x[i]**2 + y[i]**2)**(5 / 6) * sin(90 * 5 / 3)\n",
    "            else:\n",
    "                out[i] = (x[i]**2 + y[i]**2)**(5 / 6) * sin(270 * 5 / 3)\n",
    "    else:\n",
    "        raise Exception(\"dim not supported\")\n",
    "    return out"
   ]
  },
  {
   "cell_type": "code",
   "execution_count": 3,
   "metadata": {},
   "outputs": [],
   "source": [
    "@LinearForm\n",
    "def boundary_load(v, w):\n",
    "    global x\n",
    "    x, y = w.x\n",
    "    u_x, u_y = dexact_u(x, y)\n",
    "    return (w.n[0] * u_x + w.n[1] * u_y) * v"
   ]
  },
  {
   "cell_type": "code",
   "execution_count": 4,
   "metadata": {
    "code_folding": []
   },
   "outputs": [],
   "source": [
    "def solve_problem1(m, element_type='P1', solver_type='pcg', intorder=6, tol=1e-8, epsilon=1e-6):\n",
    "    '''\n",
    "    switching to mgcg solver for problem 1\n",
    "    '''\n",
    "    if element_type == 'P1':\n",
    "        element = {'w': ElementTriP1(), 'u': ElementTriMorley()}\n",
    "    elif element_type == 'P2':\n",
    "        element = {'w': ElementTriP2(), 'u': ElementTriMorley()}\n",
    "    else:\n",
    "        raise Exception(\"Element not supported\")\n",
    "\n",
    "    basis = {\n",
    "        variable: InteriorBasis(m, e, intorder=intorder)\n",
    "        for variable, e in element.items()\n",
    "    }\n",
    "    \n",
    "    K1 = asm(laplace, basis['w'])\n",
    "    f1 = asm(f_load, basis['w'])\n",
    "    wh = solve(*condense(K1, f1, D=basis['w'].find_dofs()), solver=solver_iter_mgcg(tol=tol))\n",
    "    \n",
    "    global K2, f2, uh0, boundary_dofs, boundary_basis\n",
    "    fbasis = FacetBasis(m, ElementTriMorley())\n",
    "    K2 = epsilon**2 * asm(a_load, basis['u']) + asm(b_load, basis['u'])\n",
    "    f2 = asm(wv_load, basis['w'], basis['u']) * wh + asm(boundary_load, fbasis)\n",
    "    \n",
    "#     boundary_basis = FacetBasis(m, element['w'])\n",
    "    boundary_basis = FacetBasis(m, ElementTriMorley())\n",
    "#     boundary_dofs = boundary_basis.find_dofs()\n",
    "#     boundary_dofs = boundary_basis.find_dofs()['all'].all()\n",
    "    boundary_dofs = basis['u'].nodal_dofs[0]\n",
    "    uh0 = np.zeros(basis['u'].N)\n",
    "#     uh0[boundary_dofs] = pproject(dirichlet, basis_to=boundary_basis, I=boundary_dofs, solver=minres)\n",
    "    uh0[boundary_dofs] = exact_u(boundary_basis.doflocs[0][boundary_dofs], boundary_basis.doflocs[1][boundary_dofs])\n",
    "\n",
    "#     uh0 = solve(*condense(K2, f2, D=easy_boundary(m, basis['u'])), solver=solver_iter_mgcg(tol=tol))\n",
    "#     uh0 = solve(*condense(K2, f2, D=basis['u'].find_dofs()), solver=solver_iter_mgcg(tol=tol))\n",
    "#     uh0 = solve(*condense(K2, f2, uh0, D=boundary_dofs), solver=solver_iter_krylov(minres, tol=tol))\n",
    "\n",
    "    uh0 = solve(*condense(K2, f2, uh0, D=boundary_dofs), solver=solver_iter_mgcg(tol=tol))\n",
    "#     uh0 = solve(*condense(K2, f2, uh0, D=basis['u'].find_dofs()), solver=solver_iter_mgcg(tol=tol))\n",
    "\n",
    "    return uh0, basis"
   ]
  },
  {
   "cell_type": "markdown",
   "metadata": {},
   "source": [
    "# Solving"
   ]
  },
  {
   "cell_type": "code",
   "execution_count": 5,
   "metadata": {},
   "outputs": [
    {
     "data": {
      "text/plain": [
       "<matplotlib.axes._subplots.AxesSubplot at 0x1eb152be0c8>"
      ]
     },
     "execution_count": 5,
     "metadata": {},
     "output_type": "execute_result"
    },
    {
     "data": {
      "image/png": "[encoded data removed]",
      "text/plain": [
       "<Figure size 432x288 with 1 Axes>"
      ]
     },
     "metadata": {
      "needs_background": "light"
     },
     "output_type": "display_data"
    },
    {
     "data": {
      "image/png": "[encoded data removed]",
      "text/plain": [
       "<Figure size 432x288 with 2 Axes>"
      ]
     },
     "metadata": {
      "needs_background": "light"
     },
     "output_type": "display_data"
    }
   ],
   "source": [
    "# m = MeshTri().init_lshaped()\n",
    "m = MeshTri()\n",
    "m.refine(3)\n",
    "draw(m)\n",
    "\n",
    "epsilon = 0\n",
    "ep = epsilon\n",
    "\n",
    "uh0, basis = solve_problem1(m, element_type, solver_type, intorder, tol, epsilon)\n",
    "\n",
    "x = basis['u'].doflocs[0]\n",
    "y = basis['u'].doflocs[1]\n",
    "u = exact_u(x, y)\n",
    "plot(basis['u'], u-uh0, colorbar=True)"
   ]
  },
  {
   "cell_type": "code",
   "execution_count": null,
   "metadata": {},
   "outputs": [],
   "source": [
    "uh0.shape\n",
    "\n",
    "boundary_dofs.shape\n",
    "\n",
    "basis['u'].facet_dofs\n",
    "\n",
    "basis['u'].nodal_dofs[0]\n",
    "\n",
    "basis['u'].get_dofs()\n",
    "\n",
    "basis['u'].find_dofs()['all'].all()\n",
    "\n",
    "pproject(dirichlet, basis_to=boundary_basis, I=boundary_dofs, solver=minres)\n",
    "\n",
    "exact_u(boundary_basis.doflocs[0][boundary_dofs], boundary_basis.doflocs[1][boundary_dofs])\n",
    "\n",
    "boundary_dofs"
   ]
  },
  {
   "cell_type": "code",
   "execution_count": null,
   "metadata": {},
   "outputs": [],
   "source": [
    "plot(basis['u'], u, colorbar=True)"
   ]
  },
  {
   "cell_type": "code",
   "execution_count": null,
   "metadata": {},
   "outputs": [],
   "source": [
    "plot(basis['u'], uh0, colorbar=True)"
   ]
  },
  {
   "cell_type": "code",
   "execution_count": null,
   "metadata": {
    "scrolled": true
   },
   "outputs": [],
   "source": [
    "exact_u(x, y)"
   ]
  },
  {
   "cell_type": "code",
   "execution_count": null,
   "metadata": {},
   "outputs": [],
   "source": [
    "dirichlet([x, y])"
   ]
  },
  {
   "cell_type": "code",
   "execution_count": null,
   "metadata": {},
   "outputs": [],
   "source": [
    "exact_u(np.array([-0.00000]), np.array([0.8]))"
   ]
  },
  {
   "cell_type": "code",
   "execution_count": null,
   "metadata": {},
   "outputs": [],
   "source": [
    "dirichlet([np.array([[-0.00000]]), np.array([[0.8]])])"
   ]
  },
  {
   "cell_type": "code",
   "execution_count": null,
   "metadata": {},
   "outputs": [],
   "source": [
    "boundary_basis.mesh"
   ]
  },
  {
   "cell_type": "code",
   "execution_count": null,
   "metadata": {},
   "outputs": [],
   "source": [
    "exact_u(boundary_basis.doflocs[0], boundary_basis.doflocs[1])"
   ]
  },
  {
   "cell_type": "code",
   "execution_count": null,
   "metadata": {
    "scrolled": false
   },
   "outputs": [],
   "source": [
    "pproject(dirichlet, basis_to=boundary_basis, I=boundary_dofs, solver=minres)"
   ]
  },
  {
   "cell_type": "code",
   "execution_count": null,
   "metadata": {
    "scrolled": true
   },
   "outputs": [],
   "source": [
    "(uh0 - u)[:30]"
   ]
  },
  {
   "cell_type": "code",
   "execution_count": null,
   "metadata": {},
   "outputs": [],
   "source": [
    "u"
   ]
  },
  {
   "cell_type": "code",
   "execution_count": null,
   "metadata": {},
   "outputs": [],
   "source": []
  },
  {
   "cell_type": "code",
   "execution_count": 6,
   "metadata": {},
   "outputs": [
    {
     "name": "stdout",
     "output_type": "stream",
     "text": [
      "=======Arguments=======\n",
      "penalty:\tFalse\n",
      "element_type:\tP1\n",
      "solver_type:\tmgcg\n",
      "tol:\t1e-08\n",
      "intorder:\t5\n",
      "refine_time:\t5\n",
      "sigma:\t5\n",
      "=======Results=======\n",
      "epsilion: 1\n",
      "  h    L2u   H1u   H2u   epu\n",
      "2^-2  0.52  0.03  -0.52  -0.64\n",
      "2^-2  1.639e-01  2.650e+00  8.306e+00  6.178e+00\n",
      "2^-3  0.50  -0.08  -0.93  -1.10\n",
      "2^-3  1.159e-01  2.800e+00  1.581e+01  1.329e+01\n",
      "2^-4  0.50  -0.18  -1.25  -1.38\n",
      "2^-4  8.211e-02  3.170e+00  3.758e+01  3.455e+01\n",
      "2^-5  0.50  -0.25  -1.40  -1.47\n",
      "2^-5  5.813e-02  3.772e+00  9.934e+01  9.564e+01\n",
      "epsilion: 0.1\n",
      "  h    L2u   H1u   H2u   epu\n",
      "2^-2  0.56  -0.00  -0.40  -0.11\n",
      "2^-2  1.717e-01  2.329e+00  1.164e+01  2.349e+00\n",
      "2^-3  0.55  -0.17  -0.57  -0.30\n",
      "2^-3  1.175e-01  2.616e+00  1.724e+01  2.895e+00\n",
      "2^-4  0.51  -0.25  -1.13  -0.67\n",
      "2^-4  8.242e-02  3.102e+00  3.782e+01  4.601e+00\n",
      "2^-5  0.50  -0.27  -1.39  -1.16\n",
      "2^-5  5.819e-02  3.749e+00  9.936e+01  1.025e+01\n",
      "epsilion: 0.01\n",
      "  h    L2u   H1u   H2u   epu\n",
      "2^-2  0.53  0.05  -0.92  -0.00\n",
      "2^-2  1.772e-01  2.225e+00  1.994e+01  2.055e+00\n",
      "2^-3  0.52  -0.04  -1.00  -0.09\n",
      "2^-3  1.233e-01  2.283e+00  3.986e+01  2.192e+00\n",
      "2^-4  0.50  -0.16  -1.00  -0.24\n",
      "2^-4  8.700e-02  2.559e+00  7.994e+01  2.591e+00\n",
      "2^-5  0.52  -0.29  -0.91  -0.39\n",
      "2^-5  6.075e-02  3.125e+00  1.503e+02  3.400e+00\n",
      "epsilion: 0.001\n",
      "  h    L2u   H1u   H2u   epu\n",
      "2^-2  0.53  0.05  -0.94  -0.00\n",
      "2^-2  1.769e-01  2.225e+00  2.028e+01  2.048e+00\n",
      "2^-3  0.53  -0.04  -1.07  -0.08\n",
      "2^-3  1.227e-01  2.285e+00  4.262e+01  2.163e+00\n",
      "2^-4  0.51  -0.15  -1.21  -0.18\n",
      "2^-4  8.632e-02  2.542e+00  9.837e+01  2.457e+00\n",
      "2^-5  0.50  -0.21  -1.31  -0.24\n",
      "2^-5  6.095e-02  2.950e+00  2.435e+02  2.899e+00\n",
      "epsilion: 0.0001\n",
      "  h    L2u   H1u   H2u   epu\n",
      "2^-2  0.53  0.05  -0.94  -0.00\n",
      "2^-2  1.769e-01  2.225e+00  2.028e+01  2.048e+00\n",
      "2^-3  0.53  -0.04  -1.07  -0.08\n",
      "2^-3  1.227e-01  2.285e+00  4.265e+01  2.162e+00\n",
      "2^-4  0.51  -0.15  -1.21  -0.18\n",
      "2^-4  8.630e-02  2.542e+00  9.866e+01  2.456e+00\n",
      "2^-5  0.50  -0.22  -1.32  -0.23\n",
      "2^-5  6.090e-02  2.951e+00  2.464e+02  2.890e+00\n",
      "epsilion: 1e-05\n",
      "  h    L2u   H1u   H2u   epu\n",
      "2^-2  0.53  0.05  -0.94  -0.00\n",
      "2^-2  1.769e-01  2.225e+00  2.028e+01  2.048e+00\n",
      "2^-3  0.53  -0.04  -1.07  -0.08\n",
      "2^-3  1.227e-01  2.285e+00  4.265e+01  2.162e+00\n",
      "2^-4  0.51  -0.15  -1.21  -0.18\n",
      "2^-4  8.630e-02  2.542e+00  9.866e+01  2.456e+00\n",
      "2^-5  0.50  -0.22  -1.32  -0.23\n",
      "2^-5  6.090e-02  2.951e+00  2.464e+02  2.890e+00\n",
      "======= Errors saved in: log/ex4_P1_nopen_2021-01-29_09-48-40.csv ==========\n",
      "Total Time Cost 4.00 s\n"
     ]
    }
   ],
   "source": [
    "time_start = time.time()\n",
    "\n",
    "print('=======Arguments=======')\n",
    "print('penalty:\\t{}'.format(penalty))\n",
    "print('element_type:\\t{}'.format(element_type))\n",
    "print('solver_type:\\t{}'.format(solver_type))\n",
    "print('tol:\\t{}'.format(tol))\n",
    "print('intorder:\\t{}'.format(intorder))\n",
    "print('refine_time:\\t{}'.format(refine_time))\n",
    "print('sigma:\\t{}'.format(sigma))\n",
    "print('=======Results=======')\n",
    "\n",
    "df_list = []\n",
    "for j in range(epsilon_range):\n",
    "    epsilon = 1 * 10**(-j)\n",
    "    ep = epsilon\n",
    "    L2_list = []\n",
    "    Du_list = []\n",
    "    D2u_list = []\n",
    "    h_list = []\n",
    "    epu_list = []\n",
    "#     m = MeshTri().init_lshaped()\n",
    "    m = MeshTri()\n",
    "#     draw(m)\n",
    "\n",
    "    for i in range(1, refine_time+1):\n",
    "        \n",
    "        m.refine()\n",
    "        \n",
    "        if penalty:\n",
    "            uh0, basis, fbasis = solve_problem2(m, element_type, solver_type, intorder, tol, epsilon)\n",
    "        else:\n",
    "            uh0, basis = solve_problem1(m, element_type, solver_type, intorder, tol, epsilon)\n",
    "\n",
    "        U = basis['u'].interpolate(uh0).value\n",
    "\n",
    "        # compute errors\n",
    "\n",
    "        L2u = np.sqrt(L2uError.assemble(basis['u'], w=U))\n",
    "        Du = get_DuError(basis['u'], uh0)\n",
    "        H1u = Du + L2u\n",
    "        if penalty:\n",
    "            D2u = np.sqrt(get_D2uError(basis['u'], uh0)**2 + L2pnvError.assemble(fbasis, w=fbasis.interpolate(uh0)))\n",
    "        else:\n",
    "            D2u = get_D2uError(basis['u'], uh0)\n",
    "        epu = np.sqrt(epsilon**2 * D2u**2 + Du**2)\n",
    "        h_list.append(m.param())\n",
    "        Du_list.append(Du)\n",
    "        L2_list.append(L2u)\n",
    "        D2u_list.append(D2u)\n",
    "        epu_list.append(epu)\n",
    "        \n",
    "    hs = np.array(h_list)\n",
    "    L2s = np.array(L2_list)\n",
    "    Dus = np.array(Du_list)\n",
    "    D2us = np.array(D2u_list)\n",
    "    epus = np.array(epu_list)\n",
    "    H1s = L2s + Dus\n",
    "    H2s = H1s + D2us\n",
    "    \n",
    "    # store data\n",
    "    data = np.array([L2s, H1s, H2s, epus])\n",
    "    df = pd.DataFrame(data.T, columns=['L2', 'H1', 'H2', 'Energy'])\n",
    "    df_list.append(df)\n",
    "    \n",
    "    print('epsilion:', epsilon)\n",
    "    show_result(L2s, H1s, H2s, epus)\n",
    "\n",
    "time_end = time.time()\n",
    "\n",
    "result = df_list[0].append(df_list[1:])\n",
    "result.to_csv(save_path+'.csv')\n",
    "print('======= Errors saved in:', save_path+'.csv ==========')\n",
    "print('Total Time Cost {:.2f} s'.format(time_end-time_start))"
   ]
  },
  {
   "cell_type": "code",
   "execution_count": null,
   "metadata": {},
   "outputs": [],
   "source": []
  }
 ],
 "metadata": {
  "kernelspec": {
   "display_name": "Python 3",
   "language": "python",
   "name": "python3"
  },
  "language_info": {
   "codemirror_mode": {
    "name": "ipython",
    "version": 3
   },
   "file_extension": ".py",
   "mimetype": "text/x-python",
   "name": "python",
   "nbconvert_exporter": "python",
   "pygments_lexer": "ipython3",
   "version": "3.7.4"
  },
  "toc": {
   "base_numbering": 1,
   "nav_menu": {},
   "number_sections": true,
   "sideBar": false,
   "skip_h1_title": false,
   "title_cell": "Table of Contents",
   "title_sidebar": "Contents",
   "toc_cell": false,
   "toc_position": {},
   "toc_section_display": false,
   "toc_window_display": false
  },
  "varInspector": {
   "cols": {
    "lenName": 16,
    "lenType": 16,
    "lenVar": 40
   },
   "kernels_config": {
    "python": {
     "delete_cmd_postfix": "",
     "delete_cmd_prefix": "del ",
     "library": "var_list.py",
     "varRefreshCmd": "print(var_dic_list())"
    },
    "r": {
     "delete_cmd_postfix": ") ",
     "delete_cmd_prefix": "rm(",
     "library": "var_list.r",
     "varRefreshCmd": "cat(var_dic_list()) "
    }
   },
   "types_to_exclude": [
    "module",
    "function",
    "builtin_function_or_method",
    "instance",
    "_Feature"
   ],
   "window_display": false
  }
 },
 "nbformat": 4,
 "nbformat_minor": 4
}
