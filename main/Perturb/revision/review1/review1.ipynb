{
 "cells": [
  {
   "cell_type": "markdown",
   "metadata": {},
   "source": [
    "# Init"
   ]
  },
  {
   "cell_type": "code",
   "execution_count": 1,
   "metadata": {
    "code_folding": [],
    "scrolled": false
   },
   "outputs": [],
   "source": [
    "# from skfem import *\n",
    "import numpy as np\n",
    "from utils import *\n",
    "from skfem.helpers import d, dd, ddd, dot, ddot, grad, dddot, prod\n",
    "from scipy.sparse.linalg import LinearOperator, minres\n",
    "# from skfem.models.poisson import *\n",
    "from skfem.assembly import BilinearForm, LinearForm\n",
    "import datetime\n",
    "import pandas as pd\n",
    "from skfem.visuals.matplotlib import draw, plot\n",
    "import sys\n",
    "import time\n",
    "\n",
    "tol = 1e-8\n",
    "intorder = 5\n",
    "solver_type = 'mgcg'\n",
    "refine_time = 5\n",
    "epsilon_range = 6\n",
    "element_type = 'P1'\n",
    "sigma = 5\n",
    "penalty = False\n",
    "# epsilon = 1e-5\n",
    "example = 'ex4'\n",
    "save_path = 'log/' + example + '_' + element_type + '_' + ('pen' if penalty else 'nopen') + '_' +'{}'.format(datetime.datetime.now().strftime(\"%Y-%m-%d_%H-%M-%S\"))"
   ]
  },
  {
   "cell_type": "code",
   "execution_count": 2,
   "metadata": {},
   "outputs": [],
   "source": [
    "def dirichlet(w):\n",
    "    \"\"\"return a harmonic function\"\"\"\n",
    "    global out\n",
    "    x, y = w\n",
    "    out = np.zeros_like(x)\n",
    "    if x.ndim == 2:\n",
    "        for i in range(x.shape[0]):\n",
    "            for j in range(x.shape[1]):\n",
    "                if x[i, j] != 0:\n",
    "                    out[i, j] = (x[i, j]**2 + y[i, j]**2)**(5 / 6) * sin(5 * atan(y[i, j] / x[i, j]) / 3)\n",
    "                elif y[i, j] > 0:\n",
    "                    out[i, j] = (x[i, j]**2 + y[i, j]**2)**(5 / 6) * sin(90 * 5 / 3)\n",
    "                else:\n",
    "                    out[i, j] = (x[i, j]**2 + y[i, j]**2)**(5 / 6) * sin(270 * 5 / 3)\n",
    "    elif x.ndim == 1:\n",
    "        for i in range(x.shape[0]):\n",
    "            if x[i] != 0:\n",
    "                out[i] = (x[i]**2 + y[i]**2)**(5 / 6) * sin(5 * atan(y[i] / x[i]) / 3)\n",
    "            elif y[i] > 0:\n",
    "                out[i] = (x[i]**2 + y[i]**2)**(5 / 6) * sin(90 * 5 / 3)\n",
    "            else:\n",
    "                out[i] = (x[i]**2 + y[i]**2)**(5 / 6) * sin(270 * 5 / 3)\n",
    "    else:\n",
    "        raise Exception(\"dim not supported\")\n",
    "    return out"
   ]
  },
  {
   "cell_type": "code",
   "execution_count": 11,
   "metadata": {},
   "outputs": [],
   "source": [
    "@LinearForm\n",
    "def boundary_load(v, w):\n",
    "    global x, www, vvv\n",
    "    vvv = v \n",
    "    www = w\n",
    "    x, y = w.x\n",
    "    u_x, u_y = dexact_u(x, y)\n",
    "    return (w.n[0] * u_x + w.n[1] * u_y) * v"
   ]
  },
  {
   "cell_type": "code",
   "execution_count": 26,
   "metadata": {
    "code_folding": []
   },
   "outputs": [],
   "source": [
    "def solve_problem1(m, element_type='P1', solver_type='pcg', intorder=6, tol=1e-8, epsilon=1e-6):\n",
    "    '''\n",
    "    switching to mgcg solver for problem 1\n",
    "    '''\n",
    "    if element_type == 'P1':\n",
    "        element = {'w': ElementTriP1(), 'u': ElementTriMorley()}\n",
    "    elif element_type == 'P2':\n",
    "        element = {'w': ElementTriP2(), 'u': ElementTriMorley()}\n",
    "    else:\n",
    "        raise Exception(\"Element not supported\")\n",
    "\n",
    "    basis = {\n",
    "        variable: InteriorBasis(m, e, intorder=intorder)\n",
    "        for variable, e in element.items()\n",
    "    }\n",
    "    \n",
    "    K1 = asm(laplace, basis['w'])\n",
    "    f1 = asm(f_load, basis['w'])\n",
    "    wh = solve(*condense(K1, f1, D=basis['w'].find_dofs()), solver=solver_iter_mgcg(tol=tol))\n",
    "    \n",
    "    global K2, f2, uh0, boundary_dofs, boundary_basis\n",
    "    fbasis = FacetBasis(m, ElementTriMorley())\n",
    "    K2 = epsilon**2 * asm(a_load, basis['u']) + asm(b_load, basis['u'])\n",
    "    f2 = asm(wv_load, basis['w'], basis['u']) * wh + asm(boundary_load, fbasis)\n",
    "#     f2 = asm(wv_load, basis['w'], basis['u']) * wh\n",
    "#     boundary_basis = FacetBasis(m, element['w'])\n",
    "    boundary_basis = FacetBasis(m, ElementTriMorley())\n",
    "#     boundary_dofs = boundary_basis.find_dofs()\n",
    "#     boundary_dofs = boundary_basis.find_dofs()['all'].all()\n",
    "    boundary_dofs = basis['u'].nodal_dofs[0]\n",
    "    uh0 = np.zeros(basis['u'].N)\n",
    "#     uh0[boundary_dofs] = pproject(dirichlet, basis_to=boundary_basis, I=boundary_dofs, solver=minres)\n",
    "    uh0[boundary_dofs] = exact_u(boundary_basis.doflocs[0][boundary_dofs], boundary_basis.doflocs[1][boundary_dofs])\n",
    "\n",
    "#     uh0 = solve(*condense(K2, f2, D=easy_boundary(m, basis['u'])), solver=solver_iter_mgcg(tol=tol))\n",
    "#     uh0 = solve(*condense(K2, f2, D=basis['u'].find_dofs()), solver=solver_iter_mgcg(tol=tol))\n",
    "#     uh0 = solve(*condense(K2, f2, uh0, D=boundary_dofs), solver=solver_iter_krylov(minres, tol=tol))\n",
    "\n",
    "    uh0 = solve(*condense(K2, f2, uh0, D=boundary_dofs), solver=solver_iter_mgcg(tol=tol))\n",
    "#     uh0 = solve(*condense(K2, f2, uh0, D=basis['u'].find_dofs()), solver=solver_iter_mgcg(tol=tol))\n",
    "\n",
    "    return uh0, basis"
   ]
  },
  {
   "cell_type": "markdown",
   "metadata": {},
   "source": [
    "# Solving"
   ]
  },
  {
   "cell_type": "code",
   "execution_count": 28,
   "metadata": {},
   "outputs": [
    {
     "data": {
      "text/plain": [
       "<matplotlib.axes._subplots.AxesSubplot at 0x1eb1d3c4c48>"
      ]
     },
     "execution_count": 28,
     "metadata": {},
     "output_type": "execute_result"
    },
    {
     "data": {
      "image/png": "[encoded data removed]",
      "text/plain": [
       "<Figure size 432x288 with 1 Axes>"
      ]
     },
     "metadata": {
      "needs_background": "light"
     },
     "output_type": "display_data"
    },
    {
     "data": {
      "image/png": "[encoded data removed]",
      "text/plain": [
       "<Figure size 432x288 with 2 Axes>"
      ]
     },
     "metadata": {
      "needs_background": "light"
     },
     "output_type": "display_data"
    }
   ],
   "source": [
    "# m = MeshTri().init_lshaped()\n",
    "m = MeshTri()\n",
    "m.refine()\n",
    "draw(m)\n",
    "\n",
    "epsilon = 0\n",
    "ep = epsilon\n",
    "\n",
    "uh0, basis = solve_problem1(m, element_type, solver_type, intorder, tol, epsilon)\n",
    "\n",
    "x = basis['u'].doflocs[0]\n",
    "y = basis['u'].doflocs[1]\n",
    "u = exact_u(x, y)\n",
    "plot(basis['u'], u-uh0, colorbar=True)"
   ]
  },
  {
   "cell_type": "code",
   "execution_count": 33,
   "metadata": {},
   "outputs": [
    {
     "data": {
      "text/plain": [
       "array([[ 1.22485773e-02,  8.26771381e-02,  4.84743359e-02],\n",
       "       [ 0.00000000e+00,  0.00000000e+00,  0.00000000e+00],\n",
       "       [-5.66905665e-02, -1.21604956e-01, -3.98599042e-02],\n",
       "       [-0.00000000e+00, -0.00000000e+00,  0.00000000e+00],\n",
       "       [-3.96409243e-02, -8.50323633e-02, -2.78720702e-02],\n",
       "       [ 1.41204937e-19,  2.00052103e-18, -4.97799051e-19],\n",
       "       [ 7.25271412e-02, -2.17182923e-01, -6.85405298e-02],\n",
       "       [-3.42895261e-19, -2.07998240e-17, -1.93697918e-17]])"
      ]
     },
     "execution_count": 33,
     "metadata": {},
     "output_type": "execute_result"
    }
   ],
   "source": [
    "w = www\n",
    "v = vvv\n",
    "x, y = w.x\n",
    "u_x, u_y = dexact_u(x, y)\n",
    "(w.n[0] * u_x + w.n[1] * u_y) * v"
   ]
  },
  {
   "cell_type": "code",
   "execution_count": 34,
   "metadata": {},
   "outputs": [
    {
     "data": {
      "text/plain": [
       "array([[-5.00000000e-02, -1.25000000e-01, -5.00000000e-02],\n",
       "       [ 0.00000000e+00,  0.00000000e+00,  0.00000000e+00],\n",
       "       [ 3.53553391e-02,  8.83883476e-02,  3.53553391e-02],\n",
       "       [ 0.00000000e+00,  0.00000000e+00,  0.00000000e+00],\n",
       "       [-3.53553391e-02, -8.83883476e-02, -3.53553391e-02],\n",
       "       [ 5.07326818e-19,  1.26831704e-18,  5.07326818e-19],\n",
       "       [ 5.00000000e-02,  1.25000000e-01,  5.00000000e-02],\n",
       "       [-1.06538632e-17, -1.14148534e-17, -1.06538632e-17]])"
      ]
     },
     "execution_count": 34,
     "metadata": {},
     "output_type": "execute_result"
    }
   ],
   "source": [
    "v.value"
   ]
  },
  {
   "cell_type": "code",
   "execution_count": 38,
   "metadata": {},
   "outputs": [
    {
     "data": {
      "text/plain": [
       "array([[ 1.22485773e-02,  8.26771381e-02,  4.84743359e-02],\n",
       "       [ 0.00000000e+00,  0.00000000e+00,  0.00000000e+00],\n",
       "       [-5.66905665e-02, -1.21604956e-01, -3.98599042e-02],\n",
       "       [-0.00000000e+00, -0.00000000e+00,  0.00000000e+00],\n",
       "       [-3.96409243e-02, -8.50323633e-02, -2.78720702e-02],\n",
       "       [ 1.41204937e-19,  2.00052103e-18, -4.97799051e-19],\n",
       "       [ 7.25271412e-02, -2.17182923e-01, -6.85405298e-02],\n",
       "       [-3.42895261e-19, -2.07998240e-17, -1.93697918e-17]])"
      ]
     },
     "execution_count": 38,
     "metadata": {},
     "output_type": "execute_result"
    }
   ],
   "source": [
    "(w.n[0] * u_x + w.n[1] * u_y) * v"
   ]
  },
  {
   "cell_type": "code",
   "execution_count": 9,
   "metadata": {},
   "outputs": [
    {
     "data": {
      "text/plain": [
       "array([ 0,  1,  2,  3,  4,  5,  6,  7,  8,  9, 10, 11, 12, 13, 14, 15, 16,\n",
       "       17, 18, 19, 20, 21, 22, 23, 24, 25, 26, 27, 28, 29, 30, 31, 32, 33,\n",
       "       34, 35, 36, 37, 38, 39, 40, 41, 42, 43, 44, 45, 46, 47, 48, 49, 50,\n",
       "       51, 52, 53, 54, 55, 56, 57, 58, 59, 60, 61, 62, 63, 64, 65, 66, 67,\n",
       "       68, 69, 70, 71, 72, 73, 74, 75, 76, 77, 78, 79, 80], dtype=int64)"
      ]
     },
     "execution_count": 9,
     "metadata": {},
     "output_type": "execute_result"
    }
   ],
   "source": [
    "uh0.shape\n",
    "\n",
    "boundary_dofs.shape\n",
    "\n",
    "basis['u'].facet_dofs\n",
    "\n",
    "basis['u'].nodal_dofs[0]\n",
    "\n",
    "basis['u'].get_dofs()\n",
    "\n",
    "basis['u'].find_dofs()['all'].all()\n",
    "\n",
    "pproject(dirichlet, basis_to=boundary_basis, I=boundary_dofs, solver=minres)\n",
    "\n",
    "exact_u(boundary_basis.doflocs[0][boundary_dofs], boundary_basis.doflocs[1][boundary_dofs])\n",
    "\n",
    "boundary_dofs"
   ]
  },
  {
   "cell_type": "code",
   "execution_count": null,
   "metadata": {},
   "outputs": [],
   "source": [
    "plot(basis['u'], u, colorbar=True)"
   ]
  },
  {
   "cell_type": "code",
   "execution_count": null,
   "metadata": {},
   "outputs": [],
   "source": [
    "plot(basis['u'], uh0, colorbar=True)"
   ]
  },
  {
   "cell_type": "code",
   "execution_count": null,
   "metadata": {
    "scrolled": true
   },
   "outputs": [],
   "source": [
    "exact_u(x, y)"
   ]
  },
  {
   "cell_type": "code",
   "execution_count": null,
   "metadata": {},
   "outputs": [],
   "source": [
    "dirichlet([x, y])"
   ]
  },
  {
   "cell_type": "code",
   "execution_count": null,
   "metadata": {},
   "outputs": [],
   "source": [
    "exact_u(np.array([-0.00000]), np.array([0.8]))"
   ]
  },
  {
   "cell_type": "code",
   "execution_count": null,
   "metadata": {},
   "outputs": [],
   "source": [
    "dirichlet([np.array([[-0.00000]]), np.array([[0.8]])])"
   ]
  },
  {
   "cell_type": "code",
   "execution_count": null,
   "metadata": {},
   "outputs": [],
   "source": [
    "boundary_basis.mesh"
   ]
  },
  {
   "cell_type": "code",
   "execution_count": null,
   "metadata": {},
   "outputs": [],
   "source": [
    "exact_u(boundary_basis.doflocs[0], boundary_basis.doflocs[1])"
   ]
  },
  {
   "cell_type": "code",
   "execution_count": null,
   "metadata": {
    "scrolled": false
   },
   "outputs": [],
   "source": [
    "pproject(dirichlet, basis_to=boundary_basis, I=boundary_dofs, solver=minres)"
   ]
  },
  {
   "cell_type": "code",
   "execution_count": null,
   "metadata": {
    "scrolled": true
   },
   "outputs": [],
   "source": [
    "(uh0 - u)[:30]"
   ]
  },
  {
   "cell_type": "code",
   "execution_count": null,
   "metadata": {},
   "outputs": [],
   "source": [
    "u"
   ]
  },
  {
   "cell_type": "code",
   "execution_count": null,
   "metadata": {},
   "outputs": [],
   "source": []
  },
  {
   "cell_type": "code",
   "execution_count": 21,
   "metadata": {},
   "outputs": [
    {
     "name": "stdout",
     "output_type": "stream",
     "text": [
      "=======Arguments=======\n",
      "penalty:\tFalse\n",
      "element_type:\tP1\n",
      "solver_type:\tmgcg\n",
      "tol:\t1e-08\n",
      "intorder:\t5\n",
      "refine_time:\t5\n",
      "sigma:\t5\n",
      "=======Results=======\n",
      "epsilion: 1\n",
      "  h    L2u   H1u   H2u   epu\n",
      "2^-2  0.55  -0.06  -0.60  -0.70\n",
      "2^-2  1.852e-01  3.941e+00  1.103e+01  8.019e+00\n",
      "2^-3  0.52  -0.01  -0.98  -1.18\n",
      "2^-3  1.293e-01  3.969e+00  2.172e+01  1.817e+01\n",
      "2^-4  0.51  -0.07  -1.28  -1.42\n",
      "2^-4  9.090e-02  4.153e+00  5.265e+01  4.867e+01\n",
      "2^-5  0.50  -0.15  -1.42  -1.48\n",
      "2^-5  6.408e-02  4.600e+00  1.405e+02  1.360e+02\n",
      "epsilion: 0.1\n",
      "  h    L2u   H1u   H2u   epu\n",
      "2^-2  0.68  -0.05  -0.27  -0.12\n",
      "2^-2  1.896e-01  3.684e+00  1.474e+01  3.665e+00\n",
      "2^-3  0.55  -0.07  -0.62  -0.19\n",
      "2^-3  1.297e-01  3.858e+00  2.268e+01  4.176e+00\n",
      "2^-4  0.51  -0.09  -1.22  -0.60\n",
      "2^-4  9.091e-02  4.114e+00  5.277e+01  6.314e+00\n",
      "2^-5  0.50  -0.16  -1.41  -1.18\n",
      "2^-5  6.408e-02  4.589e+00  1.405e+02  1.433e+01\n",
      "epsilion: 0.01\n",
      "  h    L2u   H1u   H2u   epu\n",
      "2^-2  0.77  0.05  -0.78  -0.01\n",
      "2^-2  1.944e-01  3.522e+00  2.783e+01  3.336e+00\n",
      "2^-3  0.60  -0.00  -0.85  -0.04\n",
      "2^-3  1.287e-01  3.531e+00  5.022e+01  3.434e+00\n",
      "2^-4  0.52  -0.06  -0.91  -0.11\n",
      "2^-4  8.979e-02  3.682e+00  9.430e+01  3.705e+00\n",
      "2^-5  0.50  -0.19  -0.90  -0.27\n",
      "2^-5  6.371e-02  4.195e+00  1.763e+02  4.475e+00\n",
      "epsilion: 0.001\n",
      "  h    L2u   H1u   H2u   epu\n",
      "2^-2  0.77  0.05  -0.79  -0.01\n",
      "2^-2  1.945e-01  3.523e+00  2.832e+01  3.328e+00\n",
      "2^-3  0.60  -0.00  -0.92  -0.03\n",
      "2^-3  1.279e-01  3.529e+00  5.361e+01  3.402e+00\n",
      "2^-4  0.54  -0.05  -1.11  -0.07\n",
      "2^-4  8.818e-02  3.649e+00  1.157e+02  3.563e+00\n",
      "2^-5  0.52  -0.14  -1.23  -0.16\n",
      "2^-5  6.169e-02  4.033e+00  2.706e+02  3.980e+00\n",
      "epsilion: 0.0001\n",
      "  h    L2u   H1u   H2u   epu\n",
      "2^-2  0.77  0.05  -0.79  -0.01\n",
      "2^-2  1.945e-01  3.523e+00  2.832e+01  3.328e+00\n",
      "2^-3  0.60  -0.00  -0.92  -0.03\n",
      "2^-3  1.279e-01  3.529e+00  5.365e+01  3.401e+00\n",
      "2^-4  0.54  -0.05  -1.11  -0.07\n",
      "2^-4  8.816e-02  3.649e+00  1.160e+02  3.561e+00\n",
      "2^-5  0.52  -0.14  -1.24  -0.16\n",
      "2^-5  6.161e-02  4.033e+00  2.736e+02  3.971e+00\n",
      "epsilion: 1e-05\n",
      "  h    L2u   H1u   H2u   epu\n",
      "2^-2  0.77  0.05  -0.79  -0.01\n",
      "2^-2  1.945e-01  3.523e+00  2.832e+01  3.328e+00\n",
      "2^-3  0.60  -0.00  -0.92  -0.03\n",
      "2^-3  1.279e-01  3.529e+00  5.365e+01  3.401e+00\n",
      "2^-4  0.54  -0.05  -1.11  -0.07\n",
      "2^-4  8.816e-02  3.649e+00  1.160e+02  3.561e+00\n",
      "2^-5  0.52  -0.14  -1.24  -0.16\n",
      "2^-5  6.161e-02  4.033e+00  2.736e+02  3.971e+00\n",
      "======= Errors saved in: log/ex4_P1_nopen_2021-01-29_09-48-40.csv ==========\n",
      "Total Time Cost 10.03 s\n"
     ]
    }
   ],
   "source": [
    "time_start = time.time()\n",
    "\n",
    "print('=======Arguments=======')\n",
    "print('penalty:\\t{}'.format(penalty))\n",
    "print('element_type:\\t{}'.format(element_type))\n",
    "print('solver_type:\\t{}'.format(solver_type))\n",
    "print('tol:\\t{}'.format(tol))\n",
    "print('intorder:\\t{}'.format(intorder))\n",
    "print('refine_time:\\t{}'.format(refine_time))\n",
    "print('sigma:\\t{}'.format(sigma))\n",
    "print('=======Results=======')\n",
    "\n",
    "df_list = []\n",
    "for j in range(epsilon_range):\n",
    "    epsilon = 1 * 10**(-j)\n",
    "    ep = epsilon\n",
    "    L2_list = []\n",
    "    Du_list = []\n",
    "    D2u_list = []\n",
    "    h_list = []\n",
    "    epu_list = []\n",
    "    m = MeshTri().init_lshaped()\n",
    "#     m = MeshTri()\n",
    "#     draw(m)\n",
    "\n",
    "    for i in range(1, refine_time+1):\n",
    "        \n",
    "        m.refine()\n",
    "        \n",
    "        if penalty:\n",
    "            uh0, basis, fbasis = solve_problem2(m, element_type, solver_type, intorder, tol, epsilon)\n",
    "        else:\n",
    "            uh0, basis = solve_problem1(m, element_type, solver_type, intorder, tol, epsilon)\n",
    "\n",
    "        U = basis['u'].interpolate(uh0).value\n",
    "\n",
    "        # compute errors\n",
    "\n",
    "        L2u = np.sqrt(L2uError.assemble(basis['u'], w=U))\n",
    "        Du = get_DuError(basis['u'], uh0)\n",
    "        H1u = Du + L2u\n",
    "        if penalty:\n",
    "            D2u = np.sqrt(get_D2uError(basis['u'], uh0)**2 + L2pnvError.assemble(fbasis, w=fbasis.interpolate(uh0)))\n",
    "        else:\n",
    "            D2u = get_D2uError(basis['u'], uh0)\n",
    "        epu = np.sqrt(epsilon**2 * D2u**2 + Du**2)\n",
    "        h_list.append(m.param())\n",
    "        Du_list.append(Du)\n",
    "        L2_list.append(L2u)\n",
    "        D2u_list.append(D2u)\n",
    "        epu_list.append(epu)\n",
    "        \n",
    "    hs = np.array(h_list)\n",
    "    L2s = np.array(L2_list)\n",
    "    Dus = np.array(Du_list)\n",
    "    D2us = np.array(D2u_list)\n",
    "    epus = np.array(epu_list)\n",
    "    H1s = L2s + Dus\n",
    "    H2s = H1s + D2us\n",
    "    \n",
    "    # store data\n",
    "    data = np.array([L2s, H1s, H2s, epus])\n",
    "    df = pd.DataFrame(data.T, columns=['L2', 'H1', 'H2', 'Energy'])\n",
    "    df_list.append(df)\n",
    "    \n",
    "    print('epsilion:', epsilon)\n",
    "    show_result(L2s, H1s, H2s, epus)\n",
    "\n",
    "time_end = time.time()\n",
    "\n",
    "result = df_list[0].append(df_list[1:])\n",
    "result.to_csv(save_path+'.csv')\n",
    "print('======= Errors saved in:', save_path+'.csv ==========')\n",
    "print('Total Time Cost {:.2f} s'.format(time_end-time_start))"
   ]
  },
  {
   "cell_type": "code",
   "execution_count": null,
   "metadata": {},
   "outputs": [],
   "source": []
  }
 ],
 "metadata": {
  "kernelspec": {
   "display_name": "Python 3",
   "language": "python",
   "name": "python3"
  },
  "language_info": {
   "codemirror_mode": {
    "name": "ipython",
    "version": 3
   },
   "file_extension": ".py",
   "mimetype": "text/x-python",
   "name": "python",
   "nbconvert_exporter": "python",
   "pygments_lexer": "ipython3",
   "version": "3.7.4"
  },
  "toc": {
   "base_numbering": 1,
   "nav_menu": {},
   "number_sections": true,
   "sideBar": false,
   "skip_h1_title": false,
   "title_cell": "Table of Contents",
   "title_sidebar": "Contents",
   "toc_cell": false,
   "toc_position": {},
   "toc_section_display": false,
   "toc_window_display": false
  },
  "varInspector": {
   "cols": {
    "lenName": 16,
    "lenType": 16,
    "lenVar": 40
   },
   "kernels_config": {
    "python": {
     "delete_cmd_postfix": "",
     "delete_cmd_prefix": "del ",
     "library": "var_list.py",
     "varRefreshCmd": "print(var_dic_list())"
    },
    "r": {
     "delete_cmd_postfix": ") ",
     "delete_cmd_prefix": "rm(",
     "library": "var_list.r",
     "varRefreshCmd": "cat(var_dic_list()) "
    }
   },
   "types_to_exclude": [
    "module",
    "function",
    "builtin_function_or_method",
    "instance",
    "_Feature"
   ],
   "window_display": false
  }
 },
 "nbformat": 4,
 "nbformat_minor": 4
}
